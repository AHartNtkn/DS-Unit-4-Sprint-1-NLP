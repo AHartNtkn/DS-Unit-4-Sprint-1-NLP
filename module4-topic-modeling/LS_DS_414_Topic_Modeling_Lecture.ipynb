{
 "cells": [
  {
   "cell_type": "markdown",
   "metadata": {},
   "source": [
    "Lambda School Data Science\n",
    "\n",
    "*Unit 4, Sprint 1, Module 4*\n",
    "\n",
    "---"
   ]
  },
  {
   "cell_type": "markdown",
   "metadata": {},
   "source": [
    "# Topic Modeling (Prepare)"
   ]
  },
  {
   "cell_type": "markdown",
   "metadata": {},
   "source": [
    "# Latent Dirchilet Allocation (LDA) Models (Prepare)\n",
    "<a id=\"#p1\"></a>"
   ]
  },
  {
   "cell_type": "markdown",
   "metadata": {},
   "source": [
    "## Overview\n",
    "LDA is a \"generative probabilistic model\". \n",
    "\n",
    "Let's play with a modoel available [here](https://lettier.com/projects/lda-topic-modeling/)"
   ]
  },
  {
   "cell_type": "markdown",
   "metadata": {},
   "source": [
    "## Follow Along"
   ]
  },
  {
   "cell_type": "markdown",
   "metadata": {},
   "source": [
    "## Challenge "
   ]
  },
  {
   "cell_type": "markdown",
   "metadata": {},
   "source": [
    "# Estimating LDA Models with Gensim (Learn)\n",
    "<a id=\"#p1\"></a>"
   ]
  },
  {
   "cell_type": "markdown",
   "metadata": {
    "toc-hr-collapsed": true
   },
   "source": [
    "## Overview\n",
    "### A Litterary Introduction: *Jane Austen V. Charlotte Bronte*\n",
    "Despite being born nearly forty years apart, modern fans often pit Jane Austen & Charlotte Bronte against one another in a battle for litterary  supremacy. The battle centers around the topics of education for women, courting, and marriage. The authors' similiar backgrounds naturally draw comparisons, but the modern fascination is probably due to novelility of British women publishing novels during the early 19th century. \n",
    "\n",
    "Can we help close a litterary battle for supremacy and simply acknowledge that the authors addressed different topics and deserve to be acknowledged as excellent authors each in their own right?\n",
    "\n",
    "We're going to apply Latent Dirichlet Allocation a machine learning alogrithm for topic modeling to each of the author's novels to compare the distribution of topics in their novels."
   ]
  },
  {
   "cell_type": "code",
   "execution_count": 3,
   "metadata": {},
   "outputs": [
    {
     "name": "stderr",
     "output_type": "stream",
     "text": [
      "C:\\Users\\soobt\\Anaconda3\\envs\\jupyterlab\\lib\\site-packages\\gensim\\utils.py:1197: UserWarning: detected Windows; aliasing chunkize to chunkize_serial\n",
      "  warnings.warn(\"detected Windows; aliasing chunkize to chunkize_serial\")\n"
     ]
    }
   ],
   "source": [
    "import numpy as np\n",
    "import gensim\n",
    "import os\n",
    "import re\n",
    "\n",
    "from gensim.utils import simple_preprocess\n",
    "from gensim.parsing.preprocessing import STOPWORDS\n",
    "from gensim import corpora\n",
    "\n",
    "from gensim.models.ldamulticore import LdaMulticore\n",
    "\n",
    "import pandas as pd"
   ]
  },
  {
   "cell_type": "code",
   "execution_count": 10,
   "metadata": {},
   "outputs": [],
   "source": [
    "import spacy\n",
    "nlp = spacy.load(\"en_core_web_lg\")"
   ]
  },
  {
   "cell_type": "markdown",
   "metadata": {},
   "source": [
    "### Novel Data\n",
    "I grabbed the novel data pre-split into a bunch of smaller chuncks"
   ]
  },
  {
   "cell_type": "code",
   "execution_count": 4,
   "metadata": {},
   "outputs": [],
   "source": [
    "path = './data/austen-brontë-split'"
   ]
  },
  {
   "cell_type": "code",
   "execution_count": 7,
   "metadata": {},
   "outputs": [],
   "source": [
    "def tokenize(text):\n",
    "    return [token.lemma_ for token in nlp(text) if (token.is_stop != True) and (token.is_punct != True)]"
   ]
  },
  {
   "cell_type": "code",
   "execution_count": 5,
   "metadata": {},
   "outputs": [],
   "source": [
    "import os\n",
    "\n",
    "def gather_data(path_to_data): \n",
    "    data = []\n",
    "    \n",
    "    for f in os.listdir(path):\n",
    "        with open(os.path.join(path,f)) as t:\n",
    "            text = t.read().strip('\\n')\n",
    "            data.append(tokenize(str(text)))\n",
    "            \n",
    "    return data"
   ]
  },
  {
   "cell_type": "code",
   "execution_count": 12,
   "metadata": {},
   "outputs": [],
   "source": [
    "tokens = gather_data(path)"
   ]
  },
  {
   "cell_type": "code",
   "execution_count": 13,
   "metadata": {},
   "outputs": [
    {
     "data": {
      "text/plain": [
       "'this is a sample string with a  newline character'"
      ]
     },
     "execution_count": 13,
     "metadata": {},
     "output_type": "execute_result"
    }
   ],
   "source": [
    "\"this is a sample string with a \\n newline character\".replace('\\n', '')"
   ]
  },
  {
   "cell_type": "code",
   "execution_count": 14,
   "metadata": {},
   "outputs": [
    {
     "ename": "NameError",
     "evalue": "name 'df' is not defined",
     "output_type": "error",
     "traceback": [
      "\u001b[1;31m---------------------------------------------------------------------------\u001b[0m",
      "\u001b[1;31mNameError\u001b[0m                                 Traceback (most recent call last)",
      "\u001b[1;32m<ipython-input-14-def78a59a710>\u001b[0m in \u001b[0;36m<module>\u001b[1;34m\u001b[0m\n\u001b[1;32m----> 1\u001b[1;33m \u001b[0mdf\u001b[0m\u001b[1;33m[\u001b[0m\u001b[1;34m'tokens'\u001b[0m\u001b[1;33m]\u001b[0m\u001b[1;33m.\u001b[0m\u001b[0mhead\u001b[0m\u001b[1;33m(\u001b[0m\u001b[1;33m)\u001b[0m\u001b[1;33m\u001b[0m\u001b[1;33m\u001b[0m\u001b[0m\n\u001b[0m",
      "\u001b[1;31mNameError\u001b[0m: name 'df' is not defined"
     ]
    }
   ],
   "source": [
    "df['tokens'].head()"
   ]
  },
  {
   "cell_type": "markdown",
   "metadata": {
    "toc-hr-collapsed": true
   },
   "source": [
    "## Follow Along"
   ]
  },
  {
   "cell_type": "markdown",
   "metadata": {},
   "source": [
    "### Text Preprocessing\n",
    "**Challenge**: update the function `tokenize` with any technique you have learned so far this week. "
   ]
  },
  {
   "cell_type": "code",
   "execution_count": 17,
   "metadata": {},
   "outputs": [],
   "source": [
    "titles = [t[:-4] for t in os.listdir(path)]"
   ]
  },
  {
   "cell_type": "code",
   "execution_count": 18,
   "metadata": {},
   "outputs": [
    {
     "data": {
      "text/plain": [
       "['Austen_Emma0000',\n",
       " 'Austen_Emma0001',\n",
       " 'Austen_Emma0002',\n",
       " 'Austen_Emma0003',\n",
       " 'Austen_Emma0004']"
      ]
     },
     "execution_count": 18,
     "metadata": {},
     "output_type": "execute_result"
    }
   ],
   "source": [
    "titles[:5]"
   ]
  },
  {
   "cell_type": "code",
   "execution_count": 6,
   "metadata": {},
   "outputs": [],
   "source": [
    "STOPWORDS = set(STOPWORDS).union(set(['said', 'mr', 'mrs']))\n",
    "\n",
    "def tokenize(text):\n",
    "    return [token for token in simple_preprocess(text) if token not in STOPWORDS]"
   ]
  },
  {
   "cell_type": "code",
   "execution_count": 15,
   "metadata": {},
   "outputs": [
    {
     "data": {
      "text/plain": [
       "['hello', 'World', 'test', 'tokenization', 'method']"
      ]
     },
     "execution_count": 15,
     "metadata": {},
     "output_type": "execute_result"
    }
   ],
   "source": [
    "tokenize(\"Hello World! This a test of the tokenization method\")"
   ]
  },
  {
   "cell_type": "markdown",
   "metadata": {},
   "source": [
    "### Author DataFrame\n"
   ]
  },
  {
   "cell_type": "code",
   "execution_count": 19,
   "metadata": {},
   "outputs": [],
   "source": [
    "df = pd.DataFrame(index=titles)"
   ]
  },
  {
   "cell_type": "code",
   "execution_count": 20,
   "metadata": {},
   "outputs": [
    {
     "data": {
      "text/html": [
       "<div>\n",
       "<style scoped>\n",
       "    .dataframe tbody tr th:only-of-type {\n",
       "        vertical-align: middle;\n",
       "    }\n",
       "\n",
       "    .dataframe tbody tr th {\n",
       "        vertical-align: top;\n",
       "    }\n",
       "\n",
       "    .dataframe thead th {\n",
       "        text-align: right;\n",
       "    }\n",
       "</style>\n",
       "<table border=\"1\" class=\"dataframe\">\n",
       "  <thead>\n",
       "    <tr style=\"text-align: right;\">\n",
       "      <th></th>\n",
       "    </tr>\n",
       "  </thead>\n",
       "  <tbody>\n",
       "    <tr>\n",
       "      <th>Austen_Emma0000</th>\n",
       "    </tr>\n",
       "    <tr>\n",
       "      <th>Austen_Emma0001</th>\n",
       "    </tr>\n",
       "    <tr>\n",
       "      <th>Austen_Emma0002</th>\n",
       "    </tr>\n",
       "    <tr>\n",
       "      <th>Austen_Emma0003</th>\n",
       "    </tr>\n",
       "    <tr>\n",
       "      <th>Austen_Emma0004</th>\n",
       "    </tr>\n",
       "  </tbody>\n",
       "</table>\n",
       "</div>"
      ],
      "text/plain": [
       "Empty DataFrame\n",
       "Columns: []\n",
       "Index: [Austen_Emma0000, Austen_Emma0001, Austen_Emma0002, Austen_Emma0003, Austen_Emma0004]"
      ]
     },
     "execution_count": 20,
     "metadata": {},
     "output_type": "execute_result"
    }
   ],
   "source": [
    "df.head()"
   ]
  },
  {
   "cell_type": "code",
   "execution_count": 21,
   "metadata": {},
   "outputs": [],
   "source": [
    "df['author'] = df.reset_index()['index'].apply(lambda x: x.split('_')[0]).tolist()\n",
    "df['book'] = df.reset_index()['index'].apply(lambda x: x.split('_')[1][:-4]).tolist()\n",
    "df['section'] = df.reset_index()['index'].apply(lambda x: x[-4:]).tolist()\n",
    "df['section'] = df['section'].astype('int')"
   ]
  },
  {
   "cell_type": "code",
   "execution_count": 22,
   "metadata": {},
   "outputs": [],
   "source": [
    "df['author'] = df['author'].map({'Austen':1, 'CBronte':0})"
   ]
  },
  {
   "cell_type": "code",
   "execution_count": 23,
   "metadata": {},
   "outputs": [
    {
     "data": {
      "text/plain": [
       "0    441\n",
       "1    372\n",
       "Name: author, dtype: int64"
      ]
     },
     "execution_count": 23,
     "metadata": {},
     "output_type": "execute_result"
    }
   ],
   "source": [
    "df.author.value_counts()"
   ]
  },
  {
   "cell_type": "code",
   "execution_count": 24,
   "metadata": {},
   "outputs": [],
   "source": [
    "df['tokens'] = tokens"
   ]
  },
  {
   "cell_type": "code",
   "execution_count": 25,
   "metadata": {},
   "outputs": [
    {
     "data": {
      "text/plain": [
       "Austen_Emma0000    [EMMA, \\n, \\n, JANE, AUSTEN, \\n, volume, \\n, c...\n",
       "Austen_Emma0001    [Taylor!--I, wish, pity, \\n, Mr., Weston, thin...\n",
       "Austen_Emma0002    [behave, \\n, charmingly, body, punctual, body,...\n",
       "Austen_Emma0003    [native, Highbury, bear, respectable, family, ...\n",
       "Austen_Emma0004    [mention, handsome, letter, Mrs., Weston, \\n, ...\n",
       "Name: tokens, dtype: object"
      ]
     },
     "execution_count": 25,
     "metadata": {},
     "output_type": "execute_result"
    }
   ],
   "source": [
    "df['tokens'].head()"
   ]
  },
  {
   "cell_type": "markdown",
   "metadata": {},
   "source": [
    "### Streaming Documents\n",
    "Here we use a new pythonic thingy: the `yield` statement in our fucntion. This allows us to iterate over a bunch of documents without actually reading them into memory. You can see how we use this fucntion later on. "
   ]
  },
  {
   "cell_type": "code",
   "execution_count": 26,
   "metadata": {},
   "outputs": [],
   "source": [
    "def doc_stream(path):\n",
    "    for f in os.listdir(path):\n",
    "        with open(os.path.join(path,f)) as t:\n",
    "            text = t.read().strip('\\n')\n",
    "            tokens = tokenize(str(text))\n",
    "            yield tokens"
   ]
  },
  {
   "cell_type": "code",
   "execution_count": 35,
   "metadata": {},
   "outputs": [],
   "source": [
    "streaming_data = doc_stream(path)"
   ]
  },
  {
   "cell_type": "code",
   "execution_count": null,
   "metadata": {},
   "outputs": [],
   "source": [
    "next(streaming_data)"
   ]
  },
  {
   "cell_type": "markdown",
   "metadata": {},
   "source": [
    "### Gensim LDA Topic Modeling"
   ]
  },
  {
   "cell_type": "code",
   "execution_count": 36,
   "metadata": {},
   "outputs": [],
   "source": [
    "# A Dictionary Representation of all the words in our corpus\n",
    "id2word = corpora.Dictionary(doc_stream(path))"
   ]
  },
  {
   "cell_type": "code",
   "execution_count": 41,
   "metadata": {},
   "outputs": [
    {
     "data": {
      "text/plain": [
       "3417"
      ]
     },
     "execution_count": 41,
     "metadata": {},
     "output_type": "execute_result"
    }
   ],
   "source": [
    "id2word.token2id['England']"
   ]
  },
  {
   "cell_type": "code",
   "execution_count": 40,
   "metadata": {},
   "outputs": [
    {
     "data": {
      "text/plain": [
       "2372"
      ]
     },
     "execution_count": 40,
     "metadata": {},
     "output_type": "execute_result"
    }
   ],
   "source": [
    "id2word.token2id['Jane']"
   ]
  },
  {
   "cell_type": "code",
   "execution_count": null,
   "metadata": {},
   "outputs": [],
   "source": []
  },
  {
   "cell_type": "code",
   "execution_count": 42,
   "metadata": {},
   "outputs": [
    {
     "data": {
      "text/plain": [
       "[(2345, 1), (3417, 3), (6519, 1), (6835, 1)]"
      ]
     },
     "execution_count": 42,
     "metadata": {},
     "output_type": "execute_result"
    }
   ],
   "source": [
    "id2word.doc2bow(tokenize(\"This is a sample message Darcy England England England\"))"
   ]
  },
  {
   "cell_type": "code",
   "execution_count": 43,
   "metadata": {},
   "outputs": [
    {
     "data": {
      "text/plain": [
       "56"
      ]
     },
     "execution_count": 43,
     "metadata": {},
     "output_type": "execute_result"
    }
   ],
   "source": [
    "import sys\n",
    "sys.getsizeof(id2word)"
   ]
  },
  {
   "cell_type": "code",
   "execution_count": 44,
   "metadata": {},
   "outputs": [
    {
     "data": {
      "text/plain": [
       "20600"
      ]
     },
     "execution_count": 44,
     "metadata": {},
     "output_type": "execute_result"
    }
   ],
   "source": [
    "len(id2word.keys())"
   ]
  },
  {
   "cell_type": "code",
   "execution_count": 45,
   "metadata": {},
   "outputs": [],
   "source": [
    "# Let's remove extreme values from the dataset\n",
    "id2word.filter_extremes(no_below=10, no_above=0.75)"
   ]
  },
  {
   "cell_type": "code",
   "execution_count": 39,
   "metadata": {},
   "outputs": [
    {
     "data": {
      "text/plain": [
       "4921"
      ]
     },
     "execution_count": 39,
     "metadata": {},
     "output_type": "execute_result"
    }
   ],
   "source": [
    "len(id2word.keys())"
   ]
  },
  {
   "cell_type": "code",
   "execution_count": 46,
   "metadata": {},
   "outputs": [],
   "source": [
    "# a bag of words(bow) representation of our corpus\n",
    "# Note: we haven't actually read any text into memory here\n",
    "corpus = [id2word.doc2bow(text) for text in doc_stream(path)]"
   ]
  },
  {
   "cell_type": "code",
   "execution_count": null,
   "metadata": {},
   "outputs": [],
   "source": []
  },
  {
   "cell_type": "code",
   "execution_count": 47,
   "metadata": {},
   "outputs": [],
   "source": [
    "lda = LdaMulticore(corpus=corpus,\n",
    "                   id2word=id2word,\n",
    "                   random_state=723812,\n",
    "                   num_topics = 15,\n",
    "                   passes=10,\n",
    "                   workers=4\n",
    "                  )"
   ]
  },
  {
   "cell_type": "code",
   "execution_count": 48,
   "metadata": {},
   "outputs": [
    {
     "data": {
      "text/plain": [
       "[(0,\n",
       "  '0.040*\"Mr.\" + 0.012*\"sir\" + 0.011*\"Martin\" + 0.009*\"Harriet\" + 0.009*\"man\" + 0.009*\"Emma\" + 0.007*\"Knightley\" + 0.007*\"tell\" + 0.006*\"speak\" + 0.006*\"dear\"'),\n",
       " (1,\n",
       "  '0.010*\"Madame\" + 0.005*\"M.\" + 0.005*\"go\" + 0.005*\"de\" + 0.005*\"like\" + 0.004*\"Pelet\" + 0.004*\"take\" + 0.004*\"find\" + 0.004*\"Hunsden\" + 0.004*\"house\"'),\n",
       " (2,\n",
       "  '0.012*\"like\" + 0.007*\"eye\" + 0.006*\"M.\" + 0.005*\"long\" + 0.005*\"Bretton\" + 0.004*\"Monsieur\" + 0.004*\"go\" + 0.004*\"old\" + 0.004*\"man\" + 0.004*\"large\"'),\n",
       " (3,\n",
       "  '0.035*\"Edward\" + 0.026*\"Lucy\" + 0.023*\"Elinor\" + 0.015*\"Marianne\" + 0.015*\"Ferrars\" + 0.013*\"Mrs.\" + 0.007*\"thing\" + 0.007*\"sister\" + 0.006*\"feel\" + 0.006*\"sure\"'),\n",
       " (4,\n",
       "  '0.009*\"night\" + 0.007*\"like\" + 0.007*\"letter\" + 0.006*\"hand\" + 0.006*\"sir\" + 0.005*\"feel\" + 0.005*\"eye\" + 0.005*\"long\" + 0.005*\"life\" + 0.004*\"go\"'),\n",
       " (5,\n",
       "  '0.009*\"sir\" + 0.008*\"Mr.\" + 0.007*\"wish\" + 0.007*\"yes\" + 0.006*\"love\" + 0.006*\"Adele\" + 0.006*\"marry\" + 0.006*\"year\" + 0.006*\"Rochester\" + 0.006*\"find\"'),\n",
       " (6,\n",
       "  '0.025*\"Graham\" + 0.022*\"Bretton\" + 0.013*\"Lucy\" + 0.013*\"papa\" + 0.011*\"Dr.\" + 0.011*\"like\" + 0.010*\"Polly\" + 0.009*\"Mrs.\" + 0.008*\"Paulina\" + 0.006*\"eye\"'),\n",
       " (7,\n",
       "  '0.021*\"Elizabeth\" + 0.020*\"Mr.\" + 0.011*\"Bennet\" + 0.011*\"Jane\" + 0.011*\"Darcy\" + 0.010*\"Mrs.\" + 0.009*\"Bingley\" + 0.008*\"sister\" + 0.008*\"Miss\" + 0.006*\"Wickham\"'),\n",
       " (8,\n",
       "  '0.008*\"like\" + 0.006*\"eye\" + 0.006*\"hand\" + 0.004*\"face\" + 0.004*\"feel\" + 0.004*\"room\" + 0.004*\"take\" + 0.004*\"long\" + 0.004*\"leave\" + 0.004*\"door\"'),\n",
       " (9,\n",
       "  '0.020*\"Mr.\" + 0.007*\"Darcy\" + 0.005*\"young\" + 0.005*\"Miss\" + 0.005*\"lady\" + 0.005*\"like\" + 0.005*\"Lady\" + 0.005*\"Catherine\" + 0.005*\"man\" + 0.004*\"dance\"'),\n",
       " (10,\n",
       "  '0.023*\"Rochester\" + 0.020*\"Mr.\" + 0.012*\"Bessie\" + 0.012*\"Jane\" + 0.011*\"Mrs.\" + 0.010*\"sir\" + 0.010*\"room\" + 0.009*\"hear\" + 0.009*\"go\" + 0.008*\"Reed\"'),\n",
       " (11,\n",
       "  '0.021*\"Mr.\" + 0.016*\"Emma\" + 0.014*\"Mrs.\" + 0.012*\"Miss\" + 0.009*\"thing\" + 0.009*\"Harriet\" + 0.008*\"Weston\" + 0.007*\"Elton\" + 0.007*\"Knightley\" + 0.006*\"Jane\"'),\n",
       " (12,\n",
       "  '0.012*\"Elinor\" + 0.012*\"Mrs.\" + 0.011*\"Marianne\" + 0.009*\"sister\" + 0.006*\"mother\" + 0.005*\"Mr.\" + 0.005*\"great\" + 0.005*\"feel\" + 0.005*\"Miss\" + 0.005*\"wish\"'),\n",
       " (13,\n",
       "  '0.008*\"love\" + 0.007*\"heart\" + 0.006*\"night\" + 0.006*\"eye\" + 0.006*\"like\" + 0.005*\"feel\" + 0.005*\"hear\" + 0.005*\"Jane\" + 0.005*\"hand\" + 0.004*\"speak\"'),\n",
       " (14,\n",
       "  '0.001*\"Lucy\" + 0.001*\"Mrs.\" + 0.001*\"Mr.\" + 0.001*\"room\" + 0.001*\"speak\" + 0.001*\"soon\" + 0.001*\"feel\" + 0.001*\"John\" + 0.001*\"eye\" + 0.001*\"Miss\"')]"
      ]
     },
     "execution_count": 48,
     "metadata": {},
     "output_type": "execute_result"
    }
   ],
   "source": [
    "lda.print_topics()"
   ]
  },
  {
   "cell_type": "code",
   "execution_count": null,
   "metadata": {},
   "outputs": [],
   "source": []
  },
  {
   "cell_type": "code",
   "execution_count": 52,
   "metadata": {},
   "outputs": [],
   "source": [
    "words = [re.findall(r'\"([^\"]*)\"',t[1]) for t in lda.print_topics()]"
   ]
  },
  {
   "cell_type": "code",
   "execution_count": 53,
   "metadata": {},
   "outputs": [],
   "source": [
    "topics = [' '.join(t[0:5]) for t in words]"
   ]
  },
  {
   "cell_type": "code",
   "execution_count": 54,
   "metadata": {},
   "outputs": [
    {
     "name": "stdout",
     "output_type": "stream",
     "text": [
      "Mr. sir Martin Harriet man\n",
      "\n",
      "\n",
      "Madame M. go de like\n",
      "\n",
      "\n",
      "like eye M. long Bretton\n",
      "\n",
      "\n",
      "Edward Lucy Elinor Marianne Ferrars\n",
      "\n",
      "\n",
      "night like letter hand sir\n",
      "\n",
      "\n",
      "sir Mr. wish yes love\n",
      "\n",
      "\n",
      "Graham Bretton Lucy papa Dr.\n",
      "\n",
      "\n",
      "Elizabeth Mr. Bennet Jane Darcy\n",
      "\n",
      "\n",
      "like eye hand face feel\n",
      "\n",
      "\n",
      "Mr. Darcy young Miss lady\n",
      "\n",
      "\n",
      "Rochester Mr. Bessie Jane Mrs.\n",
      "\n",
      "\n",
      "Mr. Emma Mrs. Miss thing\n",
      "\n",
      "\n",
      "Elinor Mrs. Marianne sister mother\n",
      "\n",
      "\n",
      "love heart night eye like\n",
      "\n",
      "\n",
      "Lucy Mrs. Mr. room speak\n",
      "\n",
      "\n"
     ]
    }
   ],
   "source": [
    "for t in topics: \n",
    "    print(t)\n",
    "    print(\"\\n\")"
   ]
  },
  {
   "cell_type": "markdown",
   "metadata": {},
   "source": [
    "## Challenge \n",
    "\n",
    "You will apply an LDA model to a customer review dataset to practice the fitting and estimation of LDA. "
   ]
  },
  {
   "cell_type": "markdown",
   "metadata": {},
   "source": [
    "# Interpret LDA Results (Learn)\n",
    "<a id=\"#p3\"></a>"
   ]
  },
  {
   "cell_type": "markdown",
   "metadata": {},
   "source": [
    "## Overview"
   ]
  },
  {
   "cell_type": "markdown",
   "metadata": {
    "toc-hr-collapsed": true
   },
   "source": [
    "## Follow Along"
   ]
  },
  {
   "cell_type": "markdown",
   "metadata": {},
   "source": [
    "### Topic Distance Visualization"
   ]
  },
  {
   "cell_type": "code",
   "execution_count": 55,
   "metadata": {},
   "outputs": [],
   "source": [
    "import pyLDAvis.gensim\n",
    "\n",
    "pyLDAvis.enable_notebook()"
   ]
  },
  {
   "cell_type": "code",
   "execution_count": 56,
   "metadata": {},
   "outputs": [
    {
     "name": "stderr",
     "output_type": "stream",
     "text": [
      "C:\\Users\\soobt\\Anaconda3\\envs\\jupyterlab\\lib\\site-packages\\pyLDAvis\\_prepare.py:257: FutureWarning: Sorting because non-concatenation axis is not aligned. A future version\n",
      "of pandas will change to not sort by default.\n",
      "\n",
      "To accept the future behavior, pass 'sort=False'.\n",
      "\n",
      "To retain the current behavior and silence the warning, pass 'sort=True'.\n",
      "\n",
      "  return pd.concat([default_term_info] + list(topic_dfs))\n"
     ]
    },
    {
     "data": {
      "text/html": [
       "\n",
       "<link rel=\"stylesheet\" type=\"text/css\" href=\"https://cdn.rawgit.com/bmabey/pyLDAvis/files/ldavis.v1.0.0.css\">\n",
       "\n",
       "\n",
       "<div id=\"ldavis_el1618815020001485527671237251\"></div>\n",
       "<script type=\"text/javascript\">\n",
       "\n",
       "var ldavis_el1618815020001485527671237251_data = {\"mdsDat\": {\"x\": [0.07167131326852846, -0.09096221133361393, -0.10633945143373444, -0.14265158915374648, 0.08107161192000197, 0.10332106562355697, 0.0941694914035506, -0.07125034878698248, 0.10831235164759125, 0.03553794463118251, 0.11725163683690526, 0.0058538872175908545, -0.12003955038209961, -0.11661778712179764, 0.030671635663067104], \"y\": [-0.006426279156807915, 0.0322067233669434, -0.007444512703841702, 0.03304440153231798, -0.048545389766708816, 0.012347383119629273, 0.18060451179107634, -0.02492422197212634, -0.061185950891369766, -0.051511472414610765, 0.017029055067451167, 0.008323022671915882, -0.031147611769516685, 0.030764622035784107, -0.083134280910136], \"topics\": [1, 2, 3, 4, 5, 6, 7, 8, 9, 10, 11, 12, 13, 14, 15], \"cluster\": [1, 1, 1, 1, 1, 1, 1, 1, 1, 1, 1, 1, 1, 1, 1], \"Freq\": [25.989791870117188, 17.245391845703125, 15.22158432006836, 9.750045776367188, 7.704187870025635, 4.525991916656494, 3.676154136657715, 3.5914766788482666, 3.16473650932312, 2.674726963043213, 2.4428534507751465, 1.6471067667007446, 1.4768739938735962, 0.8705293536186218, 0.018566211685538292]}, \"tinfo\": {\"Category\": [\"Default\", \"Default\", \"Default\", \"Default\", \"Default\", \"Default\", \"Default\", \"Default\", \"Default\", \"Default\", \"Default\", \"Default\", \"Default\", \"Default\", \"Default\", \"Default\", \"Default\", \"Default\", \"Default\", \"Default\", \"Default\", \"Default\", \"Default\", \"Default\", \"Default\", \"Default\", \"Default\", \"Default\", \"Default\", \"Default\", \"Topic1\", \"Topic1\", \"Topic1\", \"Topic1\", \"Topic1\", \"Topic1\", \"Topic1\", \"Topic1\", \"Topic1\", \"Topic1\", \"Topic1\", \"Topic1\", \"Topic1\", \"Topic1\", \"Topic1\", \"Topic1\", \"Topic1\", \"Topic1\", \"Topic1\", \"Topic1\", \"Topic1\", \"Topic1\", \"Topic1\", \"Topic1\", \"Topic1\", \"Topic1\", \"Topic1\", \"Topic1\", \"Topic1\", \"Topic1\", \"Topic1\", \"Topic1\", \"Topic1\", \"Topic1\", \"Topic1\", \"Topic1\", \"Topic1\", \"Topic1\", \"Topic1\", \"Topic1\", \"Topic1\", \"Topic1\", \"Topic1\", \"Topic1\", \"Topic1\", \"Topic1\", \"Topic1\", \"Topic1\", \"Topic1\", \"Topic1\", \"Topic1\", \"Topic1\", \"Topic1\", \"Topic1\", \"Topic1\", \"Topic1\", \"Topic1\", \"Topic1\", \"Topic1\", \"Topic1\", \"Topic1\", \"Topic1\", \"Topic1\", \"Topic1\", \"Topic1\", \"Topic1\", \"Topic1\", \"Topic1\", \"Topic1\", \"Topic1\", \"Topic1\", \"Topic1\", \"Topic1\", \"Topic1\", \"Topic1\", \"Topic1\", \"Topic1\", \"Topic1\", \"Topic1\", \"Topic1\", \"Topic1\", \"Topic1\", \"Topic1\", \"Topic1\", \"Topic1\", \"Topic1\", \"Topic1\", \"Topic1\", \"Topic1\", \"Topic1\", \"Topic2\", \"Topic2\", \"Topic2\", \"Topic2\", \"Topic2\", \"Topic2\", \"Topic2\", \"Topic2\", \"Topic2\", \"Topic2\", \"Topic2\", \"Topic2\", \"Topic2\", \"Topic2\", \"Topic2\", \"Topic2\", \"Topic2\", \"Topic2\", \"Topic2\", \"Topic2\", \"Topic2\", \"Topic2\", \"Topic2\", \"Topic2\", \"Topic2\", \"Topic2\", \"Topic2\", \"Topic2\", \"Topic2\", \"Topic2\", \"Topic2\", \"Topic2\", \"Topic2\", \"Topic2\", \"Topic2\", \"Topic2\", \"Topic2\", \"Topic2\", \"Topic2\", \"Topic2\", \"Topic2\", \"Topic2\", \"Topic2\", \"Topic2\", \"Topic2\", \"Topic2\", \"Topic2\", \"Topic2\", \"Topic2\", \"Topic2\", \"Topic2\", \"Topic2\", \"Topic2\", \"Topic2\", \"Topic2\", \"Topic2\", \"Topic2\", \"Topic2\", \"Topic2\", \"Topic3\", \"Topic3\", \"Topic3\", \"Topic3\", \"Topic3\", \"Topic3\", \"Topic3\", \"Topic3\", \"Topic3\", \"Topic3\", \"Topic3\", \"Topic3\", \"Topic3\", \"Topic3\", \"Topic3\", \"Topic3\", \"Topic3\", \"Topic3\", \"Topic3\", \"Topic3\", \"Topic3\", \"Topic3\", \"Topic3\", \"Topic3\", \"Topic3\", \"Topic3\", \"Topic3\", \"Topic3\", \"Topic3\", \"Topic3\", \"Topic3\", \"Topic3\", \"Topic3\", \"Topic3\", \"Topic3\", \"Topic3\", \"Topic3\", \"Topic3\", \"Topic3\", \"Topic3\", \"Topic3\", \"Topic3\", \"Topic3\", \"Topic3\", \"Topic3\", \"Topic3\", \"Topic3\", \"Topic3\", \"Topic3\", \"Topic3\", \"Topic3\", \"Topic3\", \"Topic3\", \"Topic3\", \"Topic3\", \"Topic3\", \"Topic3\", \"Topic3\", \"Topic3\", \"Topic3\", \"Topic3\", \"Topic3\", \"Topic3\", \"Topic4\", \"Topic4\", \"Topic4\", \"Topic4\", \"Topic4\", \"Topic4\", \"Topic4\", \"Topic4\", \"Topic4\", \"Topic4\", \"Topic4\", \"Topic4\", \"Topic4\", \"Topic4\", \"Topic4\", \"Topic4\", \"Topic4\", \"Topic4\", \"Topic4\", \"Topic4\", \"Topic4\", \"Topic4\", \"Topic4\", \"Topic4\", \"Topic4\", \"Topic4\", \"Topic4\", \"Topic4\", \"Topic4\", \"Topic4\", \"Topic4\", \"Topic4\", \"Topic4\", \"Topic4\", \"Topic4\", \"Topic4\", \"Topic4\", \"Topic4\", \"Topic4\", \"Topic4\", \"Topic4\", \"Topic4\", \"Topic4\", \"Topic4\", \"Topic4\", \"Topic4\", \"Topic4\", \"Topic4\", \"Topic4\", \"Topic4\", \"Topic4\", \"Topic4\", \"Topic4\", \"Topic4\", \"Topic4\", \"Topic4\", \"Topic4\", \"Topic5\", \"Topic5\", \"Topic5\", \"Topic5\", \"Topic5\", \"Topic5\", \"Topic5\", \"Topic5\", \"Topic5\", \"Topic5\", \"Topic5\", \"Topic5\", \"Topic5\", \"Topic5\", \"Topic5\", \"Topic5\", \"Topic5\", \"Topic5\", \"Topic5\", \"Topic5\", \"Topic5\", \"Topic5\", \"Topic5\", \"Topic5\", \"Topic5\", \"Topic5\", \"Topic5\", \"Topic5\", \"Topic5\", \"Topic5\", \"Topic5\", \"Topic5\", \"Topic5\", \"Topic5\", \"Topic5\", \"Topic5\", \"Topic5\", \"Topic5\", \"Topic5\", \"Topic5\", \"Topic5\", \"Topic5\", \"Topic5\", \"Topic5\", \"Topic5\", \"Topic5\", \"Topic5\", \"Topic5\", \"Topic5\", \"Topic5\", \"Topic5\", \"Topic5\", \"Topic5\", \"Topic5\", \"Topic5\", \"Topic5\", \"Topic5\", \"Topic5\", \"Topic5\", \"Topic5\", \"Topic5\", \"Topic5\", \"Topic5\", \"Topic5\", \"Topic5\", \"Topic5\", \"Topic5\", \"Topic5\", \"Topic5\", \"Topic5\", \"Topic5\", \"Topic6\", \"Topic6\", \"Topic6\", \"Topic6\", \"Topic6\", \"Topic6\", \"Topic6\", \"Topic6\", \"Topic6\", \"Topic6\", \"Topic6\", \"Topic6\", \"Topic6\", \"Topic6\", \"Topic6\", \"Topic6\", \"Topic6\", \"Topic6\", \"Topic6\", \"Topic6\", \"Topic6\", \"Topic6\", \"Topic6\", \"Topic6\", \"Topic6\", \"Topic6\", \"Topic6\", \"Topic6\", \"Topic6\", \"Topic6\", \"Topic6\", \"Topic6\", \"Topic6\", \"Topic6\", \"Topic6\", \"Topic6\", \"Topic6\", \"Topic6\", \"Topic6\", \"Topic6\", \"Topic6\", \"Topic6\", \"Topic6\", \"Topic6\", \"Topic6\", \"Topic6\", \"Topic6\", \"Topic6\", \"Topic6\", \"Topic6\", \"Topic6\", \"Topic6\", \"Topic6\", \"Topic6\", \"Topic6\", \"Topic6\", \"Topic6\", \"Topic6\", \"Topic6\", \"Topic6\", \"Topic6\", \"Topic6\", \"Topic6\", \"Topic6\", \"Topic6\", \"Topic6\", \"Topic6\", \"Topic6\", \"Topic6\", \"Topic6\", \"Topic6\", \"Topic6\", \"Topic6\", \"Topic7\", \"Topic7\", \"Topic7\", \"Topic7\", \"Topic7\", \"Topic7\", \"Topic7\", \"Topic7\", \"Topic7\", \"Topic7\", \"Topic7\", \"Topic7\", \"Topic7\", \"Topic7\", \"Topic7\", \"Topic7\", \"Topic7\", \"Topic7\", \"Topic7\", \"Topic7\", \"Topic7\", \"Topic7\", \"Topic7\", \"Topic7\", \"Topic7\", \"Topic7\", \"Topic7\", \"Topic7\", \"Topic7\", \"Topic7\", \"Topic7\", \"Topic7\", \"Topic7\", \"Topic7\", \"Topic7\", \"Topic7\", \"Topic7\", \"Topic7\", \"Topic7\", \"Topic7\", \"Topic7\", \"Topic7\", \"Topic7\", \"Topic7\", \"Topic7\", \"Topic7\", \"Topic7\", \"Topic7\", \"Topic7\", \"Topic7\", \"Topic7\", \"Topic7\", \"Topic7\", \"Topic7\", \"Topic7\", \"Topic7\", \"Topic7\", \"Topic7\", \"Topic7\", \"Topic7\", \"Topic7\", \"Topic7\", \"Topic8\", \"Topic8\", \"Topic8\", \"Topic8\", \"Topic8\", \"Topic8\", \"Topic8\", \"Topic8\", \"Topic8\", \"Topic8\", \"Topic8\", \"Topic8\", \"Topic8\", \"Topic8\", \"Topic8\", \"Topic8\", \"Topic8\", \"Topic8\", \"Topic8\", \"Topic8\", \"Topic8\", \"Topic8\", \"Topic8\", \"Topic8\", \"Topic8\", \"Topic8\", \"Topic8\", \"Topic8\", \"Topic8\", \"Topic8\", \"Topic8\", \"Topic8\", \"Topic8\", \"Topic8\", \"Topic8\", \"Topic8\", \"Topic8\", \"Topic8\", \"Topic8\", \"Topic8\", \"Topic8\", \"Topic8\", \"Topic8\", \"Topic8\", \"Topic8\", \"Topic8\", \"Topic8\", \"Topic8\", \"Topic8\", \"Topic8\", \"Topic8\", \"Topic8\", \"Topic8\", \"Topic8\", \"Topic8\", \"Topic8\", \"Topic8\", \"Topic8\", \"Topic8\", \"Topic8\", \"Topic8\", \"Topic8\", \"Topic8\", \"Topic8\", \"Topic8\", \"Topic8\", \"Topic8\", \"Topic8\", \"Topic8\", \"Topic8\", \"Topic9\", \"Topic9\", \"Topic9\", \"Topic9\", \"Topic9\", \"Topic9\", \"Topic9\", \"Topic9\", \"Topic9\", \"Topic9\", \"Topic9\", \"Topic9\", \"Topic9\", \"Topic9\", \"Topic9\", \"Topic9\", \"Topic9\", \"Topic9\", \"Topic9\", \"Topic9\", \"Topic9\", \"Topic9\", \"Topic9\", \"Topic9\", \"Topic9\", \"Topic9\", \"Topic9\", \"Topic9\", \"Topic9\", \"Topic9\", \"Topic9\", \"Topic9\", \"Topic9\", \"Topic9\", \"Topic9\", \"Topic9\", \"Topic9\", \"Topic9\", \"Topic9\", \"Topic9\", \"Topic9\", \"Topic9\", \"Topic9\", \"Topic9\", \"Topic9\", \"Topic9\", \"Topic9\", \"Topic9\", \"Topic9\", \"Topic9\", \"Topic9\", \"Topic9\", \"Topic9\", \"Topic9\", \"Topic9\", \"Topic9\", \"Topic9\", \"Topic9\", \"Topic9\", \"Topic9\", \"Topic9\", \"Topic9\", \"Topic9\", \"Topic9\", \"Topic9\", \"Topic9\", \"Topic9\", \"Topic9\", \"Topic9\", \"Topic9\", \"Topic9\", \"Topic9\", \"Topic9\", \"Topic9\", \"Topic9\", \"Topic9\", \"Topic9\", \"Topic9\", \"Topic10\", \"Topic10\", \"Topic10\", \"Topic10\", \"Topic10\", \"Topic10\", \"Topic10\", \"Topic10\", \"Topic10\", \"Topic10\", \"Topic10\", \"Topic10\", \"Topic10\", \"Topic10\", \"Topic10\", \"Topic10\", \"Topic10\", \"Topic10\", \"Topic10\", \"Topic10\", \"Topic10\", \"Topic10\", \"Topic10\", \"Topic10\", \"Topic10\", \"Topic10\", \"Topic10\", \"Topic10\", \"Topic10\", \"Topic10\", \"Topic10\", \"Topic10\", \"Topic10\", \"Topic10\", \"Topic10\", \"Topic10\", \"Topic10\", \"Topic10\", \"Topic10\", \"Topic10\", \"Topic10\", \"Topic10\", \"Topic10\", \"Topic10\", \"Topic10\", \"Topic10\", \"Topic10\", \"Topic10\", \"Topic10\", \"Topic10\", \"Topic10\", \"Topic10\", \"Topic10\", \"Topic11\", \"Topic11\", \"Topic11\", \"Topic11\", \"Topic11\", \"Topic11\", \"Topic11\", \"Topic11\", \"Topic11\", \"Topic11\", \"Topic11\", \"Topic11\", \"Topic11\", \"Topic11\", \"Topic11\", \"Topic11\", \"Topic11\", \"Topic11\", \"Topic11\", \"Topic11\", \"Topic11\", \"Topic11\", \"Topic11\", \"Topic11\", \"Topic11\", \"Topic11\", \"Topic11\", \"Topic11\", \"Topic11\", \"Topic11\", \"Topic11\", \"Topic11\", \"Topic11\", \"Topic11\", \"Topic11\", \"Topic11\", \"Topic11\", \"Topic11\", \"Topic11\", \"Topic11\", \"Topic11\", \"Topic11\", \"Topic11\", \"Topic11\", \"Topic11\", \"Topic11\", \"Topic11\", \"Topic11\", \"Topic11\", \"Topic11\", \"Topic11\", \"Topic11\", \"Topic11\", \"Topic11\", \"Topic11\", \"Topic11\", \"Topic11\", \"Topic11\", \"Topic11\", \"Topic11\", \"Topic11\", \"Topic11\", \"Topic11\", \"Topic11\", \"Topic11\", \"Topic11\", \"Topic11\", \"Topic11\", \"Topic11\", \"Topic11\", \"Topic11\", \"Topic11\", \"Topic11\", \"Topic11\", \"Topic11\", \"Topic11\", \"Topic11\", \"Topic12\", \"Topic12\", \"Topic12\", \"Topic12\", \"Topic12\", \"Topic12\", \"Topic12\", \"Topic12\", \"Topic12\", \"Topic12\", \"Topic12\", \"Topic12\", \"Topic12\", \"Topic12\", \"Topic12\", \"Topic12\", \"Topic12\", \"Topic12\", \"Topic12\", \"Topic12\", \"Topic12\", \"Topic12\", \"Topic12\", \"Topic12\", \"Topic12\", \"Topic12\", \"Topic12\", \"Topic12\", \"Topic12\", \"Topic12\", \"Topic12\", \"Topic12\", \"Topic12\", \"Topic12\", \"Topic12\", \"Topic12\", \"Topic12\", \"Topic12\", \"Topic12\", \"Topic12\", \"Topic12\", \"Topic12\", \"Topic12\", \"Topic12\", \"Topic12\", \"Topic12\", \"Topic12\", \"Topic12\", \"Topic12\", \"Topic12\", \"Topic12\", \"Topic12\", \"Topic12\", \"Topic12\", \"Topic12\", \"Topic12\", \"Topic12\", \"Topic12\", \"Topic12\", \"Topic12\", \"Topic12\", \"Topic12\", \"Topic12\", \"Topic12\", \"Topic12\", \"Topic12\", \"Topic12\", \"Topic12\", \"Topic12\", \"Topic12\", \"Topic12\", \"Topic13\", \"Topic13\", \"Topic13\", \"Topic13\", \"Topic13\", \"Topic13\", \"Topic13\", \"Topic13\", \"Topic13\", \"Topic13\", \"Topic13\", \"Topic13\", \"Topic13\", \"Topic13\", \"Topic13\", \"Topic13\", \"Topic13\", \"Topic13\", \"Topic13\", \"Topic13\", \"Topic13\", \"Topic13\", \"Topic13\", \"Topic13\", \"Topic13\", \"Topic13\", \"Topic13\", \"Topic13\", \"Topic13\", \"Topic13\", \"Topic13\", \"Topic13\", \"Topic13\", \"Topic13\", \"Topic13\", \"Topic13\", \"Topic13\", \"Topic13\", \"Topic13\", \"Topic13\", \"Topic13\", \"Topic13\", \"Topic13\", \"Topic13\", \"Topic13\", \"Topic13\", \"Topic13\", \"Topic13\", \"Topic13\", \"Topic13\", \"Topic13\", \"Topic13\", \"Topic13\", \"Topic13\", \"Topic13\", \"Topic13\", \"Topic13\", \"Topic13\", \"Topic13\", \"Topic13\", \"Topic13\", \"Topic13\", \"Topic14\", \"Topic14\", \"Topic14\", \"Topic14\", \"Topic14\", \"Topic14\", \"Topic14\", \"Topic14\", \"Topic14\", \"Topic14\", \"Topic14\", \"Topic14\", \"Topic14\", \"Topic14\", \"Topic14\", \"Topic14\", \"Topic14\", \"Topic14\", \"Topic14\", \"Topic14\", \"Topic14\", \"Topic14\", \"Topic14\", \"Topic14\", \"Topic14\", \"Topic14\", \"Topic14\", \"Topic14\", \"Topic14\", \"Topic14\", \"Topic14\", \"Topic14\", \"Topic14\", \"Topic14\", \"Topic14\", \"Topic14\", \"Topic14\", \"Topic14\", \"Topic14\", \"Topic14\", \"Topic14\", \"Topic14\", \"Topic14\", \"Topic14\", \"Topic14\", \"Topic14\", \"Topic14\", \"Topic14\", \"Topic14\", \"Topic14\", \"Topic14\", \"Topic14\", \"Topic14\", \"Topic14\", \"Topic14\", \"Topic14\", \"Topic14\", \"Topic14\", \"Topic14\", \"Topic14\", \"Topic14\", \"Topic14\", \"Topic14\", \"Topic14\", \"Topic14\", \"Topic14\", \"Topic14\", \"Topic14\", \"Topic15\", \"Topic15\", \"Topic15\", \"Topic15\", \"Topic15\", \"Topic15\", \"Topic15\", \"Topic15\", \"Topic15\", \"Topic15\", \"Topic15\", \"Topic15\", \"Topic15\", \"Topic15\", \"Topic15\", \"Topic15\", \"Topic15\", \"Topic15\", \"Topic15\", \"Topic15\", \"Topic15\", \"Topic15\", \"Topic15\", \"Topic15\", \"Topic15\", \"Topic15\", \"Topic15\", \"Topic15\", \"Topic15\", \"Topic15\", \"Topic15\", \"Topic15\", \"Topic15\", \"Topic15\", \"Topic15\", \"Topic15\", \"Topic15\", \"Topic15\", \"Topic15\", \"Topic15\", \"Topic15\", \"Topic15\", \"Topic15\", \"Topic15\", \"Topic15\", \"Topic15\", \"Topic15\", \"Topic15\", \"Topic15\", \"Topic15\", \"Topic15\", \"Topic15\", \"Topic15\", \"Topic15\", \"Topic15\", \"Topic15\", \"Topic15\", \"Topic15\", \"Topic15\", \"Topic15\", \"Topic15\", \"Topic15\", \"Topic15\", \"Topic15\", \"Topic15\", \"Topic15\", \"Topic15\", \"Topic15\", \"Topic15\"], \"Freq\": [2747.0, 646.0, 806.0, 1961.0, 536.0, 671.0, 479.0, 1578.0, 296.0, 400.0, 956.0, 359.0, 354.0, 365.0, 764.0, 403.0, 1062.0, 423.0, 1502.0, 231.0, 1059.0, 419.0, 1018.0, 1011.0, 1045.0, 241.0, 337.0, 1209.0, 878.0, 1022.0, 25.644317626953125, 63.64515686035156, 60.782047271728516, 22.359416961669922, 52.18732833862305, 14.523765563964844, 21.76304817199707, 23.569772720336914, 10.789074897766113, 14.382610321044922, 10.776968002319336, 11.678096771240234, 9.826408386230469, 20.564451217651367, 9.8128662109375, 10.618332862854004, 16.721750259399414, 11.31495189666748, 10.318678855895996, 10.30748462677002, 58.80235290527344, 36.07414245605469, 18.012739181518555, 55.31853103637695, 13.618496894836426, 18.532588958740234, 33.60167694091797, 13.479204177856445, 9.177382469177246, 12.485381126403809, 14.218219757080078, 59.77174377441406, 44.366737365722656, 39.03366470336914, 86.13607025146484, 24.667993545532227, 48.153221130371094, 29.631315231323242, 82.82632446289062, 122.7371826171875, 313.7110290527344, 54.08332061767578, 74.71265411376953, 50.391178131103516, 417.0372009277344, 473.44927978515625, 79.69525146484375, 120.4727554321289, 44.444480895996094, 267.30487060546875, 160.93089294433594, 287.7552795410156, 594.8350219726562, 143.82598876953125, 131.29888916015625, 183.60594177246094, 169.97683715820312, 283.7891540527344, 132.39248657226562, 103.21707153320312, 258.4914855957031, 197.38229370117188, 206.156982421875, 126.54120635986328, 309.5156555175781, 309.6148376464844, 305.15673828125, 230.13427734375, 156.0762176513672, 294.67913818359375, 228.5821990966797, 312.484130859375, 169.7860565185547, 171.5733642578125, 204.6178436279297, 220.90121459960938, 273.975830078125, 194.6754150390625, 197.58831787109375, 201.019775390625, 237.86668395996094, 245.983154296875, 233.16091918945312, 232.6595916748047, 221.7943878173828, 197.55799865722656, 211.00469970703125, 232.64512634277344, 229.71987915039062, 199.754150390625, 415.8095397949219, 208.76600646972656, 58.98235321044922, 80.47027587890625, 151.26756286621094, 284.9100646972656, 138.36793518066406, 49.055904388427734, 34.837730407714844, 40.495880126953125, 30.03337287902832, 779.2659912109375, 112.65498352050781, 24.207475662231445, 25.122173309326172, 46.43047332763672, 349.2840881347656, 20.35430145263672, 17.38675880432129, 15.53293228149414, 17.317100524902344, 332.6046142578125, 449.32598876953125, 59.509944915771484, 195.1645050048828, 41.340702056884766, 31.518985748291016, 31.584850311279297, 26.686861038208008, 19.971633911132812, 26.40235710144043, 47.6363639831543, 61.1641960144043, 187.8654022216797, 233.6808319091797, 1067.197509765625, 600.212158203125, 454.0865173339844, 694.1553344726562, 69.78164672851562, 63.50654220581055, 239.97666931152344, 310.94830322265625, 310.2217712402344, 198.958251953125, 235.8799591064453, 208.95989990234375, 196.87542724609375, 228.6203155517578, 171.4806365966797, 195.8998260498047, 235.2695770263672, 241.6710968017578, 246.4585418701172, 216.67178344726562, 233.66734313964844, 214.7271270751953, 238.14578247070312, 206.84544372558594, 200.28128051757812, 134.43820190429688, 23.82628059387207, 30.179790496826172, 32.77067565917969, 22.74932289123535, 69.1321792602539, 17.125272750854492, 92.24947357177734, 15.114923477172852, 21.910436630249023, 200.5572967529297, 77.88152313232422, 210.68882751464844, 16.757287979125977, 470.77947998046875, 24.971281051635742, 544.4337158203125, 12.67453384399414, 14.268064498901367, 14.245484352111816, 42.55351257324219, 8.525893211364746, 10.126116752624512, 60.855342864990234, 12.384153366088867, 7.796238899230957, 9.710122108459473, 16.775930404663086, 203.82559204101562, 119.28799438476562, 21.222078323364258, 26.593719482421875, 386.3194580078125, 259.9966125488281, 71.51460266113281, 537.870361328125, 103.19552612304688, 93.05331420898438, 107.7312240600586, 105.42387390136719, 237.57769775390625, 103.463623046875, 166.769775390625, 208.46604919433594, 214.43594360351562, 184.32992553710938, 227.3996124267578, 207.0084686279297, 185.28448486328125, 151.9040069580078, 186.13560485839844, 155.09010314941406, 217.82901000976562, 182.08099365234375, 187.3022003173828, 174.25424194335938, 172.9925994873047, 240.91671752929688, 159.28309631347656, 156.8583221435547, 148.5019073486328, 139.02890014648438, 98.30973815917969, 172.96302795410156, 75.72595977783203, 89.13404083251953, 39.65500259399414, 24.72407341003418, 317.9866027832031, 24.489002227783203, 93.05783081054688, 14.302581787109375, 55.153846740722656, 182.51666259765625, 68.15682983398438, 592.5231323242188, 23.311748504638672, 12.396204948425293, 269.41986083984375, 36.66011428833008, 59.836265563964844, 12.61196231842041, 22.56416130065918, 44.490638732910156, 38.21149826049805, 25.11931610107422, 303.443603515625, 123.57219696044922, 18.46668815612793, 15.48058032989502, 10.056767463684082, 11.636252403259277, 76.2404556274414, 61.57625198364258, 84.58055114746094, 82.11524963378906, 307.7767333984375, 579.3579711914062, 223.77491760253906, 125.2223129272461, 122.99161529541016, 155.87635803222656, 283.7036437988281, 128.01470947265625, 214.95223999023438, 165.545166015625, 133.54486083984375, 136.66848754882812, 119.21598815917969, 163.3470916748047, 139.894775390625, 135.4373321533203, 119.20391845703125, 127.06724548339844, 126.99620819091797, 127.32696533203125, 116.80728149414062, 110.53641510009766, 108.6174545288086, 27.831100463867188, 11.93964672088623, 99.75023651123047, 23.209102630615234, 16.265363693237305, 63.178382873535156, 23.689945220947266, 12.760799407958984, 16.635087966918945, 11.986371994018555, 8.886666297912598, 8.886788368225098, 21.11871910095215, 9.363908767700195, 34.20955276489258, 84.09557342529297, 26.758699417114258, 12.420676231384277, 15.394383430480957, 10.748922348022461, 7.93817663192749, 12.561566352844238, 11.135733604431152, 20.211885452270508, 36.00151443481445, 95.88631439208984, 12.604602813720703, 7.444950580596924, 12.194729804992676, 8.33764934539795, 20.554065704345703, 232.5207977294922, 65.18274688720703, 24.66132354736328, 22.180965423583984, 56.65547180175781, 20.781845092773438, 69.98355865478516, 115.16588592529297, 41.16735076904297, 123.14764404296875, 48.54815673828125, 47.53425216674805, 65.59724426269531, 27.315378189086914, 33.7552490234375, 68.90711212158203, 42.61503601074219, 36.22943878173828, 61.48026657104492, 66.39978790283203, 64.48958587646484, 81.76831817626953, 122.41039276123047, 95.23643493652344, 99.2052001953125, 84.4016342163086, 97.08842468261719, 62.312034606933594, 105.44514465332031, 85.65846252441406, 64.07664489746094, 65.84048461914062, 65.80509185791016, 73.57349395751953, 66.2591323852539, 63.97022247314453, 68.75347900390625, 66.70909881591797, 65.31144714355469, 65.1646728515625, 15.692522048950195, 8.009071350097656, 11.805418014526367, 8.778768539428711, 6.684366226196289, 20.297388076782227, 7.910808086395264, 9.361681938171387, 7.025727272033691, 10.571332931518555, 8.837010383605957, 8.565908432006836, 10.475364685058594, 7.9872894287109375, 13.646123886108398, 17.95642852783203, 10.65565299987793, 5.304104804992676, 5.567483901977539, 12.455705642700195, 5.483810901641846, 4.845098972320557, 6.185390472412109, 6.118740558624268, 16.541240692138672, 4.9563422203063965, 5.185117721557617, 4.456028461456299, 4.075141429901123, 6.227489948272705, 11.404743194580078, 13.88749885559082, 54.1866569519043, 11.399264335632324, 37.736610412597656, 21.246627807617188, 106.24226379394531, 86.92495727539062, 24.392702102661133, 81.08802795410156, 39.59876251220703, 50.38459777832031, 80.13796997070312, 57.85410690307617, 36.915348052978516, 24.671855926513672, 23.115453720092773, 40.923683166503906, 52.52798843383789, 60.759586334228516, 61.6197395324707, 30.61968994140625, 77.083984375, 34.88574981689453, 66.41585540771484, 40.557186126708984, 48.65492248535156, 62.664405822753906, 58.478580474853516, 58.462196350097656, 56.287864685058594, 57.065521240234375, 33.14822006225586, 46.17121887207031, 39.009910583496094, 38.066349029541016, 36.14982604980469, 37.394535064697266, 42.10501480102539, 44.21870422363281, 39.159297943115234, 38.90665817260742, 38.10265350341797, 60.46723175048828, 127.0404281616211, 25.299036026000977, 17.024921417236328, 73.78924560546875, 27.722686767578125, 13.486701011657715, 11.917684555053711, 11.856145858764648, 13.249032974243164, 21.585180282592773, 20.32990074157715, 88.55127716064453, 246.7170867919922, 10.997888565063477, 27.90755271911621, 9.867568969726562, 35.396705627441406, 5.877814769744873, 6.780680179595947, 23.32019805908203, 7.494205951690674, 6.422528266906738, 6.310683727264404, 5.623941898345947, 5.140031814575195, 20.938568115234375, 5.492115497589111, 25.634593963623047, 8.62736701965332, 30.312803268432617, 44.54387283325195, 27.31768226623535, 107.87288665771484, 30.088293075561523, 31.700603485107422, 84.75111389160156, 25.831584930419922, 53.292057037353516, 125.42753601074219, 212.64646911621094, 106.65621185302734, 72.62560272216797, 94.35553741455078, 120.68455505371094, 94.12620544433594, 67.48004150390625, 64.14054107666016, 41.31618118286133, 49.9345817565918, 61.98093032836914, 39.80789566040039, 39.310306549072266, 51.584896087646484, 56.966007232666016, 45.36790084838867, 42.82595443725586, 43.95610046386719, 44.8311882019043, 42.0261344909668, 43.49238204956055, 41.15447235107422, 20.897785186767578, 8.263136863708496, 27.729869842529297, 5.397911071777344, 6.150026321411133, 6.856007099151611, 8.530428886413574, 19.324247360229492, 5.091830253601074, 17.242361068725586, 14.38979434967041, 6.639284610748291, 48.80864334106445, 16.16179084777832, 21.495521545410156, 7.732177257537842, 4.422905445098877, 3.5618507862091064, 10.32783031463623, 7.427665710449219, 3.6858325004577637, 5.025666236877441, 4.885900497436523, 7.696239948272705, 5.749309539794922, 6.933444499969482, 3.739363670349121, 3.900073766708374, 3.7994961738586426, 34.00669479370117, 25.464527130126953, 15.896557807922363, 7.534112453460693, 45.18370056152344, 39.7479248046875, 26.16508674621582, 41.39862060546875, 8.050552368164062, 49.12017822265625, 72.62177276611328, 22.979759216308594, 208.88186645507812, 24.790605545043945, 14.655244827270508, 36.09657287597656, 38.08043670654297, 29.343610763549805, 53.12883377075195, 54.397918701171875, 19.593725204467773, 25.91277503967285, 38.214324951171875, 43.97846603393555, 37.53486251831055, 47.484405517578125, 53.30632400512695, 34.83400344848633, 50.25050354003906, 40.67229461669922, 41.02111053466797, 36.94713592529297, 39.947547912597656, 35.97329330444336, 38.609230041503906, 36.84247970581055, 33.16596603393555, 34.62739562988281, 36.306453704833984, 34.35063934326172, 33.546443939208984, 7.600118637084961, 15.17129135131836, 6.421436309814453, 4.602324485778809, 4.890440940856934, 4.827977180480957, 5.954298973083496, 5.502892971038818, 4.990008354187012, 5.735752105712891, 8.0068941116333, 7.204817295074463, 4.639787673950195, 5.424933910369873, 6.3977179527282715, 6.006722450256348, 3.8626832962036133, 5.889776706695557, 5.174324035644531, 8.28456974029541, 5.1563639640808105, 4.145577430725098, 7.995652198791504, 4.025987148284912, 7.459732532501221, 11.298545837402344, 4.508237361907959, 5.5009894371032715, 6.825686454772949, 3.5757009983062744, 11.131937026977539, 12.887490272521973, 6.8791327476501465, 11.11898422241211, 39.08475875854492, 11.864033699035645, 17.945003509521484, 26.603391647338867, 35.14964294433594, 42.56727600097656, 25.257888793945312, 16.9366397857666, 52.16435241699219, 31.132404327392578, 12.617130279541016, 17.483156204223633, 114.71548461914062, 32.92666244506836, 12.054760932922363, 19.62538719177246, 32.28653335571289, 20.46451759338379, 24.757143020629883, 35.31237030029297, 67.37228393554688, 29.895803451538086, 32.427616119384766, 17.863859176635742, 21.58723258972168, 36.86062240600586, 32.60584259033203, 46.8140869140625, 17.539794921875, 25.316143035888672, 25.960723876953125, 36.4251708984375, 37.77415084838867, 28.00972557067871, 28.506343841552734, 27.00655174255371, 25.648868560791016, 23.206361770629883, 26.328603744506836, 23.303720474243164, 24.96858787536621, 24.08038330078125, 23.9007625579834, 24.036455154418945, 77.15111541748047, 37.387935638427734, 29.918922424316406, 194.0252227783203, 63.396339416503906, 13.909937858581543, 168.533447265625, 97.93733978271484, 48.749114990234375, 36.2292366027832, 9.537131309509277, 5.047652721405029, 5.857175350189209, 6.122363567352295, 18.235376358032227, 6.305535793304443, 84.01521301269531, 8.7199068069458, 4.35749626159668, 4.671980857849121, 4.157516956329346, 4.518822193145752, 3.4070632457733154, 7.396448135375977, 102.73250579833984, 4.337179660797119, 3.2324397563934326, 2.9029242992401123, 3.5234265327453613, 21.19676971435547, 27.351051330566406, 7.374129295349121, 22.482357025146484, 29.8653564453125, 38.00502014160156, 48.60633087158203, 83.05355834960938, 37.771522521972656, 36.30732345581055, 16.497169494628906, 68.85226440429688, 48.93806076049805, 48.98801803588867, 45.829769134521484, 32.870155334472656, 48.273128509521484, 32.67951583862305, 29.526859283447266, 34.54399108886719, 29.478151321411133, 32.29789352416992, 29.82312774658203, 30.370559692382812, 12.837777137756348, 7.971451759338379, 11.287355422973633, 8.385040283203125, 8.83676815032959, 3.9495503902435303, 3.8873982429504395, 3.570528984069824, 4.399376392364502, 12.651681900024414, 14.066487312316895, 3.505366802215576, 3.638324737548828, 3.9084110260009766, 4.2332000732421875, 3.318981409072876, 3.2205677032470703, 3.134289264678955, 12.433051109313965, 3.949165105819702, 5.11862850189209, 3.1569290161132812, 4.034407138824463, 6.610597610473633, 3.1732261180877686, 2.7648744583129883, 3.914390802383423, 3.6152665615081787, 3.13120698928833, 3.958465814590454, 8.386905670166016, 28.04801368713379, 10.1781005859375, 7.593623638153076, 10.123785972595215, 10.44749641418457, 14.442739486694336, 7.86651086807251, 14.779172897338867, 62.2640495300293, 42.13641357421875, 9.776342391967773, 46.88076400756836, 11.001947402954102, 23.140928268432617, 22.5694637298584, 8.374049186706543, 22.699817657470703, 29.713388442993164, 10.229273796081543, 43.347007751464844, 22.591800689697266, 33.75725555419922, 49.85554504394531, 15.866873741149902, 25.08322525024414, 16.251232147216797, 35.031307220458984, 36.775787353515625, 33.81076431274414, 22.249515533447266, 18.019453048706055, 30.627260208129883, 28.332794189453125, 27.342769622802734, 27.777950286865234, 25.276153564453125, 26.94014549255371, 27.356718063354492, 24.002573013305664, 26.037303924560547, 22.229679107666016, 21.72983741760254, 22.178070068359375, 21.329986572265625, 23.728878021240234, 21.879467010498047, 14.052633285522461, 3.7045607566833496, 4.571413516998291, 13.646183013916016, 3.387981414794922, 3.8197755813598633, 3.4385263919830322, 3.956580877304077, 4.269780158996582, 4.669746398925781, 11.124898910522461, 30.370594024658203, 4.487048149108887, 3.135538101196289, 2.1090338230133057, 2.062354803085327, 2.8227086067199707, 2.032268762588501, 2.386369228363037, 2.126771926879883, 3.2393131256103516, 2.55564284324646, 2.0108962059020996, 3.2866313457489014, 1.797690510749817, 2.6751198768615723, 2.2360446453094482, 2.4473371505737305, 3.188783884048462, 2.4479856491088867, 16.728456497192383, 8.045717239379883, 4.791177749633789, 4.581904888153076, 42.878211975097656, 20.684656143188477, 7.336767673492432, 5.480682849884033, 29.67802619934082, 11.301435470581055, 11.209582328796387, 27.745853424072266, 11.25932788848877, 19.18129539489746, 32.32998275756836, 28.719507217407227, 17.337112426757812, 9.986629486083984, 31.00205421447754, 9.92013168334961, 32.842533111572266, 24.136844635009766, 27.351070404052734, 15.346643447875977, 26.29996681213379, 13.08817195892334, 25.394411087036133, 24.20536231994629, 24.76405906677246, 36.704368591308594, 17.71150016784668, 19.541351318359375, 22.87152099609375, 25.750062942504883, 19.38202667236328, 16.197416305541992, 16.82280921936035, 16.362340927124023, 17.159591674804688, 17.64913558959961, 15.780213356018066, 62.34408950805664, 8.371880531311035, 148.54966735839844, 14.220943450927734, 16.712446212768555, 3.6397454738616943, 12.794931411743164, 109.79695129394531, 3.550877094268799, 4.75555419921875, 3.498140811920166, 2.8158466815948486, 4.607635021209717, 3.0177528858184814, 4.696883678436279, 2.814131736755371, 2.8755385875701904, 2.4148454666137695, 3.908539295196533, 2.8392012119293213, 9.956588745117188, 1.8978335857391357, 2.353647232055664, 2.254115343093872, 2.3145415782928467, 2.2721052169799805, 2.7148239612579346, 10.763792037963867, 1.8467493057250977, 1.872959017753601, 97.91751861572266, 7.80780029296875, 19.674715042114258, 62.46815490722656, 24.3798828125, 5.946590900421143, 16.59113883972168, 17.750919342041016, 12.086199760437012, 54.47444152832031, 29.389646530151367, 25.159692764282227, 17.88510513305664, 31.357275009155273, 24.212955474853516, 20.040817260742188, 17.505149841308594, 18.102401733398438, 26.675756454467773, 24.325847625732422, 10.106636047363281, 13.045587539672852, 22.63296890258789, 12.472933769226074, 15.245848655700684, 16.576169967651367, 17.82528305053711, 16.22205924987793, 16.45217514038086, 15.505993843078613, 15.45341968536377, 14.522320747375488, 27.380868911743164, 5.010743141174316, 2.835561990737915, 14.90754222869873, 2.5111069679260254, 1.6044933795928955, 4.955685615539551, 11.364228248596191, 1.46926748752594, 1.3404961824417114, 1.6927977800369263, 1.6427243947982788, 6.984290599822998, 1.6683021783828735, 1.699539303779602, 1.631987452507019, 2.8924174308776855, 2.5064241886138916, 2.7667131423950195, 2.2866604328155518, 1.5851223468780518, 1.5201873779296875, 1.6309828758239746, 2.319533586502075, 1.4548454284667969, 1.3114283084869385, 1.6510674953460693, 2.5847935676574707, 2.914541721343994, 1.3095133304595947, 1.6887322664260864, 31.29673957824707, 6.077928066253662, 4.132554054260254, 100.2398910522461, 18.904075622558594, 23.419849395751953, 6.849923133850098, 10.224137306213379, 13.84189224243164, 22.59852409362793, 5.82437801361084, 23.032907485961914, 5.797214031219482, 4.513289928436279, 7.865825176239014, 15.119017601013184, 8.647159576416016, 8.941762924194336, 9.564774513244629, 10.55582046508789, 17.030860900878906, 14.203640937805176, 10.694206237792969, 15.679373741149902, 12.940669059753418, 10.5603666305542, 13.612905502319336, 11.755647659301758, 12.76937198638916, 14.825161933898926, 10.621373176574707, 11.397281646728516, 11.338730812072754, 11.530335426330566, 9.834491729736328, 9.681900024414062, 9.90967082977295, 0.03152697905898094, 0.04214579612016678, 0.02836727164685726, 0.029386308044195175, 0.025159988552331924, 0.020521938800811768, 0.03544164448976517, 0.020838767290115356, 0.023391133174300194, 0.01411373633891344, 0.014011703431606293, 0.013647070154547691, 0.013744307681918144, 0.037683747708797455, 0.0128655806183815, 0.012857881374657154, 0.014223532751202583, 0.012484274804592133, 0.013464674353599548, 0.014466937631368637, 0.013038993813097477, 0.02124529331922531, 0.013638583943247795, 0.021203797310590744, 0.01973964273929596, 0.015700187534093857, 0.01091652549803257, 0.01340432744473219, 0.012456209398806095, 0.011103403754532337, 0.01160696242004633, 0.020255716517567635, 0.015371991321444511, 0.02129562944173813, 0.018244976177811623, 0.02655343897640705, 0.07070253044366837, 0.02102556638419628, 0.027120303362607956, 0.024474233388900757, 0.031133225187659264, 0.04178193211555481, 0.020634623244404793, 0.04767194762825966, 0.04995829239487648, 0.05718749761581421, 0.05596553906798363, 0.05210146680474281, 0.06405169516801834, 0.04683457687497139, 0.0637175664305687, 0.04341021552681923, 0.05044138804078102, 0.04858335852622986, 0.04645644873380661, 0.046299319714307785, 0.044900331646203995, 0.04769901558756828, 0.0441029891371727, 0.039182037115097046, 0.03978210315108299, 0.043122682720422745, 0.042494457215070724, 0.04282241314649582, 0.04252149909734726, 0.03978484869003296, 0.03888068348169327, 0.037741851061582565, 0.037051308900117874], \"Term\": [\"Mr.\", \"Elinor\", \"Emma\", \"Mrs.\", \"Marianne\", \"Elizabeth\", \"Harriet\", \"like\", \"Edward\", \"Rochester\", \"Jane\", \"Lucy\", \"Knightley\", \"Elton\", \"sister\", \"sir\", \"man\", \"Darcy\", \"Miss\", \"Graham\", \"thing\", \"Weston\", \"speak\", \"tell\", \"eye\", \"Bretton\", \"Bennet\", \"feel\", \"hand\", \"long\", \"Burns\", \"Temple\", \"Helen\", \"frock\", \"Brocklehurst\", \"devour\", \"lid\", \"Blanche\", \"smother\", \"menace\", \"dimly\", \"hideous\", \"inexorable\", \"religion\", \"garb\", \"superintendent\", \"beggar\", \"sundry\", \"coal\", \"deuce\", \"schoolroom\", \"Hannah\", \"inner\", \"curl\", \"contact\", \"stride\", \"estrade\", \"identity\", \"piquant\", \"rigid\", \"whereof\", \"bread\", \"Lowood\", \"Rivers\", \"desk\", \"Dent\", \"forehead\", \"nose\", \"class\", \"St.\", \"face\", \"Diana\", \"reader\", \"clean\", \"hand\", \"eye\", \"gaze\", \"chair\", \"neck\", \"stand\", \"dress\", \"door\", \"like\", \"fire\", \"pupil\", \"rise\", \"work\", \"sit\", \"seat\", \"black\", \"turn\", \"girl\", \"open\", \"school\", \"take\", \"room\", \"long\", \"place\", \"round\", \"leave\", \"ask\", \"feel\", \"light\", \"head\", \"hour\", \"word\", \"go\", \"life\", \"pass\", \"night\", \"find\", \"hear\", \"tell\", \"speak\", \"man\", \"heart\", \"give\", \"Miss\", \"Mr.\", \"shall\", \"Weston\", \"Churchill\", \"Cole\", \"Randalls\", \"Hartfield\", \"Woodhouse\", \"Bates\", \"Campbell\", \"Enscombe\", \"Dixon\", \"Maple\", \"Emma\", \"Highbury\", \"Campbells\", \"Crown\", \"Taylor\", \"Elton\", \"Eltons\", \"Box\", \"Coles\", \"Weymouth\", \"Knightley\", \"Harriet\", \"Isabella\", \"Frank\", \"Donwell\", \"Grove\", \"surprize\", \"connexion\", \"Ireland\", \"surprized\", \"Goddard\", \"Perry\", \"body\", \"Fairfax\", \"Mr.\", \"Miss\", \"thing\", \"Mrs.\", \"Smith\", \"shew\", \"dear\", \"Jane\", \"great\", \"father\", \"friend\", \"want\", \"sure\", \"shall\", \"oh\", \"hope\", \"man\", \"hear\", \"go\", \"soon\", \"feel\", \"wish\", \"like\", \"speak\", \"Willoughby\", \"Brandon\", \"Delaford\", \"Dashwoods\", \"Margaret\", \"Cleveland\", \"Palmer\", \"Allenham\", \"Middleton\", \"Combe\", \"Devonshire\", \"Jennings\", \"Barton\", \"Dashwood\", \"Middletons\", \"Marianne\", \"Steeles\", \"Elinor\", \"Exeter\", \"Berkeley\", \"tomorrow\", \"Norland\", \"enquiry\", \"luckily\", \"cottage\", \"impropriety\", \"unhappiness\", \"recovery\", \"ability\", \"Colonel\", \"Sir\", \"alteration\", \"unfortunate\", \"sister\", \"mother\", \"behaviour\", \"Mrs.\", \"Lady\", \"town\", \"Edward\", \"affection\", \"great\", \"opinion\", \"John\", \"soon\", \"wish\", \"house\", \"feel\", \"leave\", \"give\", \"believe\", \"tell\", \"hope\", \"Miss\", \"thing\", \"hear\", \"find\", \"man\", \"Mr.\", \"speak\", \"go\", \"long\", \"friend\", \"Lizzy\", \"Lydia\", \"Kitty\", \"Longbourn\", \"Forster\", \"Brighton\", \"Bennet\", \"Derbyshire\", \"Gardiner\", \"Lucases\", \"Meryton\", \"Wickham\", \"Netherfield\", \"Elizabeth\", \"Hunsford\", \"Wednesday\", \"Bingley\", \"Hertfordshire\", \"Lucas\", \"etc\", \"regiment\", \"Pemberley\", \"officer\", \"Phillips\", \"Darcy\", \"Collins\", \"Saturday\", \"Caroline\", \"fun\", \"entail\", \"Catherine\", \"Charlotte\", \"aunt\", \"uncle\", \"Jane\", \"Mr.\", \"sister\", \"daughter\", \"family\", \"dear\", \"Mrs.\", \"father\", \"Miss\", \"soon\", \"mother\", \"hope\", \"letter\", \"go\", \"shall\", \"man\", \"young\", \"wish\", \"great\", \"hear\", \"friend\", \"tell\", \"leave\", \"Zoraide\", \"fiacre\", \"Pelet\", \"Hamal\", \"Jean\", \"Reuter\", \"franc\", \"continental\", \"Brown\", \"Belgium\", \"seminary\", \"neighbouring\", \"tout\", \"Baptiste\", \"bien\", \"Frances\", \"les\", \"du\", \"jeune\", \"portress\", \"protestant\", \"surveillance\", \"director\", \"mon\", \"que\", \"Hunsden\", \"au\", \"phase\", \"attic\", \"manger\", \"est\", \"Madame\", \"monsieur\", \"c'est\", \"Brussels\", \"Ginevra\", \"pensionnat\", \"Beck\", \"de\", \"Fanshawe\", \"M.\", \"Mdlle\", \"English\", \"garden\", \"ce\", \"la\", \"Dr.\", \"vous\", \"et\", \"pupil\", \"laugh\", \"step\", \"old\", \"go\", \"house\", \"take\", \"night\", \"find\", \"certain\", \"like\", \"feel\", \"evening\", \"walk\", \"door\", \"eye\", \"heart\", \"John\", \"long\", \"speak\", \"give\", \"leave\", \"heath\", \"ridge\", \"turf\", \"lull\", \"roar\", \"Silas\", \"blast\", \"bee\", \"forsake\", \"moor\", \"bark\", \"perish\", \"conflict\", \"crib\", \"mountain\", \"Pere\", \"west\", \"recognition\", \"sunrise\", \"cling\", \"porter\", \"miracle\", \"frantic\", \"appoint\", \"priest\", \"stress\", \"rent\", \"disturbed\", \"obedience\", \"resistance\", \"sob\", \"faithful\", \"God\", \"feeble\", \"Paul\", \"rush\", \"love\", \"heart\", \"sun\", \"night\", \"lip\", \"light\", \"eye\", \"John\", \"strange\", \"wild\", \"rain\", \"M.\", \"life\", \"hand\", \"Jane\", \"deep\", \"like\", \"strong\", \"feel\", \"voice\", \"pass\", \"hear\", \"speak\", \"long\", \"tell\", \"leave\", \"watch\", \"word\", \"far\", \"head\", \"rise\", \"smile\", \"take\", \"go\", \"ask\", \"sit\", \"moment\", \"Mason\", \"Bessie\", \"Leah\", \"storey\", \"Thornfield\", \"Poole\", \"stile\", \"thornfield\", \"surgeon\", \"orchard\", \"Millcote\", \"Grace\", \"Reed\", \"Rochester\", \"Pilot\", \"Gateshead\", \"tenant\", \"Hall\", \"goblin\", \"hanging\", \"nursery\", \"salt\", \"frightful\", \"elf\", \"ghastly\", \"mysterious\", \"gallery\", \"car\", \"Georgiana\", \"Lynn\", \"candle\", \"Adele\", \"moon\", \"sir\", \"Ingram\", \"Eyre\", \"Fairfax\", \"curtain\", \"bed\", \"Jane\", \"Mr.\", \"room\", \"door\", \"hear\", \"Mrs.\", \"go\", \"night\", \"yes\", \"master\", \"get\", \"leave\", \"fire\", \"run\", \"house\", \"like\", \"ask\", \"return\", \"hand\", \"long\", \"way\", \"feel\", \"away\", \"Fitzwilliam\", \"Parsonage\", \"Henri\", \"patroness\", \"widely\", \"yawn\", \"accomplished\", \"Rosings\", \"omit\", \"Bourgh\", \"Hurst\", \"dish\", \"Catherine\", \"partner\", \"Eliza\", \"assent\", \"condescension\", \"rite\", \"Oliver\", \"baffle\", \"uncommon\", \"counting\", \"uncommonly\", \"instruction\", \"impertinent\", \"gratified\", \"judgement\", \"conscientious\", \"dissuade\", \"Mdlle\", \"William\", \"ladyship\", \"Maria\", \"dance\", \"Hunsden\", \"Crimsworth\", \"Collins\", \"clerk\", \"Lady\", \"Darcy\", \"sentiment\", \"Mr.\", \"cousin\", \"Georgiana\", \"book\", \"Bingley\", \"conversation\", \"lady\", \"young\", \"Charlotte\", \"scarcely\", \"pleasure\", \"turn\", \"mean\", \"man\", \"Miss\", \"smile\", \"like\", \"give\", \"speak\", \"ask\", \"room\", \"Elizabeth\", \"find\", \"soon\", \"evening\", \"house\", \"hear\", \"sister\", \"word\", \"violet\", \"godmother\", \"slope\", \"invest\", \"hundred\", \"background\", \"antique\", \"audience\", \"Labassecour\", \"science\", \"miniature\", \"god\", \"spacious\", \"calamity\", \"Zelie\", \"vacation\", \"shell\", \"splendour\", \"aloof\", \"mirror\", \"costly\", \"chateau\", \"oak\", \"flock\", \"avenue\", \"satin\", \"bead\", \"Lane\", \"cushion\", \"Englishwoman\", \"tint\", \"examination\", \"stage\", \"crimson\", \"Monsieur\", \"ornament\", \"shadow\", \"blue\", \"Paul\", \"Bretton\", \"flower\", \"sea\", \"M.\", \"picture\", \"Villette\", \"wide\", \"like\", \"Dr.\", \"Fossette\", \"Emanuel\", \"dark\", \"soft\", \"tree\", \"large\", \"eye\", \"white\", \"de\", \"green\", \"pale\", \"old\", \"light\", \"long\", \"vous\", \"high\", \"remember\", \"man\", \"go\", \"stand\", \"room\", \"young\", \"half\", \"rise\", \"feel\", \"head\", \"speak\", \"night\", \"turn\", \"thing\", \"Polly\", \"Home\", \"Papa\", \"Graham\", \"Paulina\", \"Count\", \"Bretton\", \"papa\", \"Bassompierre\", \"Snowe\", \"Scotch\", \"coax\", \"pet\", \"suitor\", \"mamma\", \"lisp\", \"Dr.\", \"Cholmondeley\", \"observant\", \"sugar\", \"sleeve\", \"naughty\", \"foible\", \"repulse\", \"Lucy\", \"whilst\", \"aged\", \"taper\", \"response\", \"Fanshawe\", \"Ginevra\", \"godmother\", \"boy\", \"son\", \"de\", \"father\", \"like\", \"child\", \"old\", \"lift\", \"Mrs.\", \"speak\", \"eye\", \"tell\", \"John\", \"Miss\", \"talk\", \"manner\", \"hand\", \"smile\", \"take\", \"mother\", \"go\", \"thy\", \"thou\", \"garret\", \"refectory\", \"carre\", \"mournful\", \"kinsman\", \"Ville\", \"eternal\", \"dormitory\", \"seal\", \"wanderer\", \"consume\", \"troop\", \"manger\", \"phantom\", \"harshly\", \"decay\", \"nun\", \"aperture\", \"glare\", \"saying\", \"pant\", \"stove\", \"hole\", \"rite\", \"ivy\", \"sovereign\", \"mechanically\", \"float\", \"ghost\", \"dream\", \"mystery\", \"glory\", \"despair\", \"veil\", \"moon\", \"haunt\", \"park\", \"night\", \"sir\", \"impulse\", \"letter\", \"classe\", \"God\", \"deep\", \"weep\", \"break\", \"Madame\", \"drink\", \"hand\", \"strange\", \"life\", \"like\", \"Beck\", \"light\", \"tree\", \"eye\", \"feel\", \"long\", \"read\", \"sound\", \"go\", \"tell\", \"shall\", \"Jane\", \"word\", \"take\", \"leave\", \"heart\", \"find\", \"face\", \"stand\", \"door\", \"open\", \"hear\", \"moment\", \"India\", \"mate\", \"intellectual\", \"mademoiselle\", \"external\", \"affable\", \"resident\", \"belgian\", \"grammar\", \"mend\", \"Henri\", \"Adele\", \"gentlemanlike\", \"benevolent\", \"invest\", \"stubborn\", \"disown\", \"destitute\", \"y\", \"ire\", \"economy\", \"solicitous\", \"France\", \"wealthy\", \"closer\", \"Lane\", \"forsake\", \"bush\", \"plenty\", \"combine\", \"English\", \"Lowood\", \"defect\", \"kill\", \"sir\", \"St.\", \"lace\", \"dismiss\", \"marry\", \"Mdlle\", \"teach\", \"Rochester\", \"monsieur\", \"school\", \"yes\", \"year\", \"pupil\", \"hate\", \"love\", \"english\", \"wish\", \"John\", \"find\", \"wife\", \"man\", \"case\", \"leave\", \"Jane\", \"speak\", \"Mr.\", \"live\", \"answer\", \"tell\", \"like\", \"long\", \"mean\", \"ask\", \"word\", \"go\", \"Mrs.\", \"give\", \"Ferrars\", \"Harley\", \"Edward\", \"Steele\", \"Fanny\", \"hysteric\", \"Morton\", \"Lucy\", \"personally\", \"spirited\", \"monstrous\", \"snug\", \"submission\", \"shyness\", \"picturesque\", \"enforce\", \"continuance\", \"severely\", \"flattering\", \"greatness\", \"Street\", \"alarming\", \"magnificent\", \"Anne\", \"detest\", \"liberality\", \"Doctor\", \"Robert\", \"speedy\", \"retort\", \"Elinor\", \"Norland\", \"engagement\", \"Marianne\", \"Dashwood\", \"offend\", \"Jennings\", \"end\", \"thousand\", \"Mrs.\", \"sister\", \"sure\", \"poor\", \"thing\", \"mother\", \"reply\", \"cry\", \"year\", \"feel\", \"great\", \"directly\", \"dare\", \"Miss\", \"brother\", \"heart\", \"wish\", \"like\", \"take\", \"go\", \"shall\", \"tell\", \"soon\", \"Martin\", \"refusal\", \"loudly\", \"Robert\", \"sickly\", \"animated\", \"Phillips\", \"Perry\", \"joyful\", \"alarming\", \"contemplation\", \"qualified\", \"Goddard\", \"stain\", \"tiresome\", \"apprehend\", \"displeasure\", \"flattering\", \"matrimony\", \"tempered\", \"alacrity\", \"simpleton\", \"provision\", \"voluntary\", \"disapprobation\", \"accidentally\", \"altar\", \"foolish\", \"Abbey\", \"mortified\", \"degradation\", \"sir\", \"sea\", \"ceremony\", \"Mr.\", \"Knightley\", \"Harriet\", \"refuse\", \"Collins\", \"Elton\", \"Emma\", \"pound\", \"man\", \"match\", \"respectable\", \"marriage\", \"dear\", \"general\", \"offer\", \"sense\", \"daughter\", \"tell\", \"friend\", \"well\", \"speak\", \"young\", \"girl\", \"long\", \"hope\", \"leave\", \"Mrs.\", \"woman\", \"great\", \"thing\", \"feel\", \"return\", \"believe\", \"hand\", \"interpret\", \"estimate\", \"infer\", \"raillery\", \"aloof\", \"recognition\", \"assent\", \"blossom\", \"refinement\", \"Englishwoman\", \"amie\", \"drinking\", \"poignant\", \"tete\", \"unkindness\", \"unhappiness\", \"temperament\", \"crack\", \"devise\", \"plus\", \"officious\", \"mode\", \"saloon\", \"actual\", \"god\", \"solicitous\", \"patroness\", \"nineteen\", \"magic\", \"joyful\", \"inexorable\", \"noisy\", \"manly\", \"except\", \"homage\", \"station\", \"Lucy\", \"reality\", \"blame\", \"Henri\", \"excellent\", \"Edward\", \"stupid\", \"smile\", \"John\", \"room\", \"speak\", \"soon\", \"Mrs.\", \"mother\", \"Mr.\", \"Elinor\", \"feel\", \"eye\", \"give\", \"man\", \"wish\", \"Miss\", \"long\", \"yes\", \"place\", \"hear\", \"thing\", \"go\", \"like\", \"leave\", \"take\", \"friend\", \"heart\"], \"Total\": [2747.0, 646.0, 806.0, 1961.0, 536.0, 671.0, 479.0, 1578.0, 296.0, 400.0, 956.0, 359.0, 354.0, 365.0, 764.0, 403.0, 1062.0, 423.0, 1502.0, 231.0, 1059.0, 419.0, 1018.0, 1011.0, 1045.0, 241.0, 337.0, 1209.0, 878.0, 1022.0, 26.79986572265625, 66.54085540771484, 63.625465393066406, 23.798803329467773, 56.357540130615234, 15.825750350952148, 23.75164222717285, 25.803585052490234, 11.867971420288086, 15.824695587158203, 11.862279891967773, 12.86515998840332, 10.86308479309082, 22.764883041381836, 10.867042541503906, 11.867416381835938, 18.8319091796875, 12.824305534362793, 11.840209007263184, 11.84069538116455, 67.58261108398438, 41.50432586669922, 20.73651123046875, 64.21565246582031, 15.818926811218262, 21.72981071472168, 39.44224166870117, 15.854453086853027, 10.805577278137207, 14.744062423706055, 16.85124969482422, 74.606689453125, 54.72291564941406, 48.9592399597168, 117.71113586425781, 30.358154296875, 64.29963684082031, 37.5863151550293, 119.55428314208984, 187.97213745117188, 553.6849365234375, 75.41017150878906, 109.77021789550781, 71.28047180175781, 878.4956665039062, 1045.9849853515625, 124.15038299560547, 205.7843780517578, 61.663116455078125, 555.8779296875, 301.9333190917969, 631.8207397460938, 1578.014404296875, 273.412841796875, 251.25552368164062, 401.63922119140625, 364.6985168457031, 736.118408203125, 261.9676818847656, 186.0765380859375, 696.93115234375, 476.7117004394531, 510.6527099609375, 252.76063537597656, 952.3778686523438, 966.0634765625, 1022.6834716796875, 665.0577392578125, 361.37237548828125, 1056.0908203125, 697.6802978515625, 1209.754638671875, 420.05816650390625, 442.52313232421875, 624.919921875, 726.79541015625, 1261.360595703125, 605.4584350585938, 630.697021484375, 657.9529418945312, 992.6940307617188, 1146.259033203125, 1011.4848022460938, 1018.0828247070312, 1062.596435546875, 671.8948364257812, 920.3645629882812, 1502.564208984375, 2747.50537109375, 902.3629760742188, 419.5777282714844, 210.7484893798828, 60.17375183105469, 82.38943481445312, 155.0030517578125, 292.4073486328125, 142.3155975341797, 50.46046447753906, 35.8896369934082, 41.72849655151367, 31.031330108642578, 806.9940185546875, 117.00837707519531, 25.205007553100586, 26.17083168029785, 48.49836349487305, 365.6076965332031, 21.319337844848633, 18.405269622802734, 16.460464477539062, 18.403165817260742, 354.01910400390625, 479.6910705566406, 63.55546951293945, 208.68060302734375, 44.300052642822266, 33.90605163574219, 34.57404327392578, 29.703550338745117, 22.32418441772461, 29.660673141479492, 55.990726470947266, 73.66993713378906, 274.86614990234375, 369.2416076660156, 2747.50537109375, 1502.564208984375, 1059.0567626953125, 1961.1302490234375, 99.99283599853516, 89.77925109863281, 629.4318237304688, 956.9420776367188, 1008.1282958984375, 513.8372192382812, 734.2008666992188, 664.6775512695312, 616.8909301757812, 902.3629760742188, 529.685302734375, 704.5429077148438, 1062.596435546875, 1146.259033203125, 1261.360595703125, 928.9673461914062, 1209.754638671875, 973.726318359375, 1578.014404296875, 1018.0828247070312, 203.63217163085938, 136.69021606445312, 24.82361602783203, 31.51103401184082, 34.36601257324219, 23.86542510986328, 72.52437591552734, 18.130027770996094, 98.312255859375, 16.211999893188477, 23.84613800048828, 219.5333709716797, 85.86341094970703, 237.52761840820312, 19.056413650512695, 536.819580078125, 28.58868980407715, 646.87548828125, 15.211687088012695, 17.132457733154297, 17.12640380859375, 51.41123962402344, 10.458967208862305, 12.506989479064941, 79.29173278808594, 16.18889045715332, 10.572294235229492, 13.537068367004395, 23.733726501464844, 291.14739990234375, 190.96493530273438, 30.8313045501709, 39.415225982666016, 764.0968627929688, 657.3018798828125, 140.37979125976562, 1961.1302490234375, 250.2686004638672, 235.8494110107422, 296.0959167480469, 299.3153991699219, 1008.1282958984375, 291.60015869140625, 612.662841796875, 928.9673461914062, 973.726318359375, 776.4771728515625, 1209.754638671875, 1056.0908203125, 920.3645629882812, 653.5762939453125, 1011.4848022460938, 704.5429077148438, 1502.564208984375, 1059.0567626953125, 1146.259033203125, 992.6940307617188, 1062.596435546875, 2747.50537109375, 1018.0828247070312, 1261.360595703125, 1022.6834716796875, 734.2008666992188, 102.2145004272461, 179.8384246826172, 78.85345458984375, 93.3235092163086, 41.936405181884766, 26.208101272583008, 337.3305358886719, 26.173749923706055, 99.61204528808594, 15.64204216003418, 60.542545318603516, 203.35508728027344, 76.99278259277344, 671.244140625, 26.96217918395996, 14.528218269348145, 316.4781799316406, 43.4465217590332, 72.94041442871094, 15.527546882629395, 27.90250587463379, 55.746707916259766, 48.3912239074707, 32.12451934814453, 423.35809326171875, 180.3782196044922, 27.524946212768555, 24.568199157714844, 16.438331604003906, 19.09202003479004, 129.23367309570312, 111.00698852539062, 178.29212951660156, 172.54689025878906, 956.9420776367188, 2747.50537109375, 764.0968627929688, 380.5627136230469, 411.0849304199219, 629.4318237304688, 1961.1302490234375, 513.8372192382812, 1502.564208984375, 928.9673461914062, 657.3018798828125, 704.5429077148438, 553.174560546875, 1261.360595703125, 902.3629760742188, 1062.596435546875, 744.406494140625, 973.726318359375, 1008.1282958984375, 1146.259033203125, 734.2008666992188, 1011.4848022460938, 1056.0908203125, 28.963205337524414, 12.938728332519531, 108.36983489990234, 27.905059814453125, 19.810121536254883, 79.05703735351562, 30.726917266845703, 16.722766876220703, 21.881380081176758, 15.766840934753418, 11.864520072937012, 11.939008712768555, 28.783262252807617, 12.788544654846191, 47.43296813964844, 116.68931579589844, 37.814334869384766, 17.901165008544922, 22.711488723754883, 15.95246410369873, 11.837382316589355, 18.822452545166016, 16.692628860473633, 30.57538604736328, 54.55794143676758, 145.36729431152344, 19.857412338256836, 11.856466293334961, 19.695083618164062, 13.620084762573242, 33.66046142578125, 403.7419128417969, 112.7379150390625, 41.571868896484375, 37.13483428955078, 111.64012908935547, 34.51418685913086, 156.2218475341797, 297.4448547363281, 85.56005096435547, 366.8583068847656, 110.357177734375, 114.5320053100586, 186.74745178222656, 52.521060943603516, 73.0678939819336, 229.75814819335938, 110.03414154052734, 84.88972473144531, 251.25552368164062, 303.4610900878906, 296.5632019042969, 504.4330749511719, 1261.360595703125, 776.4771728515625, 952.3778686523438, 657.9529418945312, 992.6940307617188, 343.7057800292969, 1578.014404296875, 1209.754638671875, 508.1856689453125, 584.128173828125, 631.8207397460938, 1045.9849853515625, 671.8948364257812, 612.662841796875, 1022.6834716796875, 1018.0828247070312, 920.3645629882812, 1056.0908203125, 18.80971336364746, 11.769770622253418, 19.5935001373291, 14.943172454833984, 11.498807907104492, 38.105247497558594, 14.995248794555664, 17.771554946899414, 13.469449996948242, 21.102031707763672, 18.39281463623047, 17.8476505279541, 21.89360237121582, 16.79708480834961, 29.223268508911133, 39.058773040771484, 23.52381706237793, 11.820647239685059, 12.791232109069824, 28.625410079956055, 12.883395195007324, 11.730487823486328, 15.136638641357422, 15.710882186889648, 42.83974838256836, 12.894920349121094, 13.710525512695312, 11.783610343933105, 10.779226303100586, 16.596887588500977, 31.670536041259766, 41.27075958251953, 214.11961364746094, 35.469642639160156, 177.8743896484375, 84.5251693725586, 748.93798828125, 671.8948364257812, 109.04607391357422, 657.9529418945312, 232.00283813476562, 420.05816650390625, 1045.9849853515625, 612.662841796875, 271.2759704589844, 133.0625, 118.1686019897461, 366.8583068847656, 605.4584350585938, 878.4956665039062, 956.9420776367188, 218.95242309570312, 1578.014404296875, 291.248046875, 1209.754638671875, 415.58514404296875, 630.697021484375, 1146.259033203125, 1018.0828247070312, 1022.6834716796875, 1011.4848022460938, 1056.0908203125, 273.8033447265625, 726.79541015625, 467.02685546875, 442.52313232421875, 401.63922119140625, 518.1095581054688, 952.3778686523438, 1261.360595703125, 697.6802978515625, 736.118408203125, 640.2686767578125, 70.3056640625, 151.24847412109375, 31.770883560180664, 21.504085540771484, 96.69235229492188, 37.10784149169922, 18.787616729736328, 16.71367835998535, 17.664125442504883, 19.767719268798828, 32.81816482543945, 31.83573341369629, 140.0939178466797, 400.6922912597656, 18.124120712280273, 47.95595932006836, 17.20417594909668, 70.03070831298828, 11.654358863830566, 13.83843994140625, 49.19794464111328, 15.813671112060547, 13.672451972961426, 13.760952949523926, 12.60354995727539, 11.646357536315918, 47.643096923828125, 12.709651947021484, 63.18381118774414, 22.160634994506836, 88.6832504272461, 141.5313720703125, 80.4990234375, 403.0656433105469, 95.17127227783203, 103.85597229003906, 369.2416076660156, 83.14642333984375, 268.8655700683594, 956.9420776367188, 2747.50537109375, 966.0634765625, 631.8207397460938, 1146.259033203125, 1961.1302490234375, 1261.360595703125, 657.9529418945312, 586.4722900390625, 222.03768920898438, 385.77410888671875, 1056.0908203125, 273.412841796875, 264.9773254394531, 776.4771728515625, 1578.014404296875, 697.6802978515625, 586.7537231445312, 878.4956665039062, 1022.6834716796875, 732.9782104492188, 1209.754638671875, 687.63623046875, 34.450191497802734, 13.95281982421875, 49.90043258666992, 10.176259994506836, 12.20427417755127, 14.27342414855957, 18.8309326171875, 42.953330993652344, 11.337987899780273, 39.433109283447266, 36.4124755859375, 17.20152473449707, 129.23367309570312, 43.48503494262695, 59.79082489013672, 21.605918884277344, 12.59660530090332, 10.230362892150879, 29.891756057739258, 22.55632972717285, 11.263092041015625, 15.41981315612793, 15.055139541625977, 23.914066314697266, 17.96698760986328, 21.921281814575195, 11.883367538452148, 12.448127746582031, 12.276641845703125, 110.357177734375, 84.8844223022461, 53.38996124267578, 24.818063735961914, 165.7015380859375, 145.36729431152344, 98.25126647949219, 180.3782196044922, 26.993070602416992, 250.2686004638672, 423.35809326171875, 115.289306640625, 2747.50537109375, 136.61363220214844, 63.18381118774414, 288.5378723144531, 316.4781799316406, 221.33497619628906, 633.2711791992188, 744.406494140625, 111.00698852539062, 202.19219970703125, 475.1189270019531, 696.93115234375, 568.0044555664062, 1062.596435546875, 1502.564208984375, 518.1095581054688, 1578.014404296875, 920.3645629882812, 1018.0828247070312, 697.6802978515625, 966.0634765625, 671.244140625, 992.6940307617188, 928.9673461914062, 508.1856689453125, 776.4771728515625, 1146.259033203125, 764.0968627929688, 726.79541015625, 14.402509689331055, 30.048486709594727, 13.300933837890625, 10.380582809448242, 11.56413745880127, 11.474433898925781, 14.510805130004883, 13.644450187683105, 12.551236152648926, 14.446285247802734, 20.166656494140625, 18.258108139038086, 11.811628341674805, 14.791216850280762, 17.446041107177734, 16.5050048828125, 10.641383171081543, 16.36240005493164, 14.428877830505371, 23.19389533996582, 14.491267204284668, 11.664891242980957, 22.556760787963867, 11.483269691467285, 21.42349624633789, 32.536705017089844, 13.073850631713867, 15.982701301574707, 19.98458480834961, 10.543514251708984, 33.35472106933594, 39.358612060546875, 20.424482345581055, 36.425533294677734, 162.12364196777344, 41.66496276855469, 70.2989273071289, 116.99214172363281, 177.8743896484375, 241.77694702148438, 122.95536041259766, 72.50316619873047, 366.8583068847656, 180.7504425048828, 48.71791076660156, 79.81069946289062, 1578.014404296875, 229.75814819335938, 47.8032112121582, 107.66956329345703, 243.52957153320312, 119.34882354736328, 167.7726593017578, 310.1172180175781, 1045.9849853515625, 239.75099182128906, 297.4448547363281, 102.7676010131836, 151.35133361816406, 504.4330749511719, 420.05816650390625, 1022.6834716796875, 110.03414154052734, 277.022216796875, 308.14337158203125, 1062.596435546875, 1261.360595703125, 555.8779296875, 966.0634765625, 744.406494140625, 591.0431518554688, 401.63922119140625, 1209.754638671875, 442.52313232421875, 1018.0828247070312, 657.9529418945312, 696.93115234375, 1059.0567626953125, 81.97621154785156, 43.70158386230469, 35.66150665283203, 231.75469970703125, 83.45977783203125, 19.329519271850586, 241.77694702148438, 141.1425018310547, 74.54129791259766, 60.430503845214844, 16.05415153503418, 10.873424530029297, 12.720386505126953, 15.026410102844238, 45.21368408203125, 17.064895629882812, 229.75814819335938, 24.170394897460938, 12.760383605957031, 14.02597713470459, 13.083091735839844, 14.308476448059082, 10.93776798248291, 23.908649444580078, 359.9277038574219, 16.137624740600586, 12.098771095275879, 10.972591400146484, 13.836065292358398, 85.56005096435547, 111.64012908935547, 30.048486709594727, 111.78643035888672, 199.21365356445312, 297.4448547363281, 513.8372192382812, 1578.014404296875, 509.58489990234375, 504.4330749511719, 126.43878936767578, 1961.1302490234375, 1018.0828247070312, 1045.9849853515625, 1011.4848022460938, 612.662841796875, 1502.564208984375, 628.7686767578125, 507.20672607421875, 878.4956665039062, 518.1095581054688, 952.3778686523438, 657.3018798828125, 1261.360595703125, 21.854406356811523, 14.338811874389648, 23.062850952148438, 19.234045028686523, 24.166038513183594, 11.492610931396484, 11.431839942932129, 10.634490013122559, 13.353103637695312, 38.9528923034668, 43.679195404052734, 10.887190818786621, 11.466933250427246, 12.40498161315918, 13.620084762573242, 10.755914688110352, 10.43743896484375, 10.53933334350586, 42.78907012939453, 13.882402420043945, 18.172664642333984, 11.359274864196777, 14.548748970031738, 24.315067291259766, 11.674612998962402, 10.230362892150879, 14.563054084777832, 13.46718692779541, 11.76158332824707, 15.41738510131836, 32.85232925415039, 128.71856689453125, 42.711124420166016, 32.02842712402344, 45.945343017578125, 50.75965118408203, 80.4990234375, 36.730873107910156, 87.6170654296875, 657.9529418945312, 403.0656433105469, 50.132530212402344, 553.174560546875, 62.71807861328125, 214.11961364746094, 218.95242309570312, 44.00926971435547, 246.97549438476562, 403.7419128417969, 63.403236389160156, 878.4956665039062, 271.2759704589844, 605.4584350585938, 1578.014404296875, 156.2218475341797, 420.05816650390625, 167.7726593017578, 1045.9849853515625, 1209.754638671875, 1022.6834716796875, 382.5184631347656, 222.0375518798828, 1261.360595703125, 1011.4848022460938, 902.3629760742188, 956.9420776367188, 726.79541015625, 952.3778686523438, 1056.0908203125, 671.8948364257812, 992.6940307617188, 553.6849365234375, 555.8779296875, 631.8207397460938, 510.6527099609375, 1146.259033203125, 640.2686767578125, 20.136375427246094, 10.478795051574707, 13.294320106506348, 45.61381530761719, 11.327554702758789, 13.917557716369629, 12.74398422241211, 15.418402671813965, 17.25397300720215, 20.124217987060547, 49.90043258666992, 141.5313720703125, 21.23979949951172, 15.365472793579102, 10.380582809448242, 10.327213287353516, 14.492607116699219, 10.563371658325195, 12.61049747467041, 11.527555465698242, 17.561622619628906, 14.524337768554688, 11.538053512573242, 19.16046905517578, 10.685688018798828, 15.982701301574707, 13.469449996948242, 14.787856101989746, 20.19770050048828, 15.708761215209961, 114.5320053100586, 54.72291564941406, 31.591506958007812, 30.553150177001953, 403.0656433105469, 187.97213745117188, 55.321266174316406, 38.980281829833984, 398.65863037109375, 110.357177734375, 111.46080780029297, 400.6922912597656, 112.7379150390625, 252.76063537597656, 586.4722900390625, 497.6878967285156, 251.25552368164062, 108.21063232421875, 748.93798828125, 111.36917114257812, 973.726318359375, 612.662841796875, 992.6940307617188, 283.6095275878906, 1062.596435546875, 223.2032470703125, 1056.0908203125, 956.9420776367188, 1018.0828247070312, 2747.50537109375, 465.1543884277344, 615.627197265625, 1011.4848022460938, 1578.014404296875, 1022.6834716796875, 568.0044555664062, 697.6802978515625, 726.79541015625, 1261.360595703125, 1961.1302490234375, 920.3645629882812, 116.07073974609375, 16.022415161132812, 296.0959167480469, 35.971107482910156, 45.46995162963867, 11.46857738494873, 41.199954986572266, 359.9277038574219, 13.619994163513184, 19.150169372558594, 15.293451309204102, 12.548482894897461, 20.547138214111328, 13.462223052978516, 21.25720977783203, 13.607560157775879, 14.175769805908203, 12.512676239013672, 20.920066833496094, 15.377872467041016, 54.05178451538086, 10.494739532470703, 13.68089485168457, 13.161664009094238, 13.715682029724121, 13.57204532623291, 16.53047752380371, 65.64850616455078, 11.444348335266113, 11.758170127868652, 646.87548828125, 51.41123962402344, 147.83535766601562, 536.819580078125, 237.52761840820312, 50.94473648071289, 219.5333709716797, 262.9693603515625, 155.2493438720703, 1961.1302490234375, 764.0968627929688, 616.8909301757812, 369.4658508300781, 1059.0567626953125, 657.3018798828125, 477.8846740722656, 452.91314697265625, 497.6878967285156, 1209.754638671875, 1008.1282958984375, 142.3520050048828, 287.7596130371094, 1502.564208984375, 305.2914733886719, 671.8948364257812, 973.726318359375, 1578.014404296875, 952.3778686523438, 1261.360595703125, 902.3629760742188, 1011.4848022460938, 928.9673461914062, 77.50370025634766, 16.769412994384766, 12.183679580688477, 65.64850616455078, 15.827329635620117, 10.38375473022461, 32.12451934814453, 73.66993713378906, 10.390545845031738, 10.494739532470703, 13.267650604248047, 12.96508502960205, 55.990726470947266, 13.509847640991211, 13.840259552001953, 13.443981170654297, 24.123519897460938, 20.920066833496094, 23.926753997802734, 20.39375877380371, 14.354042053222656, 13.79942798614502, 15.142206192016602, 21.66358184814453, 13.607340812683105, 12.274246215820312, 15.598233222961426, 25.906126022338867, 29.54092788696289, 13.367745399475098, 17.242136001586914, 403.0656433105469, 72.50316619873047, 47.71393966674805, 2747.50537109375, 354.01910400390625, 479.6910705566406, 98.48858642578125, 180.3782196044922, 365.6076965332031, 806.9940185546875, 103.50813293457031, 1062.596435546875, 106.47037506103516, 70.01045227050781, 186.24847412109375, 629.4318237304688, 234.7861328125, 265.2988586425781, 303.3521423339844, 380.5627136230469, 1011.4848022460938, 734.2008666992188, 433.4078674316406, 1018.0828247070312, 744.406494140625, 476.7117004394531, 1022.6834716796875, 704.5429077148438, 1056.0908203125, 1961.1302490234375, 606.5986938476562, 1008.1282958984375, 1059.0567626953125, 1209.754638671875, 586.7537231445312, 653.5762939453125, 878.4956665039062, 10.611414909362793, 17.106218338012695, 12.745515823364258, 15.448671340942383, 14.428877830505371, 11.820647239685059, 21.605918884277344, 13.889671325683594, 16.558143615722656, 10.543514251708984, 10.769792556762695, 10.643038749694824, 10.78035831451416, 30.40830421447754, 10.506778717041016, 10.572294235229492, 11.729978561401367, 10.6808500289917, 11.62385082244873, 12.776201248168945, 11.608036041259766, 19.190229415893555, 12.594718933105469, 19.587278366088867, 18.258108139038086, 14.524337768554688, 10.176259994506836, 12.510065078735352, 11.631108283996582, 10.390545845031738, 10.86308479309082, 19.256977081298828, 14.803465843200684, 26.270681381225586, 21.26730728149414, 45.32456588745117, 359.9277038574219, 33.02012634277344, 63.03139114379883, 49.90043258666992, 101.02156829833984, 296.0959167480469, 36.83134841918945, 518.1095581054688, 612.662841796875, 966.0634765625, 1018.0828247070312, 928.9673461914062, 1961.1302490234375, 657.3018798828125, 2747.50537109375, 646.87548828125, 1209.754638671875, 1045.9849853515625, 920.3645629882812, 1062.596435546875, 973.726318359375, 1502.564208984375, 1022.6834716796875, 586.4722900390625, 665.0577392578125, 1146.259033203125, 1059.0567626953125, 1261.360595703125, 1578.014404296875, 1056.0908203125, 952.3778686523438, 734.2008666992188, 671.8948364257812], \"loglift\": [30.0, 29.0, 28.0, 27.0, 26.0, 25.0, 24.0, 23.0, 22.0, 21.0, 20.0, 19.0, 18.0, 17.0, 16.0, 15.0, 14.0, 13.0, 12.0, 11.0, 10.0, 9.0, 8.0, 7.0, 6.0, 5.0, 4.0, 3.0, 2.0, 1.0, 1.3034000396728516, 1.3029999732971191, 1.3016999959945679, 1.285099983215332, 1.2705999612808228, 1.2616000175476074, 1.2599999904632568, 1.2568999528884888, 1.2522000074386597, 1.2518999576568604, 1.2515000104904175, 1.2506999969482422, 1.2472000122070312, 1.2458000183105469, 1.2453999519348145, 1.236299991607666, 1.228600025177002, 1.2222000360488892, 1.2099000215530396, 1.208799958229065, 1.208299994468689, 1.207200050354004, 1.2065999507904053, 1.1983000040054321, 1.197700023651123, 1.1883000135421753, 1.1871999502182007, 1.1851999759674072, 1.1841000318527222, 1.1812000274658203, 1.1776000261306763, 1.1258000135421753, 1.1376999616622925, 1.12090003490448, 1.0351999998092651, 1.1398999691009521, 1.0583000183105469, 1.1096999645233154, 0.980400025844574, 0.9211999773979187, 0.7792999744415283, 1.0151000022888184, 0.9627000093460083, 1.0006999969482422, 0.602400004863739, 0.5547999739646912, 0.90420001745224, 0.8120999932289124, 1.0199999809265137, 0.6152999997138977, 0.7182000279426575, 0.5609999895095825, 0.3718000054359436, 0.7050999999046326, 0.6984999775886536, 0.5647000074386597, 0.5841000080108643, 0.39430001378059387, 0.6650000214576721, 0.7580999732017517, 0.3555999994277954, 0.4657000005245209, 0.44040000438690186, 0.6556000113487244, 0.22349999845027924, 0.20960000157356262, 0.13809999823570251, 0.28630000352859497, 0.5078999996185303, 0.07100000232458115, 0.23160000145435333, -0.006200000178068876, 0.4415999948978424, 0.4000000059604645, 0.23100000619888306, 0.15649999678134918, -0.1793999969959259, 0.21279999613761902, 0.1868000030517578, 0.16169999539852142, -0.0812000036239624, -0.1914999932050705, -0.11999999731779099, -0.12860000133514404, -0.21930000185966492, 0.1234000027179718, -0.12540000677108765, -0.5178999900817871, -1.1340999603271484, -0.16050000488758087, 1.7486000061035156, 1.7482000589370728, 1.7375999689102173, 1.7340999841690063, 1.733199954032898, 1.7316999435424805, 1.7295000553131104, 1.7294000387191772, 1.7279000282287598, 1.7275999784469604, 1.7249000072479248, 1.7226999998092651, 1.7196999788284302, 1.7172000408172607, 1.7166999578475952, 1.7141000032424927, 1.7120000123977661, 1.711300015449524, 1.700700044631958, 1.6995999813079834, 1.6967999935150146, 1.695199966430664, 1.692199945449829, 1.6919000148773193, 1.6907000541687012, 1.6885000467300415, 1.6845999956130981, 1.667199969291687, 1.6505000591278076, 1.646299958229065, 1.6412999629974365, 1.5959999561309814, 1.5715999603271484, 1.3770999908447266, 1.3000999689102173, 0.8119999766349792, 0.8399999737739563, 0.9107999801635742, 0.718999981880188, 1.3978999853134155, 1.4113999605178833, 0.7932999730110168, 0.6334999799728394, 0.5791000127792358, 0.8087999820709229, 0.6222000122070312, 0.6004999876022339, 0.6154999732971191, 0.3847000002861023, 0.629800021648407, 0.47769999504089355, 0.2498999983072281, 0.20090000331401825, 0.12489999830722809, 0.3018999993801117, 0.11339999735355377, 0.2459000051021576, -0.13339999318122864, 0.1639000028371811, 1.8659000396728516, 1.8658000230789185, 1.8414000272750854, 1.8393000364303589, 1.8349000215530396, 1.8345999717712402, 1.8345999717712402, 1.8253999948501587, 1.8187999725341797, 1.812399983406067, 1.7977999448776245, 1.792099952697754, 1.7848999500274658, 1.7625999450683594, 1.7539000511169434, 1.7511999607086182, 1.7472000122070312, 1.7100000381469727, 1.7000000476837158, 1.6994999647140503, 1.6983000040054321, 1.6934000253677368, 1.6780999898910522, 1.6713000535964966, 1.617799997329712, 1.6145000457763672, 1.5779000520706177, 1.5501999855041504, 1.5355000495910645, 1.5259000062942505, 1.4119000434875488, 1.5089999437332153, 1.4889999628067017, 1.2003999948501587, 0.9549999833106995, 1.2079999446868896, 0.5888000130653381, 0.9965000152587891, 0.9524000287055969, 0.871399998664856, 0.8389000296592712, 0.43709999322891235, 0.8463000059127808, 0.5813000202178955, 0.3882000148296356, 0.3693000078201294, 0.44440001249313354, 0.210999995470047, 0.25290000438690186, 0.27959999442100525, 0.42320001125335693, 0.18979999423027039, 0.36890000104904175, -0.04879999905824661, 0.121799997985363, 0.07090000063180923, 0.14249999821186066, 0.06719999760389328, -0.5515000224113464, 0.027499999850988388, -0.2020999938249588, -0.0471000000834465, 0.2184000015258789, 2.2888998985290527, 2.2888998985290527, 2.287400007247925, 2.2820000648498535, 2.2720000743865967, 2.2695999145507812, 2.2688000202178955, 2.261399984359741, 2.2597999572753906, 2.2383999824523926, 2.2346999645233154, 2.2197999954223633, 2.2060000896453857, 2.203200101852417, 2.1823999881744385, 2.1691999435424805, 2.1668999195098877, 2.158099889755249, 2.1298999786376953, 2.1198999881744385, 2.115499973297119, 2.102400064468384, 2.0917000770568848, 2.081899881362915, 1.9948999881744385, 1.9496999979019165, 1.9287999868392944, 1.8660000562667847, 1.8365000486373901, 1.832800030708313, 1.8001999855041504, 1.7386000156402588, 1.582200050354004, 1.5853999853134155, 1.19350004196167, 0.771399974822998, 1.0997999906539917, 1.2163000106811523, 1.1211999654769897, 0.9320999979972839, 0.3946000039577484, 0.9380999803543091, 0.38339999318122864, 0.6031000018119812, 0.7342000007629395, 0.6879000067710876, 0.7932000160217285, 0.28380000591278076, 0.46380001306533813, 0.2678999900817871, 0.4961000084877014, 0.2915000021457672, 0.25619998574256897, 0.13040000200271606, 0.4896000027656555, 0.11410000175237656, 0.05339999869465828, 2.5234999656677246, 2.4830000400543213, 2.4804999828338623, 2.3791000843048096, 2.366300106048584, 2.339200019836426, 2.303299903869629, 2.2929999828338623, 2.289299964904785, 2.289299964904785, 2.274399995803833, 2.268199920654297, 2.2537999153137207, 2.251699924468994, 2.236599922180176, 2.23580002784729, 2.217600107192993, 2.1979000568389893, 2.174499988555908, 2.168600082397461, 2.163800001144409, 2.1589999198913574, 2.158600091934204, 2.1494998931884766, 2.147700071334839, 2.1473000049591064, 2.1089000701904297, 2.098099946975708, 2.0840001106262207, 2.0725998878479004, 2.0701000690460205, 2.0116000175476074, 2.015500068664551, 2.0411999225616455, 2.048099994659424, 1.88510000705719, 2.0560998916625977, 1.7604000568389893, 1.6145999431610107, 1.8317999839782715, 1.4717999696731567, 1.7422000169754028, 1.684000015258789, 1.517199993133545, 1.909600019454956, 1.791200041770935, 1.3590999841690063, 1.614799976348877, 1.711899995803833, 1.1556999683380127, 1.0437999963760376, 1.037600040435791, 0.7439000010490417, 0.23080000281333923, 0.4650000035762787, 0.30160000920295715, 0.5098999738693237, 0.2386000007390976, 0.8557999730110168, -0.14229999482631683, -0.0843999981880188, 0.4925999939441681, 0.3804999887943268, 0.30149999260902405, -0.09099999815225601, 0.24690000712871552, 0.30399999022483826, -0.1362999975681305, -0.16189999878406525, -0.08219999819993973, -0.22200000286102295, 2.914099931716919, 2.710400104522705, 2.58870005607605, 2.5634000301361084, 2.5529000759124756, 2.4655001163482666, 2.4558000564575195, 2.454400062561035, 2.444499969482422, 2.404099941253662, 2.362299919128418, 2.361299991607666, 2.3582000732421875, 2.3519999980926514, 2.3338000774383545, 2.31820011138916, 2.3034000396728516, 2.2939999103546143, 2.2634999752044678, 2.263200044631958, 2.2411999702453613, 2.2111001014709473, 2.2004001140594482, 2.1522998809814453, 2.143699884414673, 2.13919997215271, 2.122999906539917, 2.1229000091552734, 2.1226000785827637, 2.1150999069213867, 2.0739998817443848, 2.006200075149536, 1.7211999893188477, 1.9601999521255493, 1.5448999404907227, 1.7144999504089355, 1.1424000263214111, 1.0503000020980835, 1.5978000164031982, 1.0017000436782837, 1.3273999691009521, 0.9746000170707703, 0.5264000296592712, 0.7354000210762024, 1.1008000373840332, 1.4101999998092651, 1.4637000560760498, 0.9021000266075134, 0.6506999731063843, 0.42399999499320984, 0.35260000824928284, 1.128100037574768, 0.0763000026345253, 0.9732000231742859, 0.1931000053882599, 0.7684000134468079, 0.53329998254776, 0.18889999389648438, 0.23829999566078186, 0.23350000381469727, 0.20659999549388885, 0.17720000445842743, 0.9839000105857849, 0.33899998664855957, 0.6128000020980835, 0.6421999931335449, 0.6875, 0.4666999876499176, -0.023499999195337296, -0.2554999887943268, 0.2152000069618225, 0.1551000028848648, 0.2736999988555908, 3.152600049972534, 3.1289000511169434, 3.075500011444092, 3.069700002670288, 3.0329999923706055, 3.011699914932251, 2.9718000888824463, 2.965100049972534, 2.904599905014038, 2.9031999111175537, 2.8842999935150146, 2.85479998588562, 2.844599962234497, 2.8183999061584473, 2.803800106048584, 2.761899948120117, 2.7474000453948975, 2.621000051498413, 2.618799924850464, 2.589900016784668, 2.55679988861084, 2.5566000938415527, 2.5476999282836914, 2.523699998855591, 2.4964001178741455, 2.4853999614715576, 2.4811999797821045, 2.4642999172210693, 2.40120005607605, 2.3598999977111816, 2.22979998588562, 2.1473000049591064, 2.222599983215332, 1.985200047492981, 2.1517999172210693, 2.1166000366210938, 1.8315999507904053, 2.1342999935150146, 1.6849000453948975, 1.271299958229065, 0.7444999814033508, 1.0996999740600586, 1.1399999856948853, 0.8061000108718872, 0.5152000188827515, 0.7080000042915344, 1.0260000228881836, 1.0902999639511108, 1.6217000484466553, 1.2588000297546387, 0.46779999136924744, 1.3763999938964844, 1.3950999975204468, 0.5917999744415283, -0.018200000748038292, 0.5702999830245972, 0.6858000159263611, 0.3082999885082245, 0.17599999904632568, 0.44449999928474426, -0.022299999371170998, 0.48739999532699585, 2.82669997215271, 2.8027000427246094, 2.7390999794006348, 2.6926000118255615, 2.6412999629974365, 2.5933001041412354, 2.5346999168395996, 2.527899980545044, 2.526099920272827, 2.4993999004364014, 2.398200035095215, 2.3745999336242676, 2.3529000282287598, 2.3368000984191895, 2.3036000728607178, 2.2990000247955322, 2.2799999713897705, 2.2715001106262207, 2.2639000415802, 2.2158000469207764, 2.2095999717712402, 2.2054998874664307, 2.201200008392334, 2.1928999423980713, 2.1872000694274902, 2.17549991607666, 2.1703999042510986, 2.1659998893737793, 2.1538000106811523, 2.149399995803833, 2.1226000785827637, 2.1150999069213867, 2.134500026702881, 2.0271999835968018, 2.029900074005127, 2.003499984741211, 1.8547999858856201, 2.11680006980896, 1.6983000040054321, 1.5636999607086182, 1.7137999534606934, 0.7498999834060669, 1.6198999881744385, 1.865399956703186, 1.2480000257492065, 1.2091000080108643, 1.305999994277954, 0.8483999967575073, 0.7103000283241272, 1.5922000408172607, 1.2720999717712402, 0.8062999844551086, 0.5636000037193298, 0.6097000241279602, 0.21850000321865082, -0.012299999594688416, 0.6269999742507935, -0.12030000239610672, 0.20739999413490295, 0.11500000208616257, 0.38830000162124634, 0.14090000092983246, 0.400299996137619, 0.07970000058412552, 0.09920000284910202, 0.5972999930381775, 0.21649999916553497, -0.1256999969482422, 0.22450000047683716, 0.250900000333786, 2.8138999938964844, 2.769700050354004, 2.724900007247925, 2.639699935913086, 2.5924999713897705, 2.587399959564209, 2.562299966812134, 2.5450000762939453, 2.5306999683380127, 2.529400110244751, 2.529400110244751, 2.523200035095215, 2.518699884414673, 2.4500999450683594, 2.449899911880493, 2.4423000812530518, 2.43969988822937, 2.431299924850464, 2.4275999069213867, 2.4235999584198, 2.419800043106079, 2.418600082397461, 2.4159998893737793, 2.4049999713897705, 2.398099899291992, 2.395400047302246, 2.388400077819824, 2.3864998817443848, 2.3787999153137207, 2.371799945831299, 2.3557000160217285, 2.3366000652313232, 2.3649001121520996, 2.2664999961853027, 2.0304999351501465, 2.197000026702881, 2.0876998901367188, 1.972000002861023, 1.8315999507904053, 1.7161999940872192, 1.8703999519348145, 1.998900055885315, 1.502500057220459, 1.694200038909912, 2.102099895477295, 1.9347000122070312, 0.83160001039505, 1.5104000568389893, 2.075500011444092, 1.7509000301361084, 1.4325000047683716, 1.6897000074386597, 1.5396000146865845, 1.280400037765503, 0.7106000185012817, 1.3711999654769897, 1.236899971961975, 1.7034000158309937, 1.5055999755859375, 0.8367999792098999, 0.8971999883651733, 0.36910000443458557, 1.6167999505996704, 1.0604000091552734, 0.9790999889373779, 0.07989999651908875, -0.0551999993622303, 0.4650999903678894, -0.07000000029802322, 0.13660000264644623, 0.3156999945640564, 0.6019999980926514, -0.37439998984336853, 0.5091999769210815, -0.2549999952316284, 0.1454000025987625, 0.08030000329017639, -0.33250001072883606, 3.560699939727783, 3.4653000831604004, 3.44569993019104, 3.4435999393463135, 3.346400022506714, 3.29229998588562, 3.2604000568389893, 3.2558999061584473, 3.196700096130371, 3.1096999645233154, 3.1005001068115234, 2.8538999557495117, 2.8457999229431152, 2.7235000133514404, 2.7132999897003174, 2.625699996948242, 2.615299940109253, 2.601799964904785, 2.5469000339508057, 2.5220000743865967, 2.474900007247925, 2.4686999320983887, 2.4549999237060547, 2.4481000900268555, 2.367500066757202, 2.3073999881744385, 2.301500082015991, 2.291599988937378, 2.253499984741211, 2.2260000705718994, 2.2147998809814453, 2.2165000438690186, 2.0174999237060547, 1.7236000299453735, 1.5637999773025513, 1.263200044631958, 0.6769000291824341, 1.0192999839782715, 0.9898999929428101, 1.5848000049591064, 0.2720000147819519, 0.5861999988555908, 0.5601999759674072, 0.5271000266075134, 0.6960999965667725, 0.18330000340938568, 0.6643000245094299, 0.7777000069618225, 0.38530001044273376, 0.754800021648407, 0.23739999532699585, 0.5285000205039978, -0.10509999841451645, 3.180000066757202, 3.1249001026153564, 2.997499942779541, 2.8817999362945557, 2.7060000896453857, 2.643899917602539, 2.6333000659942627, 2.6205999851226807, 2.6017000675201416, 2.587399959564209, 2.578900098800659, 2.578700065612793, 2.5641000270843506, 2.556999921798706, 2.5434000492095947, 2.5362000465393066, 2.5362000465393066, 2.499300003051758, 2.476099967956543, 2.454900026321411, 2.444999933242798, 2.4316000938415527, 2.4293999671936035, 2.409600019454956, 2.4093000888824463, 2.403599977493286, 2.398200035095215, 2.396899938583374, 2.3886001110076904, 2.352400064468384, 2.3466999530792236, 2.1882998943328857, 2.2778000831604004, 2.272700071334839, 2.199399948120117, 2.1312999725341797, 1.99399995803833, 2.1710000038146973, 1.9321999549865723, 1.3543000221252441, 1.4537999629974365, 2.0773000717163086, 1.243899941444397, 1.9714000225067139, 1.4871000051498413, 1.4397000074386597, 2.0527000427246094, 1.3250999450683594, 1.1028000116348267, 1.8876999616622925, 0.703000009059906, 1.2265000343322754, 0.8252000212669373, 0.2572000026702881, 1.4249999523162842, 0.8938000202178955, 1.3775999546051025, 0.3154999911785126, 0.21870000660419464, 0.3025999963283539, 0.8675000071525574, 1.200600028038025, -0.006099999882280827, 0.13680000603199005, 0.21539999544620514, 0.17249999940395355, 0.3531999886035919, 0.14669999480247498, 0.05860000103712082, 0.3801000118255615, 0.07109999656677246, 0.4968000054359436, 0.4700999855995178, 0.36250001192092896, 0.5364000201225281, -0.1656000018119812, 0.33570000529289246, 3.7464001178741455, 3.0664000511169434, 3.038599967956543, 2.899399995803833, 2.8991000652313232, 2.813199996948242, 2.796099901199341, 2.746000051498413, 2.709700107574463, 2.6452999114990234, 2.605299949645996, 2.5671000480651855, 2.551500082015991, 2.5167999267578125, 2.512399911880493, 2.4951999187469482, 2.4702000617980957, 2.457900047302246, 2.4414000511169434, 2.4159998893737793, 2.415800094604492, 2.3685998916625977, 2.359100103378296, 2.3431999683380127, 2.323699951171875, 2.3185999393463135, 2.3104000091552734, 2.307300090789795, 2.260200023651123, 2.2472000122070312, 2.1823999881744385, 2.188999891281128, 2.2200000286102295, 2.2088000774383545, 1.865399956703186, 1.8991999626159668, 2.085900068283081, 2.1442999839782715, 1.5084999799728394, 1.8273999691009521, 1.8092000484466553, 1.4359999895095825, 1.802299976348877, 1.5276000499725342, 1.2079999446868896, 1.2538000345230103, 1.4325000047683716, 1.7232999801635742, 0.921500027179718, 1.6878999471664429, 0.71670001745224, 0.8720999956130981, 0.5145000219345093, 1.1893999576568604, 0.40720000863075256, 1.2697999477386475, 0.3783000111579895, 0.42899999022483826, 0.38989999890327454, -0.2093999981880188, 0.8379999995231628, 0.656000018119812, 0.31690001487731934, -0.00930000003427267, 0.14030000567436218, 0.5489000082015991, 0.38109999895095825, 0.3125, -0.19120000302791595, -0.6043999791145325, 0.04010000079870224, 3.5936999320983887, 3.5660998821258545, 3.5255000591278076, 3.2871999740600586, 3.2142999172210693, 3.067500114440918, 3.0459001064300537, 3.0280001163482666, 2.8708999156951904, 2.822200059890747, 2.740000009536743, 2.720900058746338, 2.7202000617980957, 2.719899892807007, 2.705399990081787, 2.6393001079559326, 2.6198999881744385, 2.5701000690460205, 2.5376999378204346, 2.5257999897003174, 2.5234999656677246, 2.5051000118255615, 2.455199956893921, 2.450700044631958, 2.4358999729156494, 2.4279000759124756, 2.408799886703491, 2.407099962234497, 2.391200065612793, 2.378200054168701, 2.327199935913086, 2.3304998874664307, 2.198499917984009, 2.064199924468994, 1.9386999607086182, 2.0673000812530518, 1.632599949836731, 1.5196000337600708, 1.6622999906539917, 0.6316999793052673, 0.9571999907493591, 1.0157999992370605, 1.1871999502182007, 0.6955999732017517, 0.9139999747276306, 1.0435999631881714, 0.9620000123977661, 0.9013000130653381, 0.4007999897003174, 0.4909000098705292, 1.570099949836731, 1.1216000318527222, 0.019700000062584877, 1.0175000429153442, 0.4293999969959259, 0.1421000063419342, -0.26809999346733093, 0.14270000159740448, -0.1242000013589859, 0.15150000154972076, 0.033900000154972076, 0.05689999833703041, 3.7032999992370605, 3.535900115966797, 3.2860000133514404, 3.261399984359741, 2.9028000831604004, 2.8763999938964844, 2.8747000694274902, 2.8747000694274902, 2.7876999378204346, 2.686000108718872, 2.6849000453948975, 2.6779000759124756, 2.6623001098632812, 2.6521999835968018, 2.6466000080108643, 2.6350998878479004, 2.6226999759674072, 2.621999979019165, 2.5864999294281006, 2.5557000637054443, 2.5404999256134033, 2.5380001068115234, 2.515500068664551, 2.5095999240875244, 2.5081000328063965, 2.5074000358581543, 2.4981000423431396, 2.438999891281128, 2.427799940109253, 2.420599937438965, 2.4203999042510986, 2.188199996948242, 2.264899969100952, 2.297499895095825, 1.4328999519348145, 1.8138999938964844, 1.7243000268936157, 2.0780999660491943, 1.8734999895095825, 1.4700000286102295, 1.1684000492095947, 1.8661999702453613, 0.9122999906539917, 1.833299994468689, 2.00219988822937, 1.579300045967102, 1.0149999856948853, 1.4423999786376953, 1.353700041770935, 1.2869999408721924, 1.1589000225067139, 0.6596999764442444, 0.7985000014305115, 1.0418000221252441, 0.5705000162124634, 0.6916000247001648, 0.9340000152587891, 0.424699991941452, 0.650600016117096, 0.32850000262260437, -0.14110000431537628, 0.6988000273704529, 0.2612999975681305, 0.2069000005722046, 0.09059999883174896, 0.6550999879837036, 0.5315999984741211, 0.2590999901294708, 2.772700071334839, 2.5855000019073486, 2.4839000701904297, 2.3268001079559326, 2.2399001121520996, 2.2355000972747803, 2.1786999702453613, 2.0894999504089355, 2.0292999744415283, 1.9754999876022339, 1.9470000267028809, 1.9323999881744385, 1.9266999959945679, 1.898300051689148, 1.8863999843597412, 1.8795000314712524, 1.8766000270843506, 1.8398000001907349, 1.8308000564575195, 1.8080999851226807, 1.8000999689102173, 1.785599946975708, 1.7634999752044678, 1.763100028038025, 1.7618000507354736, 1.7617000341415405, 1.753999948501587, 1.7529000043869019, 1.7524000406265259, 1.7502000331878662, 1.750100016593933, 1.7344000339508057, 1.721500039100647, 1.4738999605178833, 1.530500054359436, 1.1490999460220337, 0.05640000104904175, 1.2323999404907227, 0.840499997138977, 0.9714000225067139, 0.5067999958992004, -0.274399995803833, 1.1044000387191772, -0.7020000219345093, -0.8227999806404114, -1.1431000232696533, -1.2171000242233276, -1.197100043296814, -1.7378000020980835, -0.9577000141143799, -2.080199956893921, -1.0176000595092773, -1.493499994277954, -1.385599970817566, -1.30239999294281, -1.4494999647140503, -1.392899990081787, -1.7661999464035034, -1.4598000049591064, -1.0220999717712402, -1.132599949836731, -1.5964000225067139, -1.5319000482559204, -1.6991000175476074, -1.9300999641418457, -1.5950000286102295, -1.5146000385284424, -1.2841999530792236, -1.2139999866485596], \"logprob\": [30.0, 29.0, 28.0, 27.0, 26.0, 25.0, 24.0, 23.0, 22.0, 21.0, 20.0, 19.0, 18.0, 17.0, 16.0, 15.0, 14.0, 13.0, 12.0, 11.0, 10.0, 9.0, 8.0, 7.0, 6.0, 5.0, 4.0, 3.0, 2.0, 1.0, -7.98960018157959, -7.080599784851074, -7.126699924468994, -8.126700401306152, -7.279099941253662, -8.558199882507324, -8.15369987487793, -8.074000358581543, -8.855400085449219, -8.567899703979492, -8.856599807739258, -8.776200294494629, -8.94890022277832, -8.210399627685547, -8.950300216674805, -8.871399879455566, -8.4173002243042, -8.80780029296875, -8.899999618530273, -8.901100158691406, -7.159800052642822, -7.648399829864502, -8.342900276184082, -7.220900058746338, -8.6225004196167, -8.314399719238281, -7.719399929046631, -8.632800102233887, -9.017200469970703, -8.709400177001953, -8.579400062561035, -7.143400192260742, -7.441500186920166, -7.569499969482422, -6.7779998779296875, -8.028499603271484, -7.359600067138672, -7.845099925994873, -6.817200183868408, -6.423900127410889, -5.485499858856201, -7.2434000968933105, -6.920300006866455, -7.3140997886657715, -5.200799942016602, -5.07390022277832, -6.855800151824951, -6.442500114440918, -7.439700126647949, -5.645599842071533, -6.1529998779296875, -5.571899890899658, -4.845699787139893, -6.265399932861328, -6.356500148773193, -6.021200180053711, -6.098299980163574, -5.585700035095215, -6.348199844360352, -6.597099781036377, -5.679100036621094, -5.948800086975098, -5.905300140380859, -6.393400192260742, -5.499000072479248, -5.498600006103516, -5.5131001472473145, -5.795300006866455, -6.183599948883057, -5.548099994659424, -5.80210018157959, -5.4893999099731445, -6.099400043487549, -6.089000225067139, -5.912799835205078, -5.83620023727417, -5.6209001541137695, -5.962600231170654, -5.947800159454346, -5.930600166320801, -5.76230001449585, -5.728700160980225, -5.782199859619141, -5.78439998626709, -5.832200050354004, -5.94789981842041, -5.8821001052856445, -5.78439998626709, -5.797100067138672, -5.9369001388549805, -4.793600082397461, -5.482600212097168, -6.746600151062012, -6.4359002113342285, -5.804800033569336, -5.171599864959717, -5.893899917602539, -6.930799961090088, -7.273099899291992, -7.122600078582764, -7.421500205993652, -4.16540002822876, -6.0995001792907715, -7.6371002197265625, -7.600100040435791, -6.985799789428711, -4.967899799346924, -7.810500144958496, -7.968100070953369, -8.08080005645752, -7.972099781036377, -5.0167999267578125, -4.716100215911865, -6.73769998550415, -5.550000190734863, -7.1020002365112305, -7.373199939727783, -7.371099948883057, -7.539599895477295, -7.829500198364258, -7.550300121307373, -6.96019983291626, -6.71019983291626, -5.588099956512451, -5.369800090789795, -3.8510000705718994, -4.426499843597412, -4.70550012588501, -4.281099796295166, -6.578400135040283, -6.672699928283691, -5.343299865722656, -5.084199905395508, -5.08650016784668, -5.530700206756592, -5.360499858856201, -5.4816999435424805, -5.541200160980225, -5.39169979095459, -5.679299831390381, -5.546199798583984, -5.363100051879883, -5.33620023727417, -5.3165998458862305, -5.445400238037109, -5.369900226593018, -5.454400062561035, -5.350900173187256, -5.491799831390381, -5.399199962615967, -5.797900199890137, -7.528200149536133, -7.291800022125244, -7.209400177001953, -7.574399948120117, -6.4629998207092285, -7.858399868011475, -6.174499988555908, -7.98330020904541, -7.611999988555908, -5.397900104522705, -6.343800067901611, -5.348599910736084, -7.880099773406982, -4.544600009918213, -7.481200218200684, -4.399199962615967, -8.15939998626709, -8.040900230407715, -8.042499542236328, -6.948200225830078, -8.555899620056152, -8.383899688720703, -6.5904998779296875, -8.182600021362305, -8.645299911499023, -8.425800323486328, -7.879000186920166, -5.381700038909912, -5.917399883270264, -7.643899917602539, -7.418300151824951, -4.742300033569336, -5.138299942016602, -6.429100036621094, -4.411399841308594, -6.062300205230713, -6.165800094604492, -6.0192999839782715, -6.040999889373779, -5.228499889373779, -6.059800148010254, -5.582399845123291, -5.3592000007629395, -5.330999851226807, -5.4822001457214355, -5.272299766540527, -5.366199970245361, -5.477099895477295, -5.6757001876831055, -5.472499847412109, -5.65500020980835, -5.315299987792969, -5.494500160217285, -5.46619987487793, -5.53849983215332, -5.5457000732421875, -5.2144999504089355, -5.628300189971924, -5.643599987030029, -5.698400020599365, -5.7642998695373535, -5.66540002822876, -5.100500106811523, -5.926400184631348, -5.763400077819824, -6.573299884796143, -7.04580020904541, -4.491499900817871, -7.055300235748291, -5.720300197601318, -7.593100070953369, -6.2434000968933105, -5.0467000007629395, -6.031700134277344, -3.8691000938415527, -7.104599952697754, -7.736100196838379, -4.657299995422363, -6.651800155639648, -6.161900043487549, -7.718900203704834, -7.137199878692627, -6.4583001136779785, -6.610400199890137, -7.029900074005127, -4.538300037384033, -5.436699867248535, -7.337600231170654, -7.513899803161621, -7.945300102233887, -7.7993998527526855, -5.919600009918213, -6.133299827575684, -5.815800189971924, -5.845399856567383, -4.524199962615967, -3.8915998935699463, -4.842899799346924, -5.423399925231934, -5.441400051116943, -5.204500198364258, -4.605599880218506, -5.401400089263916, -4.8831000328063965, -5.1442999839782715, -5.359099864959717, -5.335999965667725, -5.472599983215332, -5.157700061798096, -5.312600135803223, -5.34499979019165, -5.472700119018555, -5.40880012512207, -5.40939998626709, -5.406799793243408, -5.493000030517578, -5.5482001304626465, -5.565700054168701, -6.69189977645874, -7.5381999015808105, -5.41540002822876, -6.873499870300293, -7.229000091552734, -5.872099876403809, -6.853000164031982, -7.47160005569458, -7.206500053405762, -7.534299850463867, -7.833499908447266, -7.833499908447266, -6.967899799346924, -7.781199932098389, -6.485499858856201, -5.586100101470947, -6.731200218200684, -7.498700141906738, -7.283999919891357, -7.643199920654297, -7.946300029754639, -7.487400054931641, -7.607900142669678, -7.0117998123168945, -6.434500217437744, -5.454899787902832, -7.484000205993652, -8.010499954223633, -7.517000198364258, -7.897200107574463, -6.994999885559082, -4.568999767303467, -5.840799808502197, -6.81279993057251, -6.918799877166748, -5.980999946594238, -6.98390007019043, -5.769800186157227, -5.271599769592285, -6.3003997802734375, -5.204599857330322, -6.135499954223633, -6.156599998474121, -5.834499835968018, -6.710599899291992, -6.498899936676025, -5.785299777984619, -6.2657999992370605, -6.428100109100342, -5.8993000984191895, -5.822299957275391, -5.851500034332275, -5.614099979400635, -5.210599899291992, -5.461699962615967, -5.42080020904541, -5.582399845123291, -5.442399978637695, -5.885900020599365, -5.359799861907959, -5.567699909210205, -5.857900142669678, -5.8308000564575195, -5.831299781799316, -5.719699859619141, -5.824399948120117, -5.859600067138672, -5.787499904632568, -5.817699909210205, -5.838900089263916, -5.841100215911865, -6.732900142669678, -7.4054999351501465, -7.017499923706055, -7.313799858093262, -7.586299896240234, -6.475599765777588, -7.417900085449219, -7.249499797821045, -7.536499977111816, -7.127900123596191, -7.30709981918335, -7.3383002281188965, -7.1371002197265625, -7.408199787139893, -6.872600078582764, -6.598100185394287, -7.119999885559082, -7.817599773406982, -7.769199848175049, -6.963900089263916, -7.784299850463867, -7.908100128173828, -7.663899898529053, -7.674699783325195, -6.680200099945068, -7.88539981842041, -7.8403000831604, -7.991799831390381, -8.081199645996094, -7.657100200653076, -7.05210018157959, -6.855100154876709, -5.49370002746582, -7.052499771118164, -5.855500221252441, -6.429900169372559, -4.820400238037109, -5.020999908447266, -6.291800022125244, -5.09060001373291, -5.807300090789795, -5.566400051116943, -5.10230016708374, -5.428199768066406, -5.877500057220459, -6.280399799346924, -6.345600128173828, -5.774400234222412, -5.524700164794922, -5.379199981689453, -5.365099906921387, -6.064499855041504, -5.141200065612793, -5.934000015258789, -5.290200233459473, -5.783400058746338, -5.60129976272583, -5.348299980163574, -5.417399883270264, -5.417699813842773, -5.455599784851074, -5.44189977645874, -5.985099792480469, -5.65369987487793, -5.822299957275391, -5.846799850463867, -5.898399829864502, -5.86460018157959, -5.7459001541137695, -5.696899890899658, -5.81850004196167, -5.824900150299072, -5.845799922943115, -5.176000118255615, -4.433599948883057, -6.047399997711182, -6.443399906158447, -4.976900100708008, -5.955900192260742, -6.676400184631348, -6.800099849700928, -6.805300235748291, -6.694200038909912, -6.206099987030029, -6.265999794006348, -4.79449987411499, -3.76990008354187, -6.88040018081665, -5.94920015335083, -6.988900184631348, -5.71150016784668, -7.506899833679199, -7.363999843597412, -6.128799915313721, -7.263999938964844, -7.418300151824951, -7.4359002113342285, -7.55109977722168, -7.64109992980957, -6.236499786376953, -7.57480001449585, -6.034200191497803, -7.123199939727783, -5.866600036621094, -5.4816999435424805, -5.970600128173828, -4.5971999168396, -5.874000072479248, -5.821800231933594, -4.838399887084961, -6.026500225067139, -5.302299976348877, -4.446400165557861, -3.9184999465942383, -4.608500003814697, -4.992800235748291, -4.731100082397461, -4.484899997711182, -4.733500003814697, -5.066299915313721, -5.117000102996826, -5.5569000244140625, -5.367400169372559, -5.151299953460693, -5.594099998474121, -5.606599807739258, -5.33489990234375, -5.2357001304626465, -5.4633002281188965, -5.520999908447266, -5.494900226593018, -5.475200176239014, -5.53980016708374, -5.505499839782715, -5.560800075531006, -6.215199947357178, -7.14300012588501, -5.932300090789795, -7.56879997253418, -7.438399791717529, -7.329699993133545, -7.111199855804443, -6.293499946594238, -7.627200126647949, -6.40749979019165, -6.5883002281188965, -7.361800193786621, -5.3668999671936035, -6.4721999168396, -6.186999797821045, -7.209400177001953, -7.76800012588501, -7.984499931335449, -6.920000076293945, -7.249599933624268, -7.950300216674805, -7.6402997970581055, -7.668499946594238, -7.214099884033203, -7.50570011138916, -7.31850004196167, -7.9359002113342285, -7.893799781799316, -7.920000076293945, -5.728300094604492, -6.017499923706055, -6.488699913024902, -7.235400199890137, -5.4440999031066895, -5.572299957275391, -5.9903998374938965, -5.531599998474121, -7.169099807739258, -5.360599994659424, -4.969600200653076, -6.120200157165527, -3.913100004196167, -6.044400215148926, -6.570000171661377, -5.668600082397461, -5.615099906921387, -5.875699996948242, -5.282100200653076, -5.258500099182129, -6.279600143432617, -6.000100135803223, -5.611599922180176, -5.471099853515625, -5.6296000480651855, -5.394400119781494, -5.278800010681152, -5.70419979095459, -5.337800025939941, -5.549300193786621, -5.5406999588012695, -5.645299911499023, -5.567299842834473, -5.671999931335449, -5.60129976272583, -5.648200035095215, -5.753300189971924, -5.71019983291626, -5.662799835205078, -5.718200206756592, -5.7418999671936035, -7.100200176239014, -6.408899784088135, -7.268700122833252, -7.601799964904785, -7.540999889373779, -7.553899765014648, -7.344200134277344, -7.423099994659424, -7.520899772644043, -7.3815999031066895, -7.047999858856201, -7.153600215911865, -7.593699932098389, -7.437300205230713, -7.27239990234375, -7.335400104522705, -7.7769999504089355, -7.355100154876709, -7.484600067138672, -7.013899803161621, -7.488100051879883, -7.706299781799316, -7.0493998527526855, -7.735599994659424, -7.118800163269043, -6.703700065612793, -7.622399806976318, -7.423399925231934, -7.207600116729736, -7.8541998863220215, -6.718500137329102, -6.5721001625061035, -7.19980001449585, -6.719699859619141, -5.462600231170654, -6.654799938201904, -6.241000175476074, -5.847300052642822, -5.568699836730957, -5.377200126647949, -5.899199962615967, -6.298799991607666, -5.173900127410889, -5.690100193023682, -6.593299865722656, -6.267099857330322, -4.385900020599365, -5.633999824523926, -6.638899803161621, -6.151500225067139, -5.65369987487793, -6.109600067138672, -5.9191999435424805, -5.5640997886657715, -4.918099880218506, -5.730599880218506, -5.6493000984191895, -6.245500087738037, -6.05620002746582, -5.521200180053711, -5.643799781799316, -5.282100200653076, -6.263899803161621, -5.896900177001953, -5.871699810028076, -5.533100128173828, -5.496699810028076, -5.79580020904541, -5.778200149536133, -5.832200050354004, -5.883800029754639, -5.98390007019043, -5.857699871063232, -5.979700088500977, -5.910699844360352, -5.946899890899658, -5.954400062561035, -5.948800086975098, -4.614299774169922, -5.338799953460693, -5.561600208282471, -3.6921000480651855, -4.810699939727783, -6.327499866485596, -3.8329999446868896, -4.375800132751465, -5.073400020599365, -5.370200157165527, -6.704899787902832, -7.34119987487793, -7.192399978637695, -7.148200035095215, -6.056700229644775, -7.11870002746582, -4.529099941253662, -6.79449987411499, -7.4882001876831055, -7.418499946594238, -7.535200119018555, -7.451900005340576, -7.734300136566162, -6.959099769592285, -4.328000068664551, -7.4928998947143555, -7.786900043487549, -7.894400119781494, -7.700699806213379, -5.906300067901611, -5.651400089263916, -6.962100028991699, -5.847400188446045, -5.563399791717529, -5.322400093078613, -5.076399803161621, -4.540599822998047, -5.32859992980957, -5.368100166320801, -6.156899929046631, -4.728099822998047, -5.069499969482422, -5.06850004196167, -5.135200023651123, -5.46750020980835, -5.083199977874756, -5.473400115966797, -5.57480001449585, -5.417900085449219, -5.576499938964844, -5.485099792480469, -5.564799785614014, -5.546599864959717, -6.316999912261963, -6.793600082397461, -6.445700168609619, -6.743000030517578, -6.690499782562256, -7.495800018310547, -7.51170015335083, -7.596700191497803, -7.388000011444092, -6.331600189208984, -6.225599765777588, -7.615099906921387, -7.577899932861328, -7.50629997253418, -7.426499843597412, -7.6697998046875, -7.699900150299072, -7.7270002365112305, -6.349100112915039, -7.4959001541137695, -7.236499786376953, -7.719799995422363, -7.474599838256836, -6.980800151824951, -7.714700222015381, -7.852399826049805, -7.504799842834473, -7.5843000411987305, -7.728000164031982, -7.493599891662598, -6.742800235748291, -5.5355000495910645, -6.549200057983398, -6.842100143432617, -6.554500102996826, -6.523099899291992, -6.19920015335083, -6.80679988861084, -6.176199913024902, -4.73799991607666, -5.128499984741211, -6.5894999504089355, -5.0218000411987305, -6.471399784088135, -5.727799892425537, -5.752799987792969, -6.74429988861084, -5.747099876403809, -5.477799892425537, -6.5441999435424805, -5.100200176239014, -5.751800060272217, -5.350200176239014, -4.960299968719482, -6.105199813842773, -5.647200107574463, -6.081299781799316, -5.313199996948242, -5.264599800109863, -5.348599910736084, -5.767099857330322, -5.978000164031982, -5.447500228881836, -5.525400161743164, -5.560999870300293, -5.545199871063232, -5.639599800109863, -5.575799942016602, -5.560500144958496, -5.691299915313721, -5.609899997711182, -5.76800012588501, -5.7906999588012695, -5.770299911499023, -5.809299945831299, -5.702700138092041, -5.783899784088135, -5.832499980926514, -7.1656999588012695, -6.95550012588501, -5.861800193786621, -7.255000114440918, -7.1350998878479, -7.240200042724609, -7.099899768829346, -7.02370023727417, -6.934199810028076, -6.066100120544434, -5.061800003051758, -6.974100112915039, -7.332499980926514, -7.729000091552734, -7.751399993896484, -7.437600135803223, -7.76609992980957, -7.605500221252441, -7.720699787139893, -7.299900054931641, -7.5370001792907715, -7.776700019836426, -7.285399913787842, -7.888800144195557, -7.491300106048584, -7.670599937438965, -7.5802998542785645, -7.3155999183654785, -7.579999923706055, -5.658199787139893, -6.390100002288818, -6.9085001945495605, -6.953199863433838, -4.716899871826172, -5.445899963378906, -6.482399940490723, -6.77400016784668, -5.08489990234375, -6.050300121307373, -6.058499813079834, -5.152200222015381, -6.054100036621094, -5.521299839019775, -4.999300003051758, -5.117700099945068, -5.622399806976318, -6.173999786376953, -5.041200160980225, -6.180699825286865, -4.98360013961792, -5.291500091552734, -5.166500091552734, -5.7444000244140625, -5.205699920654297, -5.903600215911865, -5.240699768066406, -5.288700103759766, -5.265900135040283, -4.872399806976318, -5.601099967956543, -5.502699851989746, -5.345399856567383, -5.226799964904785, -5.510900020599365, -5.690400123596191, -5.652500152587891, -5.680300235748291, -5.632699966430664, -5.604599952697754, -5.7164998054504395, -4.233500003814697, -6.241300106048584, -3.365299940109253, -5.71150016784668, -5.550000190734863, -7.0742998123168945, -5.8171000480651855, -3.66759991645813, -7.098999977111816, -6.8069000244140625, -7.113999843597412, -7.330900192260742, -6.838500022888184, -7.26170015335083, -6.819300174713135, -7.331500053405762, -7.309899806976318, -7.484600067138672, -7.002999782562256, -7.322700023651123, -6.067999839782715, -7.725500106811523, -7.510200023651123, -7.553400039672852, -7.5269999504089355, -7.545499801635742, -7.367499828338623, -5.989999771118164, -7.752799987792969, -7.738699913024902, -3.782099962234497, -6.311100006103516, -5.386899948120117, -4.231500148773193, -5.172399997711182, -6.583399772644043, -5.557300090789795, -5.489699840545654, -5.874100208282471, -4.368500232696533, -4.985499858856201, -5.140900135040283, -5.4822001457214355, -4.9207000732421875, -5.179299831390381, -5.3684000968933105, -5.503699779510498, -5.470099925994873, -5.082399845123291, -5.174600124359131, -6.052999973297119, -5.797699928283691, -5.246799945831299, -5.842599868774414, -5.641900062561035, -5.558199882507324, -5.485599994659424, -5.579800128936768, -5.565700054168701, -5.625, -5.628399848937988, -5.690499782562256, -4.5278000831604, -6.22599983215332, -6.795400142669678, -5.135700225830078, -6.916900157928467, -7.364799976348877, -6.237100124359131, -5.407100200653076, -7.4527997970581055, -7.544600009918213, -7.311200141906738, -7.34119987487793, -5.893899917602539, -7.325799942016602, -7.307199954986572, -7.347799777984619, -6.7754998207092285, -6.918700218200684, -6.819900035858154, -7.010499954223633, -7.3769001960754395, -7.418799877166748, -7.348400115966797, -6.996200084686279, -7.462699890136719, -7.566500186920166, -7.33620023727417, -6.888000011444092, -6.767899990081787, -7.56790018081665, -7.313600063323975, -4.394100189208984, -6.032899856567383, -6.418700218200684, -3.2300000190734863, -4.898200035095215, -4.684000015258789, -5.913400173187256, -5.512899875640869, -5.20989990234375, -4.719699859619141, -6.0756001472473145, -4.700699806213379, -6.0802001953125, -6.330599784851074, -5.775100231170654, -5.121699810028076, -5.6803998947143555, -5.646900177001953, -5.579500198364258, -5.480899810791016, -5.002600193023682, -5.184100151062012, -5.467899799346924, -5.085299968719482, -5.277200222015381, -5.480500221252441, -5.226600170135498, -5.373300075531006, -5.290599822998047, -5.141300201416016, -5.474699974060059, -5.404200077056885, -5.40939998626709, -5.392600059509277, -5.551700115203857, -5.567299842834473, -5.544099807739258, -7.446800231933594, -7.156499862670898, -7.5524001121521, -7.517099857330322, -7.672299861907959, -7.876100063323975, -7.329699993133545, -7.860799789428711, -7.745200157165527, -8.250499725341797, -8.257699966430664, -8.284099578857422, -8.277000427246094, -7.268400192260742, -8.343000411987305, -8.343600273132324, -8.24269962310791, -8.373100280761719, -8.297499656677246, -8.225700378417969, -8.329700469970703, -7.8414998054504395, -8.284700393676758, -7.843400001525879, -7.914999961853027, -8.143899917602539, -8.50730037689209, -8.302000045776367, -8.375399589538574, -8.490400314331055, -8.446000099182129, -7.889200210571289, -8.16510009765625, -7.839099884033203, -7.99370002746582, -7.6184000968933105, -6.639100074768066, -7.851900100708008, -7.597300052642822, -7.699999809265137, -7.4593000411987305, -7.16510009765625, -7.87060022354126, -7.033299922943115, -6.986400127410889, -6.85129976272583, -6.872900009155273, -6.944399833679199, -6.7378997802734375, -7.051000118255615, -6.743100166320801, -7.1269001960754395, -6.976799964904785, -7.0142998695373535, -7.059100151062012, -7.0625, -7.093200206756592, -7.032700061798096, -7.111100196838379, -7.229400157928467, -7.214200019836426, -7.133600234985352, -7.148200035095215, -7.140500068664551, -7.147600173950195, -7.214099884033203, -7.237100124359131, -7.2667999267578125, -7.285299777984619]}, \"token.table\": {\"Topic\": [2, 14, 1, 2, 7, 9, 11, 12, 3, 2, 3, 8, 13, 1, 5, 11, 3, 13, 1, 5, 6, 9, 10, 11, 2, 14, 1, 5, 6, 9, 10, 11, 1, 5, 12, 2, 3, 4, 8, 14, 3, 13, 1, 2, 3, 6, 7, 11, 2, 3, 4, 8, 1, 5, 4, 8, 2, 3, 13, 1, 2, 5, 6, 9, 10, 11, 3, 4, 1, 12, 1, 3, 5, 1, 5, 8, 9, 12, 1, 2, 2, 1, 4, 8, 3, 4, 8, 14, 3, 4, 8, 14, 1, 5, 10, 2, 3, 2, 2, 3, 4, 8, 14, 1, 2, 3, 4, 6, 7, 8, 3, 6, 10, 1, 2, 5, 8, 2, 2, 3, 4, 8, 3, 4, 13, 3, 3, 1, 7, 11, 3, 4, 3, 13, 1, 4, 6, 8, 12, 2, 3, 6, 9, 10, 13, 2, 14, 1, 2, 3, 4, 5, 6, 9, 10, 11, 1, 2, 3, 4, 5, 6, 7, 8, 12, 13, 2, 3, 4, 8, 12, 13, 1, 3, 4, 6, 7, 8, 1, 2, 3, 4, 8, 11, 14, 2, 14, 2, 1, 5, 6, 9, 10, 11, 2, 3, 4, 7, 14, 1, 2, 5, 6, 8, 9, 10, 11, 12, 1, 9, 12, 2, 3, 13, 1, 2, 3, 7, 8, 9, 11, 12, 1, 2, 3, 6, 7, 9, 11, 12, 3, 13, 1, 4, 5, 6, 9, 10, 11, 3, 13, 3, 8, 4, 8, 1, 5, 6, 9, 10, 11, 1, 5, 9, 12, 1, 5, 6, 8, 11, 12, 2, 6, 11, 3, 4, 1, 3, 6, 7, 11, 1, 3, 4, 6, 7, 8, 1, 4, 5, 6, 9, 10, 11, 1, 2, 3, 4, 5, 6, 7, 8, 10, 11, 12, 13, 2, 14, 1, 6, 7, 11, 12, 1, 2, 5, 6, 9, 10, 11, 2, 5, 8, 1, 2, 5, 6, 7, 8, 11, 1, 5, 9, 10, 1, 2, 8, 3, 13, 1, 2, 3, 4, 10, 14, 2, 14, 1, 2, 6, 1, 5, 8, 11, 12, 3, 4, 8, 2, 14, 1, 9, 10, 1, 2, 5, 8, 3, 4, 8, 1, 3, 4, 8, 10, 1, 6, 9, 12, 1, 7, 8, 1, 2, 2, 14, 1, 2, 3, 4, 5, 6, 7, 8, 11, 12, 14, 1, 5, 11, 3, 13, 1, 2, 3, 4, 5, 6, 7, 8, 9, 10, 11, 12, 13, 14, 2, 3, 4, 2, 14, 1, 9, 10, 11, 1, 2, 3, 4, 5, 6, 7, 8, 13, 14, 2, 3, 8, 9, 12, 1, 7, 3, 4, 7, 3, 4, 8, 14, 1, 5, 12, 3, 4, 8, 14, 4, 1, 2, 3, 4, 5, 6, 9, 10, 11, 13, 3, 4, 8, 1, 6, 7, 1, 2, 4, 5, 6, 9, 10, 11, 12, 1, 2, 5, 6, 9, 10, 11, 2, 3, 13, 1, 4, 5, 8, 11, 2, 3, 8, 13, 2, 12, 14, 1, 7, 14, 1, 5, 8, 9, 11, 12, 3, 4, 8, 3, 13, 3, 13, 1, 2, 6, 7, 12, 1, 2, 3, 4, 5, 6, 7, 8, 9, 10, 11, 12, 13, 14, 1, 5, 6, 8, 9, 11, 12, 1, 3, 8, 12, 13, 1, 2, 3, 4, 5, 6, 7, 8, 9, 10, 11, 12, 13, 14, 1, 2, 3, 4, 5, 6, 7, 8, 9, 10, 11, 12, 13, 14, 3, 4, 8, 3, 13, 1, 8, 3, 12, 1, 2, 10, 3, 8, 1, 2, 5, 6, 9, 10, 11, 1, 5, 6, 9, 10, 11, 1, 5, 8, 12, 3, 4, 8, 1, 5, 6, 10, 2, 14, 3, 4, 8, 14, 6, 7, 11, 12, 1, 9, 10, 1, 6, 7, 2, 14, 1, 3, 6, 7, 11, 1, 5, 8, 12, 1, 6, 8, 12, 2, 3, 7, 11, 13, 14, 1, 2, 3, 5, 6, 7, 8, 9, 11, 12, 3, 4, 8, 14, 2, 4, 8, 1, 6, 8, 10, 1, 5, 6, 10, 1, 2, 3, 4, 7, 8, 9, 10, 11, 12, 13, 14, 1, 2, 3, 9, 14, 1, 5, 6, 9, 10, 1, 2, 3, 4, 5, 6, 8, 9, 10, 11, 12, 14, 3, 13, 3, 13, 3, 4, 8, 9, 13, 2, 3, 1, 13, 1, 2, 6, 7, 11, 12, 5, 6, 9, 10, 11, 1, 5, 6, 9, 10, 11, 2, 4, 2, 3, 4, 2, 3, 4, 8, 14, 1, 2, 3, 4, 5, 8, 14, 3, 13, 2, 14, 1, 9, 5, 1, 2, 3, 8, 14, 2, 3, 6, 13, 14, 1, 2, 3, 5, 8, 9, 12, 1, 2, 3, 4, 8, 11, 1, 2, 3, 8, 12, 13, 1, 2, 3, 4, 5, 6, 8, 9, 10, 11, 12, 13, 14, 1, 6, 7, 9, 10, 2, 3, 4, 5, 8, 14, 2, 4, 13, 14, 1, 3, 9, 1, 3, 7, 10, 11, 14, 2, 3, 4, 5, 8, 11, 1, 5, 12, 1, 2, 9, 10, 13, 14, 1, 2, 3, 4, 5, 6, 7, 8, 9, 10, 11, 12, 13, 14, 1, 6, 9, 1, 5, 6, 7, 11, 12, 1, 2, 3, 6, 12, 1, 2, 4, 13, 14, 1, 2, 3, 4, 5, 6, 7, 8, 9, 10, 11, 12, 13, 14, 2, 3, 5, 6, 8, 12, 13, 1, 3, 5, 11, 1, 5, 9, 1, 4, 9, 1, 2, 3, 4, 5, 7, 8, 9, 11, 12, 1, 2, 5, 6, 7, 9, 10, 11, 1, 2, 3, 4, 5, 6, 7, 8, 9, 10, 11, 12, 13, 14, 1, 2, 6, 8, 9, 1, 5, 6, 7, 8, 11, 1, 6, 7, 1, 6, 7, 9, 1, 2, 3, 4, 5, 6, 7, 8, 9, 10, 11, 12, 14, 1, 3, 5, 6, 8, 1, 5, 1, 2, 3, 4, 5, 8, 10, 13, 1, 5, 12, 1, 2, 3, 4, 5, 6, 7, 8, 9, 10, 11, 12, 13, 14, 1, 2, 3, 5, 8, 10, 12, 1, 5, 9, 11, 12, 1, 2, 3, 4, 5, 6, 7, 9, 10, 11, 1, 2, 3, 4, 5, 6, 8, 11, 12, 6, 7, 8, 10, 13, 1, 2, 5, 7, 11, 13, 1, 2, 4, 5, 6, 7, 9, 10, 11, 12, 1, 2, 3, 4, 5, 7, 8, 10, 12, 13, 14, 1, 2, 3, 4, 5, 6, 7, 8, 9, 10, 11, 12, 13, 14, 1, 2, 3, 4, 5, 6, 9, 10, 12, 14, 1, 2, 6, 7, 9, 11, 1, 2, 3, 4, 5, 6, 7, 8, 9, 10, 11, 12, 13, 1, 2, 3, 4, 5, 6, 8, 9, 11, 12, 13, 14, 1, 6, 7, 12, 1, 5, 9, 12, 1, 5, 7, 9, 11, 1, 2, 6, 7, 9, 10, 11, 1, 2, 5, 7, 1, 5, 9, 11, 1, 2, 3, 4, 5, 6, 8, 9, 10, 11, 12, 13, 14, 1, 5, 6, 9, 11, 12, 1, 2, 3, 4, 5, 6, 10, 12, 14, 1, 2, 3, 4, 5, 6, 7, 8, 9, 10, 11, 12, 13, 14, 1, 2, 3, 4, 5, 6, 7, 8, 9, 10, 11, 12, 5, 6, 9, 1, 2, 3, 4, 5, 6, 7, 8, 9, 10, 11, 12, 13, 14, 1, 2, 5, 8, 9, 11, 12, 1, 5, 6, 9, 11, 1, 2, 5, 7, 9, 11, 12, 1, 2, 3, 8, 1, 2, 5, 6, 10, 12, 1, 10, 12, 1, 1, 10, 14, 1, 2, 5, 7, 9, 10, 11, 12, 2, 4, 8, 9, 1, 6, 9, 10, 2, 14, 1, 3, 8, 10, 13, 1, 9, 11, 1, 5, 1, 2, 8, 9, 10, 14, 1, 5, 11, 12, 2, 3, 5, 13, 14, 1, 2, 3, 4, 5, 6, 7, 8, 9, 10, 12, 13, 1, 5, 9, 11, 1, 2, 3, 5, 8, 12, 13, 1, 8, 1, 2, 3, 4, 5, 6, 8, 9, 10, 11, 12, 13, 14, 1, 5, 6, 11, 1, 6, 9, 11, 1, 5, 7, 9, 10, 1, 2, 3, 4, 5, 6, 7, 8, 9, 10, 11, 12, 13, 14, 1, 2, 8, 9, 10, 12, 1, 2, 5, 6, 7, 9, 11, 1, 6, 7, 9, 10, 1, 2, 3, 4, 5, 6, 8, 9, 10, 13, 1, 2, 3, 4, 5, 6, 7, 8, 9, 10, 11, 12, 13, 14, 1, 2, 3, 5, 6, 7, 8, 9, 10, 11, 12, 13, 1, 2, 3, 4, 5, 6, 7, 8, 9, 10, 11, 12, 13, 14, 1, 2, 4, 5, 6, 8, 9, 10, 11, 12, 1, 2, 3, 4, 5, 6, 7, 8, 9, 10, 11, 12, 13, 14, 1, 3, 11, 1, 2, 3, 4, 5, 6, 7, 8, 9, 10, 11, 12, 1, 2, 3, 4, 5, 8, 12, 13, 1, 2, 3, 5, 11, 12, 14, 1, 2, 5, 6, 8, 9, 11, 12, 1, 2, 3, 4, 6, 7, 8, 11, 12, 13, 1, 6, 8, 12, 1, 3, 4, 5, 9, 13, 1, 1, 2, 8, 11, 12, 1, 1, 1, 2, 3, 4, 5, 6, 7, 8, 9, 10, 11, 13, 14, 1, 5, 6, 12, 3, 4, 5, 14, 1, 2, 3, 4, 8, 1, 3, 4, 5, 6, 8, 10, 12, 13, 1, 8, 10, 12, 1, 2, 3, 4, 6, 10, 12, 13, 14, 2, 3, 8, 13, 1, 3, 4, 6, 11, 1, 2, 3, 4, 5, 6, 7, 8, 9, 10, 11, 12, 13, 14, 1, 5, 6, 10, 11, 1, 2, 3, 5, 6, 7, 9, 11, 12, 1, 2, 3, 4, 5, 6, 7, 8, 9, 10, 11, 12, 1, 2, 3, 4, 5, 6, 7, 8, 11, 13, 1, 2, 3, 8, 10, 1, 5, 3, 4, 5, 8, 9, 12, 1, 7, 9, 1, 2, 3, 4, 5, 6, 7, 8, 9, 10, 11, 12, 13, 14, 1, 7, 8, 11, 12, 13, 2, 3, 4, 5, 8, 9, 12, 13, 14, 1, 2, 5, 8, 9, 10, 11, 12, 3, 13, 4, 8, 9, 10, 1, 5, 8, 9, 12, 1, 2, 3, 5, 6, 9, 14, 1, 9, 11, 1, 5, 9, 11, 2, 4, 1, 2, 3, 5, 11, 12, 1, 2, 3, 4, 5, 6, 7, 8, 9, 10, 11, 12, 13, 14, 1, 2, 3, 8, 9, 10, 11, 12, 1, 2, 3, 4, 5, 6, 7, 8, 10, 12, 14, 1, 2, 3, 4, 5, 10, 14, 1, 9, 12, 13, 1, 2, 3, 4, 5, 6, 7, 8, 9, 10, 11, 12, 13, 14, 1, 2, 3, 4, 5, 6, 7, 8, 9, 10, 11, 12, 13, 14, 1, 2, 3, 5, 6, 8, 10, 11, 12, 1, 2, 3, 4, 5, 7, 8, 9, 11, 12, 13, 14, 1, 2, 3, 4, 5, 6, 7, 8, 9, 10, 11, 12, 13, 14, 1, 2, 3, 4, 5, 6, 7, 8, 9, 10, 11, 12, 14, 1, 2, 3, 6, 8, 10, 12, 1, 2, 3, 4, 5, 6, 7, 8, 9, 10, 11, 12, 13, 14, 5, 1, 2, 3, 4, 5, 6, 7, 8, 9, 10, 11, 12, 13, 14, 1, 2, 3, 4, 5, 6, 7, 8, 9, 10, 11, 12, 13, 1, 2, 3, 5, 8, 13, 14, 1, 2, 5, 8, 9, 11, 1, 2, 9, 11, 12, 1, 2, 3, 5, 6, 7, 8, 9, 11, 1, 5, 8, 10, 2, 3, 4, 11, 13, 14, 1, 5, 8, 9, 12, 6, 11, 12, 1, 5, 9, 12, 3, 6, 7, 9, 12, 1, 2, 3, 4, 5, 6, 7, 8, 9, 10, 11, 12, 13, 14, 1, 2, 3, 7, 9, 1, 2, 4, 5, 1, 2, 4, 7, 9, 10, 1, 1, 2, 3, 4, 5, 6, 8, 9, 11, 12, 14, 1, 3, 5, 6, 11, 1, 2, 3, 5, 6, 7, 9, 10, 11, 1, 2, 3, 4, 5, 8, 9, 10, 12, 13, 14, 2, 3, 4, 12, 1, 2, 3, 4, 5, 6, 7, 8, 9, 10, 11, 12, 13, 14, 1, 7, 11, 1, 5, 7, 9, 11, 1, 2, 3, 4, 5, 6, 7, 8, 9, 10, 11, 12, 13, 14, 1, 2, 3, 4, 5, 6, 7, 8, 9, 10, 11, 12, 13, 14, 1, 2, 5, 7, 11, 1, 2, 3, 5, 6, 8, 11, 13, 1, 2, 3, 4, 5, 6, 7, 8, 9, 10, 11, 12, 13, 14, 1, 5, 7, 11, 1, 5, 6, 9, 10, 11, 1, 6, 9, 10, 11, 1, 11, 12, 1, 2, 7, 8, 9, 14, 1, 2, 3, 4, 5, 6, 7, 8, 9, 10, 11, 12, 13, 14, 1, 2, 4, 5, 8, 11, 13, 1, 3, 5, 6, 8, 9, 10, 11, 12, 1, 2, 3, 4, 5, 6, 7, 8, 9, 10, 11, 12, 13, 14, 1, 2, 3, 4, 5, 6, 7, 8, 9, 10, 11, 12, 13, 14, 1, 3, 7, 1, 3, 9, 11, 1, 2, 3, 4, 5, 6, 8, 9, 11, 12, 1, 2, 5, 6, 7, 9, 11, 1, 2, 3, 4, 5, 6, 7, 8, 9, 10, 11, 12, 13, 14, 1, 2, 3, 4, 5, 6, 7, 8, 9, 10, 11, 12, 13, 14, 1, 2, 3, 4, 5, 6, 7, 8, 9, 10, 11, 12, 13, 14, 6, 12, 13, 1, 1, 2, 3, 4, 5, 6, 7, 8, 9, 10, 11, 12, 13, 14, 1, 5, 11, 1, 5, 6, 8, 9, 12, 1, 2, 3, 4, 5, 6, 7, 8, 9, 10, 11, 12, 13, 14, 1, 2, 3, 4, 5, 6, 7, 8, 9, 10, 11, 12, 13, 14, 1, 2, 3, 4, 5, 6, 7, 8, 9, 10, 11, 12, 13, 14, 1, 2, 6, 9, 1, 3, 4, 12, 13, 1, 5, 2, 3, 5, 8, 2, 3, 12, 1, 2, 3, 4, 6, 7, 8, 10, 11, 1, 1, 2, 3, 6, 7, 14, 1, 11, 1, 3, 5, 8, 9, 13, 1, 2, 10, 12, 1, 2, 5, 11, 5, 9, 12, 1, 5, 6, 9, 12, 5, 6, 7, 9, 11, 14, 1, 5, 9, 1, 2, 3, 14, 3, 4, 8, 1, 2, 3, 4, 5, 6, 7, 12, 14, 1, 5, 9, 11, 1, 4, 5, 9, 11, 13, 1, 2, 5, 8, 9, 12, 1, 2, 3, 4, 5, 6, 7, 8, 9, 10, 11, 12, 13, 14, 3, 4, 8, 10, 1, 2, 3, 4, 5, 6, 7, 8, 9, 10, 11, 13, 14, 1, 2, 3, 4, 5, 6, 7, 8, 9, 10, 11, 12, 13, 14, 1, 2, 3, 4, 5, 6, 7, 8, 9, 10, 11, 12, 13, 14, 1, 5, 9, 1, 2, 3, 4, 5, 6, 7, 8, 9, 10, 11, 12, 13, 14, 1, 2, 3, 4, 5, 13, 1, 9, 1, 2, 3, 4, 5, 6, 7, 8, 9, 10, 11, 12, 13, 14, 1, 2, 3, 4, 5, 6, 7, 8, 9, 10, 11, 12, 1, 2, 3, 4, 5, 6, 7, 8, 9, 10, 11, 12, 1, 2, 3, 4, 5, 6, 7, 8, 9, 10, 11, 12, 13, 14, 1, 2, 3, 4, 5, 6, 7, 8, 9, 10, 11, 12, 1, 6, 10, 1, 2, 3, 4, 5, 6, 7, 8, 9, 10, 11, 12, 13, 14, 1, 2, 3, 4, 5, 6, 7, 8, 9, 10, 11, 12, 13, 14, 1, 2, 6, 8, 14, 1, 2, 3, 4, 5, 6, 7, 8, 9, 10, 11, 12, 13, 14, 3, 10, 1, 5, 6, 1, 5, 8, 12, 1, 9, 10, 11, 1, 2, 3, 6, 10, 13, 1, 4, 5, 6, 9, 10, 1, 2, 3, 4, 5, 6, 7, 8, 9, 10, 11, 12, 13, 14, 5, 11, 1, 3, 6, 10, 1, 2, 3, 4, 5, 6, 7, 8, 9, 10, 11, 12, 13, 14, 1, 2, 3, 4, 5, 6, 7, 8, 9, 11, 12, 13, 14, 1, 2, 3, 4, 5, 6, 7, 8, 9, 10, 11, 12, 13, 14, 1, 2, 3, 4, 5, 6, 7, 8, 9, 11, 12, 1, 2, 3, 4, 5, 6, 8, 9, 10, 11, 13, 14, 1, 5, 6, 12, 1, 2, 3, 4, 5, 8, 12, 14, 1, 2, 3, 4, 5, 6, 7, 8, 9, 10, 11, 12, 13, 14, 1, 2, 3, 7, 11, 12, 1, 1, 2, 3, 4, 8, 12, 1, 2, 3, 9, 11, 13, 1, 3, 6, 9, 11, 1, 5, 9, 11, 1, 2, 3, 8, 9, 12, 1, 2, 3, 4, 5, 6, 7, 8, 9, 10, 11, 12, 13, 14, 1, 5, 6, 9, 12, 1, 5, 8, 9, 12, 1, 3, 13, 1, 2, 5, 6, 7, 9, 11, 12, 1, 6, 7, 8, 2, 4, 5, 11, 13, 14, 1, 2, 3, 4, 5, 6, 7, 8, 9, 10, 11, 12, 13, 14, 1, 4, 5, 6, 7, 11, 12, 1, 2, 11, 12, 1, 5, 6, 7, 1, 2, 3, 5, 7, 8, 9, 10, 11, 12, 1, 7, 10, 1, 3, 5, 6, 7, 8, 9, 11, 3, 4, 5, 1, 2, 3, 4, 5, 6, 7, 8, 9, 10, 11, 12, 13, 14, 1, 3, 5, 12, 1, 2, 3, 14, 1, 5, 9, 11, 1, 5, 6, 9, 10, 11, 12, 1, 2, 5, 6, 7, 9, 10, 11, 1, 3, 7, 9, 11, 1, 2, 6, 11, 1, 2, 5, 8, 10, 13, 1, 2, 3, 4, 5, 8, 12, 13, 1, 2, 3, 4, 5, 6, 7, 8, 9, 10, 11, 12, 13, 14, 1, 3, 4, 5, 8, 9, 12, 1, 2, 3, 4, 8, 9, 10, 12, 1, 2, 3, 4, 5, 6, 7, 8, 9, 10, 11, 12, 13, 14, 1, 2, 3, 4, 5, 6, 7, 8, 9, 10, 11, 12, 13, 14, 1, 2, 3, 6, 8, 1, 2, 3, 4, 5, 6, 7, 8, 9, 10, 11, 12, 13, 14, 1, 2, 3, 4, 5, 6, 7, 8, 9, 10, 11, 12, 13, 14, 1, 2, 5, 7, 12, 1, 2, 3, 4, 5, 8, 9, 12, 1, 2, 3, 4, 5, 6, 7, 8, 9, 10, 11, 12, 1, 3, 4, 6, 9, 11, 1, 2, 4, 5, 6, 10, 1, 2, 3, 4, 5, 6, 8, 9, 11, 13, 1, 2, 3, 4, 5, 6, 8, 1, 2, 3, 4, 5, 6, 7, 8, 9, 10, 11, 12, 13, 14, 1, 2, 3, 8, 14, 1, 5, 9, 11, 1, 6, 11, 1, 2, 5, 9, 10, 13, 1, 2, 6, 10, 12, 14, 1, 5, 7, 10, 11, 1, 5, 9, 1, 2, 3, 4, 5, 6, 7, 8, 9, 10, 11, 12, 13, 14, 1, 3, 6, 8, 9, 13, 1, 1, 2, 3, 4, 5, 6, 7, 8, 9, 10, 11, 12, 13, 14, 1, 2, 3, 4, 5, 6, 7, 8, 9, 10, 11, 12, 13, 14, 1, 2, 3, 5, 6, 12, 1, 5, 12, 1, 2, 3, 5, 1, 2, 3, 4, 5, 6, 7, 8, 9, 10, 11, 12, 13, 14, 1, 3, 6, 1, 5, 10, 1, 2, 3, 4, 6, 8, 11, 13, 14, 1, 5, 6, 9, 10, 11, 12, 1, 5, 6, 9, 1, 2, 3, 4, 9, 12, 14, 1, 2, 3, 5, 6, 8, 9, 10, 11, 12, 2, 5, 6, 8, 12, 14, 1, 5, 6, 9, 12, 1, 3, 6, 11, 1, 2, 3, 4, 5, 6, 7, 9, 11, 12, 1, 2, 3, 4, 5, 6, 7, 8, 9, 10, 11, 12, 1, 4, 5, 6, 7, 8, 9, 10, 11, 12, 1, 2, 3, 5, 6, 8, 11, 12, 1, 3, 6, 2, 3, 4, 1, 5, 11, 1, 2, 3, 5, 8, 1, 2, 3, 4, 12, 14, 1, 2, 3, 4, 5, 6, 7, 8, 9, 10, 11, 12, 14, 3, 4, 9, 1, 3, 1, 2, 3, 4, 5, 6, 7, 8, 9, 10, 11, 12, 13, 14, 1, 2, 3, 4, 6, 11, 1, 2, 3, 4, 5, 6, 7, 8, 9, 10, 11, 12, 13, 14, 1, 2, 3, 6, 8, 10, 2, 7, 8, 9, 12, 1, 3, 4, 6, 8, 9, 1, 2, 3, 4, 5, 7, 8, 9, 11, 12, 13, 14, 1, 10, 11, 1, 2, 4, 6, 8, 9, 10, 13, 1, 2, 3, 4, 5, 6, 7, 8, 9, 10, 11, 12, 13, 14, 3, 6, 8, 1, 8, 1, 2, 3, 4, 5, 6, 7, 8, 9, 10, 11, 12, 13, 14, 5, 8, 11, 14, 6, 7, 1, 2, 3, 4, 5, 6, 7, 8, 9, 10, 11, 12, 13, 14, 1, 2, 3, 4, 5, 6, 7, 8, 9, 10, 11, 12, 13, 14, 1, 2, 3, 4, 5, 6, 7, 8, 9, 10, 11, 12, 14, 1, 2, 3, 4, 5, 6, 7, 9, 11, 12, 1, 3, 9, 1, 2, 3, 7, 11, 1, 2, 7, 9, 12, 1, 2, 3, 8, 11, 12, 1, 2, 3, 4, 5, 6, 7, 8, 9, 10, 11, 13, 14, 1, 2, 3, 5, 6, 8, 9, 10, 11, 12, 14, 1, 2, 5, 1, 6, 8, 9, 10, 1, 2, 4, 5, 6, 7, 9, 11, 12, 14, 1, 2, 3, 5, 6, 10, 11, 1, 2, 3, 4, 5, 6, 7, 8, 9, 10, 11, 12, 14, 2, 5, 1, 2, 3, 4, 5, 6, 7, 8, 9, 10, 11, 12, 13, 14, 1, 2, 3, 4, 5, 6, 8, 9, 10, 11, 13, 1, 3, 10, 11, 12, 13, 1, 2, 5, 6, 7, 9, 10, 11, 12, 1, 2, 3, 4, 5, 6, 7, 8, 9, 10, 11, 12, 13, 14, 1, 6, 9, 2, 3, 13, 1, 3, 4, 6, 9, 13, 1, 2, 3, 8, 14, 1, 2, 4, 10, 14, 1, 2, 3, 4, 5, 6, 7, 8, 9, 10, 11, 12, 13, 14, 1, 2, 3, 4, 5, 6, 7, 8, 9, 10, 11, 12, 13, 14, 1, 2, 3, 4, 5, 6, 7, 8, 9, 10, 11, 12, 13, 14, 1, 4, 5, 10, 1, 3, 8, 9, 1, 2, 3, 4, 5, 6, 7, 8, 9, 10, 11, 12, 13, 14, 1, 1, 2, 3, 5, 6, 9, 13, 1, 3, 5, 6, 7, 1, 2, 5, 6, 7, 8, 9, 10, 11, 12, 13, 1, 2, 3, 7, 9, 12, 1, 2, 3, 4, 5, 6, 8, 9, 10, 11, 12, 13, 14, 1, 2, 3, 4, 5, 6, 7, 8, 9, 10, 11, 12, 13, 14, 1, 2, 3, 4, 5, 6, 7, 8, 9, 10, 11, 12, 1, 9, 11, 2, 3, 7, 9, 1, 2, 3, 4, 5, 6, 7, 8, 9, 10, 11, 12, 13, 14, 2, 3, 4, 8, 13, 14, 1, 2, 5, 8, 11, 13, 1, 2, 5, 6, 9, 11, 1, 3, 4, 5, 9, 1, 14, 1, 2, 3, 4, 5, 6, 7, 8, 9, 10, 11, 12, 13, 14, 1, 2, 3, 4, 5, 6, 7, 8, 12, 1, 2, 3, 4, 5, 6, 7, 8, 9, 10, 11, 12, 14, 2, 6, 7, 12, 1, 7, 1, 5, 9, 11, 1, 2, 3, 4, 5, 6, 7, 8, 9, 10, 11, 12, 13, 4, 5, 6, 9, 11, 1, 9, 1, 2, 3, 4, 5, 6, 7, 8, 9, 10, 11, 12, 13, 14, 1, 3, 5, 8, 9, 12, 13, 1, 2, 3, 4, 5, 6, 8, 9, 12, 13, 14, 1, 2, 6, 7, 12, 13, 1, 5, 10, 1, 3, 5, 10, 1, 2, 3, 5, 6, 7, 9, 10, 11, 12, 14, 1, 1, 5, 6, 11, 1, 1, 2, 3, 4, 5, 6, 7, 8, 9, 10, 11, 12, 13, 14, 5, 7, 9, 10, 2, 14, 2, 14, 1, 5, 11, 1, 2, 3, 4, 5, 6, 7, 8, 9, 10, 11, 12, 13, 14, 1, 2, 3, 4, 5, 6, 7, 8, 9, 10, 11, 12, 13, 14, 1, 5, 10, 1, 2, 3, 4, 5, 6, 8, 9, 10, 11, 12, 14, 1, 2, 3, 4, 5, 6, 7, 8, 9, 10, 11, 12, 13, 14, 1, 6, 9, 1, 2, 4, 5, 6, 10, 14, 2, 3, 5, 7, 9, 11, 1, 2, 3, 4, 9, 10, 1, 2, 3, 4, 5, 6, 7, 8, 9, 10, 11, 12, 13, 14, 1, 2, 7, 1, 2, 10, 11, 1, 2, 3, 4, 5, 6, 8, 11, 13, 14, 1, 5, 9, 10, 11, 1, 5, 6, 7, 8, 9, 10, 2, 4, 6, 7, 14, 3, 8, 9, 1, 5, 6, 12, 1, 2, 3, 4, 5, 6, 7, 8, 9, 10, 11, 12, 13, 1, 2, 3, 5, 6, 7, 8, 9, 10, 11, 12, 13, 14, 4, 5, 9, 11, 13, 3, 5, 6, 9, 11, 1, 2, 3, 4, 5, 6, 7, 8, 9, 10, 11, 12, 13, 14, 1, 2, 3, 4, 5, 8, 9, 11, 12, 13, 2, 3, 8, 12, 3, 8, 2, 3, 4, 12, 13, 2, 3, 4, 3, 5, 8, 1, 2, 5, 9, 1, 2, 5, 6, 9, 11, 12, 14, 1, 5, 9, 1, 2, 3, 4, 5, 6, 7, 8, 9, 10, 11, 12, 13, 14, 1, 2, 3, 5, 6, 8, 9, 11, 12, 14, 1, 5, 6, 8, 9, 11, 12, 1, 2, 3, 4, 5, 6, 7, 8, 9, 10, 11, 12, 13, 14, 1, 6, 7, 11, 1, 2, 3, 4, 5, 6, 7, 8, 9, 10, 11, 12, 13, 14, 1, 2, 3, 4, 5, 6, 7, 8, 9, 10, 11, 12, 13, 14, 1, 2, 3, 4, 5, 6, 7, 8, 9, 10, 11, 12, 13, 14, 1, 3, 5, 8, 12, 1, 2, 3, 6, 10, 11, 1, 2, 3, 4, 5, 6, 7, 8, 9, 10, 11, 12, 13, 14, 3, 4, 5, 6, 7, 10, 11, 1, 5, 1, 4, 5, 6, 10, 11, 1, 2, 3, 5, 6, 7, 8, 9, 10, 11, 12, 14, 1, 3, 5, 6, 7, 8, 9, 10, 11, 12, 2, 3, 6, 8, 11, 1, 2, 3, 4, 5, 6, 7, 8, 9, 10, 12, 13, 14, 1, 2, 3, 4, 5, 6, 7, 8, 9, 11, 1, 2, 3, 4, 5, 6, 7, 8, 9, 10, 11, 12, 13, 14, 1, 2, 3, 4, 5, 6, 7, 8, 9, 10, 11, 12, 13, 14, 1, 2, 3, 4, 5, 6, 7, 8, 9, 10, 11, 12, 13, 14, 1, 2, 3, 4, 5, 6, 7, 8, 9, 10, 11, 12, 13, 1, 5, 6, 12, 1, 5, 8, 1, 2, 3, 4, 5, 6, 7, 8, 9, 10, 11, 12, 13, 14, 1, 2, 3, 4, 5, 6, 7, 8, 9, 10, 11, 12, 13, 14, 1, 2, 3, 4, 5, 6, 7, 8, 9, 10, 11, 12, 13, 14], \"Freq\": [0.8801348209381104, 0.1015540212392807, 0.42393428087234497, 0.014131142757833004, 0.31795069575309753, 0.014131142757833004, 0.007065571378916502, 0.21196714043617249, 0.9376709461212158, 0.1519564688205719, 0.3039129376411438, 0.3039129376411438, 0.1519564688205719, 0.0781949833035469, 0.7037548422813416, 0.1563899666070938, 0.9084195494651794, 0.08152482658624649, 0.0402461476624012, 0.1207384392619133, 0.013415382243692875, 0.1475692093372345, 0.6573536992073059, 0.013415382243692875, 0.9696758389472961, 0.014053273014724255, 0.24324382841587067, 0.44808071851730347, 0.06401153653860092, 0.07681383937597275, 0.05761038139462471, 0.102418452501297, 0.0634242445230484, 0.7610909342765808, 0.0634242445230484, 0.0029644514434039593, 0.014822257682681084, 0.9426955580711365, 0.032608967274427414, 0.0059289028868079185, 0.8171623945236206, 0.1167374849319458, 0.03966982290148735, 0.0066116368398070335, 0.013223273679614067, 0.0793396458029747, 0.8396778702735901, 0.013223273679614067, 0.003159775398671627, 0.022118428722023964, 0.8499796390533447, 0.12007147073745728, 0.9301033020019531, 0.03875430300831795, 0.5325474143028259, 0.43110981583595276, 0.9236485362052917, 0.9803189039230347, 0.007315812632441521, 0.02481626160442829, 0.0041360436007380486, 0.028952306136488914, 0.053768567740917206, 0.1778498739004135, 0.6989913582801819, 0.012408130802214146, 0.038156140595674515, 0.9539034962654114, 0.9226804375648499, 0.05323156341910362, 0.137102872133255, 0.045700956135988235, 0.7769162654876709, 0.1615733653306961, 0.5924356579780579, 0.10771557688713074, 0.05385778844356537, 0.08078668266534805, 0.9701541066169739, 0.9710572361946106, 0.9521917104721069, 0.28492116928100586, 0.6105453372001648, 0.08140604943037033, 0.007737921550869942, 0.5880820155143738, 0.3791581392288208, 0.007737921550869942, 0.25223636627197266, 0.558523416519165, 0.18016883730888367, 0.009008442051708698, 0.08274585753679276, 0.49647513031959534, 0.3723563551902771, 0.991703450679779, 0.9637373089790344, 0.98049396276474, 0.9720260500907898, 0.022175626829266548, 0.6874443888664246, 0.22730016708374023, 0.055439066141843796, 0.03434686362743378, 0.11334464699029922, 0.7006760239601135, 0.10990996658802032, 0.003434686455875635, 0.010304058901965618, 0.020608117803931236, 0.9252405762672424, 0.20693737268447876, 0.724280834197998, 0.5088992714881897, 0.02035597153007984, 0.18320374190807343, 0.2646276354789734, 0.9552619457244873, 0.0023620666470378637, 0.10629299283027649, 0.7157061696052551, 0.1724308580160141, 0.8883177638053894, 0.004210036713629961, 0.10104088485240936, 0.9520474672317505, 0.9668212532997131, 0.8235019445419312, 0.13176031410694122, 0.032940078526735306, 0.03820621967315674, 0.9169492125511169, 0.9225812554359436, 0.0419355109333992, 0.7160837650299072, 0.013260810635983944, 0.09282567352056503, 0.053043242543935776, 0.10608648508787155, 0.958577573299408, 0.3024716079235077, 0.2419772744178772, 0.0604943186044693, 0.1814829558134079, 0.1814829558134079, 0.9255068302154541, 0.045146673917770386, 0.026114417240023613, 0.004352402873337269, 0.008704805746674538, 0.004352402873337269, 0.300315797328949, 0.11751487106084824, 0.1436292976140976, 0.3656018376350403, 0.026114417240023613, 0.04390469193458557, 0.003377283923327923, 0.36474665999412537, 0.003377283923327923, 0.013509135693311691, 0.010131851769983768, 0.037150122225284576, 0.010131851769983768, 0.013509135693311691, 0.5032153129577637, 0.0015458925627171993, 0.8409655690193176, 0.0015458925627171993, 0.0015458925627171993, 0.0015458925627171993, 0.1514974683523178, 0.10034984350204468, 0.2174246609210968, 0.06689989566802979, 0.016724973917007446, 0.2508746087551117, 0.35122445225715637, 0.0014897709479555488, 0.007448854390531778, 0.04767267033457756, 0.8834341764450073, 0.053631752729415894, 0.0014897709479555488, 0.0029795418959110975, 0.9545750617980957, 0.03829241171479225, 0.9381154179573059, 0.5201098322868347, 0.027863027527928352, 0.13002745807170868, 0.18575350940227509, 0.018575351685285568, 0.10216443240642548, 0.9653107523918152, 0.0012391665950417519, 0.0012391665950417519, 0.0012391665950417519, 0.028500830754637718, 0.253204345703125, 0.017462367191910744, 0.41909682750701904, 0.017462367191910744, 0.06111828610301018, 0.05238710343837738, 0.008731183595955372, 0.017462367191910744, 0.14843012392520905, 0.4742251932621002, 0.37938013672828674, 0.09484503418207169, 0.9752118587493896, 0.854606032371521, 0.13147786259651184, 0.5006933808326721, 0.00962871965020895, 0.00962871965020895, 0.3081190288066864, 0.00962871965020895, 0.0192574393004179, 0.048143595457077026, 0.0770297572016716, 0.0866641253232956, 0.6337314248085022, 0.0027082539163529873, 0.0027082539163529873, 0.2302015721797943, 0.005416507832705975, 0.0027082539163529873, 0.0324990451335907, 0.5937987565994263, 0.3738732933998108, 0.058438487350940704, 0.01168769784271717, 0.47919559478759766, 0.01168769784271717, 0.1753154695034027, 0.24544164538383484, 0.01168769784271717, 0.4480026662349701, 0.5341570377349854, 0.3773563802242279, 0.6095756888389587, 0.9538251757621765, 0.023845629766583443, 0.2091909646987915, 0.33470556139945984, 0.06275729089975357, 0.2510291635990143, 0.04183819517493248, 0.10459548234939575, 0.3466789126396179, 0.17333945631980896, 0.17333945631980896, 0.17333945631980896, 0.12854647636413574, 0.7198602557182312, 0.017139529809355736, 0.07712788134813309, 0.017139529809355736, 0.02570929378271103, 0.934442400932312, 0.023960061371326447, 0.028752073645591736, 0.05019473284482956, 0.9336220026016235, 0.2710820436477661, 0.0208524651825428, 0.0834098607301712, 0.5838690400123596, 0.0417049303650856, 0.1424415558576584, 0.15826839208602905, 0.047480516135692596, 0.015826838091015816, 0.4114978015422821, 0.23740258812904358, 0.0537441149353981, 0.008957352489233017, 0.5105690956115723, 0.02687205746769905, 0.11644558608531952, 0.24184851348400116, 0.03582940995693207, 0.3596120774745941, 0.037362292408943176, 0.03269200772047043, 0.004670286551117897, 0.06538401544094086, 0.25219547748565674, 0.07472458481788635, 0.014010860584676266, 0.023351434618234634, 0.10741659253835678, 0.02802172116935253, 0.004670286551117897, 0.8572848439216614, 0.12502069771289825, 0.251289963722229, 0.031411245465278625, 0.6282249093055725, 0.031411245465278625, 0.031411245465278625, 0.04314907267689705, 0.004314906895160675, 0.004314906895160675, 0.06472360342741013, 0.0345192551612854, 0.8370919823646545, 0.00862981379032135, 0.9437842965126038, 0.029493259266018867, 0.029493259266018867, 0.38554516434669495, 0.028558900579810143, 0.028558900579810143, 0.014279450289905071, 0.4997807443141937, 0.014279450289905071, 0.014279450289905071, 0.03583579510450363, 0.8242232799530029, 0.03583579510450363, 0.03583579510450363, 0.8673794865608215, 0.0481877475976944, 0.0481877475976944, 0.4368879497051239, 0.4993005096912384, 0.0020846750121563673, 0.9360190629959106, 0.0020846750121563673, 0.004169350024312735, 0.004169350024312735, 0.04794752597808838, 0.9741743803024292, 0.012902971357107162, 0.9587356448173523, 0.015716977417469025, 0.015716977417469025, 0.10019953548908234, 0.08015962690114975, 0.5611173510551453, 0.020039906725287437, 0.22043897211551666, 0.06905040889978409, 0.851621687412262, 0.06905040889978409, 0.965742826461792, 0.025639189407229424, 0.02288246527314186, 0.09152986109256744, 0.8466512560844421, 0.04127475991845131, 0.013758253306150436, 0.660396158695221, 0.27516505122184753, 0.037088990211486816, 0.8530467748641968, 0.07417798042297363, 0.027463115751743317, 0.05492623150348663, 0.43940985202789307, 0.38448360562324524, 0.05492623150348663, 0.09932274371385574, 0.04966137185692787, 0.09932274371385574, 0.6952592134475708, 0.6514570713043213, 0.3152211606502533, 0.010507372207939625, 0.0447944700717926, 0.895889401435852, 0.9440572261810303, 0.04720286279916763, 0.07001468539237976, 0.3249935507774353, 0.01671992614865303, 0.32185855507850647, 0.0010449953842908144, 0.06478971242904663, 0.1306244134902954, 0.009404958225786686, 0.02925986982882023, 0.025079887360334396, 0.005224976688623428, 0.05047924444079399, 0.8076679110527039, 0.10095848888158798, 0.9155783653259277, 0.07743697613477707, 0.2105562686920166, 0.13710640370845795, 0.2725805938243866, 0.0032644381280988455, 0.10446202009916306, 0.09466870874166489, 0.022851066663861275, 0.006528876256197691, 0.02121884934604168, 0.05386323109269142, 0.013057752512395382, 0.03917326033115387, 0.016322191804647446, 0.004896657541394234, 0.012681752443313599, 0.012681752443313599, 0.9638131856918335, 0.9406272172927856, 0.05366941913962364, 0.31869369745254517, 0.39836713671684265, 0.07967342436313629, 0.07967342436313629, 0.011987120844423771, 0.003995706792920828, 0.4115578234195709, 0.3196565508842468, 0.01598282717168331, 0.007991413585841656, 0.003995706792920828, 0.1957896500825882, 0.011987120844423771, 0.007991413585841656, 0.31283822655677795, 0.06256764382123947, 0.06256764382123947, 0.375405877828598, 0.187702938914299, 0.15737679600715637, 0.7868840098381042, 0.009783348068594933, 0.9587680697441101, 0.009783348068594933, 0.010715413838624954, 0.9536718130111694, 0.010715413838624954, 0.010715413838624954, 0.8040507435798645, 0.01827388070523739, 0.1461910456418991, 0.013709820806980133, 0.8225892186164856, 0.13709820806980133, 0.013709820806980133, 0.8950238227844238, 0.038896698504686356, 0.0027783357072621584, 0.16670013964176178, 0.0027783357072621584, 0.030561693012714386, 0.07779339700937271, 0.05834504961967468, 0.28616857528686523, 0.033340029418468475, 0.30561694502830505, 0.027802735567092896, 0.9619746208190918, 0.005560547113418579, 0.5415007472038269, 0.04512505978345871, 0.406125545501709, 0.29984328150749207, 0.005451695993542671, 0.0027258479967713356, 0.33527931571006775, 0.11175976693630219, 0.14174409210681915, 0.05996865779161453, 0.03816187381744385, 0.0027258479967713356, 0.23034517467021942, 0.004953659605234861, 0.5771013498306274, 0.01733780838549137, 0.05201342701911926, 0.042106106877326965, 0.07430489361286163, 0.9667648673057556, 0.9602510333061218, 0.029098516330122948, 0.08058646321296692, 0.4835187792778015, 0.04029323160648346, 0.3223458528518677, 0.04029323160648346, 0.0018628232646733522, 0.8773897290229797, 0.0018628232646733522, 0.11549504101276398, 0.6193252801895142, 0.012902610003948212, 0.3483704626560211, 0.05689442157745361, 0.8534163236618042, 0.05689442157745361, 0.12686079740524292, 0.4440127909183502, 0.3080905079841614, 0.009061485528945923, 0.009061485528945923, 0.09967634081840515, 0.03303461894392967, 0.908452033996582, 0.03303461894392967, 0.9357938170433044, 0.04068668559193611, 0.8920881152153015, 0.05247577279806137, 0.1523546427488327, 0.03047093003988266, 0.03047093003988266, 0.6703604459762573, 0.09141279011964798, 0.15506824851036072, 0.3993173837661743, 0.14508531987667084, 0.14308872818946838, 0.007320818491280079, 0.014641636982560158, 0.02329351380467415, 0.03527303412556648, 0.015307166613638401, 0.03194538876414299, 0.003327644895762205, 0.00665528979152441, 0.015307166613638401, 0.00465870276093483, 0.4564417600631714, 0.1727076917886734, 0.05551318824291229, 0.012336263433098793, 0.24055714905261993, 0.018504396080970764, 0.030840659514069557, 0.41262179613113403, 0.09708748757839203, 0.12135935574769974, 0.024271871894598007, 0.3155343234539032, 0.08371230214834213, 0.38835227489471436, 0.08771593123674393, 0.21073661744594574, 0.004003631882369518, 0.005823464598506689, 0.07752487063407898, 0.07606900483369827, 0.001819832599721849, 0.009099163115024567, 0.0010918995831161737, 0.013466761447489262, 0.004731564782559872, 0.03639665246009827, 0.05456037446856499, 0.35387757420539856, 0.27433159947395325, 0.14481444656848907, 0.004589190240949392, 0.00815856084227562, 0.06169911473989487, 0.008668470196425915, 0.009178380481898785, 0.03518379107117653, 0.0010198201052844524, 0.009178380481898785, 0.02753514237701893, 0.00764865055680275, 0.03896469250321388, 0.8831996917724609, 0.051952920854091644, 0.8363929986953735, 0.15560799837112427, 0.6021727323532104, 0.33454039692878723, 0.9514042735099792, 0.027576934546232224, 0.02804143913090229, 0.08412431925535202, 0.8412432074546814, 0.3583505153656006, 0.573360800743103, 0.4047800302505493, 0.005621945019811392, 0.10119500756263733, 0.21363390982151031, 0.19676807522773743, 0.022487780079245567, 0.056219447404146194, 0.0718909204006195, 0.01198181975632906, 0.09585455805063248, 0.02396363951265812, 0.7548546195030212, 0.02396363951265812, 0.009227660484611988, 0.9227660298347473, 0.009227660484611988, 0.05536596104502678, 0.1614445149898529, 0.7892842888832092, 0.0358765572309494, 0.20481954514980316, 0.17921710014343262, 0.4608439803123474, 0.10240977257490158, 0.82801753282547, 0.14931464195251465, 0.03112887032330036, 0.7782217860221863, 0.03112887032330036, 0.15564435720443726, 0.055175092071294785, 0.6069260239601135, 0.11035018414258957, 0.16552527248859406, 0.012198660522699356, 0.024397321045398712, 0.9392969012260437, 0.18863937258720398, 0.026948481798171997, 0.7545574903488159, 0.9709982872009277, 0.012137478217482567, 0.25697046518325806, 0.028552275151014328, 0.06424261629581451, 0.6352881193161011, 0.007138068787753582, 0.06324547529220581, 0.7968930006027222, 0.11384185403585434, 0.012649095617234707, 0.796580970287323, 0.020425153896212578, 0.10212577134370804, 0.040850307792425156, 0.19802430272102356, 0.3655833303928375, 0.015232639387249947, 0.015232639387249947, 0.16755902767181396, 0.22848959267139435, 0.26953351497650146, 0.007487041875720024, 0.0024956807028502226, 0.0024956807028502226, 0.022461125627160072, 0.6164331436157227, 0.004991361405700445, 0.0024956807028502226, 0.0024956807028502226, 0.06987905502319336, 0.06984324753284454, 0.44234055280685425, 0.44234055280685425, 0.023281080648303032, 0.21798408031463623, 0.6539522409439087, 0.07266136258840561, 0.06228918582201004, 0.18686755001544952, 0.12457837164402008, 0.6228918433189392, 0.13121552765369415, 0.20994484424591064, 0.5248621106147766, 0.10497242212295532, 0.041892506182193756, 0.010473126545548439, 0.6231510639190674, 0.0942581444978714, 0.020946253091096878, 0.0942581444978714, 0.0052365632727742195, 0.03665594384074211, 0.020946253091096878, 0.015709690749645233, 0.020946253091096878, 0.010473126545548439, 0.06000429764389992, 0.7000501751899719, 0.17001217603683472, 0.010000716894865036, 0.05000358074903488, 0.09928760677576065, 0.06619174033403397, 0.08273967355489731, 0.13238348066806793, 0.5957256555557251, 0.6543523073196411, 0.005319937597960234, 0.010639875195920467, 0.010639875195920467, 0.03191962465643883, 0.1010788083076477, 0.03191962465643883, 0.021279750391840935, 0.005319937597960234, 0.010639875195920467, 0.11171868443489075, 0.005319937597960234, 0.5838018655776978, 0.38920125365257263, 0.8744716644287109, 0.10493659973144531, 0.5920248627662659, 0.16650699079036713, 0.01850077696144581, 0.01850077696144581, 0.18500776588916779, 0.9484856128692627, 0.02061925269663334, 0.9618151187896729, 0.015028361231088638, 0.14478911459445953, 0.02068415842950344, 0.02068415842950344, 0.7653138637542725, 0.01034207921475172, 0.031026238575577736, 0.18806731700897217, 0.18806731700897217, 0.09403365850448608, 0.09403365850448608, 0.37613463401794434, 0.2257896512746811, 0.18473698198795319, 0.10263165831565857, 0.2668423056602478, 0.08210532367229462, 0.14368432760238647, 0.06883156299591064, 0.8259787559509277, 0.9914730191230774, 0.0023833485320210457, 0.0023833485320210457, 0.923754096031189, 0.06392758339643478, 0.8999037146568298, 0.024587532505393028, 0.004917506594210863, 0.023561449721455574, 0.23561449348926544, 0.05890362337231636, 0.2945181131362915, 0.05890362337231636, 0.2945181131362915, 0.011780724860727787, 0.9821630716323853, 0.004910815507173538, 0.9746677279472351, 0.01709943264722824, 0.5731959342956543, 0.343917578458786, 0.9667438268661499, 0.042134132236242294, 0.08426826447248459, 0.7162802815437317, 0.08426826447248459, 0.042134132236242294, 0.08147139847278595, 0.40735697746276855, 0.1629427969455719, 0.08147139847278595, 0.08147139847278595, 0.15931233763694763, 0.05310411378741264, 0.05310411378741264, 0.10620822757482529, 0.4779370427131653, 0.10620822757482529, 0.05310411378741264, 0.35737481713294983, 0.15316063165664673, 0.15316063165664673, 0.2042141854763031, 0.051053546369075775, 0.15316063165664673, 0.0718516856431961, 0.1437033712863922, 0.0718516856431961, 0.2874067425727844, 0.2874067425727844, 0.0718516856431961, 0.09688776731491089, 0.1703888326883316, 0.3508005142211914, 0.14700213074684143, 0.050114359706640244, 0.06681914627552032, 0.040091488510370255, 0.006681914906948805, 0.010022872127592564, 0.006681914906948805, 0.010022872127592564, 0.040091488510370255, 0.0033409574534744024, 0.33061209321022034, 0.08265302330255508, 0.08265302330255508, 0.08265302330255508, 0.24795906245708466, 0.209000363945961, 0.209000363945961, 0.209000363945961, 0.069666787981987, 0.139333575963974, 0.139333575963974, 0.38114333152770996, 0.19057166576385498, 0.19057166576385498, 0.09528583288192749, 0.4851382076740265, 0.06930545717477798, 0.3465273082256317, 0.3205491304397583, 0.12821964919567108, 0.12821964919567108, 0.06410982459783554, 0.12821964919567108, 0.12821964919567108, 0.03243456780910492, 0.6811258792877197, 0.06486913561820984, 0.09730370342731476, 0.03243456780910492, 0.03243456780910492, 0.6499661207199097, 0.18570460379123688, 0.09285230189561844, 0.288912832736969, 0.0963042750954628, 0.1926085501909256, 0.0963042750954628, 0.0963042750954628, 0.1926085501909256, 0.27614113688468933, 0.13807056844234467, 0.11695389449596405, 0.11370518058538437, 0.058476947247982025, 0.04873079061508179, 0.060101307928562164, 0.05197950825095177, 0.021116675809025764, 0.03411155194044113, 0.03086283430457115, 0.03248719498515129, 0.011370518244802952, 0.006497438531368971, 0.4823991358280182, 0.06891416013240814, 0.41348499059677124, 0.21610093116760254, 0.14406728744506836, 0.07203364372253418, 0.14406728744506836, 0.2881345748901367, 0.07203364372253418, 0.31825074553489685, 0.06365014612674713, 0.06365014612674713, 0.3819009065628052, 0.06365014612674713, 0.1487654596567154, 0.446296364068985, 0.1487654596567154, 0.0743827298283577, 0.1487654596567154, 0.3282305598258972, 0.1347322016954422, 0.09746584296226501, 0.07166606187820435, 0.07309938222169876, 0.05589953064918518, 0.06449946016073227, 0.05303288623690605, 0.02006649784743786, 0.0386996753513813, 0.018633175641298294, 0.024366460740566254, 0.01146657019853592, 0.00859992764890194, 0.1388508379459381, 0.23141807317733765, 0.09256722778081894, 0.04628361389040947, 0.37026891112327576, 0.04628361389040947, 0.04628361389040947, 0.15232227742671967, 0.050774093717336655, 0.6092891097068787, 0.10154818743467331, 0.2517951428890228, 0.6546673774719238, 0.050359029322862625, 0.36644935607910156, 0.14657974243164062, 0.4397392272949219, 0.02804386243224144, 0.30287373065948486, 0.07852281630039215, 0.4767456650733948, 0.03365263342857361, 0.016826316714286804, 0.011217544786632061, 0.0056087723933160305, 0.016826316714286804, 0.03365263342857361, 0.1867108941078186, 0.0933554470539093, 0.14003317058086395, 0.04667772352695465, 0.04667772352695465, 0.32674404978752136, 0.04667772352695465, 0.0933554470539093, 0.20359602570533752, 0.19632473587989807, 0.17596513032913208, 0.149788498878479, 0.055261775851249695, 0.045081976801157, 0.05962454900145531, 0.021813860163092613, 0.014542573131620884, 0.024722373113036156, 0.024722373113036156, 0.01599683053791523, 0.005817029159516096, 0.005817029159516096, 0.26145079731941223, 0.08715026825666428, 0.08715026825666428, 0.08715026825666428, 0.435751348733902, 0.2660007178783417, 0.13300035893917084, 0.08866690844297409, 0.13300035893917084, 0.310334175825119, 0.044333454221487045, 0.32621434330940247, 0.4893215298652649, 0.16310717165470123, 0.1529771238565445, 0.22946567833423615, 0.22946567833423615, 0.38244280219078064, 0.31614312529563904, 0.06322862207889557, 0.10042193531990051, 0.011157992295920849, 0.11529925465583801, 0.044631969183683395, 0.19712452590465546, 0.0037193307653069496, 0.04091263934969902, 0.026035316288471222, 0.06694795191287994, 0.007438661530613899, 0.0037193307653069496, 0.05626969784498215, 0.05626969784498215, 0.2250787913799286, 0.5064272880554199, 0.05626969784498215, 0.9027231335639954, 0.05310136079788208, 0.007123532239347696, 0.13534711301326752, 0.512894332408905, 0.2564471662044525, 0.014247064478695393, 0.014247064478695393, 0.007123532239347696, 0.04274119436740875, 0.3242878019809723, 0.3242878019809723, 0.25943025946617126, 0.1575944572687149, 0.22491635382175446, 0.23256658017635345, 0.14076398313045502, 0.03825107961893082, 0.03825107961893082, 0.015300432220101357, 0.035190995782613754, 0.01989056169986725, 0.018360519781708717, 0.02601073496043682, 0.015300432220101357, 0.02142060548067093, 0.015300432220101357, 0.2603239119052887, 0.13016195595264435, 0.13016195595264435, 0.06508097797632217, 0.06508097797632217, 0.13016195595264435, 0.19524294137954712, 0.12649430334568024, 0.7168010473251343, 0.04216476529836655, 0.06324715167284012, 0.021082382649183273, 0.5535356402397156, 0.026870664209127426, 0.01074826531112194, 0.00537413265556097, 0.13435330986976624, 0.02149653062224388, 0.09136025607585907, 0.06986372172832489, 0.01074826531112194, 0.07523785531520844, 0.31730222702026367, 0.09519066661596298, 0.20624643564224243, 0.2221115529537201, 0.015865109860897064, 0.015865109860897064, 0.06346043944358826, 0.03173021972179413, 0.03173021972179413, 0.5335023403167725, 0.06668779253959656, 0.13337558507919312, 0.13337558507919312, 0.06668779253959656, 0.57596755027771, 0.07199594378471375, 0.07199594378471375, 0.07199594378471375, 0.07199594378471375, 0.07199594378471375, 0.40173637866973877, 0.025642747059464455, 0.008547582663595676, 0.13676132261753082, 0.05128549411892891, 0.07692824304103851, 0.23078472912311554, 0.017095165327191353, 0.017095165327191353, 0.025642747059464455, 0.06912455707788467, 0.683969259262085, 0.14552538096904755, 0.0072762686759233475, 0.02546694129705429, 0.0036381343379616737, 0.0036381343379616737, 0.0036381343379616737, 0.0036381343379616737, 0.03274320811033249, 0.018190672621130943, 0.46094468235969543, 0.04505474492907524, 0.05545199289917946, 0.024260247126221657, 0.07278074324131012, 0.06931499391794205, 0.038123246282339096, 0.12476698309183121, 0.006931499112397432, 0.04505474492907524, 0.013862998224794865, 0.034657496958971024, 0.003465749556198716, 0.003465749556198716, 0.1252388209104538, 0.23258636891841888, 0.08051066845655441, 0.044728148728609085, 0.21469511091709137, 0.05367377772927284, 0.008945629931986332, 0.19680385291576385, 0.017891259863972664, 0.017891259863972664, 0.8042174577713013, 0.05361449345946312, 0.08042174577713013, 0.02680724672973156, 0.02680724672973156, 0.01340362336486578, 0.31177181005477905, 0.08502867817878723, 0.07288172841072083, 0.03644086420536041, 0.1255185306072235, 0.06883274018764496, 0.10527360439300537, 0.008097968995571136, 0.016195937991142273, 0.03644086420536041, 0.09312664717435837, 0.02024492435157299, 0.02024492435157299, 0.12774677574634552, 0.1637779176235199, 0.2948002517223358, 0.24894241988658905, 0.006551116239279509, 0.0032755581196397543, 0.03603114187717438, 0.009826675057411194, 0.0032755581196397543, 0.04585781693458557, 0.039306700229644775, 0.01637779176235199, 0.6086074709892273, 0.13524611294269562, 0.06762305647134781, 0.13524611294269562, 0.28865674138069153, 0.6013681888580322, 0.07216418534517288, 0.02405472844839096, 0.1352153867483139, 0.1352153867483139, 0.20282307267189026, 0.33803844451904297, 0.1352153867483139, 0.462319552898407, 0.04510434716939926, 0.02255217358469963, 0.33828258514404297, 0.02255217358469963, 0.011276086792349815, 0.0676565170288086, 0.1573607176542282, 0.0786803588271141, 0.2360410839319229, 0.3934018015861511, 0.2896626889705658, 0.2482823133468628, 0.0413803867995739, 0.3724234700202942, 0.22401107847690582, 0.1299264281988144, 0.17024841904640198, 0.12544620037078857, 0.10752531886100769, 0.013440664857625961, 0.044802214950323105, 0.031361550092697144, 0.022401107475161552, 0.008960443548858166, 0.058242879807949066, 0.040321994572877884, 0.01792088709771633, 0.36175963282585144, 0.5140795111656189, 0.019039981067180634, 0.0571199432015419, 0.019039981067180634, 0.019039981067180634, 0.3353317677974701, 0.08383294194936752, 0.16766588389873505, 0.10479117929935455, 0.10479117929935455, 0.04191647097468376, 0.04191647097468376, 0.02095823548734188, 0.08383294194936752, 0.24439507722854614, 0.07855556160211563, 0.11928807199001312, 0.13092593848705292, 0.18038684129714966, 0.06691770255565643, 0.03782304748892784, 0.020366257056593895, 0.04946090653538704, 0.005818930454552174, 0.026185186579823494, 0.029094651341438293, 0.005818930454552174, 0.002909465227276087, 0.583134651184082, 0.058313462883234024, 0.05345400795340538, 0.004859455395489931, 0.048594553023576736, 0.03887564316391945, 0.05345400795340538, 0.014578365720808506, 0.09232965111732483, 0.03887564316391945, 0.004859455395489931, 0.004859455395489931, 0.42863667011260986, 0.08572733402252197, 0.3429093360900879, 0.24137292802333832, 0.16484004259109497, 0.17857672274112701, 0.0627962127327919, 0.0627962127327919, 0.051021918654441833, 0.060833826661109924, 0.007849526591598988, 0.04317239299416542, 0.07457049936056137, 0.029435722157359123, 0.013736670836806297, 0.001962381647899747, 0.00981190800666809, 0.6942452788352966, 0.05855080857872963, 0.1505592167377472, 0.016728801652789116, 0.016728801652789116, 0.041822005063295364, 0.008364400826394558, 0.5580528378486633, 0.159443661570549, 0.03188873082399368, 0.06377746164798737, 0.17538802325725555, 0.7014544010162354, 0.014029087498784065, 0.0982036143541336, 0.02805817499756813, 0.0982036143541336, 0.014029087498784065, 0.014029087498784065, 0.5186516046524048, 0.11113963276147842, 0.03704654425382614, 0.29637235403060913, 0.31440597772598267, 0.06986799836158752, 0.06986799836158752, 0.41920796036720276, 0.03493399918079376, 0.10480199009180069, 0.6550818085670471, 0.0935831144452095, 0.187166228890419, 0.8445796966552734, 0.36786937713623047, 0.4598367214202881, 0.09196734428405762, 0.19097623229026794, 0.12731748819351196, 0.19097623229026794, 0.12731748819351196, 0.06365874409675598, 0.06365874409675598, 0.06365874409675598, 0.12731748819351196, 0.15877293050289154, 0.3175458610057831, 0.3175458610057831, 0.07938646525144577, 0.36540356278419495, 0.4567544460296631, 0.04567544534802437, 0.04567544534802437, 0.9089822769165039, 0.06733202189207077, 0.32133346796035767, 0.08033336699008942, 0.32133346796035767, 0.08033336699008942, 0.08033336699008942, 0.34882909059524536, 0.17441454529762268, 0.34882909059524536, 0.8850157856941223, 0.06321541219949722, 0.22611388564109802, 0.15074259042739868, 0.07537129521369934, 0.22611388564109802, 0.15074259042739868, 0.15074259042739868, 0.0597987174987793, 0.7773833274841309, 0.0597987174987793, 0.0597987174987793, 0.07054290920495987, 0.4938003420829773, 0.07054290920495987, 0.211628720164299, 0.07054290920495987, 0.18072155117988586, 0.18523958325386047, 0.23945605754852295, 0.14909528195858002, 0.009036077186465263, 0.01355411671102047, 0.022590193897485733, 0.1310231238603592, 0.004518038593232632, 0.031626272946596146, 0.018072154372930527, 0.004518038593232632, 0.48304954171180725, 0.06900707632303238, 0.3450353741645813, 0.06900707632303238, 0.07566992938518524, 0.03783496469259262, 0.7693109512329102, 0.01261165551841259, 0.02522331103682518, 0.01261165551841259, 0.0630582794547081, 0.5836646556854248, 0.32425814867019653, 0.043919481337070465, 0.02927965484559536, 0.23423723876476288, 0.2927965521812439, 0.02927965484559536, 0.02927965484559536, 0.18299783766269684, 0.021959740668535233, 0.043919481337070465, 0.01463982742279768, 0.03659956902265549, 0.02927965484559536, 0.021959740668535233, 0.4681275486946106, 0.093625508248806, 0.093625508248806, 0.187251016497612, 0.2976706922054291, 0.4762731194496155, 0.059534139931201935, 0.059534139931201935, 0.4667055904865265, 0.054906539618968964, 0.054906539618968964, 0.3019859790802002, 0.08235981315374374, 0.13026779890060425, 0.172218456864357, 0.18767395615577698, 0.1766343116760254, 0.06623786687850952, 0.04415857791900635, 0.07286164909601212, 0.01766343042254448, 0.01766343042254448, 0.019871359691023827, 0.04195064678788185, 0.00441585760563612, 0.03974271938204765, 0.011039644479751587, 0.8564890027046204, 0.015572527423501015, 0.015572527423501015, 0.046717580407857895, 0.015572527423501015, 0.015572527423501015, 0.4209441542625427, 0.02405395172536373, 0.09621580690145493, 0.04810790345072746, 0.31270137429237366, 0.04810790345072746, 0.03608092665672302, 0.2501928508281708, 0.050038568675518036, 0.1501156985759735, 0.35026997327804565, 0.10007713735103607, 0.02413978800177574, 0.30778229236602783, 0.10862904787063599, 0.13880378007888794, 0.07845430821180344, 0.03620968014001846, 0.27157261967658997, 0.006034947000443935, 0.01810484007000923, 0.006034947000443935, 0.17375613749027252, 0.25020885467529297, 0.1459551602602005, 0.1598556488752365, 0.04517659544944763, 0.024325860664248466, 0.07297758013010025, 0.013900491409003735, 0.013900491409003735, 0.017375614494085312, 0.020850736647844315, 0.006950245704501867, 0.04517659544944763, 0.006950245704501867, 0.4640093445777893, 0.04106277599930763, 0.008212555199861526, 0.09855066239833832, 0.07801926881074905, 0.07801926881074905, 0.01231883279979229, 0.13140088319778442, 0.020531387999653816, 0.057487886399030685, 0.004106277599930763, 0.004106277599930763, 0.05518144369125366, 0.1392674595117569, 0.231236532330513, 0.3284609615802765, 0.04467069357633591, 0.01051075104624033, 0.01051075104624033, 0.03941531851887703, 0.03415993973612785, 0.049926068633794785, 0.005255375523120165, 0.013138438574969769, 0.01051075104624033, 0.028904566541314125, 0.1882701963186264, 0.006723935250192881, 0.07060132175683975, 0.386626273393631, 0.0235337745398283, 0.06387738883495331, 0.10758296400308609, 0.12775477766990662, 0.010085903108119965, 0.013447870500385761, 0.027008485049009323, 0.3812962472438812, 0.2097129374742508, 0.24784256517887115, 0.022242281585931778, 0.025419751182198524, 0.0031774688977748156, 0.006354937795549631, 0.0031774688977748156, 0.015887344256043434, 0.012709875591099262, 0.0031774688977748156, 0.017476078122854233, 0.023831015452742577, 0.3795306384563446, 0.28464797139167786, 0.28464797139167786, 0.3197041451931, 0.07764244079589844, 0.05023922398686409, 0.02740321308374405, 0.1141800582408905, 0.14158326387405396, 0.0548064261674881, 0.009134404361248016, 0.059373628348112106, 0.02740321308374405, 0.10504565387964249, 0.018268808722496033, 0.22157853841781616, 0.031654078513383865, 0.15827038884162903, 0.12661631405353546, 0.06330815702676773, 0.22157853841781616, 0.15827038884162903, 0.031654078513383865, 0.3479847311973572, 0.1159949079155922, 0.0579974539577961, 0.1739923655986786, 0.0579974539577961, 0.0579974539577961, 0.1159949079155922, 0.7306020855903625, 0.016990745440125465, 0.09344910085201263, 0.07645835727453232, 0.03398149088025093, 0.016990745440125465, 0.016990745440125465, 0.016990745440125465, 0.34823986887931824, 0.13058994710445404, 0.04352998360991478, 0.08705996721982956, 0.02176499180495739, 0.04352998360991478, 0.02176499180495739, 0.2176499217748642, 0.02176499180495739, 0.02176499180495739, 0.3786669671535492, 0.2840002179145813, 0.0946667417883873, 0.1893334835767746, 0.07290924340486526, 0.14581848680973053, 0.29163697361946106, 0.14581848680973053, 0.14581848680973053, 0.14581848680973053, 0.8445450067520142, 0.6022100448608398, 0.0860300064086914, 0.0860300064086914, 0.0860300064086914, 0.0860300064086914, 0.9478223323822021, 0.9273090958595276, 0.09132291376590729, 0.35124197602272034, 0.24586938321590424, 0.11942227184772491, 0.028099358081817627, 0.007024839520454407, 0.04214903712272644, 0.02107451856136322, 0.007024839520454407, 0.007024839520454407, 0.014049679040908813, 0.07024839520454407, 0.007024839520454407, 0.05990668013691902, 0.6589735150337219, 0.11981336027383804, 0.11981336027383804, 0.36744871735572815, 0.29395899176597595, 0.22046923637390137, 0.07348974794149399, 0.3488062918186188, 0.11626876145601273, 0.05813438072800636, 0.05813438072800636, 0.40694066882133484, 0.436117947101593, 0.1282699853181839, 0.07696198672056198, 0.05130799114704132, 0.02565399557352066, 0.02565399557352066, 0.02565399557352066, 0.1282699853181839, 0.02565399557352066, 0.4830048680305481, 0.06900069862604141, 0.13800139725208282, 0.20700208842754364, 0.2901732325553894, 0.08290664106607437, 0.08290664106607437, 0.20726659893989563, 0.041453320533037186, 0.041453320533037186, 0.041453320533037186, 0.08290664106607437, 0.12435995787382126, 0.32582199573516846, 0.24436649680137634, 0.32582199573516846, 0.08145549893379211, 0.16972726583480835, 0.16972726583480835, 0.08486363291740417, 0.3394545316696167, 0.08486363291740417, 0.45582547783851624, 0.09338092058897018, 0.05856091529130936, 0.04748182371258736, 0.10446000844240189, 0.033237274736166, 0.11553910374641418, 0.018992729485034943, 0.022158183157444, 0.006330909673124552, 0.03482000157237053, 0.001582727418281138, 0.004748182371258736, 0.003165454836562276, 0.35940849781036377, 0.2053762823343277, 0.051344070583581924, 0.025672035291790962, 0.33373644948005676, 0.24860438704490662, 0.1165333017706871, 0.015537774190306664, 0.03884443640708923, 0.12430219352245331, 0.16314662992954254, 0.062151096761226654, 0.217528834939003, 0.007768887095153332, 0.5332303047180176, 0.052991833537817, 0.03643188625574112, 0.0264959167689085, 0.10267167538404465, 0.01324795838445425, 0.059615813195705414, 0.01324795838445425, 0.06955178081989288, 0.04636785387992859, 0.03643188625574112, 0.009935968555510044, 0.17349271476268768, 0.09463239461183548, 0.06308826059103012, 0.09463239461183548, 0.12617652118206024, 0.06308826059103012, 0.1577206552028656, 0.03154413029551506, 0.1577206552028656, 0.01577206514775753, 0.18791626393795013, 0.37583252787590027, 0.18791626393795013, 0.09395813196897507, 0.09395813196897507, 0.22344914078712463, 0.6703474521636963, 0.056942347437143326, 0.34165409207344055, 0.17082704603672028, 0.11388469487428665, 0.056942347437143326, 0.17082704603672028, 0.3633469343185425, 0.436016321182251, 0.0726693868637085, 0.20914983749389648, 0.19013622403144836, 0.201544389128685, 0.10647628456354141, 0.07225176692008972, 0.026619071140885353, 0.02281634695827961, 0.015210897661745548, 0.019013622775673866, 0.015210897661745548, 0.02281634695827961, 0.019013622775673866, 0.06844903528690338, 0.007605448830872774, 0.22046567499637604, 0.14697712659835815, 0.14697712659835815, 0.14697712659835815, 0.07348856329917908, 0.22046567499637604, 0.20969273149967194, 0.42614975571632385, 0.19616417586803436, 0.006764281541109085, 0.006764281541109085, 0.006764281541109085, 0.006764281541109085, 0.1352856308221817, 0.006764281541109085, 0.3412075340747833, 0.03591658174991608, 0.3412075340747833, 0.044895727187395096, 0.09877060353755951, 0.03591658174991608, 0.00897914543747902, 0.08979145437479019, 0.8605056405067444, 0.09561173617839813, 0.6285348534584045, 0.2618895173072815, 0.05237790569663048, 0.05237790569663048, 0.26737600564956665, 0.6238773465156555, 0.029708445072174072, 0.029708445072174072, 0.029708445072174072, 0.2922913730144501, 0.11691654473543167, 0.23383308947086334, 0.11691654473543167, 0.058458272367715836, 0.11691654473543167, 0.058458272367715836, 0.862019956111908, 0.05070705711841583, 0.05070705711841583, 0.38873961567878723, 0.4240795969963074, 0.12957987189292908, 0.03533996641635895, 0.1288033425807953, 0.8372217416763306, 0.22466686367988586, 0.14977791905403137, 0.07488895952701569, 0.07488895952701569, 0.29955583810806274, 0.07488895952701569, 0.2203918844461441, 0.1908751130104065, 0.12003486603498459, 0.08855031430721283, 0.12593822181224823, 0.04919461905956268, 0.023613417521119118, 0.06493689864873886, 0.025581201538443565, 0.04329126328229904, 0.025581201538443565, 0.011806708760559559, 0.0019677847158163786, 0.009838923811912537, 0.3048888146877289, 0.05081479996442795, 0.15244440734386444, 0.05081479996442795, 0.33029618859291077, 0.025407399982213974, 0.025407399982213974, 0.025407399982213974, 0.1187865138053894, 0.3068651556968689, 0.15838201344013214, 0.09898876398801804, 0.06929213553667068, 0.009898875840008259, 0.009898875840008259, 0.10888763517141342, 0.0593932569026947, 0.009898875840008259, 0.039595503360033035, 0.11419574171304703, 0.6090439558029175, 0.03806524723768234, 0.03806524723768234, 0.07613049447536469, 0.07613049447536469, 0.03806524723768234, 0.35312122106552124, 0.17656061053276062, 0.2648409307003021, 0.08828030526638031, 0.4522053301334381, 0.07457085698843002, 0.08030708134174347, 0.02485695295035839, 0.07074671238660812, 0.07648293673992157, 0.02294488064944744, 0.029637137427926064, 0.0640544593334198, 0.04684579744935036, 0.03346128389239311, 0.01147244032472372, 0.009560367092490196, 0.00286811008118093, 0.5671095252037048, 0.0668250098824501, 0.05237635597586632, 0.025285137817263603, 0.06501892954111099, 0.03612162545323372, 0.03792770579457283, 0.023479057475924492, 0.027091220021247864, 0.03612162545323372, 0.03973378986120224, 0.014448650181293488, 0.005418243817985058, 0.001806081272661686, 0.2907627522945404, 0.0484604611992836, 0.0484604611992836, 0.0242302305996418, 0.3392232358455658, 0.0726906880736351, 0.0726906880736351, 0.0484604611992836, 0.0242302305996418, 0.055949509143829346, 0.1946069896221161, 0.2651520073413849, 0.29920825362205505, 0.03648880869150162, 0.0024325873237103224, 0.07054503262042999, 0.004865174647420645, 0.007297762203961611, 0.02432587370276451, 0.026758460327982903, 0.012162936851382256, 0.2590857446193695, 0.1434607058763504, 0.16915515065193176, 0.08350697159767151, 0.06637734174728394, 0.08350697159767151, 0.04282408952713013, 0.025694454088807106, 0.04282408952713013, 0.019270841032266617, 0.027835657820105553, 0.014988431707024574, 0.012847227044403553, 0.00856481771916151, 0.07589952647686005, 0.38728219270706177, 0.09536094218492508, 0.24910612404346466, 0.005838424898684025, 0.019461415708065033, 0.005838424898684025, 0.031138265505433083, 0.007784566376358271, 0.09536094218492508, 0.0019461415940895677, 0.021407557651400566, 0.0019461415940895677, 0.4510899782180786, 0.028193123638629913, 0.028193123638629913, 0.31012436747550964, 0.028193123638629913, 0.028193123638629913, 0.05638624727725983, 0.2579035460948944, 0.1934276521205902, 0.18764135241508484, 0.07935493439435959, 0.07108879834413528, 0.05455651879310608, 0.03554439917206764, 0.017358891665935516, 0.021491961553692818, 0.015705663710832596, 0.03058471344411373, 0.0033064556773751974, 0.022318575531244278, 0.009919366799294949, 0.9274481534957886, 0.23975162208080292, 0.18736891448497772, 0.1752806007862091, 0.08864765614271164, 0.0977138951420784, 0.03727231174707413, 0.028206072747707367, 0.039287030696868896, 0.023169273510575294, 0.01813247613608837, 0.026191353797912598, 0.027198713272809982, 0.008058877661824226, 0.003022079123184085, 0.5266760587692261, 0.06949198246002197, 0.0512046180665493, 0.010972417891025543, 0.04023220017552376, 0.04388967156410217, 0.14629890024662018, 0.02560230903327465, 0.036574725061655045, 0.010972417891025543, 0.02560230903327465, 0.007314945571124554, 0.003657472785562277, 0.04780099540948868, 0.14340297877788544, 0.04780099540948868, 0.3824079632759094, 0.04780099540948868, 0.1912039816379547, 0.14340297877788544, 0.32430920004844666, 0.06486184149980545, 0.06486184149980545, 0.06486184149980545, 0.1297236829996109, 0.2594473659992218, 0.435416042804718, 0.08708321303129196, 0.34833285212516785, 0.08708321303129196, 0.08708321303129196, 0.44731682538986206, 0.01626606658101082, 0.00813303329050541, 0.18705976009368896, 0.04879819601774216, 0.056931231170892715, 0.00813303329050541, 0.20332582294940948, 0.00813303329050541, 0.09142632782459259, 0.36570531129837036, 0.09142632782459259, 0.27427899837493896, 0.30880725383758545, 0.27020636200904846, 0.1930045485496521, 0.03860090672969818, 0.03860090672969818, 0.11580272763967514, 0.7465050220489502, 0.13996969163417816, 0.015552187338471413, 0.04665656387805939, 0.015552187338471413, 0.5196945667266846, 0.2227262407541275, 0.14848415553569794, 0.1301790177822113, 0.7810741066932678, 0.032544754445552826, 0.032544754445552826, 0.06606486439704895, 0.3963891863822937, 0.2642594575881958, 0.1321297287940979, 0.1321297287940979, 0.0898936539888382, 0.32143792510032654, 0.18932148814201355, 0.15935693681240082, 0.034050628542900085, 0.042222779244184494, 0.008172150701284409, 0.03949872776865959, 0.02043037675321102, 0.03677467629313469, 0.012258226051926613, 0.012258226051926613, 0.016344301402568817, 0.01906835101544857, 0.14627954363822937, 0.14627954363822937, 0.07313977181911469, 0.4388386309146881, 0.07313977181911469, 0.9244162440299988, 0.06083342432975769, 0.6083342432975769, 0.30416712164878845, 0.3568197786808014, 0.020989399403333664, 0.020989399403333664, 0.44077739119529724, 0.12593640387058258, 0.020989399403333664, 0.9202135801315308, 0.24096713960170746, 0.07496755570173264, 0.05354825407266617, 0.005354825407266617, 0.3534184694290161, 0.04819342866539955, 0.058903079479932785, 0.10709650814533234, 0.042838603258132935, 0.010709650814533234, 0.005354825407266617, 0.08671955019235611, 0.043359775096178055, 0.3035184144973755, 0.043359775096178055, 0.4769574999809265, 0.6443797945976257, 0.016109494492411613, 0.03221898898482323, 0.04832848533987999, 0.008054747246205807, 0.08054747432470322, 0.0886022225022316, 0.05638323351740837, 0.016109494492411613, 0.15333102643489838, 0.23425574600696564, 0.2598109245300293, 0.11499827355146408, 0.06388793140649796, 0.06814712285995483, 0.01703678071498871, 0.01703678071498871, 0.004259195178747177, 0.025555171072483063, 0.038332756608724594, 0.28248855471611023, 0.23540711402893066, 0.23540711402893066, 0.1883256882429123, 0.3603144884109497, 0.14775486290454865, 0.09072666615247726, 0.08035790920257568, 0.09072666615247726, 0.031106285750865936, 0.12960952520370483, 0.018145333975553513, 0.007776571437716484, 0.023329714313149452, 0.002592190634459257, 0.012960952706634998, 0.002592190634459257, 0.005184381268918514, 0.3173708915710449, 0.4760563373565674, 0.15868544578552246, 0.12175697088241577, 0.30439242720603943, 0.15219621360301971, 0.12175697088241577, 0.24351394176483154, 0.413247674703598, 0.10908060520887375, 0.10278749465942383, 0.157327800989151, 0.03356326371431351, 0.016781631857156754, 0.006293111946433783, 0.0314655601978302, 0.035660967230796814, 0.048247188329696655, 0.008390815928578377, 0.006293111946433783, 0.008390815928578377, 0.023074742406606674, 0.22925697267055511, 0.20209382474422455, 0.20100730657577515, 0.10647954791784286, 0.07062418758869171, 0.03911493346095085, 0.019557466730475426, 0.044547565281391144, 0.01629788987338543, 0.021730519831180573, 0.014124837704002857, 0.017384415492415428, 0.013038312084972858, 0.005432629957795143, 0.2751385271549225, 0.05502770468592644, 0.11005540937185287, 0.2751385271549225, 0.2751385271549225, 0.34344491362571716, 0.09366679191589355, 0.062444526702165604, 0.15611131489276886, 0.031222263351082802, 0.031222263351082802, 0.24977810680866241, 0.031222263351082802, 0.21722574532032013, 0.19502750039100647, 0.12446876615285873, 0.12922553718090057, 0.09672095626592636, 0.03488296642899513, 0.0745227038860321, 0.01585589349269867, 0.03012619912624359, 0.023783840239048004, 0.024576636031270027, 0.013477509841322899, 0.01268471498042345, 0.005549563094973564, 0.08580480515956879, 0.17160961031913757, 0.5148288607597351, 0.17160961031913757, 0.16431055963039398, 0.10954037308692932, 0.05477018654346466, 0.3833913207054138, 0.10954037308692932, 0.16431055963039398, 0.0665590912103653, 0.09983863681554794, 0.4991931915283203, 0.23295682668685913, 0.03327954560518265, 0.6375343203544617, 0.057957664132118225, 0.2318306565284729, 0.09123554080724716, 0.41055992245674133, 0.04561777040362358, 0.31932440400123596, 0.04561777040362358, 0.04561777040362358, 0.1448228359222412, 0.30750054121017456, 0.236081063747406, 0.12597602605819702, 0.039677489548921585, 0.010911310091614723, 0.019838744774460793, 0.02777424268424511, 0.019838744774460793, 0.006943560671061277, 0.01884680800139904, 0.007935497909784317, 0.02380649372935295, 0.010911310091614723, 0.13005700707435608, 0.06502850353717804, 0.06502850353717804, 0.26011401414871216, 0.19508551061153412, 0.06502850353717804, 0.19508551061153412, 0.4281505048274994, 0.04865346476435661, 0.19461385905742645, 0.06811485439538956, 0.009730692952871323, 0.1751524806022644, 0.009730692952871323, 0.019461385905742645, 0.03892277181148529, 0.31808167695999146, 0.2047227919101715, 0.10151542723178864, 0.09136388450860977, 0.07444465160369873, 0.03891424834728241, 0.032146554440259933, 0.02199500985443592, 0.04399001970887184, 0.01691923849284649, 0.027070781216025352, 0.01691923849284649, 0.008459619246423244, 0.003383847652003169, 0.47467508912086487, 0.08195828646421432, 0.06602195650339127, 0.026181118562817574, 0.06943688541650772, 0.06943688541650772, 0.05008561909198761, 0.014798023737967014, 0.02048957161605358, 0.039840832352638245, 0.04894731193780899, 0.018212953582406044, 0.009106476791203022, 0.011383095756173134, 0.2890499234199524, 0.1445249617099762, 0.5058373808860779, 0.09580894559621811, 0.47904470562934875, 0.09580894559621811, 0.28742682933807373, 0.4343380928039551, 0.06468865275382996, 0.14785978198051453, 0.07392989099025726, 0.06468865275382996, 0.018482472747564316, 0.05544741824269295, 0.018482472747564316, 0.018482472747564316, 0.09241236001253128, 0.3539257049560547, 0.10890021920204163, 0.027225054800510406, 0.08167516440153122, 0.13612526655197144, 0.05445010960102081, 0.21780043840408325, 0.38868024945259094, 0.09265052527189255, 0.09491029381752014, 0.05423445254564285, 0.05649422109127045, 0.08587121963500977, 0.05875398963689804, 0.015818381682038307, 0.05197468400001526, 0.04293560981750488, 0.0361563004553318, 0.013558613136410713, 0.00903907511383295, 0.0022597687784582376, 0.21461117267608643, 0.2111215591430664, 0.16313938796520233, 0.11079519987106323, 0.053216591477394104, 0.054961398243904114, 0.08200589567422867, 0.03140651434659958, 0.00959643442183733, 0.023554885759949684, 0.02093767561018467, 0.007851628586649895, 0.010468837805092335, 0.00697922520339489, 0.29468896985054016, 0.09674132615327835, 0.18306435644626617, 0.04762649908661842, 0.09822966158390045, 0.12948454916477203, 0.03423154726624489, 0.016371609643101692, 0.014883281663060188, 0.016371609643101692, 0.03571987524628639, 0.008929968811571598, 0.022324921563267708, 0.0014883280964568257, 0.8506243228912354, 0.05316402018070221, 0.05316402018070221, 0.9327517151832581, 0.25990694761276245, 0.1371731162071228, 0.06136691942811012, 0.06136691942811012, 0.1407829374074936, 0.046927645802497864, 0.043317824602127075, 0.050537463277578354, 0.09024547040462494, 0.043317824602127075, 0.032488368451595306, 0.007219637744128704, 0.014439275488257408, 0.010829456150531769, 0.342623770236969, 0.342623770236969, 0.25696784257888794, 0.2821231484413147, 0.18808211386203766, 0.09404105693101883, 0.047020528465509415, 0.2821231484413147, 0.047020528465509415, 0.10503263771533966, 0.2781945466995239, 0.22000078856945038, 0.19445231556892395, 0.0340646393597126, 0.04683887958526611, 0.014193600043654442, 0.024129118770360947, 0.011354879476130009, 0.00993551965802908, 0.0170323196798563, 0.014193600043654442, 0.012774239294230938, 0.0170323196798563, 0.32804203033447266, 0.1664213240146637, 0.13921783864498138, 0.07200922816991806, 0.09761250764131546, 0.05760738253593445, 0.054406970739364624, 0.017602255567908287, 0.016002049669623375, 0.009601229801774025, 0.030403895303606987, 0.006400820333510637, 0.0016002050833776593, 0.0032004101667553186, 0.21121032536029816, 0.13136252760887146, 0.23696768283843994, 0.06568126380443573, 0.12234744429588318, 0.04636324197053909, 0.0669691264629364, 0.04507537558674812, 0.024469489231705666, 0.00901507493108511, 0.015454414300620556, 0.006439339369535446, 0.014166546985507011, 0.005151471588760614, 0.2594227194786072, 0.08647423982620239, 0.17294847965240479, 0.43237119913101196, 0.2615843117237091, 0.0871947705745697, 0.0871947705745697, 0.1743895411491394, 0.3487790822982788, 0.8199589252471924, 0.06307376176118851, 0.11131526529788971, 0.44526106119155884, 0.055657632648944855, 0.3339458107948303, 0.12354151159524918, 0.7412490844726562, 0.06177075579762459, 0.45878395438194275, 0.019947128370404243, 0.05984138324856758, 0.03989425674080849, 0.09973563998937607, 0.03989425674080849, 0.03989425674080849, 0.03989425674080849, 0.19947127997875214, 0.9205488562583923, 0.23537689447402954, 0.23537689447402954, 0.15691792964935303, 0.07845896482467651, 0.15691792964935303, 0.07845896482467651, 0.8680341839790344, 0.04822412133216858, 0.16726557910442352, 0.16726557910442352, 0.2508983612060547, 0.33453115820884705, 0.04181639477610588, 0.04181639477610588, 0.2256602793931961, 0.2256602793931961, 0.15044018626213074, 0.37610048055648804, 0.37695255875587463, 0.09423813968896866, 0.18847627937793732, 0.18847627937793732, 0.28900110721588135, 0.48166853189468384, 0.1926674097776413, 0.17349731922149658, 0.08674865961074829, 0.2602459788322449, 0.17349731922149658, 0.17349731922149658, 0.13733382523059845, 0.13733382523059845, 0.13733382523059845, 0.2746676504611969, 0.2746676504611969, 0.06866691261529922, 0.1320917308330536, 0.6604586839675903, 0.1320917308330536, 0.28872400522232056, 0.19248266518115997, 0.28872400522232056, 0.09624133259057999, 0.08415123075246811, 0.5049073696136475, 0.33660492300987244, 0.16364924609661102, 0.09818954765796661, 0.09818954765796661, 0.16364924609661102, 0.09818954765796661, 0.09818954765796661, 0.06545969843864441, 0.16364924609661102, 0.032729849219322205, 0.08747497946023941, 0.26242494583129883, 0.26242494583129883, 0.34989991784095764, 0.3421475291252136, 0.013685901649296284, 0.4653206467628479, 0.12317311018705368, 0.013685901649296284, 0.027371803298592567, 0.4880582392215729, 0.10845738649368286, 0.14460985362529755, 0.018076231703162193, 0.10845738649368286, 0.1265336126089096, 0.2984503507614136, 0.19265048205852509, 0.13422369956970215, 0.11685357242822647, 0.034740250557661057, 0.011053716763854027, 0.03631935268640518, 0.08369242399930954, 0.028423842042684555, 0.034740250557661057, 0.001579102361574769, 0.007895511575043201, 0.004737306851893663, 0.011053716763854027, 0.16857101023197174, 0.4495227038860321, 0.29968181252479553, 0.05619033798575401, 0.3482554256916046, 0.13865724205970764, 0.09673761576414108, 0.06449174135923386, 0.1354326605796814, 0.012898348271846771, 0.006449174135923386, 0.041919633746147156, 0.1128605529665947, 0.009673761203885078, 0.016122935339808464, 0.009673761203885078, 0.003224587067961693, 0.20760487020015717, 0.15158450603485107, 0.11863135546445847, 0.11863135546445847, 0.21749082207679749, 0.03954378515481949, 0.029657838866114616, 0.009885946288704872, 0.016476577147841454, 0.03295315429568291, 0.029657838866114616, 0.006590630859136581, 0.013181261718273163, 0.0032953154295682907, 0.2793320417404175, 0.11836103349924088, 0.19600586593151093, 0.10321082174777985, 0.06154773756861687, 0.05397263169288635, 0.05870707333087921, 0.018937764689326286, 0.01609710045158863, 0.02083154208958149, 0.02556598372757435, 0.023672206327319145, 0.011362658813595772, 0.012309547513723373, 0.2115599811077118, 0.7140149474143982, 0.05288999527692795, 0.10846485942602158, 0.2440459281206131, 0.2133142203092575, 0.21512196958065033, 0.023500720039010048, 0.0036154952831566334, 0.0018077476415783167, 0.034347206354141235, 0.0036154952831566334, 0.04880918562412262, 0.08496414124965668, 0.005423242691904306, 0.010846485383808613, 0.0018077476415783167, 0.07368086278438568, 0.14736172556877136, 0.3684042990207672, 0.14736172556877136, 0.07368086278438568, 0.14736172556877136, 0.9262517690658569, 0.042102351784706116, 0.32207000255584717, 0.13213127851486206, 0.12056979537010193, 0.056155797094106674, 0.07597548514604568, 0.08753697574138641, 0.03798774257302284, 0.03468446061015129, 0.03138117864727974, 0.016516409814357758, 0.056155797094106674, 0.018168050795793533, 0.00660656439140439, 0.004954922944307327, 0.4745379090309143, 0.015817930921912193, 0.015817930921912193, 0.03163586184382439, 0.03954482823610306, 0.09490758180618286, 0.07118068635463715, 0.023726895451545715, 0.03954482823610306, 0.12654344737529755, 0.0553627572953701, 0.007908965460956097, 0.40470585227012634, 0.040470585227012634, 0.04523183032870293, 0.02380622737109661, 0.11903113126754761, 0.11903113126754761, 0.07379930466413498, 0.00952249113470316, 0.07856054604053497, 0.021425604820251465, 0.059515565633773804, 0.00476124556735158, 0.3770561218261719, 0.1508224457502365, 0.057667408138513565, 0.04499325156211853, 0.06653931736946106, 0.04879549890756607, 0.036121342331171036, 0.03168538957834244, 0.07287639379501343, 0.05259774625301361, 0.03168538957834244, 0.016476402059197426, 0.011406740173697472, 0.0012674155877903104, 0.4568909704685211, 0.03448233753442764, 0.0646543800830841, 0.021551460027694702, 0.07327496260404587, 0.17241168022155762, 0.047413211315870285, 0.00862058438360691, 0.01724116876721382, 0.038792628794908524, 0.038792628794908524, 0.025861753150820732, 0.4687986373901367, 0.11719965934753418, 0.35159897804260254, 0.3439718186855316, 0.11609049141407013, 0.16123679280281067, 0.0881427749991417, 0.0687943622469902, 0.040846653282642365, 0.02794771082699299, 0.015048767440021038, 0.015048767440021038, 0.023648062720894814, 0.04299647733569145, 0.03869682922959328, 0.008599295280873775, 0.006449471693485975, 0.2982349991798401, 0.15253986418247223, 0.14569513499736786, 0.0616026371717453, 0.06746955960988998, 0.056713540107011795, 0.04400188475847244, 0.026401130482554436, 0.045957524329423904, 0.028356770053505898, 0.03324586898088455, 0.018578574061393738, 0.007822557352483273, 0.013689475134015083, 0.41038504242897034, 0.0820770114660263, 0.0820770114660263, 0.0820770114660263, 0.24623103439807892, 0.1562212109565735, 0.2056245058774948, 0.14820986986160278, 0.1268462836742401, 0.07210209965705872, 0.1415337473154068, 0.028039705008268356, 0.009346568025648594, 0.014687464572489262, 0.028039705008268356, 0.01068179216235876, 0.041391946375370026, 0.012017016299068928, 0.006676120217889547, 0.7995529174804688, 0.07995529472827911, 0.1338403820991516, 0.2007605880498886, 0.6022817492485046, 0.328847736120224, 0.19730864465236664, 0.1534622758626938, 0.3069245517253876, 0.42988166213035583, 0.2579289972782135, 0.08597633242607117, 0.08597633242607117, 0.4385678172111511, 0.14618927240371704, 0.07309463620185852, 0.07309463620185852, 0.07309463620185852, 0.14618927240371704, 0.022117197513580322, 0.17693758010864258, 0.13270318508148193, 0.044234395027160645, 0.22117197513580322, 0.3981095552444458, 0.20892220735549927, 0.22115640342235565, 0.16280874609947205, 0.12704728543758392, 0.0602298267185688, 0.03387927636504173, 0.020704003050923347, 0.04423128068447113, 0.03387927636504173, 0.01411636546254158, 0.016939638182520866, 0.02446836791932583, 0.008469819091260433, 0.021645093336701393, 0.587367832660675, 0.2936839163303375, 0.4053104817867279, 0.20265524089336395, 0.2702069878578186, 0.06755174696445465, 0.09857913106679916, 0.24447625875473022, 0.2464478313922882, 0.14786870777606964, 0.04928956553339958, 0.009857913479208946, 0.009857913479208946, 0.061119064688682556, 0.007886330597102642, 0.05914748087525368, 0.013801079243421555, 0.019715826958417892, 0.021687408909201622, 0.009857913479208946, 0.0805375725030899, 0.14496763050556183, 0.3167811334133148, 0.3275194764137268, 0.026845857501029968, 0.005369171500205994, 0.005369171500205994, 0.01610751450061798, 0.005369171500205994, 0.010738343000411987, 0.01610751450061798, 0.005369171500205994, 0.04295337200164795, 0.07023552805185318, 0.24833276867866516, 0.19816452264785767, 0.2433159351348877, 0.04515141248703003, 0.02006729505956173, 0.017558882012963295, 0.017558882012963295, 0.005016823764890432, 0.007525235414505005, 0.01505047082901001, 0.07525235414505005, 0.01254205871373415, 0.022575706243515015, 0.33778050541877747, 0.08106731623411179, 0.00900747999548912, 0.09908227622509003, 0.09908227622509003, 0.06305235624313354, 0.18465334177017212, 0.04053365811705589, 0.01801495999097824, 0.01801495999097824, 0.0450373999774456, 0.07513827085494995, 0.3193376660346985, 0.18784567713737488, 0.18784567713737488, 0.05635370314121246, 0.018784567713737488, 0.009392283856868744, 0.02817685157060623, 0.037569135427474976, 0.009392283856868744, 0.018784567713737488, 0.05635370314121246, 0.2862924635410309, 0.09543082118034363, 0.19086164236068726, 0.3817232847213745, 0.08358843624591827, 0.376147985458374, 0.125382661819458, 0.16717687249183655, 0.04179421812295914, 0.04179421812295914, 0.04179421812295914, 0.125382661819458, 0.17429441213607788, 0.2482374906539917, 0.1795760542154312, 0.13204121589660645, 0.05105593800544739, 0.01936604455113411, 0.02640824392437935, 0.06690088659524918, 0.007042198441922665, 0.02640824392437935, 0.005281648598611355, 0.02816879376769066, 0.02464769408106804, 0.01232384704053402, 0.08502256870269775, 0.08502256870269775, 0.1700451374053955, 0.1700451374053955, 0.25506770610809326, 0.08502256870269775, 0.8846931457519531, 0.3478395938873291, 0.049691371619701385, 0.049691371619701385, 0.14907412230968475, 0.14907412230968475, 0.24845686554908752, 0.3471076190471649, 0.04958680272102356, 0.04958680272102356, 0.3966944217681885, 0.04958680272102356, 0.04958680272102356, 0.2557438313961029, 0.0852479487657547, 0.4262397289276123, 0.0852479487657547, 0.0852479487657547, 0.47426271438598633, 0.0431147925555706, 0.3449183404445648, 0.0862295851111412, 0.3126591145992279, 0.15632955729961395, 0.3126591145992279, 0.05210985243320465, 0.05210985243320465, 0.05210985243320465, 0.2608279883861542, 0.18429763615131378, 0.2030397653579712, 0.06559745967388153, 0.07809221744537354, 0.05935008451342583, 0.017180288210511208, 0.028113197535276413, 0.017180288210511208, 0.015618443489074707, 0.034360576421022415, 0.00624737748876214, 0.02030397579073906, 0.00937106553465128, 0.0981181412935257, 0.654120922088623, 0.06541209667921066, 0.13082419335842133, 0.03270604833960533, 0.1241818219423294, 0.5765584707260132, 0.16853247582912445, 0.017740260809659958, 0.09757143259048462, 0.1961623877286911, 0.5230997204780579, 0.1961623877286911, 0.04969004541635513, 0.012422511354088783, 0.17391514778137207, 0.0372675321996212, 0.3354077935218811, 0.1118026003241539, 0.17391514778137207, 0.09938009083271027, 0.33172160387039185, 0.5212768316268921, 0.09477760642766953, 0.04738880321383476, 0.3740346431732178, 0.07480692863464355, 0.22442078590393066, 0.1496138572692871, 0.07480692863464355, 0.07480692863464355, 0.06085483729839325, 0.10041048377752304, 0.3955564498901367, 0.2038637101650238, 0.057812098413705826, 0.027384677901864052, 0.0015213709557428956, 0.02282056398689747, 0.028906049206852913, 0.04564112797379494, 0.003042741911485791, 0.015213709324598312, 0.03651290386915207, 0.0015213709557428956, 0.2395351529121399, 0.06843861192464828, 0.06843861192464828, 0.4790703058242798, 0.06843861192464828, 0.03421930596232414, 0.03421930596232414, 0.43506214022636414, 0.08701243251562119, 0.34804973006248474, 0.08701243251562119, 0.08586375415325165, 0.08586375415325165, 0.25759127736091614, 0.42931878566741943, 0.327783465385437, 0.09365241974592209, 0.046826209872961044, 0.046826209872961044, 0.046826209872961044, 0.023413104936480522, 0.11706551909446716, 0.046826209872961044, 0.23413103818893433, 0.023413104936480522, 0.4193318486213684, 0.1397772878408432, 0.3494432270526886, 0.7135546207427979, 0.06486859917640686, 0.03243429958820343, 0.06486859917640686, 0.048651449382305145, 0.016217149794101715, 0.016217149794101715, 0.03243429958820343, 0.08375904709100723, 0.08375904709100723, 0.7538314461708069, 0.30549296736717224, 0.06535422056913376, 0.062314487993717194, 0.03951650485396385, 0.12766870856285095, 0.1231091096997261, 0.10183098912239075, 0.01063905842602253, 0.03647677227854729, 0.01367879007011652, 0.09423166513442993, 0.01063905842602253, 0.0015198655892163515, 0.006079462356865406, 0.07993563264608383, 0.4796138107776642, 0.2398069053888321, 0.07993563264608383, 0.4154338538646698, 0.10385846346616745, 0.4154338538646698, 0.051929231733083725, 0.7981628179550171, 0.10642170906066895, 0.026605427265167236, 0.05321085453033447, 0.21033409237861633, 0.3739272654056549, 0.02337045408785343, 0.04674090817570686, 0.02337045408785343, 0.2804454565048218, 0.02337045408785343, 0.24391262233257294, 0.060978155583143234, 0.060978155583143234, 0.04065210372209549, 0.4674991965293884, 0.04065210372209549, 0.020326051861047745, 0.020326051861047745, 0.35466083884239197, 0.044332604855298996, 0.13299782574176788, 0.35466083884239197, 0.08866520971059799, 0.2783131003379822, 0.18554207682609558, 0.37108415365219116, 0.09277103841304779, 0.1567351073026657, 0.1567351073026657, 0.07836755365133286, 0.07836755365133286, 0.3134702146053314, 0.1567351073026657, 0.07851645350456238, 0.11777468025684357, 0.3729531466960907, 0.09814556688070297, 0.05888734012842178, 0.07851645350456238, 0.05888734012842178, 0.11777468025684357, 0.28646937012672424, 0.10554134845733643, 0.14700402319431305, 0.09800267964601517, 0.0640786811709404, 0.05277067422866821, 0.030154671519994736, 0.0640786811709404, 0.049001339823007584, 0.026385337114334106, 0.011308002285659313, 0.030154671519994736, 0.003769333939999342, 0.033924005925655365, 0.02066490426659584, 0.06199471279978752, 0.7852663397789001, 0.02066490426659584, 0.02066490426659584, 0.02066490426659584, 0.04132980853319168, 0.17229443788528442, 0.08614721894264221, 0.17229443788528442, 0.17229443788528442, 0.17229443788528442, 0.08614721894264221, 0.08614721894264221, 0.08614721894264221, 0.15292099118232727, 0.32283321022987366, 0.11516272276639938, 0.17368803918361664, 0.04719783738255501, 0.04908575117588043, 0.03398244082927704, 0.01510330755263567, 0.009439567103981972, 0.007551653776317835, 0.024542875587940216, 0.022654961794614792, 0.011327480897307396, 0.009439567103981972, 0.2418556660413742, 0.19031265377998352, 0.09713875502347946, 0.01189454086124897, 0.16255873441696167, 0.03568362444639206, 0.029736353084445, 0.013876964338123798, 0.07334966957569122, 0.07136724889278412, 0.03171877562999725, 0.029736353084445, 0.003964846953749657, 0.005947270430624485, 0.08819907158613205, 0.1763981431722641, 0.08819907158613205, 0.08819907158613205, 0.44099536538124084, 0.4034052789211273, 0.12141323834657669, 0.09399734437465668, 0.05091523006558418, 0.0920390710234642, 0.021541059017181396, 0.0783311203122139, 0.021541059017181396, 0.037207283079624176, 0.013707946054637432, 0.04112384095788002, 0.005874834023416042, 0.011749668046832085, 0.005874834023416042, 0.07201642543077469, 0.24005474150180817, 0.35322341322898865, 0.12002737075090408, 0.024005474522709846, 0.0034293534699827433, 0.0034293534699827433, 0.08916319161653519, 0.013717413879930973, 0.027434827759861946, 0.0034293534699827433, 0.010288060642778873, 0.017146766185760498, 0.017146766185760498, 0.050587523728609085, 0.10117504745721817, 0.10117504745721817, 0.6576378345489502, 0.050587523728609085, 0.3840157091617584, 0.0480019636452198, 0.07200294733047485, 0.0480019636452198, 0.07200294733047485, 0.0480019636452198, 0.2880117893218994, 0.0240009818226099, 0.44267863035202026, 0.026428574696183205, 0.026428574696183205, 0.013214287348091602, 0.11232144385576248, 0.08589286357164383, 0.05285714939236641, 0.01982143148779869, 0.1453571617603302, 0.013214287348091602, 0.03964286297559738, 0.01982143148779869, 0.20620329678058624, 0.06873442977666855, 0.06873442977666855, 0.20620329678058624, 0.06873442977666855, 0.2749377191066742, 0.05668030306696892, 0.18421098589897156, 0.02834015153348446, 0.007085037883371115, 0.021255115047097206, 0.6943337321281433, 0.12554632127285004, 0.011413301341235638, 0.41087886691093445, 0.022826602682471275, 0.14837291836738586, 0.022826602682471275, 0.05706650763750076, 0.011413301341235638, 0.17119953036308289, 0.011413301341235638, 0.045992832630872726, 0.25296059250831604, 0.045992832630872726, 0.1839713305234909, 0.06898925453424454, 0.022996416315436363, 0.3679426610469818, 0.3139383792877197, 0.16331137716770172, 0.1284293383359909, 0.0887906551361084, 0.057079706341028214, 0.07769182324409485, 0.03963868319988251, 0.034882042557001114, 0.031710948795080185, 0.007927737198770046, 0.03329649567604065, 0.01109883189201355, 0.004756642039865255, 0.006342189386487007, 0.09826792776584625, 0.09826792776584625, 0.09826792776584625, 0.49133965373039246, 0.09826792776584625, 0.17384155094623566, 0.6084454655647278, 0.14486797153949738, 0.028973592445254326, 0.3922084867954254, 0.5042680501937866, 0.0560297854244709, 0.14684294164180756, 0.07342147082090378, 0.2936858832836151, 0.07342147082090378, 0.07342147082090378, 0.2936858832836151, 0.15722793340682983, 0.07861396670341492, 0.07861396670341492, 0.4716837704181671, 0.15722793340682983, 0.07861396670341492, 0.3718883991241455, 0.09297209978103638, 0.09297209978103638, 0.09297209978103638, 0.27891629934310913, 0.16868431866168976, 0.5903951525688171, 0.08434215933084488, 0.3928067982196808, 0.12171477824449539, 0.03872742876410484, 0.027662450447678566, 0.027662450447678566, 0.022129960358142853, 0.027662450447678566, 0.022129960358142853, 0.17150719463825226, 0.08851984143257141, 0.005532490089535713, 0.005532490089535713, 0.044259920716285706, 0.005532490089535713, 0.42338576912879944, 0.09408572316169739, 0.047042861580848694, 0.047042861580848694, 0.09408572316169739, 0.23521430790424347, 0.8329032063484192, 0.3458346426486969, 0.17592456936836243, 0.17742820084095, 0.10525401681661606, 0.05262700840830803, 0.019547175616025925, 0.024058060720562935, 0.02105080336332321, 0.024058060720562935, 0.019547175616025925, 0.013532659970223904, 0.012029030360281467, 0.007518144324421883, 0.003007257590070367, 0.14733153581619263, 0.2588825523853302, 0.17258836328983307, 0.14522679150104523, 0.09050365537405014, 0.02525683492422104, 0.016837889328598976, 0.07997997850179672, 0.01262841746211052, 0.01894262619316578, 0.008418944664299488, 0.010523680597543716, 0.008418944664299488, 0.004209472332149744, 0.14853176474571228, 0.24755293130874634, 0.14853176474571228, 0.09902117401361465, 0.09902117401361465, 0.14853176474571228, 0.3913526237010956, 0.4696231484413147, 0.07827052474021912, 0.37104517221450806, 0.18552258610725403, 0.09276129305362701, 0.18552258610725403, 0.1596899926662445, 0.3626857399940491, 0.13533049821853638, 0.0757850855588913, 0.07037185877561569, 0.008119829930365086, 0.02435949072241783, 0.035185929387807846, 0.008119829930365086, 0.013533050194382668, 0.03247931972146034, 0.013533050194382668, 0.04871898144483566, 0.008119829930365086, 0.4657157361507416, 0.0776192918419838, 0.3880964517593384, 0.18805871903896332, 0.689548671245575, 0.0626862421631813, 0.09661076217889786, 0.028983229771256447, 0.3091544508934021, 0.3961041271686554, 0.009661076590418816, 0.028983229771256447, 0.01932215318083763, 0.057966459542512894, 0.057966459542512894, 0.32679930329322815, 0.023342806845903397, 0.39682772755622864, 0.023342806845903397, 0.16339965164661407, 0.04668561369180679, 0.023342806845903397, 0.08447813987731934, 0.6758251190185547, 0.08447813987731934, 0.08447813987731934, 0.13208115100860596, 0.06604057550430298, 0.3302028775215149, 0.13208115100860596, 0.13208115100860596, 0.06604057550430298, 0.13208115100860596, 0.5213815569877625, 0.007960024289786816, 0.003980012144893408, 0.24278073012828827, 0.019900059327483177, 0.0437801331281662, 0.047760143876075745, 0.019900059327483177, 0.019900059327483177, 0.06766020506620407, 0.15426045656204224, 0.15426045656204224, 0.07713022828102112, 0.3085209131240845, 0.15426045656204224, 0.15426045656204224, 0.2199496477842331, 0.6598489284515381, 0.018329137936234474, 0.0733165517449379, 0.018329137936234474, 0.25892195105552673, 0.3883829116821289, 0.19419145584106445, 0.06473048776388168, 0.22848708927631378, 0.19463714957237244, 0.0930873304605484, 0.02538745477795601, 0.06769987940788269, 0.19463714957237244, 0.11001230031251907, 0.033849939703941345, 0.033849939703941345, 0.008462484925985336, 0.35553839802742004, 0.15685518085956573, 0.10195586085319519, 0.08627034723758698, 0.06012781709432602, 0.04705655202269554, 0.002614252967759967, 0.05228505656123161, 0.010457011871039867, 0.04705655202269554, 0.05751356482505798, 0.020914023742079735, 0.6832454204559326, 0.009109939448535442, 0.07287951558828354, 0.03643975779414177, 0.027329817414283752, 0.04554969444870949, 0.03643975779414177, 0.018219878897070885, 0.04554969444870949, 0.018219878897070885, 0.3028455972671509, 0.060569118708372116, 0.12113823741674423, 0.12113823741674423, 0.18170736730098724, 0.030284559354186058, 0.12113823741674423, 0.060569118708372116, 0.33839094638824463, 0.08459773659706116, 0.4229886829853058, 0.07387124001979828, 0.7387123703956604, 0.14774248003959656, 0.46792030334472656, 0.051991142332553864, 0.4159291386604309, 0.42275270819664, 0.12078648805618286, 0.12078648805618286, 0.1811797320842743, 0.06039324402809143, 0.11926475912332535, 0.2385295182466507, 0.059632379561662674, 0.17889714241027832, 0.059632379561662674, 0.29816189408302307, 0.1827622950077057, 0.23352959752082825, 0.12184152752161026, 0.15230190753936768, 0.030460381880402565, 0.010153461247682571, 0.030460381880402565, 0.0710742250084877, 0.010153461247682571, 0.06092076376080513, 0.010153461247682571, 0.020306922495365143, 0.0710742250084877, 0.10751722753047943, 0.8242987394332886, 0.03583907335996628, 0.9224734306335449, 0.043927308171987534, 0.25637418031692505, 0.18173359334468842, 0.12656445801258087, 0.04867864027619362, 0.045433398336172104, 0.07464057952165604, 0.032452426850795746, 0.019471455365419388, 0.08437630534172058, 0.04218815267086029, 0.051923882216215134, 0.012980970554053783, 0.016226213425397873, 0.006490485277026892, 0.1458733230829239, 0.07293666154146194, 0.1458733230829239, 0.07293666154146194, 0.3646833300590515, 0.07293666154146194, 0.1674044132232666, 0.18832994997501373, 0.24273638427257538, 0.2176257222890854, 0.018832996487617493, 0.01674044132232666, 0.010462775826454163, 0.03138832747936249, 0.00627766503021121, 0.020925551652908325, 0.010462775826454163, 0.01255533006042242, 0.04185110330581665, 0.01255533006042242, 0.4182586669921875, 0.04182586818933487, 0.04182586818933487, 0.08365173637866974, 0.04182586818933487, 0.2927810847759247, 0.07846839725971222, 0.3138735890388489, 0.07846839725971222, 0.23540519177913666, 0.23540519177913666, 0.12050452083349228, 0.12050452083349228, 0.06025226041674614, 0.36151355504989624, 0.06025226041674614, 0.18075677752494812, 0.0714179053902626, 0.2142537236213684, 0.25710445642471313, 0.0714179053902626, 0.09998507052659988, 0.02856716327369213, 0.11426865309476852, 0.014283581636846066, 0.014283581636846066, 0.02856716327369213, 0.014283581636846066, 0.0714179053902626, 0.5059241652488708, 0.2890995442867279, 0.14454977214336395, 0.08504724502563477, 0.08504724502563477, 0.08504724502563477, 0.2551417350769043, 0.08504724502563477, 0.08504724502563477, 0.17009449005126953, 0.17009449005126953, 0.24712242186069489, 0.1704292595386505, 0.20792369544506073, 0.1380476951599121, 0.027268681675195694, 0.04260731488466263, 0.0732845813035965, 0.01704292558133602, 0.011930047534406185, 0.010225755162537098, 0.011930047534406185, 0.0068171704187989235, 0.01704292558133602, 0.01704292558133602, 0.08496342599391937, 0.679707407951355, 0.08496342599391937, 0.8138869404792786, 0.06782390922307968, 0.458122581243515, 0.047306135296821594, 0.0597551204264164, 0.024897966533899307, 0.11702044308185577, 0.08963268250226974, 0.06722451001405716, 0.019918372854590416, 0.05726532265543938, 0.0149387801066041, 0.027387764304876328, 0.009959186427295208, 0.004979593213647604, 0.002489796606823802, 0.19549648463726044, 0.3909929692745209, 0.29324471950531006, 0.09774824231863022, 0.6087587475776672, 0.3478621542453766, 0.3208898901939392, 0.13249647617340088, 0.14181262254714966, 0.10247773677110672, 0.057967204600572586, 0.012421543709933758, 0.11075876653194427, 0.041405145078897476, 0.030018731951713562, 0.01863231509923935, 0.01656205952167511, 0.007245900575071573, 0.0051756431348621845, 0.0041405148804187775, 0.43168768286705017, 0.11068914830684662, 0.058111801743507385, 0.016603371128439903, 0.1023874580860138, 0.04427566006779671, 0.04704288765788078, 0.03043951466679573, 0.04150842875242233, 0.04150842875242233, 0.04427566006779671, 0.013836143538355827, 0.011068915016949177, 0.002767228754237294, 0.3207821547985077, 0.1283128708600998, 0.06793034076690674, 0.10944332927465439, 0.0830259695649147, 0.03773907944560051, 0.1471824049949646, 0.030191263183951378, 0.022643446922302246, 0.0037739078979939222, 0.030191263183951378, 0.018869539722800255, 0.0037739078979939222, 0.37858545780181885, 0.047323182225227356, 0.011830795556306839, 0.011830795556306839, 0.09464636445045471, 0.24844670295715332, 0.10647716373205185, 0.023661591112613678, 0.07098477333784103, 0.011830795556306839, 0.555788516998291, 0.23819507658481598, 0.23819507658481598, 0.1264728456735611, 0.2529456913471222, 0.06323642283678055, 0.44265496730804443, 0.06323642283678055, 0.36881422996520996, 0.03073452040553093, 0.15367259085178375, 0.3380797207355499, 0.06146904081106186, 0.17606757581233978, 0.2641013562679291, 0.08803378790616989, 0.08803378790616989, 0.2641013562679291, 0.08803378790616989, 0.3016931414604187, 0.09891578555107117, 0.17310261726379395, 0.09891578555107117, 0.05934946984052658, 0.03956631198525429, 0.049457892775535583, 0.12859052419662476, 0.004945788998156786, 0.014837367460131645, 0.019783155992627144, 0.004945788998156786, 0.004945788998156786, 0.5024516582489014, 0.039563123136758804, 0.035606808960437775, 0.15825249254703522, 0.03165049850940704, 0.035606808960437775, 0.027694186195731163, 0.06725730746984482, 0.019781561568379402, 0.07516993582248688, 0.00791262462735176, 0.8730056285858154, 0.014796705916523933, 0.0887802317738533, 0.2076658457517624, 0.13844390213489532, 0.06922195106744766, 0.4153316915035248, 0.06922195106744766, 0.26205751299858093, 0.12413250654935837, 0.013792500831186771, 0.06896250694990158, 0.06896250694990158, 0.06896250694990158, 0.23447251319885254, 0.027585001662373543, 0.04137750342488289, 0.08275500684976578, 0.3434129059314728, 0.02289419434964657, 0.04578838869929314, 0.11447097361087799, 0.09157677739858627, 0.02289419434964657, 0.32051873207092285, 0.5038789510726929, 0.0954316183924675, 0.09161435067653656, 0.04580717533826828, 0.08779709041118622, 0.02290358766913414, 0.02672085352241993, 0.02290358766913414, 0.02672085352241993, 0.04962444305419922, 0.01145179383456707, 0.0076345293782651424, 0.0038172646891325712, 0.16856981813907623, 0.7585641741752625, 0.3164638876914978, 0.16152843832969666, 0.15493544936180115, 0.0824124738574028, 0.0758194774389267, 0.03296498954296112, 0.01648249477148056, 0.039557985961437225, 0.019778992980718613, 0.01648249477148056, 0.019778992980718613, 0.023075493052601814, 0.006592997815459967, 0.03296498954296112, 0.19082428514957428, 0.1474551260471344, 0.16480278968811035, 0.06939064711332321, 0.08673831075429916, 0.04336915537714958, 0.19949811697006226, 0.05204298719763756, 0.02602149359881878, 0.017347661778330803, 0.008673830889165401, 0.399594783782959, 0.15983790159225464, 0.07991895079612732, 0.07991895079612732, 0.07991895079612732, 0.15983790159225464, 0.46942394971847534, 0.02844993583858013, 0.02844993583858013, 0.0711248442530632, 0.014224967919290066, 0.25604942440986633, 0.04267490282654762, 0.0711248442530632, 0.014224967919290066, 0.22164030373096466, 0.2537781298160553, 0.1352005898952484, 0.1551482081413269, 0.028813239187002182, 0.038787052035331726, 0.039895255118608475, 0.03324604406952858, 0.004432805813848972, 0.022164030000567436, 0.02992144040763378, 0.012190216220915318, 0.01773122325539589, 0.008865611627697945, 0.46986374258995056, 0.09397274255752563, 0.37589097023010254, 0.712859570980072, 0.2450454831123352, 0.0334152914583683, 0.07428193837404251, 0.29712775349617004, 0.07428193837404251, 0.07428193837404251, 0.14856387674808502, 0.22284580767154694, 0.18954555690288544, 0.06318185478448868, 0.3159092664718628, 0.18954555690288544, 0.18954555690288544, 0.36233386397361755, 0.07246676832437515, 0.2898670732975006, 0.07246676832437515, 0.1449335366487503, 0.1563020795583725, 0.15878306329250336, 0.00992394145578146, 0.022328868508338928, 0.002480985363945365, 0.01736689731478691, 0.26794642210006714, 0.029771825298666954, 0.027290839701890945, 0.01736689731478691, 0.10420139133930206, 0.10668237507343292, 0.002480985363945365, 0.07691054791212082, 0.028792161494493484, 0.04842317849397659, 0.505171537399292, 0.29315656423568726, 0.003926203586161137, 0.005234938580542803, 0.0026174692902714014, 0.04449697583913803, 0.003926203586161137, 0.003926203586161137, 0.005234938580542803, 0.014396080747246742, 0.03795330226421356, 0.0026174692902714014, 0.38580748438835144, 0.1507909595966339, 0.10324425995349884, 0.06384842097759247, 0.0584145151078701, 0.05298060551285744, 0.04482974484562874, 0.03396192565560341, 0.020377157256007195, 0.03260345011949539, 0.020377157256007195, 0.017660202458500862, 0.010867816396057606, 0.004075431264936924, 0.45860719680786133, 0.07643453031778336, 0.07643453031778336, 0.3057381212711334, 0.22554807364940643, 0.07518269121646881, 0.07518269121646881, 0.45109614729881287, 0.2316112518310547, 0.19493946433067322, 0.09650468826293945, 0.06948337703943253, 0.09843477606773376, 0.07141346484422684, 0.02123103104531765, 0.06755328178405762, 0.03474168851971626, 0.05597271770238876, 0.015440749935805798, 0.01930093765258789, 0.013510655611753464, 0.009650468826293945, 0.9268643856048584, 0.23907272517681122, 0.07969091087579727, 0.07969091087579727, 0.15938182175159454, 0.07969091087579727, 0.15938182175159454, 0.23907272517681122, 0.2841758131980896, 0.09472526609897614, 0.03157508745789528, 0.34732598066329956, 0.18945053219795227, 0.2597428262233734, 0.10054560750722885, 0.142439603805542, 0.142439603805542, 0.016757601872086525, 0.016757601872086525, 0.16757601499557495, 0.04189400374889374, 0.07540920376777649, 0.025136401876807213, 0.008378800936043262, 0.1376999169588089, 0.2753998339176178, 0.1376999169588089, 0.1376999169588089, 0.06884995847940445, 0.20654986798763275, 0.07529604434967041, 0.22588813304901123, 0.19576971232891083, 0.05521709844470024, 0.13553288578987122, 0.03513815253973007, 0.030118416994810104, 0.030118416994810104, 0.15059208869934082, 0.005019736476242542, 0.005019736476242542, 0.05019736289978027, 0.005019736476242542, 0.1442461907863617, 0.2335927039384842, 0.2239045351743698, 0.1786930412054062, 0.034446850419044495, 0.034446850419044495, 0.0365997776389122, 0.03982917219400406, 0.016146961599588394, 0.013994033448398113, 0.007535248529165983, 0.011841105297207832, 0.016146961599588394, 0.008611712604761124, 0.42785555124282837, 0.07205988466739655, 0.04053368419408798, 0.022518713027238846, 0.15763099491596222, 0.08106736838817596, 0.07656362652778625, 0.004503742791712284, 0.009007485583424568, 0.018014971166849136, 0.08106736838817596, 0.009007485583424568, 0.5940364599227905, 0.07425455749034882, 0.29701822996139526, 0.08466233313083649, 0.25398698449134827, 0.16932466626167297, 0.42331165075302124, 0.22886154055595398, 0.2033233344554901, 0.156175896525383, 0.08741921186447144, 0.06580997258424759, 0.05696982517838478, 0.01964476704597473, 0.04027177393436432, 0.024555958807468414, 0.04812967777252197, 0.017680291086435318, 0.024555958807468414, 0.011786860413849354, 0.015715813264250755, 0.08737937361001968, 0.34951749444007874, 0.17475874722003937, 0.08737937361001968, 0.17475874722003937, 0.08737937361001968, 0.20887543261051178, 0.15665657818317413, 0.10443771630525589, 0.10443771630525589, 0.052218858152627945, 0.2610943019390106, 0.12223145365715027, 0.061115726828575134, 0.24446290731430054, 0.061115726828575134, 0.3666943609714508, 0.12223145365715027, 0.2937650978565216, 0.0979216992855072, 0.0489608496427536, 0.1958433985710144, 0.342725932598114, 0.8142209053039551, 0.14804016053676605, 0.4803212881088257, 0.11153528094291687, 0.03238121047616005, 0.03957703337073326, 0.07375720143318176, 0.05216972902417183, 0.03957703337073326, 0.02698434144258499, 0.05037077143788338, 0.02518538571894169, 0.03957703337073326, 0.010793737135827541, 0.014391648583114147, 0.0017989560728892684, 0.5295141935348511, 0.08825236558914185, 0.02206309139728546, 0.04412618279457092, 0.04412618279457092, 0.06618927419185638, 0.04412618279457092, 0.11031544953584671, 0.04412618279457092, 0.36754390597343445, 0.06069532409310341, 0.03371962532401085, 0.05395140126347542, 0.21580560505390167, 0.06069532409310341, 0.08429906517267227, 0.023603737354278564, 0.050579436123371124, 0.010115887969732285, 0.023603737354278564, 0.013487850315868855, 0.0033719625789672136, 0.05322654917836189, 0.10645309835672379, 0.6919451355934143, 0.05322654917836189, 0.13950836658477783, 0.7905474305152893, 0.24676057696342468, 0.41126763820648193, 0.08225352317094803, 0.2878873348236084, 0.3391380310058594, 0.05898052826523781, 0.06266681104898453, 0.025803981348872185, 0.05898052826523781, 0.1363924741744995, 0.1142747700214386, 0.014745132066309452, 0.014745132066309452, 0.04423539713025093, 0.08478450775146484, 0.025803981348872185, 0.022117698565125465, 0.15509983897209167, 0.23264974355697632, 0.387749582529068, 0.07754991948604584, 0.07754991948604584, 0.8743748664855957, 0.09203945845365524, 0.23347796499729156, 0.17854197323322296, 0.18197546899318695, 0.03433499485254288, 0.06866998970508575, 0.12017247825860977, 0.01716749742627144, 0.027467995882034302, 0.04463549330830574, 0.0068669989705085754, 0.06180299073457718, 0.0068669989705085754, 0.0068669989705085754, 0.010300498455762863, 0.0968315452337265, 0.193663090467453, 0.0968315452337265, 0.0968315452337265, 0.193663090467453, 0.193663090467453, 0.0968315452337265, 0.2986586391925812, 0.16290470957756042, 0.13575391471385956, 0.05430156737565994, 0.08145235478878021, 0.02715078368782997, 0.08145235478878021, 0.02715078368782997, 0.02715078368782997, 0.02715078368782997, 0.02715078368782997, 0.1946743130683899, 0.14600573480129242, 0.24334289133548737, 0.04866857826709747, 0.04866857826709747, 0.24334289133548737, 0.4277776777744293, 0.21388883888721466, 0.3564814031124115, 0.19964848458766937, 0.06654949486255646, 0.26619797945022583, 0.39929696917533875, 0.2934539318084717, 0.02751130610704422, 0.02751130610704422, 0.15589740872383118, 0.22009044885635376, 0.06419304758310318, 0.11004522442817688, 0.00917043536901474, 0.06419304758310318, 0.00917043536901474, 0.00917043536901474, 0.8577462434768677, 0.15635710954666138, 0.23453564941883087, 0.46907129883766174, 0.07817855477333069, 0.9269077181816101, 0.12481947243213654, 0.31934332847595215, 0.17182940244674683, 0.1685873419046402, 0.030799610540270805, 0.029178578406572342, 0.02755754627287388, 0.016210321336984634, 0.01945238560438156, 0.014589289203286171, 0.006484128534793854, 0.016210321336984634, 0.04052580147981644, 0.012968257069587708, 0.1132238358259201, 0.6793429851531982, 0.05661191791296005, 0.05661191791296005, 0.9255498051643372, 0.05784686282277107, 0.876581609249115, 0.06742935627698898, 0.21251215040683746, 0.690664529800415, 0.053128037601709366, 0.32550105452537537, 0.14070045948028564, 0.11865038424730301, 0.08820028603076935, 0.10395033657550812, 0.044100143015384674, 0.03675011917948723, 0.022050071507692337, 0.023100074380636215, 0.033600110560655594, 0.028350092470645905, 0.013650043867528439, 0.016800055280327797, 0.005250017158687115, 0.1717642843723297, 0.27991217374801636, 0.1685834676027298, 0.12723280489444733, 0.039760250598192215, 0.022265739738941193, 0.015904100611805916, 0.044531479477882385, 0.01908491924405098, 0.05248352885246277, 0.01431369036436081, 0.015904100611805916, 0.01908491924405098, 0.011132869869470596, 0.5468170642852783, 0.09113617241382599, 0.27340853214263916, 0.3229834735393524, 0.08971763402223587, 0.1076611578464508, 0.06280234456062317, 0.044858817011117935, 0.0538305789232254, 0.08971763402223587, 0.03588705509901047, 0.044858817011117935, 0.0269152894616127, 0.09868939965963364, 0.008971763774752617, 0.2303544282913208, 0.17400161921977997, 0.18388807773590088, 0.10973966121673584, 0.046466343104839325, 0.055364154279232025, 0.02669343166053295, 0.029659368097782135, 0.01581832952797413, 0.04547769948840141, 0.027682077139616013, 0.022738849744200706, 0.014829684048891068, 0.01680697500705719, 0.42625823616981506, 0.2557549476623535, 0.17050328850746155, 0.0980692207813263, 0.3922768831253052, 0.14710383117198944, 0.04903461039066315, 0.0980692207813263, 0.04903461039066315, 0.0980692207813263, 0.05812542140483856, 0.11625084280967712, 0.11625084280967712, 0.581254243850708, 0.05812542140483856, 0.05812542140483856, 0.09865725785493851, 0.2959717810153961, 0.23020027577877045, 0.19731451570987701, 0.09865725785493851, 0.06577150523662567, 0.10575447976589203, 0.428683340549469, 0.1718510389328003, 0.055709950625896454, 0.04815606027841568, 0.03115980327129364, 0.027382856234908104, 0.015107783488929272, 0.02266167476773262, 0.018884729593992233, 0.01982896588742733, 0.014163547195494175, 0.029271330684423447, 0.010386601090431213, 0.17949369549751282, 0.05983123555779457, 0.7179747819900513, 0.20922236144542694, 0.06974078714847565, 0.1394815742969513, 0.5579262971878052, 0.12238377332687378, 0.09661876410245895, 0.238326296210289, 0.3478275537490845, 0.07085376232862473, 0.012882501818239689, 0.0064412509091198444, 0.01932375319302082, 0.07729501277208328, 0.0064412509091198444, 0.13727208971977234, 0.09151472896337509, 0.09151472896337509, 0.045757364481687546, 0.594845712184906, 0.41973069310188293, 0.029980763792991638, 0.08994229137897491, 0.059961527585983276, 0.029980763792991638, 0.3297883868217468, 0.029980763792991638, 0.3612649142742157, 0.14450596272945404, 0.07225298136472702, 0.21675893664360046, 0.14450596272945404, 0.8174512386322021, 0.05838937312364578, 0.05838937312364578, 0.13896965980529785, 0.7295907139778137, 0.03474241495132446, 0.03474241495132446, 0.11447982490062714, 0.09327986091375351, 0.39431941509246826, 0.23743964731693268, 0.029679955914616585, 0.03391994908452034, 0.01271998044103384, 0.01695997454226017, 0.021199967712163925, 0.008479987271130085, 0.008479987271130085, 0.01271998044103384, 0.01695997454226017, 0.24437831342220306, 0.03576267883181572, 0.04172312840819359, 0.16689251363277435, 0.07152535766363144, 0.14305071532726288, 0.005960446782410145, 0.14901116490364075, 0.01788133941590786, 0.09536714851856232, 0.01192089356482029, 0.01192089356482029, 0.005960446782410145, 0.08061277866363525, 0.1612255573272705, 0.24183832108974457, 0.322451114654541, 0.08061277866363525, 0.05103733390569687, 0.05103733390569687, 0.61244797706604, 0.15311199426651, 0.10207466781139374, 0.37019437551498413, 0.12483298778533936, 0.11048436909914017, 0.05022016912698746, 0.08896144479513168, 0.053089894354343414, 0.03587155044078827, 0.06313392519950867, 0.03443668782711029, 0.03300182521343231, 0.012913757935166359, 0.01147889532148838, 0.002869723830372095, 0.008609171956777573, 0.08113736659288406, 0.1217060461640358, 0.18545682728290558, 0.47523313760757446, 0.023182103410363197, 0.06954631209373474, 0.005795525852590799, 0.011591051705181599, 0.011591051705181599, 0.011591051705181599, 0.2663567066192627, 0.2663567066192627, 0.3551422655582428, 0.0887855663895607, 0.5978025197982788, 0.33211249113082886, 0.1775963455438614, 0.6850144863128662, 0.07611271739006042, 0.02537090703845024, 0.02537090703845024, 0.09458684921264648, 0.7566947937011719, 0.09458684921264648, 0.6662365198135376, 0.19035330414772034, 0.09517665207386017, 0.06058768182992935, 0.06058768182992935, 0.42411378026008606, 0.3635261058807373, 0.47281649708747864, 0.019700687378644943, 0.23640824854373932, 0.019700687378644943, 0.019700687378644943, 0.19700686633586884, 0.019700687378644943, 0.019700687378644943, 0.2777293622493744, 0.1388646811246872, 0.5554587244987488, 0.3681555986404419, 0.12512478232383728, 0.1299372762441635, 0.012031229212880135, 0.0842185989022255, 0.0986560806632042, 0.06256239116191864, 0.03128119558095932, 0.019249966368079185, 0.021656211465597153, 0.021656211465597153, 0.012031229212880135, 0.014437474310398102, 0.002406245796009898, 0.046160418540239334, 0.09232083708047867, 0.18464167416095734, 0.1384812593460083, 0.09232083708047867, 0.1384812593460083, 0.18464167416095734, 0.046160418540239334, 0.046160418540239334, 0.09232083708047867, 0.3726116120815277, 0.390787810087204, 0.009088088758289814, 0.009088088758289814, 0.1635855883359909, 0.045440442860126495, 0.018176177516579628, 0.16263553500175476, 0.24994514882564545, 0.15749968588352203, 0.12326061725616455, 0.1129888966679573, 0.022255389019846916, 0.05820640176534653, 0.03595101460814476, 0.025679295882582664, 0.0051358588971197605, 0.01369562465697527, 0.0051358588971197605, 0.011983671225607395, 0.015407577157020569, 0.3674042224884033, 0.09185105562210083, 0.18370211124420166, 0.3674042224884033, 0.2106284499168396, 0.31443819403648376, 0.13089053332805634, 0.1053142249584198, 0.028585288673639297, 0.05115262418985367, 0.04062119871377945, 0.027080800384283066, 0.009026933461427689, 0.025576312094926834, 0.018053866922855377, 0.016549378633499146, 0.01504488941282034, 0.00752244470641017, 0.32505080103874207, 0.09495866298675537, 0.0803496390581131, 0.02191353775560856, 0.09495866298675537, 0.12052445858716965, 0.06574061512947083, 0.047479331493377686, 0.0693928673863411, 0.007304512895643711, 0.047479331493377686, 0.014609025791287422, 0.007304512895643711, 0.0036522564478218555, 0.22101612389087677, 0.2346590906381607, 0.11460094898939133, 0.10914376378059387, 0.0709434449672699, 0.042293209582567215, 0.05730047449469566, 0.03547172248363495, 0.027285940945148468, 0.038200318813323975, 0.015007267706096172, 0.01637156493961811, 0.010914376005530357, 0.004092891234904528, 0.3131447434425354, 0.10438157618045807, 0.20876315236091614, 0.1565723717212677, 0.1565723717212677, 0.47717219591140747, 0.022722486406564713, 0.09088994562625885, 0.1590573936700821, 0.022722486406564713, 0.1817798912525177, 0.17304715514183044, 0.2976410984992981, 0.13843773305416107, 0.11075018346309662, 0.05998968333005905, 0.046145908534526825, 0.025380250066518784, 0.03922402113676071, 0.029994841665029526, 0.011536477133631706, 0.01845836266875267, 0.009229181334376335, 0.013843772932887077, 0.025380250066518784, 0.04251010715961456, 0.04251010715961456, 0.04251010715961456, 0.4676111936569214, 0.21255053579807281, 0.04251010715961456, 0.08502021431922913, 0.8307989239692688, 0.05934277921915054, 0.1859009712934494, 0.24786795675754547, 0.06196698918938637, 0.06196698918938637, 0.24786795675754547, 0.12393397837877274, 0.4170994162559509, 0.02502596564590931, 0.020854970440268517, 0.15849778056144714, 0.07924889028072357, 0.07090689986944199, 0.012512982822954655, 0.125129833817482, 0.004170994274318218, 0.06673590838909149, 0.016683977097272873, 0.008341988548636436, 0.38841909170150757, 0.012529647909104824, 0.07517789304256439, 0.037588946521282196, 0.07517789304256439, 0.025059295818209648, 0.21300402283668518, 0.050118591636419296, 0.062648244202137, 0.037588946521282196, 0.08193850517272949, 0.16387701034545898, 0.08193850517272949, 0.49163103103637695, 0.08193850517272949, 0.19040262699127197, 0.24681822955608368, 0.19392859935760498, 0.14456495642662048, 0.0528896190226078, 0.014103898778557777, 0.038785722106695175, 0.03525974601507187, 0.010577923618257046, 0.0035259746946394444, 0.0528896190226078, 0.0035259746946394444, 0.007051949389278889, 0.30812588334083557, 0.022545795887708664, 0.05260685831308365, 0.06012212485074997, 0.06763739138841629, 0.18788163363933563, 0.20291216671466827, 0.015030531212687492, 0.05260685831308365, 0.022545795887708664, 0.1961536854505539, 0.22080126404762268, 0.2197742760181427, 0.1304267942905426, 0.03491741046309471, 0.035944391041994095, 0.023620599880814552, 0.025674564763903618, 0.01848568767309189, 0.027728531509637833, 0.01129680871963501, 0.03389042615890503, 0.017458705231547356, 0.0051349131390452385, 0.2489289939403534, 0.2258494794368744, 0.11869461834430695, 0.09561511129140854, 0.07418413460254669, 0.0428619459271431, 0.01978243701159954, 0.04780755564570427, 0.02802511863410473, 0.023079508915543556, 0.02802511863410473, 0.00989121850579977, 0.01978243701159954, 0.018133899196982384, 0.30407455563545227, 0.1912505179643631, 0.12383127212524414, 0.06741924583911896, 0.05366021767258644, 0.06329154223203659, 0.039901185780763626, 0.046780701726675034, 0.022014448419213295, 0.022014448419213295, 0.03439757600426674, 0.022014448419213295, 0.005503612104803324, 0.002751806052401662, 0.46613845229148865, 0.07403375208377838, 0.07129175961017609, 0.03290389105677605, 0.13709954917430878, 0.060323797166347504, 0.02467791736125946, 0.04935583472251892, 0.03290389105677605, 0.010967963375151157, 0.021935926750302315, 0.016451945528388023, 0.0027419908437877893, 0.47579407691955566, 0.23789703845977783, 0.07929901033639908, 0.15859802067279816, 0.3503013551235199, 0.14012055099010468, 0.49042192101478577, 0.18686409294605255, 0.1587340235710144, 0.20896629989147186, 0.1185481920838356, 0.044204410165548325, 0.06027873978018761, 0.020092913880944252, 0.012055748142302036, 0.046213701367378235, 0.030139369890093803, 0.01607433147728443, 0.0582694485783577, 0.036167245358228683, 0.006027874071151018, 0.23530523478984833, 0.20631836354732513, 0.11765261739492416, 0.09037084877490997, 0.05797375366091728, 0.018756214529275894, 0.10912706702947617, 0.025576656684279442, 0.022166434675455093, 0.03580731898546219, 0.01534599345177412, 0.05456353351473808, 0.00682044168934226, 0.00341022084467113, 0.15045543015003204, 0.25792360305786133, 0.16657565534114838, 0.15985889732837677, 0.05776413902640343, 0.030897097662091255, 0.006716760341078043, 0.0725410133600235, 0.03627050668001175, 0.016120225191116333, 0.0053734080865979195, 0.009403464384377003, 0.01209016889333725, 0.017463576048612595], \"Term\": [\"Abbey\", \"Abbey\", \"Adele\", \"Adele\", \"Adele\", \"Adele\", \"Adele\", \"Adele\", \"Allenham\", \"Anne\", \"Anne\", \"Anne\", \"Anne\", \"Baptiste\", \"Baptiste\", \"Baptiste\", \"Barton\", \"Barton\", \"Bassompierre\", \"Bassompierre\", \"Bassompierre\", \"Bassompierre\", \"Bassompierre\", \"Bassompierre\", \"Bates\", \"Bates\", \"Beck\", \"Beck\", \"Beck\", \"Beck\", \"Beck\", \"Beck\", \"Belgium\", \"Belgium\", \"Belgium\", \"Bennet\", \"Bennet\", \"Bennet\", \"Bennet\", \"Bennet\", \"Berkeley\", \"Berkeley\", \"Bessie\", \"Bessie\", \"Bessie\", \"Bessie\", \"Bessie\", \"Bessie\", \"Bingley\", \"Bingley\", \"Bingley\", \"Bingley\", \"Blanche\", \"Blanche\", \"Bourgh\", \"Bourgh\", \"Box\", \"Brandon\", \"Brandon\", \"Bretton\", \"Bretton\", \"Bretton\", \"Bretton\", \"Bretton\", \"Bretton\", \"Bretton\", \"Brighton\", \"Brighton\", \"Brocklehurst\", \"Brocklehurst\", \"Brown\", \"Brown\", \"Brown\", \"Brussels\", \"Brussels\", \"Brussels\", \"Brussels\", \"Brussels\", \"Burns\", \"Campbell\", \"Campbells\", \"Caroline\", \"Caroline\", \"Caroline\", \"Catherine\", \"Catherine\", \"Catherine\", \"Catherine\", \"Charlotte\", \"Charlotte\", \"Charlotte\", \"Charlotte\", \"Cholmondeley\", \"Cholmondeley\", \"Cholmondeley\", \"Churchill\", \"Cleveland\", \"Cole\", \"Coles\", \"Collins\", \"Collins\", \"Collins\", \"Collins\", \"Colonel\", \"Colonel\", \"Colonel\", \"Colonel\", \"Colonel\", \"Colonel\", \"Colonel\", \"Combe\", \"Count\", \"Count\", \"Crimsworth\", \"Crimsworth\", \"Crimsworth\", \"Crimsworth\", \"Crown\", \"Darcy\", \"Darcy\", \"Darcy\", \"Darcy\", \"Dashwood\", \"Dashwood\", \"Dashwood\", \"Dashwoods\", \"Delaford\", \"Dent\", \"Dent\", \"Dent\", \"Derbyshire\", \"Derbyshire\", \"Devonshire\", \"Devonshire\", \"Diana\", \"Diana\", \"Diana\", \"Diana\", \"Diana\", \"Dixon\", \"Doctor\", \"Doctor\", \"Doctor\", \"Doctor\", \"Doctor\", \"Donwell\", \"Donwell\", \"Dr.\", \"Dr.\", \"Dr.\", \"Dr.\", \"Dr.\", \"Dr.\", \"Dr.\", \"Dr.\", \"Dr.\", \"Edward\", \"Edward\", \"Edward\", \"Edward\", \"Edward\", \"Edward\", \"Edward\", \"Edward\", \"Edward\", \"Edward\", \"Elinor\", \"Elinor\", \"Elinor\", \"Elinor\", \"Elinor\", \"Elinor\", \"Eliza\", \"Eliza\", \"Eliza\", \"Eliza\", \"Eliza\", \"Eliza\", \"Elizabeth\", \"Elizabeth\", \"Elizabeth\", \"Elizabeth\", \"Elizabeth\", \"Elizabeth\", \"Elizabeth\", \"Elton\", \"Elton\", \"Eltons\", \"Emanuel\", \"Emanuel\", \"Emanuel\", \"Emanuel\", \"Emanuel\", \"Emanuel\", \"Emma\", \"Emma\", \"Emma\", \"Emma\", \"Emma\", \"English\", \"English\", \"English\", \"English\", \"English\", \"English\", \"English\", \"English\", \"English\", \"Englishwoman\", \"Englishwoman\", \"Englishwoman\", \"Enscombe\", \"Exeter\", \"Exeter\", \"Eyre\", \"Eyre\", \"Eyre\", \"Eyre\", \"Eyre\", \"Eyre\", \"Eyre\", \"Eyre\", \"Fairfax\", \"Fairfax\", \"Fairfax\", \"Fairfax\", \"Fairfax\", \"Fairfax\", \"Fairfax\", \"Fairfax\", \"Fanny\", \"Fanny\", \"Fanshawe\", \"Fanshawe\", \"Fanshawe\", \"Fanshawe\", \"Fanshawe\", \"Fanshawe\", \"Fanshawe\", \"Ferrars\", \"Ferrars\", \"Fitzwilliam\", \"Fitzwilliam\", \"Forster\", \"Forster\", \"Fossette\", \"Fossette\", \"Fossette\", \"Fossette\", \"Fossette\", \"Fossette\", \"France\", \"France\", \"France\", \"France\", \"Frances\", \"Frances\", \"Frances\", \"Frances\", \"Frances\", \"Frances\", \"Frank\", \"Frank\", \"Frank\", \"Gardiner\", \"Gardiner\", \"Gateshead\", \"Gateshead\", \"Gateshead\", \"Gateshead\", \"Gateshead\", \"Georgiana\", \"Georgiana\", \"Georgiana\", \"Georgiana\", \"Georgiana\", \"Georgiana\", \"Ginevra\", \"Ginevra\", \"Ginevra\", \"Ginevra\", \"Ginevra\", \"Ginevra\", \"Ginevra\", \"God\", \"God\", \"God\", \"God\", \"God\", \"God\", \"God\", \"God\", \"God\", \"God\", \"God\", \"God\", \"Goddard\", \"Goddard\", \"Grace\", \"Grace\", \"Grace\", \"Grace\", \"Grace\", \"Graham\", \"Graham\", \"Graham\", \"Graham\", \"Graham\", \"Graham\", \"Graham\", \"Grove\", \"Grove\", \"Grove\", \"Hall\", \"Hall\", \"Hall\", \"Hall\", \"Hall\", \"Hall\", \"Hall\", \"Hamal\", \"Hamal\", \"Hamal\", \"Hamal\", \"Hannah\", \"Hannah\", \"Hannah\", \"Harley\", \"Harley\", \"Harriet\", \"Harriet\", \"Harriet\", \"Harriet\", \"Harriet\", \"Harriet\", \"Hartfield\", \"Hartfield\", \"Helen\", \"Helen\", \"Helen\", \"Henri\", \"Henri\", \"Henri\", \"Henri\", \"Henri\", \"Hertfordshire\", \"Hertfordshire\", \"Hertfordshire\", \"Highbury\", \"Highbury\", \"Home\", \"Home\", \"Home\", \"Hunsden\", \"Hunsden\", \"Hunsden\", \"Hunsden\", \"Hunsford\", \"Hunsford\", \"Hunsford\", \"Hurst\", \"Hurst\", \"Hurst\", \"Hurst\", \"Hurst\", \"India\", \"India\", \"India\", \"India\", \"Ingram\", \"Ingram\", \"Ingram\", \"Ireland\", \"Ireland\", \"Isabella\", \"Isabella\", \"Jane\", \"Jane\", \"Jane\", \"Jane\", \"Jane\", \"Jane\", \"Jane\", \"Jane\", \"Jane\", \"Jane\", \"Jane\", \"Jean\", \"Jean\", \"Jean\", \"Jennings\", \"Jennings\", \"John\", \"John\", \"John\", \"John\", \"John\", \"John\", \"John\", \"John\", \"John\", \"John\", \"John\", \"John\", \"John\", \"John\", \"Kitty\", \"Kitty\", \"Kitty\", \"Knightley\", \"Knightley\", \"Labassecour\", \"Labassecour\", \"Labassecour\", \"Labassecour\", \"Lady\", \"Lady\", \"Lady\", \"Lady\", \"Lady\", \"Lady\", \"Lady\", \"Lady\", \"Lady\", \"Lady\", \"Lane\", \"Lane\", \"Lane\", \"Lane\", \"Lane\", \"Leah\", \"Leah\", \"Lizzy\", \"Lizzy\", \"Lizzy\", \"Longbourn\", \"Longbourn\", \"Longbourn\", \"Longbourn\", \"Lowood\", \"Lowood\", \"Lowood\", \"Lucas\", \"Lucas\", \"Lucas\", \"Lucas\", \"Lucases\", \"Lucy\", \"Lucy\", \"Lucy\", \"Lucy\", \"Lucy\", \"Lucy\", \"Lucy\", \"Lucy\", \"Lucy\", \"Lucy\", \"Lydia\", \"Lydia\", \"Lydia\", \"Lynn\", \"Lynn\", \"Lynn\", \"M.\", \"M.\", \"M.\", \"M.\", \"M.\", \"M.\", \"M.\", \"M.\", \"M.\", \"Madame\", \"Madame\", \"Madame\", \"Madame\", \"Madame\", \"Madame\", \"Madame\", \"Maple\", \"Margaret\", \"Margaret\", \"Maria\", \"Maria\", \"Maria\", \"Maria\", \"Maria\", \"Marianne\", \"Marianne\", \"Marianne\", \"Marianne\", \"Martin\", \"Martin\", \"Martin\", \"Mason\", \"Mason\", \"Mason\", \"Mdlle\", \"Mdlle\", \"Mdlle\", \"Mdlle\", \"Mdlle\", \"Mdlle\", \"Meryton\", \"Meryton\", \"Meryton\", \"Middleton\", \"Middleton\", \"Middletons\", \"Middletons\", \"Millcote\", \"Millcote\", \"Millcote\", \"Millcote\", \"Millcote\", \"Miss\", \"Miss\", \"Miss\", \"Miss\", \"Miss\", \"Miss\", \"Miss\", \"Miss\", \"Miss\", \"Miss\", \"Miss\", \"Miss\", \"Miss\", \"Miss\", \"Monsieur\", \"Monsieur\", \"Monsieur\", \"Monsieur\", \"Monsieur\", \"Monsieur\", \"Monsieur\", \"Morton\", \"Morton\", \"Morton\", \"Morton\", \"Morton\", \"Mr.\", \"Mr.\", \"Mr.\", \"Mr.\", \"Mr.\", \"Mr.\", \"Mr.\", \"Mr.\", \"Mr.\", \"Mr.\", \"Mr.\", \"Mr.\", \"Mr.\", \"Mr.\", \"Mrs.\", \"Mrs.\", \"Mrs.\", \"Mrs.\", \"Mrs.\", \"Mrs.\", \"Mrs.\", \"Mrs.\", \"Mrs.\", \"Mrs.\", \"Mrs.\", \"Mrs.\", \"Mrs.\", \"Mrs.\", \"Netherfield\", \"Netherfield\", \"Netherfield\", \"Norland\", \"Norland\", \"Oliver\", \"Oliver\", \"Palmer\", \"Palmer\", \"Papa\", \"Papa\", \"Papa\", \"Parsonage\", \"Parsonage\", \"Paul\", \"Paul\", \"Paul\", \"Paul\", \"Paul\", \"Paul\", \"Paul\", \"Paulina\", \"Paulina\", \"Paulina\", \"Paulina\", \"Paulina\", \"Paulina\", \"Pelet\", \"Pelet\", \"Pelet\", \"Pelet\", \"Pemberley\", \"Pemberley\", \"Pemberley\", \"Pere\", \"Pere\", \"Pere\", \"Pere\", \"Perry\", \"Perry\", \"Phillips\", \"Phillips\", \"Phillips\", \"Phillips\", \"Pilot\", \"Pilot\", \"Pilot\", \"Pilot\", \"Polly\", \"Polly\", \"Polly\", \"Poole\", \"Poole\", \"Poole\", \"Randalls\", \"Randalls\", \"Reed\", \"Reed\", \"Reed\", \"Reed\", \"Reed\", \"Reuter\", \"Reuter\", \"Reuter\", \"Reuter\", \"Rivers\", \"Rivers\", \"Rivers\", \"Rivers\", \"Robert\", \"Robert\", \"Robert\", \"Robert\", \"Robert\", \"Robert\", \"Rochester\", \"Rochester\", \"Rochester\", \"Rochester\", \"Rochester\", \"Rochester\", \"Rochester\", \"Rochester\", \"Rochester\", \"Rochester\", \"Rosings\", \"Rosings\", \"Rosings\", \"Rosings\", \"Saturday\", \"Saturday\", \"Saturday\", \"Scotch\", \"Scotch\", \"Scotch\", \"Scotch\", \"Silas\", \"Silas\", \"Silas\", \"Silas\", \"Sir\", \"Sir\", \"Sir\", \"Sir\", \"Sir\", \"Sir\", \"Sir\", \"Sir\", \"Sir\", \"Sir\", \"Sir\", \"Sir\", \"Smith\", \"Smith\", \"Smith\", \"Smith\", \"Smith\", \"Snowe\", \"Snowe\", \"Snowe\", \"Snowe\", \"Snowe\", \"St.\", \"St.\", \"St.\", \"St.\", \"St.\", \"St.\", \"St.\", \"St.\", \"St.\", \"St.\", \"St.\", \"St.\", \"Steele\", \"Steele\", \"Steeles\", \"Steeles\", \"Street\", \"Street\", \"Street\", \"Street\", \"Street\", \"Taylor\", \"Taylor\", \"Temple\", \"Temple\", \"Thornfield\", \"Thornfield\", \"Thornfield\", \"Thornfield\", \"Thornfield\", \"Thornfield\", \"Ville\", \"Ville\", \"Ville\", \"Ville\", \"Ville\", \"Villette\", \"Villette\", \"Villette\", \"Villette\", \"Villette\", \"Villette\", \"Wednesday\", \"Wednesday\", \"Weston\", \"Weston\", \"Weston\", \"Weymouth\", \"Wickham\", \"Wickham\", \"Wickham\", \"Wickham\", \"William\", \"William\", \"William\", \"William\", \"William\", \"William\", \"William\", \"Willoughby\", \"Willoughby\", \"Woodhouse\", \"Woodhouse\", \"Zelie\", \"Zelie\", \"Zoraide\", \"ability\", \"ability\", \"ability\", \"ability\", \"ability\", \"accidentally\", \"accidentally\", \"accidentally\", \"accidentally\", \"accidentally\", \"accomplished\", \"accomplished\", \"accomplished\", \"accomplished\", \"accomplished\", \"accomplished\", \"accomplished\", \"actual\", \"actual\", \"actual\", \"actual\", \"actual\", \"actual\", \"affable\", \"affable\", \"affable\", \"affable\", \"affable\", \"affable\", \"affection\", \"affection\", \"affection\", \"affection\", \"affection\", \"affection\", \"affection\", \"affection\", \"affection\", \"affection\", \"affection\", \"affection\", \"affection\", \"aged\", \"aged\", \"aged\", \"aged\", \"aged\", \"alacrity\", \"alacrity\", \"alacrity\", \"alacrity\", \"alacrity\", \"alacrity\", \"alarming\", \"alarming\", \"alarming\", \"alarming\", \"aloof\", \"aloof\", \"aloof\", \"altar\", \"altar\", \"altar\", \"altar\", \"altar\", \"altar\", \"alteration\", \"alteration\", \"alteration\", \"alteration\", \"alteration\", \"alteration\", \"amie\", \"amie\", \"amie\", \"animated\", \"animated\", \"animated\", \"animated\", \"animated\", \"animated\", \"answer\", \"answer\", \"answer\", \"answer\", \"answer\", \"answer\", \"answer\", \"answer\", \"answer\", \"answer\", \"answer\", \"answer\", \"answer\", \"answer\", \"antique\", \"antique\", \"antique\", \"aperture\", \"aperture\", \"aperture\", \"aperture\", \"aperture\", \"aperture\", \"appoint\", \"appoint\", \"appoint\", \"appoint\", \"appoint\", \"apprehend\", \"apprehend\", \"apprehend\", \"apprehend\", \"apprehend\", \"ask\", \"ask\", \"ask\", \"ask\", \"ask\", \"ask\", \"ask\", \"ask\", \"ask\", \"ask\", \"ask\", \"ask\", \"ask\", \"ask\", \"assent\", \"assent\", \"assent\", \"assent\", \"assent\", \"assent\", \"assent\", \"attic\", \"attic\", \"attic\", \"attic\", \"au\", \"au\", \"au\", \"audience\", \"audience\", \"audience\", \"aunt\", \"aunt\", \"aunt\", \"aunt\", \"aunt\", \"aunt\", \"aunt\", \"aunt\", \"aunt\", \"aunt\", \"avenue\", \"avenue\", \"avenue\", \"avenue\", \"avenue\", \"avenue\", \"avenue\", \"avenue\", \"away\", \"away\", \"away\", \"away\", \"away\", \"away\", \"away\", \"away\", \"away\", \"away\", \"away\", \"away\", \"away\", \"away\", \"background\", \"background\", \"background\", \"background\", \"background\", \"baffle\", \"baffle\", \"baffle\", \"baffle\", \"baffle\", \"baffle\", \"bark\", \"bark\", \"bark\", \"bead\", \"bead\", \"bead\", \"bead\", \"bed\", \"bed\", \"bed\", \"bed\", \"bed\", \"bed\", \"bed\", \"bed\", \"bed\", \"bed\", \"bed\", \"bed\", \"bed\", \"bee\", \"bee\", \"bee\", \"bee\", \"bee\", \"beggar\", \"beggar\", \"behaviour\", \"behaviour\", \"behaviour\", \"behaviour\", \"behaviour\", \"behaviour\", \"behaviour\", \"behaviour\", \"belgian\", \"belgian\", \"belgian\", \"believe\", \"believe\", \"believe\", \"believe\", \"believe\", \"believe\", \"believe\", \"believe\", \"believe\", \"believe\", \"believe\", \"believe\", \"believe\", \"believe\", \"benevolent\", \"benevolent\", \"benevolent\", \"benevolent\", \"benevolent\", \"benevolent\", \"benevolent\", \"bien\", \"bien\", \"bien\", \"bien\", \"bien\", \"black\", \"black\", \"black\", \"black\", \"black\", \"black\", \"black\", \"black\", \"black\", \"black\", \"blame\", \"blame\", \"blame\", \"blame\", \"blame\", \"blame\", \"blame\", \"blame\", \"blame\", \"blast\", \"blast\", \"blast\", \"blast\", \"blast\", \"blossom\", \"blossom\", \"blossom\", \"blossom\", \"blossom\", \"blossom\", \"blue\", \"blue\", \"blue\", \"blue\", \"blue\", \"blue\", \"blue\", \"blue\", \"blue\", \"blue\", \"body\", \"body\", \"body\", \"body\", \"body\", \"body\", \"body\", \"body\", \"body\", \"body\", \"body\", \"book\", \"book\", \"book\", \"book\", \"book\", \"book\", \"book\", \"book\", \"book\", \"book\", \"book\", \"book\", \"book\", \"book\", \"boy\", \"boy\", \"boy\", \"boy\", \"boy\", \"boy\", \"boy\", \"boy\", \"boy\", \"boy\", \"bread\", \"bread\", \"bread\", \"bread\", \"bread\", \"bread\", \"break\", \"break\", \"break\", \"break\", \"break\", \"break\", \"break\", \"break\", \"break\", \"break\", \"break\", \"break\", \"break\", \"brother\", \"brother\", \"brother\", \"brother\", \"brother\", \"brother\", \"brother\", \"brother\", \"brother\", \"brother\", \"brother\", \"brother\", \"bush\", \"bush\", \"bush\", \"bush\", \"c'est\", \"c'est\", \"c'est\", \"c'est\", \"calamity\", \"calamity\", \"calamity\", \"calamity\", \"calamity\", \"candle\", \"candle\", \"candle\", \"candle\", \"candle\", \"candle\", \"candle\", \"car\", \"car\", \"car\", \"car\", \"carre\", \"carre\", \"carre\", \"carre\", \"case\", \"case\", \"case\", \"case\", \"case\", \"case\", \"case\", \"case\", \"case\", \"case\", \"case\", \"case\", \"case\", \"ce\", \"ce\", \"ce\", \"ce\", \"ce\", \"ce\", \"ceremony\", \"ceremony\", \"ceremony\", \"ceremony\", \"ceremony\", \"ceremony\", \"ceremony\", \"ceremony\", \"ceremony\", \"certain\", \"certain\", \"certain\", \"certain\", \"certain\", \"certain\", \"certain\", \"certain\", \"certain\", \"certain\", \"certain\", \"certain\", \"certain\", \"certain\", \"chair\", \"chair\", \"chair\", \"chair\", \"chair\", \"chair\", \"chair\", \"chair\", \"chair\", \"chair\", \"chair\", \"chair\", \"chateau\", \"chateau\", \"chateau\", \"child\", \"child\", \"child\", \"child\", \"child\", \"child\", \"child\", \"child\", \"child\", \"child\", \"child\", \"child\", \"child\", \"child\", \"class\", \"class\", \"class\", \"class\", \"class\", \"class\", \"class\", \"classe\", \"classe\", \"classe\", \"classe\", \"classe\", \"clean\", \"clean\", \"clean\", \"clean\", \"clean\", \"clean\", \"clean\", \"clerk\", \"clerk\", \"clerk\", \"clerk\", \"cling\", \"cling\", \"cling\", \"cling\", \"cling\", \"cling\", \"closer\", \"closer\", \"closer\", \"coal\", \"coax\", \"coax\", \"coax\", \"combine\", \"combine\", \"combine\", \"combine\", \"combine\", \"combine\", \"combine\", \"combine\", \"condescension\", \"condescension\", \"condescension\", \"condescension\", \"conflict\", \"conflict\", \"conflict\", \"conflict\", \"connexion\", \"connexion\", \"conscientious\", \"conscientious\", \"conscientious\", \"conscientious\", \"conscientious\", \"consume\", \"consume\", \"consume\", \"contact\", \"contact\", \"contemplation\", \"contemplation\", \"contemplation\", \"contemplation\", \"contemplation\", \"contemplation\", \"continental\", \"continental\", \"continental\", \"continental\", \"continuance\", \"continuance\", \"continuance\", \"continuance\", \"continuance\", \"conversation\", \"conversation\", \"conversation\", \"conversation\", \"conversation\", \"conversation\", \"conversation\", \"conversation\", \"conversation\", \"conversation\", \"conversation\", \"conversation\", \"costly\", \"costly\", \"costly\", \"costly\", \"cottage\", \"cottage\", \"cottage\", \"cottage\", \"cottage\", \"cottage\", \"cottage\", \"counting\", \"counting\", \"cousin\", \"cousin\", \"cousin\", \"cousin\", \"cousin\", \"cousin\", \"cousin\", \"cousin\", \"cousin\", \"cousin\", \"cousin\", \"cousin\", \"cousin\", \"crack\", \"crack\", \"crack\", \"crack\", \"crib\", \"crib\", \"crib\", \"crib\", \"crimson\", \"crimson\", \"crimson\", \"crimson\", \"crimson\", \"cry\", \"cry\", \"cry\", \"cry\", \"cry\", \"cry\", \"cry\", \"cry\", \"cry\", \"cry\", \"cry\", \"cry\", \"cry\", \"cry\", \"curl\", \"curl\", \"curl\", \"curl\", \"curl\", \"curl\", \"curtain\", \"curtain\", \"curtain\", \"curtain\", \"curtain\", \"curtain\", \"curtain\", \"cushion\", \"cushion\", \"cushion\", \"cushion\", \"cushion\", \"dance\", \"dance\", \"dance\", \"dance\", \"dance\", \"dance\", \"dance\", \"dance\", \"dance\", \"dance\", \"dare\", \"dare\", \"dare\", \"dare\", \"dare\", \"dare\", \"dare\", \"dare\", \"dare\", \"dare\", \"dare\", \"dare\", \"dare\", \"dare\", \"dark\", \"dark\", \"dark\", \"dark\", \"dark\", \"dark\", \"dark\", \"dark\", \"dark\", \"dark\", \"dark\", \"dark\", \"daughter\", \"daughter\", \"daughter\", \"daughter\", \"daughter\", \"daughter\", \"daughter\", \"daughter\", \"daughter\", \"daughter\", \"daughter\", \"daughter\", \"daughter\", \"daughter\", \"de\", \"de\", \"de\", \"de\", \"de\", \"de\", \"de\", \"de\", \"de\", \"de\", \"dear\", \"dear\", \"dear\", \"dear\", \"dear\", \"dear\", \"dear\", \"dear\", \"dear\", \"dear\", \"dear\", \"dear\", \"dear\", \"dear\", \"decay\", \"decay\", \"decay\", \"deep\", \"deep\", \"deep\", \"deep\", \"deep\", \"deep\", \"deep\", \"deep\", \"deep\", \"deep\", \"deep\", \"deep\", \"defect\", \"defect\", \"defect\", \"defect\", \"defect\", \"defect\", \"defect\", \"defect\", \"degradation\", \"degradation\", \"degradation\", \"degradation\", \"degradation\", \"degradation\", \"degradation\", \"desk\", \"desk\", \"desk\", \"desk\", \"desk\", \"desk\", \"desk\", \"desk\", \"despair\", \"despair\", \"despair\", \"despair\", \"despair\", \"despair\", \"despair\", \"despair\", \"despair\", \"despair\", \"destitute\", \"destitute\", \"destitute\", \"destitute\", \"detest\", \"detest\", \"detest\", \"detest\", \"detest\", \"detest\", \"deuce\", \"devise\", \"devise\", \"devise\", \"devise\", \"devise\", \"devour\", \"dimly\", \"directly\", \"directly\", \"directly\", \"directly\", \"directly\", \"directly\", \"directly\", \"directly\", \"directly\", \"directly\", \"directly\", \"directly\", \"directly\", \"director\", \"director\", \"director\", \"director\", \"disapprobation\", \"disapprobation\", \"disapprobation\", \"disapprobation\", \"dish\", \"dish\", \"dish\", \"dish\", \"dish\", \"dismiss\", \"dismiss\", \"dismiss\", \"dismiss\", \"dismiss\", \"dismiss\", \"dismiss\", \"dismiss\", \"dismiss\", \"disown\", \"disown\", \"disown\", \"disown\", \"displeasure\", \"displeasure\", \"displeasure\", \"displeasure\", \"displeasure\", \"displeasure\", \"displeasure\", \"displeasure\", \"displeasure\", \"dissuade\", \"dissuade\", \"dissuade\", \"dissuade\", \"disturbed\", \"disturbed\", \"disturbed\", \"disturbed\", \"disturbed\", \"door\", \"door\", \"door\", \"door\", \"door\", \"door\", \"door\", \"door\", \"door\", \"door\", \"door\", \"door\", \"door\", \"door\", \"dormitory\", \"dormitory\", \"dormitory\", \"dormitory\", \"dormitory\", \"dream\", \"dream\", \"dream\", \"dream\", \"dream\", \"dream\", \"dream\", \"dream\", \"dream\", \"dress\", \"dress\", \"dress\", \"dress\", \"dress\", \"dress\", \"dress\", \"dress\", \"dress\", \"dress\", \"dress\", \"dress\", \"drink\", \"drink\", \"drink\", \"drink\", \"drink\", \"drink\", \"drink\", \"drink\", \"drink\", \"drink\", \"drinking\", \"drinking\", \"drinking\", \"drinking\", \"drinking\", \"du\", \"du\", \"economy\", \"economy\", \"economy\", \"economy\", \"economy\", \"economy\", \"elf\", \"elf\", \"elf\", \"end\", \"end\", \"end\", \"end\", \"end\", \"end\", \"end\", \"end\", \"end\", \"end\", \"end\", \"end\", \"end\", \"end\", \"enforce\", \"enforce\", \"enforce\", \"enforce\", \"enforce\", \"enforce\", \"engagement\", \"engagement\", \"engagement\", \"engagement\", \"engagement\", \"engagement\", \"engagement\", \"engagement\", \"engagement\", \"english\", \"english\", \"english\", \"english\", \"english\", \"english\", \"english\", \"english\", \"enquiry\", \"enquiry\", \"entail\", \"entail\", \"entail\", \"entail\", \"est\", \"est\", \"est\", \"est\", \"est\", \"estimate\", \"estimate\", \"estimate\", \"estimate\", \"estimate\", \"estimate\", \"estimate\", \"estrade\", \"estrade\", \"estrade\", \"et\", \"et\", \"et\", \"et\", \"etc\", \"etc\", \"eternal\", \"eternal\", \"eternal\", \"eternal\", \"eternal\", \"eternal\", \"evening\", \"evening\", \"evening\", \"evening\", \"evening\", \"evening\", \"evening\", \"evening\", \"evening\", \"evening\", \"evening\", \"evening\", \"evening\", \"evening\", \"examination\", \"examination\", \"examination\", \"examination\", \"examination\", \"examination\", \"examination\", \"examination\", \"excellent\", \"excellent\", \"excellent\", \"excellent\", \"excellent\", \"excellent\", \"excellent\", \"excellent\", \"excellent\", \"excellent\", \"excellent\", \"except\", \"except\", \"except\", \"except\", \"except\", \"except\", \"except\", \"external\", \"external\", \"external\", \"external\", \"eye\", \"eye\", \"eye\", \"eye\", \"eye\", \"eye\", \"eye\", \"eye\", \"eye\", \"eye\", \"eye\", \"eye\", \"eye\", \"eye\", \"face\", \"face\", \"face\", \"face\", \"face\", \"face\", \"face\", \"face\", \"face\", \"face\", \"face\", \"face\", \"face\", \"face\", \"faithful\", \"faithful\", \"faithful\", \"faithful\", \"faithful\", \"faithful\", \"faithful\", \"faithful\", \"faithful\", \"family\", \"family\", \"family\", \"family\", \"family\", \"family\", \"family\", \"family\", \"family\", \"family\", \"family\", \"family\", \"far\", \"far\", \"far\", \"far\", \"far\", \"far\", \"far\", \"far\", \"far\", \"far\", \"far\", \"far\", \"far\", \"far\", \"father\", \"father\", \"father\", \"father\", \"father\", \"father\", \"father\", \"father\", \"father\", \"father\", \"father\", \"father\", \"father\", \"feeble\", \"feeble\", \"feeble\", \"feeble\", \"feeble\", \"feeble\", \"feeble\", \"feel\", \"feel\", \"feel\", \"feel\", \"feel\", \"feel\", \"feel\", \"feel\", \"feel\", \"feel\", \"feel\", \"feel\", \"feel\", \"feel\", \"fiacre\", \"find\", \"find\", \"find\", \"find\", \"find\", \"find\", \"find\", \"find\", \"find\", \"find\", \"find\", \"find\", \"find\", \"find\", \"fire\", \"fire\", \"fire\", \"fire\", \"fire\", \"fire\", \"fire\", \"fire\", \"fire\", \"fire\", \"fire\", \"fire\", \"fire\", \"flattering\", \"flattering\", \"flattering\", \"flattering\", \"flattering\", \"flattering\", \"flattering\", \"float\", \"float\", \"float\", \"float\", \"float\", \"float\", \"flock\", \"flock\", \"flock\", \"flock\", \"flock\", \"flower\", \"flower\", \"flower\", \"flower\", \"flower\", \"flower\", \"flower\", \"flower\", \"flower\", \"foible\", \"foible\", \"foible\", \"foible\", \"foolish\", \"foolish\", \"foolish\", \"foolish\", \"foolish\", \"foolish\", \"forehead\", \"forehead\", \"forehead\", \"forehead\", \"forehead\", \"forsake\", \"forsake\", \"forsake\", \"franc\", \"franc\", \"franc\", \"franc\", \"frantic\", \"frantic\", \"frantic\", \"frantic\", \"frantic\", \"friend\", \"friend\", \"friend\", \"friend\", \"friend\", \"friend\", \"friend\", \"friend\", \"friend\", \"friend\", \"friend\", \"friend\", \"friend\", \"friend\", \"frightful\", \"frightful\", \"frightful\", \"frightful\", \"frightful\", \"frock\", \"fun\", \"fun\", \"fun\", \"gallery\", \"gallery\", \"gallery\", \"gallery\", \"gallery\", \"gallery\", \"garb\", \"garden\", \"garden\", \"garden\", \"garden\", \"garden\", \"garden\", \"garden\", \"garden\", \"garden\", \"garden\", \"garden\", \"garret\", \"garret\", \"garret\", \"garret\", \"garret\", \"gaze\", \"gaze\", \"gaze\", \"gaze\", \"gaze\", \"gaze\", \"gaze\", \"gaze\", \"gaze\", \"general\", \"general\", \"general\", \"general\", \"general\", \"general\", \"general\", \"general\", \"general\", \"general\", \"general\", \"gentlemanlike\", \"gentlemanlike\", \"gentlemanlike\", \"gentlemanlike\", \"get\", \"get\", \"get\", \"get\", \"get\", \"get\", \"get\", \"get\", \"get\", \"get\", \"get\", \"get\", \"get\", \"get\", \"ghastly\", \"ghastly\", \"ghastly\", \"ghost\", \"ghost\", \"ghost\", \"ghost\", \"ghost\", \"girl\", \"girl\", \"girl\", \"girl\", \"girl\", \"girl\", \"girl\", \"girl\", \"girl\", \"girl\", \"girl\", \"girl\", \"girl\", \"girl\", \"give\", \"give\", \"give\", \"give\", \"give\", \"give\", \"give\", \"give\", \"give\", \"give\", \"give\", \"give\", \"give\", \"give\", \"glare\", \"glare\", \"glare\", \"glare\", \"glare\", \"glory\", \"glory\", \"glory\", \"glory\", \"glory\", \"glory\", \"glory\", \"glory\", \"go\", \"go\", \"go\", \"go\", \"go\", \"go\", \"go\", \"go\", \"go\", \"go\", \"go\", \"go\", \"go\", \"go\", \"goblin\", \"goblin\", \"goblin\", \"goblin\", \"god\", \"god\", \"god\", \"god\", \"god\", \"god\", \"godmother\", \"godmother\", \"godmother\", \"godmother\", \"godmother\", \"grammar\", \"grammar\", \"grammar\", \"gratified\", \"gratified\", \"gratified\", \"gratified\", \"gratified\", \"gratified\", \"great\", \"great\", \"great\", \"great\", \"great\", \"great\", \"great\", \"great\", \"great\", \"great\", \"great\", \"great\", \"great\", \"great\", \"greatness\", \"greatness\", \"greatness\", \"greatness\", \"greatness\", \"greatness\", \"greatness\", \"green\", \"green\", \"green\", \"green\", \"green\", \"green\", \"green\", \"green\", \"green\", \"half\", \"half\", \"half\", \"half\", \"half\", \"half\", \"half\", \"half\", \"half\", \"half\", \"half\", \"half\", \"half\", \"half\", \"hand\", \"hand\", \"hand\", \"hand\", \"hand\", \"hand\", \"hand\", \"hand\", \"hand\", \"hand\", \"hand\", \"hand\", \"hand\", \"hand\", \"hanging\", \"hanging\", \"hanging\", \"harshly\", \"harshly\", \"harshly\", \"harshly\", \"hate\", \"hate\", \"hate\", \"hate\", \"hate\", \"hate\", \"hate\", \"hate\", \"hate\", \"hate\", \"haunt\", \"haunt\", \"haunt\", \"haunt\", \"haunt\", \"haunt\", \"haunt\", \"head\", \"head\", \"head\", \"head\", \"head\", \"head\", \"head\", \"head\", \"head\", \"head\", \"head\", \"head\", \"head\", \"head\", \"hear\", \"hear\", \"hear\", \"hear\", \"hear\", \"hear\", \"hear\", \"hear\", \"hear\", \"hear\", \"hear\", \"hear\", \"hear\", \"hear\", \"heart\", \"heart\", \"heart\", \"heart\", \"heart\", \"heart\", \"heart\", \"heart\", \"heart\", \"heart\", \"heart\", \"heart\", \"heart\", \"heart\", \"heath\", \"heath\", \"heath\", \"hideous\", \"high\", \"high\", \"high\", \"high\", \"high\", \"high\", \"high\", \"high\", \"high\", \"high\", \"high\", \"high\", \"high\", \"high\", \"hole\", \"hole\", \"hole\", \"homage\", \"homage\", \"homage\", \"homage\", \"homage\", \"homage\", \"hope\", \"hope\", \"hope\", \"hope\", \"hope\", \"hope\", \"hope\", \"hope\", \"hope\", \"hope\", \"hope\", \"hope\", \"hope\", \"hope\", \"hour\", \"hour\", \"hour\", \"hour\", \"hour\", \"hour\", \"hour\", \"hour\", \"hour\", \"hour\", \"hour\", \"hour\", \"hour\", \"hour\", \"house\", \"house\", \"house\", \"house\", \"house\", \"house\", \"house\", \"house\", \"house\", \"house\", \"house\", \"house\", \"house\", \"house\", \"hundred\", \"hundred\", \"hundred\", \"hundred\", \"hysteric\", \"hysteric\", \"hysteric\", \"hysteric\", \"hysteric\", \"identity\", \"identity\", \"impertinent\", \"impertinent\", \"impertinent\", \"impertinent\", \"impropriety\", \"impropriety\", \"impropriety\", \"impulse\", \"impulse\", \"impulse\", \"impulse\", \"impulse\", \"impulse\", \"impulse\", \"impulse\", \"impulse\", \"inexorable\", \"infer\", \"infer\", \"infer\", \"infer\", \"infer\", \"infer\", \"inner\", \"inner\", \"instruction\", \"instruction\", \"instruction\", \"instruction\", \"instruction\", \"instruction\", \"intellectual\", \"intellectual\", \"intellectual\", \"intellectual\", \"interpret\", \"interpret\", \"interpret\", \"interpret\", \"invest\", \"invest\", \"invest\", \"ire\", \"ire\", \"ire\", \"ire\", \"ire\", \"ivy\", \"ivy\", \"ivy\", \"ivy\", \"ivy\", \"ivy\", \"jeune\", \"jeune\", \"jeune\", \"joyful\", \"joyful\", \"joyful\", \"joyful\", \"judgement\", \"judgement\", \"judgement\", \"kill\", \"kill\", \"kill\", \"kill\", \"kill\", \"kill\", \"kill\", \"kill\", \"kill\", \"kinsman\", \"kinsman\", \"kinsman\", \"kinsman\", \"la\", \"la\", \"la\", \"la\", \"la\", \"la\", \"lace\", \"lace\", \"lace\", \"lace\", \"lace\", \"lace\", \"lady\", \"lady\", \"lady\", \"lady\", \"lady\", \"lady\", \"lady\", \"lady\", \"lady\", \"lady\", \"lady\", \"lady\", \"lady\", \"lady\", \"ladyship\", \"ladyship\", \"ladyship\", \"ladyship\", \"large\", \"large\", \"large\", \"large\", \"large\", \"large\", \"large\", \"large\", \"large\", \"large\", \"large\", \"large\", \"large\", \"laugh\", \"laugh\", \"laugh\", \"laugh\", \"laugh\", \"laugh\", \"laugh\", \"laugh\", \"laugh\", \"laugh\", \"laugh\", \"laugh\", \"laugh\", \"laugh\", \"leave\", \"leave\", \"leave\", \"leave\", \"leave\", \"leave\", \"leave\", \"leave\", \"leave\", \"leave\", \"leave\", \"leave\", \"leave\", \"leave\", \"les\", \"les\", \"les\", \"letter\", \"letter\", \"letter\", \"letter\", \"letter\", \"letter\", \"letter\", \"letter\", \"letter\", \"letter\", \"letter\", \"letter\", \"letter\", \"letter\", \"liberality\", \"liberality\", \"liberality\", \"liberality\", \"liberality\", \"liberality\", \"lid\", \"lid\", \"life\", \"life\", \"life\", \"life\", \"life\", \"life\", \"life\", \"life\", \"life\", \"life\", \"life\", \"life\", \"life\", \"life\", \"lift\", \"lift\", \"lift\", \"lift\", \"lift\", \"lift\", \"lift\", \"lift\", \"lift\", \"lift\", \"lift\", \"lift\", \"light\", \"light\", \"light\", \"light\", \"light\", \"light\", \"light\", \"light\", \"light\", \"light\", \"light\", \"light\", \"like\", \"like\", \"like\", \"like\", \"like\", \"like\", \"like\", \"like\", \"like\", \"like\", \"like\", \"like\", \"like\", \"like\", \"lip\", \"lip\", \"lip\", \"lip\", \"lip\", \"lip\", \"lip\", \"lip\", \"lip\", \"lip\", \"lip\", \"lip\", \"lisp\", \"lisp\", \"lisp\", \"live\", \"live\", \"live\", \"live\", \"live\", \"live\", \"live\", \"live\", \"live\", \"live\", \"live\", \"live\", \"live\", \"live\", \"long\", \"long\", \"long\", \"long\", \"long\", \"long\", \"long\", \"long\", \"long\", \"long\", \"long\", \"long\", \"long\", \"long\", \"loudly\", \"loudly\", \"loudly\", \"loudly\", \"loudly\", \"love\", \"love\", \"love\", \"love\", \"love\", \"love\", \"love\", \"love\", \"love\", \"love\", \"love\", \"love\", \"love\", \"love\", \"luckily\", \"luckily\", \"lull\", \"lull\", \"lull\", \"mademoiselle\", \"mademoiselle\", \"mademoiselle\", \"mademoiselle\", \"magic\", \"magic\", \"magic\", \"magic\", \"magnificent\", \"magnificent\", \"magnificent\", \"magnificent\", \"magnificent\", \"magnificent\", \"mamma\", \"mamma\", \"mamma\", \"mamma\", \"mamma\", \"mamma\", \"man\", \"man\", \"man\", \"man\", \"man\", \"man\", \"man\", \"man\", \"man\", \"man\", \"man\", \"man\", \"man\", \"man\", \"manger\", \"manger\", \"manly\", \"manly\", \"manly\", \"manly\", \"manner\", \"manner\", \"manner\", \"manner\", \"manner\", \"manner\", \"manner\", \"manner\", \"manner\", \"manner\", \"manner\", \"manner\", \"manner\", \"manner\", \"marriage\", \"marriage\", \"marriage\", \"marriage\", \"marriage\", \"marriage\", \"marriage\", \"marriage\", \"marriage\", \"marriage\", \"marriage\", \"marriage\", \"marriage\", \"marry\", \"marry\", \"marry\", \"marry\", \"marry\", \"marry\", \"marry\", \"marry\", \"marry\", \"marry\", \"marry\", \"marry\", \"marry\", \"marry\", \"master\", \"master\", \"master\", \"master\", \"master\", \"master\", \"master\", \"master\", \"master\", \"master\", \"master\", \"match\", \"match\", \"match\", \"match\", \"match\", \"match\", \"match\", \"match\", \"match\", \"match\", \"match\", \"match\", \"mate\", \"mate\", \"mate\", \"mate\", \"matrimony\", \"matrimony\", \"matrimony\", \"matrimony\", \"matrimony\", \"matrimony\", \"matrimony\", \"matrimony\", \"mean\", \"mean\", \"mean\", \"mean\", \"mean\", \"mean\", \"mean\", \"mean\", \"mean\", \"mean\", \"mean\", \"mean\", \"mean\", \"mean\", \"mechanically\", \"mechanically\", \"mechanically\", \"mechanically\", \"mechanically\", \"mechanically\", \"menace\", \"mend\", \"mend\", \"mend\", \"mend\", \"mend\", \"mend\", \"miniature\", \"miniature\", \"miniature\", \"miniature\", \"miniature\", \"miniature\", \"miracle\", \"miracle\", \"miracle\", \"miracle\", \"miracle\", \"mirror\", \"mirror\", \"mirror\", \"mirror\", \"mode\", \"mode\", \"mode\", \"mode\", \"mode\", \"mode\", \"moment\", \"moment\", \"moment\", \"moment\", \"moment\", \"moment\", \"moment\", \"moment\", \"moment\", \"moment\", \"moment\", \"moment\", \"moment\", \"moment\", \"mon\", \"mon\", \"mon\", \"mon\", \"mon\", \"monsieur\", \"monsieur\", \"monsieur\", \"monsieur\", \"monsieur\", \"monstrous\", \"monstrous\", \"monstrous\", \"moon\", \"moon\", \"moon\", \"moon\", \"moon\", \"moon\", \"moon\", \"moon\", \"moor\", \"moor\", \"moor\", \"moor\", \"mortified\", \"mortified\", \"mortified\", \"mortified\", \"mortified\", \"mortified\", \"mother\", \"mother\", \"mother\", \"mother\", \"mother\", \"mother\", \"mother\", \"mother\", \"mother\", \"mother\", \"mother\", \"mother\", \"mother\", \"mother\", \"mountain\", \"mountain\", \"mountain\", \"mountain\", \"mountain\", \"mountain\", \"mountain\", \"mournful\", \"mournful\", \"mournful\", \"mournful\", \"mysterious\", \"mysterious\", \"mysterious\", \"mysterious\", \"mystery\", \"mystery\", \"mystery\", \"mystery\", \"mystery\", \"mystery\", \"mystery\", \"mystery\", \"mystery\", \"mystery\", \"naughty\", \"naughty\", \"naughty\", \"neck\", \"neck\", \"neck\", \"neck\", \"neck\", \"neck\", \"neck\", \"neck\", \"neighbouring\", \"neighbouring\", \"neighbouring\", \"night\", \"night\", \"night\", \"night\", \"night\", \"night\", \"night\", \"night\", \"night\", \"night\", \"night\", \"night\", \"night\", \"night\", \"nineteen\", \"nineteen\", \"nineteen\", \"nineteen\", \"noisy\", \"noisy\", \"noisy\", \"noisy\", \"nose\", \"nose\", \"nose\", \"nose\", \"nun\", \"nun\", \"nun\", \"nun\", \"nun\", \"nun\", \"nun\", \"nursery\", \"nursery\", \"nursery\", \"nursery\", \"nursery\", \"nursery\", \"nursery\", \"nursery\", \"oak\", \"oak\", \"oak\", \"oak\", \"oak\", \"obedience\", \"obedience\", \"obedience\", \"obedience\", \"observant\", \"observant\", \"observant\", \"observant\", \"observant\", \"observant\", \"offend\", \"offend\", \"offend\", \"offend\", \"offend\", \"offend\", \"offend\", \"offend\", \"offer\", \"offer\", \"offer\", \"offer\", \"offer\", \"offer\", \"offer\", \"offer\", \"offer\", \"offer\", \"offer\", \"offer\", \"offer\", \"offer\", \"officer\", \"officer\", \"officer\", \"officer\", \"officer\", \"officer\", \"officer\", \"officious\", \"officious\", \"officious\", \"officious\", \"officious\", \"officious\", \"officious\", \"officious\", \"oh\", \"oh\", \"oh\", \"oh\", \"oh\", \"oh\", \"oh\", \"oh\", \"oh\", \"oh\", \"oh\", \"oh\", \"oh\", \"oh\", \"old\", \"old\", \"old\", \"old\", \"old\", \"old\", \"old\", \"old\", \"old\", \"old\", \"old\", \"old\", \"old\", \"old\", \"omit\", \"omit\", \"omit\", \"omit\", \"omit\", \"open\", \"open\", \"open\", \"open\", \"open\", \"open\", \"open\", \"open\", \"open\", \"open\", \"open\", \"open\", \"open\", \"open\", \"opinion\", \"opinion\", \"opinion\", \"opinion\", \"opinion\", \"opinion\", \"opinion\", \"opinion\", \"opinion\", \"opinion\", \"opinion\", \"opinion\", \"opinion\", \"opinion\", \"orchard\", \"orchard\", \"orchard\", \"orchard\", \"orchard\", \"ornament\", \"ornament\", \"ornament\", \"ornament\", \"ornament\", \"ornament\", \"ornament\", \"ornament\", \"pale\", \"pale\", \"pale\", \"pale\", \"pale\", \"pale\", \"pale\", \"pale\", \"pale\", \"pale\", \"pale\", \"pale\", \"pant\", \"pant\", \"pant\", \"pant\", \"pant\", \"pant\", \"papa\", \"papa\", \"papa\", \"papa\", \"papa\", \"papa\", \"park\", \"park\", \"park\", \"park\", \"park\", \"park\", \"park\", \"park\", \"park\", \"park\", \"partner\", \"partner\", \"partner\", \"partner\", \"partner\", \"partner\", \"partner\", \"pass\", \"pass\", \"pass\", \"pass\", \"pass\", \"pass\", \"pass\", \"pass\", \"pass\", \"pass\", \"pass\", \"pass\", \"pass\", \"pass\", \"patroness\", \"patroness\", \"patroness\", \"patroness\", \"patroness\", \"pensionnat\", \"pensionnat\", \"pensionnat\", \"pensionnat\", \"perish\", \"perish\", \"perish\", \"personally\", \"personally\", \"personally\", \"personally\", \"personally\", \"personally\", \"pet\", \"pet\", \"pet\", \"pet\", \"pet\", \"pet\", \"phantom\", \"phantom\", \"phantom\", \"phantom\", \"phantom\", \"phase\", \"phase\", \"phase\", \"picture\", \"picture\", \"picture\", \"picture\", \"picture\", \"picture\", \"picture\", \"picture\", \"picture\", \"picture\", \"picture\", \"picture\", \"picture\", \"picture\", \"picturesque\", \"picturesque\", \"picturesque\", \"picturesque\", \"picturesque\", \"picturesque\", \"piquant\", \"place\", \"place\", \"place\", \"place\", \"place\", \"place\", \"place\", \"place\", \"place\", \"place\", \"place\", \"place\", \"place\", \"place\", \"pleasure\", \"pleasure\", \"pleasure\", \"pleasure\", \"pleasure\", \"pleasure\", \"pleasure\", \"pleasure\", \"pleasure\", \"pleasure\", \"pleasure\", \"pleasure\", \"pleasure\", \"pleasure\", \"plenty\", \"plenty\", \"plenty\", \"plenty\", \"plenty\", \"plenty\", \"plus\", \"plus\", \"plus\", \"poignant\", \"poignant\", \"poignant\", \"poignant\", \"poor\", \"poor\", \"poor\", \"poor\", \"poor\", \"poor\", \"poor\", \"poor\", \"poor\", \"poor\", \"poor\", \"poor\", \"poor\", \"poor\", \"porter\", \"porter\", \"porter\", \"portress\", \"portress\", \"portress\", \"pound\", \"pound\", \"pound\", \"pound\", \"pound\", \"pound\", \"pound\", \"pound\", \"pound\", \"priest\", \"priest\", \"priest\", \"priest\", \"priest\", \"priest\", \"priest\", \"protestant\", \"protestant\", \"protestant\", \"protestant\", \"provision\", \"provision\", \"provision\", \"provision\", \"provision\", \"provision\", \"provision\", \"pupil\", \"pupil\", \"pupil\", \"pupil\", \"pupil\", \"pupil\", \"pupil\", \"pupil\", \"pupil\", \"pupil\", \"qualified\", \"qualified\", \"qualified\", \"qualified\", \"qualified\", \"qualified\", \"que\", \"que\", \"que\", \"que\", \"que\", \"raillery\", \"raillery\", \"raillery\", \"raillery\", \"rain\", \"rain\", \"rain\", \"rain\", \"rain\", \"rain\", \"rain\", \"rain\", \"rain\", \"rain\", \"read\", \"read\", \"read\", \"read\", \"read\", \"read\", \"read\", \"read\", \"read\", \"read\", \"read\", \"read\", \"reader\", \"reader\", \"reader\", \"reader\", \"reader\", \"reader\", \"reader\", \"reader\", \"reader\", \"reader\", \"reality\", \"reality\", \"reality\", \"reality\", \"reality\", \"reality\", \"reality\", \"reality\", \"recognition\", \"recognition\", \"recognition\", \"recovery\", \"recovery\", \"recovery\", \"refectory\", \"refectory\", \"refectory\", \"refinement\", \"refinement\", \"refinement\", \"refinement\", \"refinement\", \"refusal\", \"refusal\", \"refusal\", \"refusal\", \"refusal\", \"refusal\", \"refuse\", \"refuse\", \"refuse\", \"refuse\", \"refuse\", \"refuse\", \"refuse\", \"refuse\", \"refuse\", \"refuse\", \"refuse\", \"refuse\", \"refuse\", \"regiment\", \"regiment\", \"regiment\", \"religion\", \"religion\", \"remember\", \"remember\", \"remember\", \"remember\", \"remember\", \"remember\", \"remember\", \"remember\", \"remember\", \"remember\", \"remember\", \"remember\", \"remember\", \"remember\", \"rent\", \"rent\", \"rent\", \"rent\", \"rent\", \"rent\", \"reply\", \"reply\", \"reply\", \"reply\", \"reply\", \"reply\", \"reply\", \"reply\", \"reply\", \"reply\", \"reply\", \"reply\", \"reply\", \"reply\", \"repulse\", \"repulse\", \"repulse\", \"repulse\", \"repulse\", \"repulse\", \"resident\", \"resident\", \"resident\", \"resident\", \"resident\", \"resistance\", \"resistance\", \"resistance\", \"resistance\", \"resistance\", \"resistance\", \"respectable\", \"respectable\", \"respectable\", \"respectable\", \"respectable\", \"respectable\", \"respectable\", \"respectable\", \"respectable\", \"respectable\", \"respectable\", \"respectable\", \"response\", \"response\", \"response\", \"retort\", \"retort\", \"retort\", \"retort\", \"retort\", \"retort\", \"retort\", \"retort\", \"return\", \"return\", \"return\", \"return\", \"return\", \"return\", \"return\", \"return\", \"return\", \"return\", \"return\", \"return\", \"return\", \"return\", \"ridge\", \"ridge\", \"ridge\", \"rigid\", \"rigid\", \"rise\", \"rise\", \"rise\", \"rise\", \"rise\", \"rise\", \"rise\", \"rise\", \"rise\", \"rise\", \"rise\", \"rise\", \"rise\", \"rise\", \"rite\", \"rite\", \"rite\", \"rite\", \"roar\", \"roar\", \"room\", \"room\", \"room\", \"room\", \"room\", \"room\", \"room\", \"room\", \"room\", \"room\", \"room\", \"room\", \"room\", \"room\", \"round\", \"round\", \"round\", \"round\", \"round\", \"round\", \"round\", \"round\", \"round\", \"round\", \"round\", \"round\", \"round\", \"round\", \"run\", \"run\", \"run\", \"run\", \"run\", \"run\", \"run\", \"run\", \"run\", \"run\", \"run\", \"run\", \"run\", \"rush\", \"rush\", \"rush\", \"rush\", \"rush\", \"rush\", \"rush\", \"rush\", \"rush\", \"rush\", \"saloon\", \"saloon\", \"saloon\", \"salt\", \"salt\", \"salt\", \"salt\", \"salt\", \"satin\", \"satin\", \"satin\", \"satin\", \"satin\", \"saying\", \"saying\", \"saying\", \"saying\", \"saying\", \"saying\", \"scarcely\", \"scarcely\", \"scarcely\", \"scarcely\", \"scarcely\", \"scarcely\", \"scarcely\", \"scarcely\", \"scarcely\", \"scarcely\", \"scarcely\", \"scarcely\", \"scarcely\", \"school\", \"school\", \"school\", \"school\", \"school\", \"school\", \"school\", \"school\", \"school\", \"school\", \"school\", \"schoolroom\", \"schoolroom\", \"schoolroom\", \"science\", \"science\", \"science\", \"science\", \"science\", \"sea\", \"sea\", \"sea\", \"sea\", \"sea\", \"sea\", \"sea\", \"sea\", \"sea\", \"sea\", \"seal\", \"seal\", \"seal\", \"seal\", \"seal\", \"seal\", \"seal\", \"seat\", \"seat\", \"seat\", \"seat\", \"seat\", \"seat\", \"seat\", \"seat\", \"seat\", \"seat\", \"seat\", \"seat\", \"seat\", \"seminary\", \"seminary\", \"sense\", \"sense\", \"sense\", \"sense\", \"sense\", \"sense\", \"sense\", \"sense\", \"sense\", \"sense\", \"sense\", \"sense\", \"sense\", \"sense\", \"sentiment\", \"sentiment\", \"sentiment\", \"sentiment\", \"sentiment\", \"sentiment\", \"sentiment\", \"sentiment\", \"sentiment\", \"sentiment\", \"sentiment\", \"severely\", \"severely\", \"severely\", \"severely\", \"severely\", \"severely\", \"shadow\", \"shadow\", \"shadow\", \"shadow\", \"shadow\", \"shadow\", \"shadow\", \"shadow\", \"shadow\", \"shall\", \"shall\", \"shall\", \"shall\", \"shall\", \"shall\", \"shall\", \"shall\", \"shall\", \"shall\", \"shall\", \"shall\", \"shall\", \"shall\", \"shell\", \"shell\", \"shell\", \"shew\", \"shew\", \"shew\", \"shyness\", \"shyness\", \"shyness\", \"shyness\", \"shyness\", \"shyness\", \"sickly\", \"sickly\", \"sickly\", \"sickly\", \"sickly\", \"simpleton\", \"simpleton\", \"simpleton\", \"simpleton\", \"simpleton\", \"sir\", \"sir\", \"sir\", \"sir\", \"sir\", \"sir\", \"sir\", \"sir\", \"sir\", \"sir\", \"sir\", \"sir\", \"sir\", \"sir\", \"sister\", \"sister\", \"sister\", \"sister\", \"sister\", \"sister\", \"sister\", \"sister\", \"sister\", \"sister\", \"sister\", \"sister\", \"sister\", \"sister\", \"sit\", \"sit\", \"sit\", \"sit\", \"sit\", \"sit\", \"sit\", \"sit\", \"sit\", \"sit\", \"sit\", \"sit\", \"sit\", \"sit\", \"sleeve\", \"sleeve\", \"sleeve\", \"sleeve\", \"slope\", \"slope\", \"slope\", \"slope\", \"smile\", \"smile\", \"smile\", \"smile\", \"smile\", \"smile\", \"smile\", \"smile\", \"smile\", \"smile\", \"smile\", \"smile\", \"smile\", \"smile\", \"smother\", \"snug\", \"snug\", \"snug\", \"snug\", \"snug\", \"snug\", \"snug\", \"sob\", \"sob\", \"sob\", \"sob\", \"sob\", \"soft\", \"soft\", \"soft\", \"soft\", \"soft\", \"soft\", \"soft\", \"soft\", \"soft\", \"soft\", \"soft\", \"solicitous\", \"solicitous\", \"solicitous\", \"solicitous\", \"solicitous\", \"solicitous\", \"son\", \"son\", \"son\", \"son\", \"son\", \"son\", \"son\", \"son\", \"son\", \"son\", \"son\", \"son\", \"son\", \"soon\", \"soon\", \"soon\", \"soon\", \"soon\", \"soon\", \"soon\", \"soon\", \"soon\", \"soon\", \"soon\", \"soon\", \"soon\", \"soon\", \"sound\", \"sound\", \"sound\", \"sound\", \"sound\", \"sound\", \"sound\", \"sound\", \"sound\", \"sound\", \"sound\", \"sound\", \"sovereign\", \"sovereign\", \"sovereign\", \"spacious\", \"spacious\", \"spacious\", \"spacious\", \"speak\", \"speak\", \"speak\", \"speak\", \"speak\", \"speak\", \"speak\", \"speak\", \"speak\", \"speak\", \"speak\", \"speak\", \"speak\", \"speak\", \"speedy\", \"speedy\", \"speedy\", \"speedy\", \"speedy\", \"speedy\", \"spirited\", \"spirited\", \"spirited\", \"spirited\", \"spirited\", \"spirited\", \"splendour\", \"splendour\", \"splendour\", \"splendour\", \"splendour\", \"splendour\", \"stage\", \"stage\", \"stage\", \"stage\", \"stage\", \"stain\", \"stain\", \"stand\", \"stand\", \"stand\", \"stand\", \"stand\", \"stand\", \"stand\", \"stand\", \"stand\", \"stand\", \"stand\", \"stand\", \"stand\", \"stand\", \"station\", \"station\", \"station\", \"station\", \"station\", \"station\", \"station\", \"station\", \"station\", \"step\", \"step\", \"step\", \"step\", \"step\", \"step\", \"step\", \"step\", \"step\", \"step\", \"step\", \"step\", \"step\", \"stile\", \"stile\", \"stile\", \"stile\", \"storey\", \"storey\", \"stove\", \"stove\", \"stove\", \"stove\", \"strange\", \"strange\", \"strange\", \"strange\", \"strange\", \"strange\", \"strange\", \"strange\", \"strange\", \"strange\", \"strange\", \"strange\", \"strange\", \"stress\", \"stress\", \"stress\", \"stress\", \"stress\", \"stride\", \"stride\", \"strong\", \"strong\", \"strong\", \"strong\", \"strong\", \"strong\", \"strong\", \"strong\", \"strong\", \"strong\", \"strong\", \"strong\", \"strong\", \"strong\", \"stubborn\", \"stubborn\", \"stubborn\", \"stubborn\", \"stubborn\", \"stubborn\", \"stubborn\", \"stupid\", \"stupid\", \"stupid\", \"stupid\", \"stupid\", \"stupid\", \"stupid\", \"stupid\", \"stupid\", \"stupid\", \"stupid\", \"submission\", \"submission\", \"submission\", \"submission\", \"submission\", \"submission\", \"sugar\", \"sugar\", \"sugar\", \"suitor\", \"suitor\", \"suitor\", \"suitor\", \"sun\", \"sun\", \"sun\", \"sun\", \"sun\", \"sun\", \"sun\", \"sun\", \"sun\", \"sun\", \"sun\", \"sundry\", \"sunrise\", \"sunrise\", \"sunrise\", \"sunrise\", \"superintendent\", \"sure\", \"sure\", \"sure\", \"sure\", \"sure\", \"sure\", \"sure\", \"sure\", \"sure\", \"sure\", \"sure\", \"sure\", \"sure\", \"sure\", \"surgeon\", \"surgeon\", \"surgeon\", \"surgeon\", \"surprize\", \"surprize\", \"surprized\", \"surprized\", \"surveillance\", \"surveillance\", \"surveillance\", \"take\", \"take\", \"take\", \"take\", \"take\", \"take\", \"take\", \"take\", \"take\", \"take\", \"take\", \"take\", \"take\", \"take\", \"talk\", \"talk\", \"talk\", \"talk\", \"talk\", \"talk\", \"talk\", \"talk\", \"talk\", \"talk\", \"talk\", \"talk\", \"talk\", \"talk\", \"taper\", \"taper\", \"taper\", \"teach\", \"teach\", \"teach\", \"teach\", \"teach\", \"teach\", \"teach\", \"teach\", \"teach\", \"teach\", \"teach\", \"teach\", \"tell\", \"tell\", \"tell\", \"tell\", \"tell\", \"tell\", \"tell\", \"tell\", \"tell\", \"tell\", \"tell\", \"tell\", \"tell\", \"tell\", \"temperament\", \"temperament\", \"temperament\", \"tempered\", \"tempered\", \"tempered\", \"tempered\", \"tempered\", \"tempered\", \"tempered\", \"tenant\", \"tenant\", \"tenant\", \"tenant\", \"tenant\", \"tenant\", \"tete\", \"tete\", \"tete\", \"tete\", \"tete\", \"tete\", \"thing\", \"thing\", \"thing\", \"thing\", \"thing\", \"thing\", \"thing\", \"thing\", \"thing\", \"thing\", \"thing\", \"thing\", \"thing\", \"thing\", \"thornfield\", \"thornfield\", \"thornfield\", \"thou\", \"thou\", \"thou\", \"thou\", \"thousand\", \"thousand\", \"thousand\", \"thousand\", \"thousand\", \"thousand\", \"thousand\", \"thousand\", \"thousand\", \"thousand\", \"thy\", \"thy\", \"thy\", \"thy\", \"thy\", \"tint\", \"tint\", \"tint\", \"tint\", \"tint\", \"tint\", \"tint\", \"tiresome\", \"tiresome\", \"tiresome\", \"tiresome\", \"tiresome\", \"tomorrow\", \"tomorrow\", \"tomorrow\", \"tout\", \"tout\", \"tout\", \"tout\", \"town\", \"town\", \"town\", \"town\", \"town\", \"town\", \"town\", \"town\", \"town\", \"town\", \"town\", \"town\", \"town\", \"tree\", \"tree\", \"tree\", \"tree\", \"tree\", \"tree\", \"tree\", \"tree\", \"tree\", \"tree\", \"tree\", \"tree\", \"tree\", \"troop\", \"troop\", \"troop\", \"troop\", \"troop\", \"turf\", \"turf\", \"turf\", \"turf\", \"turf\", \"turn\", \"turn\", \"turn\", \"turn\", \"turn\", \"turn\", \"turn\", \"turn\", \"turn\", \"turn\", \"turn\", \"turn\", \"turn\", \"turn\", \"uncle\", \"uncle\", \"uncle\", \"uncle\", \"uncle\", \"uncle\", \"uncle\", \"uncle\", \"uncle\", \"uncle\", \"uncommon\", \"uncommon\", \"uncommon\", \"uncommon\", \"uncommonly\", \"uncommonly\", \"unfortunate\", \"unfortunate\", \"unfortunate\", \"unfortunate\", \"unfortunate\", \"unhappiness\", \"unhappiness\", \"unhappiness\", \"unkindness\", \"unkindness\", \"unkindness\", \"vacation\", \"vacation\", \"vacation\", \"vacation\", \"veil\", \"veil\", \"veil\", \"veil\", \"veil\", \"veil\", \"veil\", \"veil\", \"violet\", \"violet\", \"violet\", \"voice\", \"voice\", \"voice\", \"voice\", \"voice\", \"voice\", \"voice\", \"voice\", \"voice\", \"voice\", \"voice\", \"voice\", \"voice\", \"voice\", \"voluntary\", \"voluntary\", \"voluntary\", \"voluntary\", \"voluntary\", \"voluntary\", \"voluntary\", \"voluntary\", \"voluntary\", \"voluntary\", \"vous\", \"vous\", \"vous\", \"vous\", \"vous\", \"vous\", \"vous\", \"walk\", \"walk\", \"walk\", \"walk\", \"walk\", \"walk\", \"walk\", \"walk\", \"walk\", \"walk\", \"walk\", \"walk\", \"walk\", \"walk\", \"wanderer\", \"wanderer\", \"wanderer\", \"wanderer\", \"want\", \"want\", \"want\", \"want\", \"want\", \"want\", \"want\", \"want\", \"want\", \"want\", \"want\", \"want\", \"want\", \"want\", \"watch\", \"watch\", \"watch\", \"watch\", \"watch\", \"watch\", \"watch\", \"watch\", \"watch\", \"watch\", \"watch\", \"watch\", \"watch\", \"watch\", \"way\", \"way\", \"way\", \"way\", \"way\", \"way\", \"way\", \"way\", \"way\", \"way\", \"way\", \"way\", \"way\", \"way\", \"wealthy\", \"wealthy\", \"wealthy\", \"wealthy\", \"wealthy\", \"weep\", \"weep\", \"weep\", \"weep\", \"weep\", \"weep\", \"well\", \"well\", \"well\", \"well\", \"well\", \"well\", \"well\", \"well\", \"well\", \"well\", \"well\", \"well\", \"well\", \"well\", \"west\", \"west\", \"west\", \"west\", \"west\", \"west\", \"west\", \"whereof\", \"whereof\", \"whilst\", \"whilst\", \"whilst\", \"whilst\", \"whilst\", \"whilst\", \"white\", \"white\", \"white\", \"white\", \"white\", \"white\", \"white\", \"white\", \"white\", \"white\", \"white\", \"white\", \"wide\", \"wide\", \"wide\", \"wide\", \"wide\", \"wide\", \"wide\", \"wide\", \"wide\", \"wide\", \"widely\", \"widely\", \"widely\", \"widely\", \"widely\", \"wife\", \"wife\", \"wife\", \"wife\", \"wife\", \"wife\", \"wife\", \"wife\", \"wife\", \"wife\", \"wife\", \"wife\", \"wife\", \"wild\", \"wild\", \"wild\", \"wild\", \"wild\", \"wild\", \"wild\", \"wild\", \"wild\", \"wild\", \"wish\", \"wish\", \"wish\", \"wish\", \"wish\", \"wish\", \"wish\", \"wish\", \"wish\", \"wish\", \"wish\", \"wish\", \"wish\", \"wish\", \"woman\", \"woman\", \"woman\", \"woman\", \"woman\", \"woman\", \"woman\", \"woman\", \"woman\", \"woman\", \"woman\", \"woman\", \"woman\", \"woman\", \"word\", \"word\", \"word\", \"word\", \"word\", \"word\", \"word\", \"word\", \"word\", \"word\", \"word\", \"word\", \"word\", \"word\", \"work\", \"work\", \"work\", \"work\", \"work\", \"work\", \"work\", \"work\", \"work\", \"work\", \"work\", \"work\", \"work\", \"y\", \"y\", \"y\", \"y\", \"yawn\", \"yawn\", \"yawn\", \"year\", \"year\", \"year\", \"year\", \"year\", \"year\", \"year\", \"year\", \"year\", \"year\", \"year\", \"year\", \"year\", \"year\", \"yes\", \"yes\", \"yes\", \"yes\", \"yes\", \"yes\", \"yes\", \"yes\", \"yes\", \"yes\", \"yes\", \"yes\", \"yes\", \"yes\", \"young\", \"young\", \"young\", \"young\", \"young\", \"young\", \"young\", \"young\", \"young\", \"young\", \"young\", \"young\", \"young\", \"young\"]}, \"R\": 30, \"lambda.step\": 0.01, \"plot.opts\": {\"xlab\": \"PC1\", \"ylab\": \"PC2\"}, \"topic.order\": [9, 12, 13, 8, 2, 14, 11, 10, 3, 7, 5, 6, 4, 1, 15]};\n",
       "\n",
       "function LDAvis_load_lib(url, callback){\n",
       "  var s = document.createElement('script');\n",
       "  s.src = url;\n",
       "  s.async = true;\n",
       "  s.onreadystatechange = s.onload = callback;\n",
       "  s.onerror = function(){console.warn(\"failed to load library \" + url);};\n",
       "  document.getElementsByTagName(\"head\")[0].appendChild(s);\n",
       "}\n",
       "\n",
       "if(typeof(LDAvis) !== \"undefined\"){\n",
       "   // already loaded: just create the visualization\n",
       "   !function(LDAvis){\n",
       "       new LDAvis(\"#\" + \"ldavis_el1618815020001485527671237251\", ldavis_el1618815020001485527671237251_data);\n",
       "   }(LDAvis);\n",
       "}else if(typeof define === \"function\" && define.amd){\n",
       "   // require.js is available: use it to load d3/LDAvis\n",
       "   require.config({paths: {d3: \"https://cdnjs.cloudflare.com/ajax/libs/d3/3.5.5/d3.min\"}});\n",
       "   require([\"d3\"], function(d3){\n",
       "      window.d3 = d3;\n",
       "      LDAvis_load_lib(\"https://cdn.rawgit.com/bmabey/pyLDAvis/files/ldavis.v1.0.0.js\", function(){\n",
       "        new LDAvis(\"#\" + \"ldavis_el1618815020001485527671237251\", ldavis_el1618815020001485527671237251_data);\n",
       "      });\n",
       "    });\n",
       "}else{\n",
       "    // require.js not available: dynamically load d3 & LDAvis\n",
       "    LDAvis_load_lib(\"https://cdnjs.cloudflare.com/ajax/libs/d3/3.5.5/d3.min.js\", function(){\n",
       "         LDAvis_load_lib(\"https://cdn.rawgit.com/bmabey/pyLDAvis/files/ldavis.v1.0.0.js\", function(){\n",
       "                 new LDAvis(\"#\" + \"ldavis_el1618815020001485527671237251\", ldavis_el1618815020001485527671237251_data);\n",
       "            })\n",
       "         });\n",
       "}\n",
       "</script>"
      ],
      "text/plain": [
       "PreparedData(topic_coordinates=              x         y  topics  cluster       Freq\n",
       "topic                                                \n",
       "8      0.071671 -0.006426       1        1  25.989792\n",
       "11    -0.090962  0.032207       2        1  17.245392\n",
       "12    -0.106339 -0.007445       3        1  15.221584\n",
       "7     -0.142652  0.033044       4        1   9.750046\n",
       "1      0.081072 -0.048545       5        1   7.704188\n",
       "13     0.103321  0.012347       6        1   4.525992\n",
       "10     0.094169  0.180605       7        1   3.676154\n",
       "9     -0.071250 -0.024924       8        1   3.591477\n",
       "2      0.108312 -0.061186       9        1   3.164737\n",
       "6      0.035538 -0.051511      10        1   2.674727\n",
       "4      0.117252  0.017029      11        1   2.442853\n",
       "5      0.005854  0.008323      12        1   1.647107\n",
       "3     -0.120040 -0.031148      13        1   1.476874\n",
       "0     -0.116618  0.030765      14        1   0.870529\n",
       "14     0.030672 -0.083134      15        1   0.018566, topic_info=     Category         Freq       Term        Total  loglift  logprob\n",
       "7     Default  2747.000000        Mr.  2747.000000  30.0000  30.0000\n",
       "3406  Default   646.000000     Elinor   646.000000  29.0000  29.0000\n",
       "1     Default   806.000000       Emma   806.000000  28.0000  28.0000\n",
       "8     Default  1961.000000       Mrs.  1961.000000  27.0000  27.0000\n",
       "3409  Default   536.000000   Marianne   536.000000  26.0000  26.0000\n",
       "1051  Default   671.000000  Elizabeth   671.000000  25.0000  25.0000\n",
       "756   Default   479.000000    Harriet   479.000000  24.0000  24.0000\n",
       "156   Default  1578.000000       like  1578.000000  23.0000  23.0000\n",
       "3370  Default   296.000000     Edward   296.000000  22.0000  22.0000\n",
       "3851  Default   400.000000  Rochester   400.000000  21.0000  21.0000\n",
       "1770  Default   956.000000       Jane   956.000000  20.0000  20.0000\n",
       "3484  Default   359.000000       Lucy   359.000000  19.0000  19.0000\n",
       "286   Default   354.000000  Knightley   354.000000  18.0000  18.0000\n",
       "419   Default   365.000000      Elton   365.000000  17.0000  17.0000\n",
       "234   Default   764.000000     sister   764.000000  16.0000  16.0000\n",
       "394   Default   403.000000        sir   403.000000  15.0000  15.0000\n",
       "162   Default  1062.000000        man  1062.000000  14.0000  14.0000\n",
       "3078  Default   423.000000      Darcy   423.000000  13.0000  13.0000\n",
       "6     Default  1502.000000       Miss  1502.000000  12.0000  12.0000\n",
       "1933  Default   231.000000     Graham   231.000000  11.0000  11.0000\n",
       "259   Default  1059.000000      thing  1059.000000  10.0000  10.0000\n",
       "12    Default   419.000000     Weston   419.000000   9.0000   9.0000\n",
       "244   Default  1018.000000      speak  1018.000000   8.0000   8.0000\n",
       "404   Default  1011.000000       tell  1011.000000   7.0000   7.0000\n",
       "797   Default  1045.000000        eye  1045.000000   6.0000   6.0000\n",
       "4091  Default   241.000000    Bretton   241.000000   5.0000   5.0000\n",
       "3061  Default   337.000000     Bennet   337.000000   4.0000   4.0000\n",
       "106   Default  1209.000000       feel  1209.000000   3.0000   3.0000\n",
       "453   Default   878.000000       hand   878.000000   2.0000   2.0000\n",
       "158   Default  1022.000000       long  1022.000000   1.0000   1.0000\n",
       "...       ...          ...        ...          ...      ...      ...\n",
       "4085  Topic15     0.024474      Henri    49.900433   0.9714  -7.7000\n",
       "100   Topic15     0.031133  excellent   101.021568   0.5068  -7.4593\n",
       "3370  Topic15     0.041782     Edward   296.095917  -0.2744  -7.1651\n",
       "1648  Topic15     0.020635     stupid    36.831348   1.1044  -7.8706\n",
       "239   Topic15     0.047672      smile   518.109558  -0.7020  -7.0333\n",
       "1167  Topic15     0.049958       John   612.662842  -0.8228  -6.9864\n",
       "729   Topic15     0.057187       room   966.063477  -1.1431  -6.8513\n",
       "244   Topic15     0.055966      speak  1018.082825  -1.2171  -6.8729\n",
       "242   Topic15     0.052101       soon   928.967346  -1.1971  -6.9444\n",
       "8     Topic15     0.064052       Mrs.  1961.130249  -1.7378  -6.7379\n",
       "177   Topic15     0.046835     mother   657.301880  -0.9577  -7.0510\n",
       "7     Topic15     0.063718        Mr.  2747.505371  -2.0802  -6.7431\n",
       "3406  Topic15     0.043410     Elinor   646.875488  -1.0176  -7.1269\n",
       "106   Topic15     0.050441       feel  1209.754639  -1.4935  -6.9768\n",
       "797   Topic15     0.048583        eye  1045.984985  -1.3856  -7.0143\n",
       "451   Topic15     0.046456       give   920.364563  -1.3024  -7.0591\n",
       "162   Topic15     0.046299        man  1062.596436  -1.4495  -7.0625\n",
       "277   Topic15     0.044900       wish   973.726318  -1.3929  -7.0932\n",
       "6     Topic15     0.047699       Miss  1502.564209  -1.7662  -7.0327\n",
       "158   Topic15     0.044103       long  1022.683472  -1.4598  -7.1111\n",
       "1050  Topic15     0.039182        yes   586.472290  -1.0221  -7.2294\n",
       "196   Topic15     0.039782      place   665.057739  -1.1326  -7.2142\n",
       "346   Topic15     0.043123       hear  1146.259033  -1.5964  -7.1336\n",
       "259   Topic15     0.042494      thing  1059.056763  -1.5319  -7.1482\n",
       "117   Topic15     0.042822         go  1261.360596  -1.6991  -7.1405\n",
       "156   Topic15     0.042521       like  1578.014404  -1.9301  -7.1476\n",
       "154   Topic15     0.039785      leave  1056.090820  -1.5950  -7.2141\n",
       "640   Topic15     0.038881       take   952.377869  -1.5146  -7.2371\n",
       "113   Topic15     0.037742     friend   734.200867  -1.2842  -7.2668\n",
       "131   Topic15     0.037051      heart   671.894836  -1.2140  -7.2853\n",
       "\n",
       "[1053 rows x 6 columns], token_table=      Topic      Freq          Term\n",
       "term                               \n",
       "653       2  0.880135         Abbey\n",
       "653      14  0.101554         Abbey\n",
       "3861      1  0.423934         Adele\n",
       "3861      2  0.014131         Adele\n",
       "3861      7  0.317951         Adele\n",
       "3861      9  0.014131         Adele\n",
       "3861     11  0.007066         Adele\n",
       "3861     12  0.211967         Adele\n",
       "3436      3  0.937671      Allenham\n",
       "2563      2  0.151956          Anne\n",
       "2563      3  0.303913          Anne\n",
       "2563      8  0.303913          Anne\n",
       "2563     13  0.151956          Anne\n",
       "4090      1  0.078195      Baptiste\n",
       "4090      5  0.703755      Baptiste\n",
       "4090     11  0.156390      Baptiste\n",
       "3415      3  0.908420        Barton\n",
       "3415     13  0.081525        Barton\n",
       "4097      1  0.040246  Bassompierre\n",
       "4097      5  0.120738  Bassompierre\n",
       "4097      6  0.013415  Bassompierre\n",
       "4097      9  0.147569  Bassompierre\n",
       "4097     10  0.657354  Bassompierre\n",
       "4097     11  0.013415  Bassompierre\n",
       "515       2  0.969676         Bates\n",
       "515      14  0.014053         Bates\n",
       "4102      1  0.243244          Beck\n",
       "4102      5  0.448081          Beck\n",
       "4102      6  0.064012          Beck\n",
       "4102      9  0.076814          Beck\n",
       "...     ...       ...           ...\n",
       "281      13  0.036167          year\n",
       "281      14  0.006028          year\n",
       "1050      1  0.235305           yes\n",
       "1050      2  0.206318           yes\n",
       "1050      3  0.117653           yes\n",
       "1050      4  0.090371           yes\n",
       "1050      5  0.057974           yes\n",
       "1050      6  0.018756           yes\n",
       "1050      7  0.109127           yes\n",
       "1050      8  0.025577           yes\n",
       "1050      9  0.022166           yes\n",
       "1050     10  0.035807           yes\n",
       "1050     11  0.015346           yes\n",
       "1050     12  0.054564           yes\n",
       "1050     13  0.006820           yes\n",
       "1050     14  0.003410           yes\n",
       "282       1  0.150455         young\n",
       "282       2  0.257924         young\n",
       "282       3  0.166576         young\n",
       "282       4  0.159859         young\n",
       "282       5  0.057764         young\n",
       "282       6  0.030897         young\n",
       "282       7  0.006717         young\n",
       "282       8  0.072541         young\n",
       "282       9  0.036271         young\n",
       "282      10  0.016120         young\n",
       "282      11  0.005373         young\n",
       "282      12  0.009403         young\n",
       "282      13  0.012090         young\n",
       "282      14  0.017464         young\n",
       "\n",
       "[4492 rows x 3 columns], R=30, lambda_step=0.01, plot_opts={'xlab': 'PC1', 'ylab': 'PC2'}, topic_order=[9, 12, 13, 8, 2, 14, 11, 10, 3, 7, 5, 6, 4, 1, 15])"
      ]
     },
     "execution_count": 56,
     "metadata": {},
     "output_type": "execute_result"
    }
   ],
   "source": [
    "pyLDAvis.gensim.prepare(lda, corpus, id2word)"
   ]
  },
  {
   "cell_type": "markdown",
   "metadata": {},
   "source": [
    "### Overall Model / Documents"
   ]
  },
  {
   "cell_type": "code",
   "execution_count": 57,
   "metadata": {},
   "outputs": [
    {
     "data": {
      "text/plain": [
       "[(11, 0.7858979), (12, 0.2119985)]"
      ]
     },
     "execution_count": 57,
     "metadata": {},
     "output_type": "execute_result"
    }
   ],
   "source": [
    "lda[corpus[0]]"
   ]
  },
  {
   "cell_type": "code",
   "execution_count": 58,
   "metadata": {},
   "outputs": [],
   "source": [
    "distro = [lda[d] for d in corpus]"
   ]
  },
  {
   "cell_type": "code",
   "execution_count": 59,
   "metadata": {},
   "outputs": [
    {
     "data": {
      "text/plain": [
       "[(11, 0.7858831), (12, 0.21201332)]"
      ]
     },
     "execution_count": 59,
     "metadata": {},
     "output_type": "execute_result"
    }
   ],
   "source": [
    "distro[0]"
   ]
  },
  {
   "cell_type": "code",
   "execution_count": 60,
   "metadata": {},
   "outputs": [],
   "source": [
    "distro = [lda[d] for d in corpus]\n",
    "\n",
    "def update(doc):\n",
    "        d_dist = {k:0 for k in range(0,15)}\n",
    "        for t in doc:\n",
    "            d_dist[t[0]] = t[1]\n",
    "        return d_dist\n",
    "    \n",
    "new_distro = [update(d) for d in distro]"
   ]
  },
  {
   "cell_type": "code",
   "execution_count": 61,
   "metadata": {},
   "outputs": [],
   "source": [
    "df = pd.DataFrame.from_records(new_distro, index=titles)\n",
    "df.columns = topics\n",
    "df['author'] = df.reset_index()['index'].apply(lambda x: x.split('_')[0]).tolist()"
   ]
  },
  {
   "cell_type": "code",
   "execution_count": 62,
   "metadata": {},
   "outputs": [
    {
     "data": {
      "text/html": [
       "<div>\n",
       "<style scoped>\n",
       "    .dataframe tbody tr th:only-of-type {\n",
       "        vertical-align: middle;\n",
       "    }\n",
       "\n",
       "    .dataframe tbody tr th {\n",
       "        vertical-align: top;\n",
       "    }\n",
       "\n",
       "    .dataframe thead th {\n",
       "        text-align: right;\n",
       "    }\n",
       "</style>\n",
       "<table border=\"1\" class=\"dataframe\">\n",
       "  <thead>\n",
       "    <tr style=\"text-align: right;\">\n",
       "      <th></th>\n",
       "      <th>Mr. sir Martin Harriet man</th>\n",
       "      <th>Madame M. go de like</th>\n",
       "      <th>like eye M. long Bretton</th>\n",
       "      <th>Edward Lucy Elinor Marianne Ferrars</th>\n",
       "      <th>night like letter hand sir</th>\n",
       "      <th>sir Mr. wish yes love</th>\n",
       "      <th>Graham Bretton Lucy papa Dr.</th>\n",
       "      <th>Elizabeth Mr. Bennet Jane Darcy</th>\n",
       "      <th>like eye hand face feel</th>\n",
       "      <th>Mr. Darcy young Miss lady</th>\n",
       "      <th>Rochester Mr. Bessie Jane Mrs.</th>\n",
       "      <th>Mr. Emma Mrs. Miss thing</th>\n",
       "      <th>Elinor Mrs. Marianne sister mother</th>\n",
       "      <th>love heart night eye like</th>\n",
       "      <th>Lucy Mrs. Mr. room speak</th>\n",
       "      <th>author</th>\n",
       "    </tr>\n",
       "  </thead>\n",
       "  <tbody>\n",
       "    <tr>\n",
       "      <th>Austen_Emma0000</th>\n",
       "      <td>0.0</td>\n",
       "      <td>0.0</td>\n",
       "      <td>0.0</td>\n",
       "      <td>0.0</td>\n",
       "      <td>0.0</td>\n",
       "      <td>0.0</td>\n",
       "      <td>0.0</td>\n",
       "      <td>0.000000</td>\n",
       "      <td>0.0</td>\n",
       "      <td>0.0</td>\n",
       "      <td>0.0</td>\n",
       "      <td>0.786006</td>\n",
       "      <td>0.211890</td>\n",
       "      <td>0.0</td>\n",
       "      <td>0</td>\n",
       "      <td>Austen</td>\n",
       "    </tr>\n",
       "    <tr>\n",
       "      <th>Austen_Emma0001</th>\n",
       "      <td>0.0</td>\n",
       "      <td>0.0</td>\n",
       "      <td>0.0</td>\n",
       "      <td>0.0</td>\n",
       "      <td>0.0</td>\n",
       "      <td>0.0</td>\n",
       "      <td>0.0</td>\n",
       "      <td>0.000000</td>\n",
       "      <td>0.0</td>\n",
       "      <td>0.0</td>\n",
       "      <td>0.0</td>\n",
       "      <td>0.997222</td>\n",
       "      <td>0.000000</td>\n",
       "      <td>0.0</td>\n",
       "      <td>0</td>\n",
       "      <td>Austen</td>\n",
       "    </tr>\n",
       "    <tr>\n",
       "      <th>Austen_Emma0002</th>\n",
       "      <td>0.0</td>\n",
       "      <td>0.0</td>\n",
       "      <td>0.0</td>\n",
       "      <td>0.0</td>\n",
       "      <td>0.0</td>\n",
       "      <td>0.0</td>\n",
       "      <td>0.0</td>\n",
       "      <td>0.000000</td>\n",
       "      <td>0.0</td>\n",
       "      <td>0.0</td>\n",
       "      <td>0.0</td>\n",
       "      <td>0.997378</td>\n",
       "      <td>0.000000</td>\n",
       "      <td>0.0</td>\n",
       "      <td>0</td>\n",
       "      <td>Austen</td>\n",
       "    </tr>\n",
       "    <tr>\n",
       "      <th>Austen_Emma0003</th>\n",
       "      <td>0.0</td>\n",
       "      <td>0.0</td>\n",
       "      <td>0.0</td>\n",
       "      <td>0.0</td>\n",
       "      <td>0.0</td>\n",
       "      <td>0.0</td>\n",
       "      <td>0.0</td>\n",
       "      <td>0.081409</td>\n",
       "      <td>0.0</td>\n",
       "      <td>0.0</td>\n",
       "      <td>0.0</td>\n",
       "      <td>0.865851</td>\n",
       "      <td>0.050667</td>\n",
       "      <td>0.0</td>\n",
       "      <td>0</td>\n",
       "      <td>Austen</td>\n",
       "    </tr>\n",
       "    <tr>\n",
       "      <th>Austen_Emma0004</th>\n",
       "      <td>0.0</td>\n",
       "      <td>0.0</td>\n",
       "      <td>0.0</td>\n",
       "      <td>0.0</td>\n",
       "      <td>0.0</td>\n",
       "      <td>0.0</td>\n",
       "      <td>0.0</td>\n",
       "      <td>0.000000</td>\n",
       "      <td>0.0</td>\n",
       "      <td>0.0</td>\n",
       "      <td>0.0</td>\n",
       "      <td>0.997772</td>\n",
       "      <td>0.000000</td>\n",
       "      <td>0.0</td>\n",
       "      <td>0</td>\n",
       "      <td>Austen</td>\n",
       "    </tr>\n",
       "  </tbody>\n",
       "</table>\n",
       "</div>"
      ],
      "text/plain": [
       "                 Mr. sir Martin Harriet man  Madame M. go de like  \\\n",
       "Austen_Emma0000                         0.0                   0.0   \n",
       "Austen_Emma0001                         0.0                   0.0   \n",
       "Austen_Emma0002                         0.0                   0.0   \n",
       "Austen_Emma0003                         0.0                   0.0   \n",
       "Austen_Emma0004                         0.0                   0.0   \n",
       "\n",
       "                 like eye M. long Bretton  \\\n",
       "Austen_Emma0000                       0.0   \n",
       "Austen_Emma0001                       0.0   \n",
       "Austen_Emma0002                       0.0   \n",
       "Austen_Emma0003                       0.0   \n",
       "Austen_Emma0004                       0.0   \n",
       "\n",
       "                 Edward Lucy Elinor Marianne Ferrars  \\\n",
       "Austen_Emma0000                                  0.0   \n",
       "Austen_Emma0001                                  0.0   \n",
       "Austen_Emma0002                                  0.0   \n",
       "Austen_Emma0003                                  0.0   \n",
       "Austen_Emma0004                                  0.0   \n",
       "\n",
       "                 night like letter hand sir  sir Mr. wish yes love  \\\n",
       "Austen_Emma0000                         0.0                    0.0   \n",
       "Austen_Emma0001                         0.0                    0.0   \n",
       "Austen_Emma0002                         0.0                    0.0   \n",
       "Austen_Emma0003                         0.0                    0.0   \n",
       "Austen_Emma0004                         0.0                    0.0   \n",
       "\n",
       "                 Graham Bretton Lucy papa Dr.  \\\n",
       "Austen_Emma0000                           0.0   \n",
       "Austen_Emma0001                           0.0   \n",
       "Austen_Emma0002                           0.0   \n",
       "Austen_Emma0003                           0.0   \n",
       "Austen_Emma0004                           0.0   \n",
       "\n",
       "                 Elizabeth Mr. Bennet Jane Darcy  like eye hand face feel  \\\n",
       "Austen_Emma0000                         0.000000                      0.0   \n",
       "Austen_Emma0001                         0.000000                      0.0   \n",
       "Austen_Emma0002                         0.000000                      0.0   \n",
       "Austen_Emma0003                         0.081409                      0.0   \n",
       "Austen_Emma0004                         0.000000                      0.0   \n",
       "\n",
       "                 Mr. Darcy young Miss lady  Rochester Mr. Bessie Jane Mrs.  \\\n",
       "Austen_Emma0000                        0.0                             0.0   \n",
       "Austen_Emma0001                        0.0                             0.0   \n",
       "Austen_Emma0002                        0.0                             0.0   \n",
       "Austen_Emma0003                        0.0                             0.0   \n",
       "Austen_Emma0004                        0.0                             0.0   \n",
       "\n",
       "                 Mr. Emma Mrs. Miss thing  Elinor Mrs. Marianne sister mother  \\\n",
       "Austen_Emma0000                  0.786006                            0.211890   \n",
       "Austen_Emma0001                  0.997222                            0.000000   \n",
       "Austen_Emma0002                  0.997378                            0.000000   \n",
       "Austen_Emma0003                  0.865851                            0.050667   \n",
       "Austen_Emma0004                  0.997772                            0.000000   \n",
       "\n",
       "                 love heart night eye like  Lucy Mrs. Mr. room speak  author  \n",
       "Austen_Emma0000                        0.0                         0  Austen  \n",
       "Austen_Emma0001                        0.0                         0  Austen  \n",
       "Austen_Emma0002                        0.0                         0  Austen  \n",
       "Austen_Emma0003                        0.0                         0  Austen  \n",
       "Austen_Emma0004                        0.0                         0  Austen  "
      ]
     },
     "execution_count": 62,
     "metadata": {},
     "output_type": "execute_result"
    }
   ],
   "source": [
    "df.head()"
   ]
  },
  {
   "cell_type": "code",
   "execution_count": 63,
   "metadata": {},
   "outputs": [
    {
     "data": {
      "text/html": [
       "<div>\n",
       "<style scoped>\n",
       "    .dataframe tbody tr th:only-of-type {\n",
       "        vertical-align: middle;\n",
       "    }\n",
       "\n",
       "    .dataframe tbody tr th {\n",
       "        vertical-align: top;\n",
       "    }\n",
       "\n",
       "    .dataframe thead th {\n",
       "        text-align: right;\n",
       "    }\n",
       "</style>\n",
       "<table border=\"1\" class=\"dataframe\">\n",
       "  <thead>\n",
       "    <tr style=\"text-align: right;\">\n",
       "      <th></th>\n",
       "      <th>Mr. sir Martin Harriet man</th>\n",
       "      <th>Madame M. go de like</th>\n",
       "      <th>like eye M. long Bretton</th>\n",
       "      <th>Edward Lucy Elinor Marianne Ferrars</th>\n",
       "      <th>night like letter hand sir</th>\n",
       "      <th>sir Mr. wish yes love</th>\n",
       "      <th>Graham Bretton Lucy papa Dr.</th>\n",
       "      <th>Elizabeth Mr. Bennet Jane Darcy</th>\n",
       "      <th>like eye hand face feel</th>\n",
       "      <th>Mr. Darcy young Miss lady</th>\n",
       "      <th>Rochester Mr. Bessie Jane Mrs.</th>\n",
       "      <th>Mr. Emma Mrs. Miss thing</th>\n",
       "      <th>Elinor Mrs. Marianne sister mother</th>\n",
       "      <th>love heart night eye like</th>\n",
       "      <th>Lucy Mrs. Mr. room speak</th>\n",
       "    </tr>\n",
       "    <tr>\n",
       "      <th>author</th>\n",
       "      <th></th>\n",
       "      <th></th>\n",
       "      <th></th>\n",
       "      <th></th>\n",
       "      <th></th>\n",
       "      <th></th>\n",
       "      <th></th>\n",
       "      <th></th>\n",
       "      <th></th>\n",
       "      <th></th>\n",
       "      <th></th>\n",
       "      <th></th>\n",
       "      <th></th>\n",
       "      <th></th>\n",
       "      <th></th>\n",
       "    </tr>\n",
       "  </thead>\n",
       "  <tbody>\n",
       "    <tr>\n",
       "      <th>Austen</th>\n",
       "      <td>0.017619</td>\n",
       "      <td>0.000912</td>\n",
       "      <td>0.002251</td>\n",
       "      <td>0.031908</td>\n",
       "      <td>0.000074</td>\n",
       "      <td>0.000594</td>\n",
       "      <td>0.000548</td>\n",
       "      <td>0.216424</td>\n",
       "      <td>0.008740</td>\n",
       "      <td>0.043014</td>\n",
       "      <td>0.000965</td>\n",
       "      <td>0.363428</td>\n",
       "      <td>0.309227</td>\n",
       "      <td>0.001585</td>\n",
       "      <td>0</td>\n",
       "    </tr>\n",
       "    <tr>\n",
       "      <th>CBronte</th>\n",
       "      <td>0.001321</td>\n",
       "      <td>0.134886</td>\n",
       "      <td>0.052920</td>\n",
       "      <td>0.000318</td>\n",
       "      <td>0.042825</td>\n",
       "      <td>0.031878</td>\n",
       "      <td>0.046544</td>\n",
       "      <td>0.007278</td>\n",
       "      <td>0.465511</td>\n",
       "      <td>0.030027</td>\n",
       "      <td>0.068875</td>\n",
       "      <td>0.012371</td>\n",
       "      <td>0.019917</td>\n",
       "      <td>0.082461</td>\n",
       "      <td>0</td>\n",
       "    </tr>\n",
       "  </tbody>\n",
       "</table>\n",
       "</div>"
      ],
      "text/plain": [
       "         Mr. sir Martin Harriet man  Madame M. go de like  \\\n",
       "author                                                      \n",
       "Austen                     0.017619              0.000912   \n",
       "CBronte                    0.001321              0.134886   \n",
       "\n",
       "         like eye M. long Bretton  Edward Lucy Elinor Marianne Ferrars  \\\n",
       "author                                                                   \n",
       "Austen                   0.002251                             0.031908   \n",
       "CBronte                  0.052920                             0.000318   \n",
       "\n",
       "         night like letter hand sir  sir Mr. wish yes love  \\\n",
       "author                                                       \n",
       "Austen                     0.000074               0.000594   \n",
       "CBronte                    0.042825               0.031878   \n",
       "\n",
       "         Graham Bretton Lucy papa Dr.  Elizabeth Mr. Bennet Jane Darcy  \\\n",
       "author                                                                   \n",
       "Austen                       0.000548                         0.216424   \n",
       "CBronte                      0.046544                         0.007278   \n",
       "\n",
       "         like eye hand face feel  Mr. Darcy young Miss lady  \\\n",
       "author                                                        \n",
       "Austen                  0.008740                   0.043014   \n",
       "CBronte                 0.465511                   0.030027   \n",
       "\n",
       "         Rochester Mr. Bessie Jane Mrs.  Mr. Emma Mrs. Miss thing  \\\n",
       "author                                                              \n",
       "Austen                         0.000965                  0.363428   \n",
       "CBronte                        0.068875                  0.012371   \n",
       "\n",
       "         Elinor Mrs. Marianne sister mother  love heart night eye like  \\\n",
       "author                                                                   \n",
       "Austen                             0.309227                   0.001585   \n",
       "CBronte                            0.019917                   0.082461   \n",
       "\n",
       "         Lucy Mrs. Mr. room speak  \n",
       "author                             \n",
       "Austen                          0  \n",
       "CBronte                         0  "
      ]
     },
     "execution_count": 63,
     "metadata": {},
     "output_type": "execute_result"
    }
   ],
   "source": [
    "df.groupby('author').mean()"
   ]
  },
  {
   "cell_type": "markdown",
   "metadata": {},
   "source": [
    "## Challenge\n",
    "### *Can we see if one of the authors focus more on men than women?*\n",
    "\n",
    "*  Use Spacy for text prepocessing\n",
    "*  Extract the Named Entities from the documents using Spacy (command is fairly straight forward)\n",
    "*  Create unique list of names from the authors (you'll find that there are different types of named entities not all people)\n",
    "*  Label the names with genders (can you this by hand or you use the US census name lists)\n",
    "*  Customize your processing to replace the proper name with your gender from the previous step's lookup table\n",
    "*  Then follow the rest of the LDA flow\n"
   ]
  },
  {
   "cell_type": "markdown",
   "metadata": {},
   "source": [
    "# Selecting the Number of Topics (Learn)\n",
    "<a id=\"#p4\"></a>"
   ]
  },
  {
   "cell_type": "markdown",
   "metadata": {},
   "source": [
    "## Overview"
   ]
  },
  {
   "cell_type": "markdown",
   "metadata": {},
   "source": [
    "## Follow Along"
   ]
  },
  {
   "cell_type": "code",
   "execution_count": 64,
   "metadata": {},
   "outputs": [],
   "source": [
    "from gensim.models.coherencemodel import CoherenceModel\n",
    "\n",
    "def compute_coherence_values(dictionary, corpus, path, limit, start=2, step=3, passes=5):\n",
    "    \"\"\"\n",
    "    Compute c_v coherence for various number of topics\n",
    "\n",
    "    Parameters:\n",
    "    ----------\n",
    "    dictionary : Gensim dictionary\n",
    "    corpus : Gensim corpus\n",
    "    path : path to input texts\n",
    "    limit : Max num of topics\n",
    "    passes: the number of times the entire lda model & coherence values are calculated\n",
    "\n",
    "    Returns:\n",
    "    -------\n",
    "    coherence_values : Coherence values corresponding to the LDA model with respective number of topics\n",
    "    \"\"\"\n",
    "    \n",
    "    coherence_values = []\n",
    "    \n",
    "    tokens = list(doc_stream(path))\n",
    "    \n",
    "    for iter_ in range(passes):\n",
    "        for num_topics in range(start, limit, step):\n",
    "            stream = doc_stream(path)\n",
    "            model = LdaMulticore(corpus=corpus, num_topics=num_topics, id2word=dictionary, workers=4)\n",
    "            coherencemodel = CoherenceModel(model=model,dictionary=dictionary,corpus=corpus, coherence='u_mass')\n",
    "            coherence_values.append({'pass': iter_, \n",
    "                                     'num_topics': num_topics, \n",
    "                                     'coherence_score': coherencemodel.get_coherence()\n",
    "                                    })\n",
    "\n",
    "    return coherence_values"
   ]
  },
  {
   "cell_type": "code",
   "execution_count": null,
   "metadata": {},
   "outputs": [],
   "source": [
    "# Can take a long time to run.\n",
    "coherence_values = compute_coherence_values(dictionary=id2word, \n",
    "                                                        corpus=corpus, \n",
    "                                                        path=path, \n",
    "                                                        start=2, \n",
    "                                                        limit=40, \n",
    "                                                        step=6,\n",
    "                                                        passes=40)"
   ]
  },
  {
   "cell_type": "code",
   "execution_count": 65,
   "metadata": {},
   "outputs": [
    {
     "ename": "NameError",
     "evalue": "name 'coherence_values' is not defined",
     "output_type": "error",
     "traceback": [
      "\u001b[1;31m---------------------------------------------------------------------------\u001b[0m",
      "\u001b[1;31mNameError\u001b[0m                                 Traceback (most recent call last)",
      "\u001b[1;32m<ipython-input-65-fe714395de06>\u001b[0m in \u001b[0;36m<module>\u001b[1;34m\u001b[0m\n\u001b[1;32m----> 1\u001b[1;33m \u001b[0mtopic_coherence\u001b[0m \u001b[1;33m=\u001b[0m \u001b[0mpd\u001b[0m\u001b[1;33m.\u001b[0m\u001b[0mDataFrame\u001b[0m\u001b[1;33m.\u001b[0m\u001b[0mfrom_records\u001b[0m\u001b[1;33m(\u001b[0m\u001b[0mcoherence_values\u001b[0m\u001b[1;33m)\u001b[0m\u001b[1;33m\u001b[0m\u001b[1;33m\u001b[0m\u001b[0m\n\u001b[0m",
      "\u001b[1;31mNameError\u001b[0m: name 'coherence_values' is not defined"
     ]
    }
   ],
   "source": [
    "topic_coherence = pd.DataFrame.from_records(coherence_values)"
   ]
  },
  {
   "cell_type": "code",
   "execution_count": 115,
   "metadata": {},
   "outputs": [
    {
     "ename": "NameError",
     "evalue": "name 'coherencemodel' is not defined",
     "output_type": "error",
     "traceback": [
      "\u001b[0;31m---------------------------------------------------------------------------\u001b[0m",
      "\u001b[0;31mNameError\u001b[0m                                 Traceback (most recent call last)",
      "\u001b[0;32m<ipython-input-115-463aad305d7a>\u001b[0m in \u001b[0;36m<module>\u001b[0;34m\u001b[0m\n\u001b[0;32m----> 1\u001b[0;31m \u001b[0mcoherencemodel\u001b[0m\u001b[0;34m\u001b[0m\u001b[0;34m\u001b[0m\u001b[0m\n\u001b[0m",
      "\u001b[0;31mNameError\u001b[0m: name 'coherencemodel' is not defined"
     ]
    }
   ],
   "source": []
  },
  {
   "cell_type": "code",
   "execution_count": 124,
   "metadata": {},
   "outputs": [
    {
     "data": {
      "text/html": [
       "<div>\n",
       "<style scoped>\n",
       "    .dataframe tbody tr th:only-of-type {\n",
       "        vertical-align: middle;\n",
       "    }\n",
       "\n",
       "    .dataframe tbody tr th {\n",
       "        vertical-align: top;\n",
       "    }\n",
       "\n",
       "    .dataframe thead th {\n",
       "        text-align: right;\n",
       "    }\n",
       "</style>\n",
       "<table border=\"1\" class=\"dataframe\">\n",
       "  <thead>\n",
       "    <tr style=\"text-align: right;\">\n",
       "      <th></th>\n",
       "      <th>coherence_score</th>\n",
       "      <th>num_topics</th>\n",
       "      <th>pass</th>\n",
       "    </tr>\n",
       "  </thead>\n",
       "  <tbody>\n",
       "    <tr>\n",
       "      <th>0</th>\n",
       "      <td>-0.935416</td>\n",
       "      <td>2</td>\n",
       "      <td>0</td>\n",
       "    </tr>\n",
       "    <tr>\n",
       "      <th>1</th>\n",
       "      <td>-0.939436</td>\n",
       "      <td>8</td>\n",
       "      <td>0</td>\n",
       "    </tr>\n",
       "    <tr>\n",
       "      <th>2</th>\n",
       "      <td>-0.952264</td>\n",
       "      <td>14</td>\n",
       "      <td>0</td>\n",
       "    </tr>\n",
       "    <tr>\n",
       "      <th>3</th>\n",
       "      <td>-0.912855</td>\n",
       "      <td>20</td>\n",
       "      <td>0</td>\n",
       "    </tr>\n",
       "    <tr>\n",
       "      <th>4</th>\n",
       "      <td>-0.905050</td>\n",
       "      <td>26</td>\n",
       "      <td>0</td>\n",
       "    </tr>\n",
       "  </tbody>\n",
       "</table>\n",
       "</div>"
      ],
      "text/plain": [
       "   coherence_score  num_topics  pass\n",
       "0        -0.935416           2     0\n",
       "1        -0.939436           8     0\n",
       "2        -0.952264          14     0\n",
       "3        -0.912855          20     0\n",
       "4        -0.905050          26     0"
      ]
     },
     "execution_count": 124,
     "metadata": {},
     "output_type": "execute_result"
    }
   ],
   "source": [
    "topic_coherence.head()"
   ]
  },
  {
   "cell_type": "code",
   "execution_count": 125,
   "metadata": {},
   "outputs": [
    {
     "data": {
      "image/png": "[encoded data removed]",
      "text/plain": [
       "<Figure size 432x288 with 1 Axes>"
      ]
     },
     "metadata": {
      "needs_background": "light"
     },
     "output_type": "display_data"
    }
   ],
   "source": [
    "import seaborn as sns\n",
    "\n",
    "ax = sns.lineplot(x=\"num_topics\", y=\"coherence_score\", data=topic_coherence)"
   ]
  },
  {
   "cell_type": "code",
   "execution_count": 76,
   "metadata": {},
   "outputs": [
    {
     "name": "stdout",
     "output_type": "stream",
     "text": [
      "Num Topics = 2  has Coherence Value of 0.2785\n",
      "Num Topics = 8  has Coherence Value of 0.3029\n",
      "Num Topics = 14  has Coherence Value of 0.2887\n",
      "Num Topics = 20  has Coherence Value of 0.2852\n",
      "Num Topics = 26  has Coherence Value of 0.2846\n",
      "Num Topics = 32  has Coherence Value of 0.2914\n",
      "Num Topics = 38  has Coherence Value of 0.2878\n"
     ]
    }
   ],
   "source": [
    "# Print the coherence scores\n",
    "for m, cv in zip(x, coherence_values):\n",
    "    print(\"Num Topics =\", m, \" has Coherence Value of\", round(cv, 4))"
   ]
  },
  {
   "cell_type": "code",
   "execution_count": 89,
   "metadata": {},
   "outputs": [
    {
     "data": {
      "text/plain": [
       "[(0, 0.02226036),\n",
       " (1, 0.022260414),\n",
       " (2, 0.022260347),\n",
       " (3, 0.022260347),\n",
       " (4, 0.022260392),\n",
       " (5, 0.0222604),\n",
       " (6, 0.022260347),\n",
       " (7, 0.35487327),\n",
       " (8, 0.022260398),\n",
       " (9, 0.022260517),\n",
       " (10, 0.022260416),\n",
       " (11, 0.022260422),\n",
       " (12, 0.3557417),\n",
       " (13, 0.022260347),\n",
       " (14, 0.022260347)]"
      ]
     },
     "execution_count": 89,
     "metadata": {},
     "output_type": "execute_result"
    }
   ],
   "source": [
    "lda[id2word.doc2bow(tokenize(\"This is a sample document to score with a topic distribution.\"))]"
   ]
  },
  {
   "cell_type": "markdown",
   "metadata": {},
   "source": [
    "## Challenge\n",
    "### *Can we see if one of the authors focus more on men than women?*\n",
    "\n",
    "*  Use Spacy for text prepocessing\n",
    "*  Extract the Named Entities from the documents using Spacy (command is fairly straight forward)\n",
    "*  Create unique list of names from the authors (you'll find that there are different types of named entities not all people)\n",
    "*  Label the names with genders (can you this by hand or you use the US census name lists)\n",
    "*  Customize your processing to replace the proper name with your gender from the previous step's lookup table\n",
    "*  Then follow the rest of the LDA flow"
   ]
  },
  {
   "cell_type": "code",
   "execution_count": 78,
   "metadata": {},
   "outputs": [
    {
     "name": "stderr",
     "output_type": "stream",
     "text": [
      "/Users/jonathansokoll/anaconda3/envs/U4-S1-NLP/lib/python3.7/site-packages/thinc/neural/train.py:7: DeprecationWarning: Using or importing the ABCs from 'collections' instead of from 'collections.abc' is deprecated, and in 3.8 it will stop working\n",
      "  from .optimizers import Adam, linear_decay\n",
      "/Users/jonathansokoll/anaconda3/envs/U4-S1-NLP/lib/python3.7/site-packages/thinc/check.py:4: DeprecationWarning: Using or importing the ABCs from 'collections' instead of from 'collections.abc' is deprecated, and in 3.8 it will stop working\n",
      "  from collections import Sequence, Sized, Iterable, Callable\n",
      "/Users/jonathansokoll/anaconda3/envs/U4-S1-NLP/lib/python3.7/site-packages/thinc/check.py:4: DeprecationWarning: Using or importing the ABCs from 'collections' instead of from 'collections.abc' is deprecated, and in 3.8 it will stop working\n",
      "  from collections import Sequence, Sized, Iterable, Callable\n"
     ]
    }
   ],
   "source": [
    "import spacy\n",
    "\n",
    "nlp = spacy.load('en_core_web_lg')"
   ]
  },
  {
   "cell_type": "code",
   "execution_count": 79,
   "metadata": {},
   "outputs": [],
   "source": [
    "test = \"Ned asked me a question about England today.\""
   ]
  },
  {
   "cell_type": "code",
   "execution_count": 80,
   "metadata": {},
   "outputs": [
    {
     "name": "stdout",
     "output_type": "stream",
     "text": [
      "Ned Ned PROPN\n",
      "asked ask VERB\n",
      "me -PRON- PRON\n",
      "a a DET\n",
      "question question NOUN\n",
      "about about ADP\n",
      "England England PROPN\n",
      "today today NOUN\n",
      ". . PUNCT\n"
     ]
    }
   ],
   "source": [
    "doc = nlp(test)\n",
    "\n",
    "for token in doc:\n",
    "    print(token.text, token.lemma_, token.pos_)"
   ]
  },
  {
   "cell_type": "code",
   "execution_count": 81,
   "metadata": {},
   "outputs": [
    {
     "name": "stdout",
     "output_type": "stream",
     "text": [
      "Ned PERSON\n",
      "England GPE\n",
      "today DATE\n"
     ]
    }
   ],
   "source": [
    "for ent in doc.ents:\n",
    "    print(ent.text, ent.label_)"
   ]
  },
  {
   "cell_type": "code",
   "execution_count": 82,
   "metadata": {},
   "outputs": [],
   "source": [
    "def doc_stream(path):\n",
    "    for f in os.listdir(path):\n",
    "        with open(os.path.join(path,f)) as t:\n",
    "            text = t.read().strip('\\n')\n",
    "            yield text\n",
    "\n",
    "def get_people(docstream):\n",
    "    \n",
    "    ppl = []\n",
    "    \n",
    "    for d in docstream:\n",
    "        \n",
    "        doc = nlp(d)\n",
    "        \n",
    "        for ent in doc.ents:\n",
    "            \n",
    "            if ent.label_ == \"PERSON\":\n",
    "                ppl.append(ent.lemma_)\n",
    "                \n",
    "    return set(ppl)"
   ]
  },
  {
   "cell_type": "code",
   "execution_count": 129,
   "metadata": {},
   "outputs": [],
   "source": [
    "people = get_people(doc_stream(path))"
   ]
  },
  {
   "cell_type": "code",
   "execution_count": 126,
   "metadata": {},
   "outputs": [],
   "source": [
    "doc = nlp(next(doc_stream(path)))"
   ]
  },
  {
   "cell_type": "code",
   "execution_count": 128,
   "metadata": {},
   "outputs": [
    {
     "data": {
      "text/plain": [
       "'yesterday'"
      ]
     },
     "execution_count": 128,
     "metadata": {},
     "output_type": "execute_result"
    }
   ],
   "source": [
    "doc.ents[0].lemma_"
   ]
  },
  {
   "cell_type": "markdown",
   "metadata": {},
   "source": [
    "# Sources\n",
    "\n",
    "### *References*\n",
    "* [Andrew Ng et al paper on LDA](https://ai.stanford.edu/~ang/papers/jair03-lda.pdf)\n",
    "* On [Coherence](https://pdfs.semanticscholar.org/1521/8d9c029cbb903ae7c729b2c644c24994c201.pdf)\n",
    "\n",
    "### *Resources*\n",
    "\n",
    "* [Gensim](https://radimrehurek.com/gensim/): Python package for topic modeling, nlp, word vectorization, and few other things. Well maintained and well documented.\n",
    "* [Topic Modeling with Gensim](http://www.machinelearningplus.com/nlp/topic-modeling-gensim-python/#11createthedictionaryandcorpusneededfortopicmodeling): A kind of cookbook for LDA with gensim. Excellent overview, but the you need to be aware of missing import statements and assumed prior knowledge.\n",
    "* [Chinese Restuarant Process](https://en.wikipedia.org/wiki/Chinese_restaurant_process): That really obscure stats thing I mentioned... \n",
    "* [PyLDAvis](https://github.com/bmabey/pyLDAvis): Library for visualizing the topic model and performing some exploratory work. Works well. Has a direct parrell implementation in R as well. \n",
    "* [Rare Technologies](https://rare-technologies.com/): The people that made & maintain gensim and a few other libraries.\n",
    "* [Jane Austen v. Charlotte Bronte](https://www.literaryladiesguide.com/literary-musings/jane-austen-charlotte-bronte-different-alike/)"
   ]
  }
 ],
 "metadata": {
  "kernelspec": {
   "display_name": "Python 3",
   "language": "python",
   "name": "python3"
  },
  "language_info": {
   "codemirror_mode": {
    "name": "ipython",
    "version": 3
   },
   "file_extension": ".py",
   "mimetype": "text/x-python",
   "name": "python",
   "nbconvert_exporter": "python",
   "pygments_lexer": "ipython3",
   "version": "3.7.4"
  }
 },
 "nbformat": 4,
 "nbformat_minor": 4
}
