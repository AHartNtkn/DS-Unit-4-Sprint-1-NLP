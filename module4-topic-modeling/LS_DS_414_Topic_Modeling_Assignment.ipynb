{
 "cells": [
  {
   "cell_type": "markdown",
   "metadata": {},
   "source": [
    "<img align=\"left\" src=\"https://lever-client-logos.s3.amazonaws.com/864372b1-534c-480e-acd5-9711f850815c-1524247202159.png\" width=200>\n",
    "<br></br>\n",
    "<br></br>\n",
    "\n",
    "# Topic Modeling\n",
    "## *Data Science Unit 4 Sprint 1 Assignment 4*\n",
    "\n",
    "Analyze a corpus of Amazon reviews from Unit 4 Sprint 1 Module 1's lecture using topic modeling: \n",
    "\n",
    "- Fit a Gensim LDA topic model on Amazon Reviews\n",
    "- Select appropriate number of topics\n",
    "- Create some dope visualization of the topics\n",
    "- Write a few bullets on your findings in markdown at the end\n",
    "- **Note**: You don't *have* to use generators for this assignment"
   ]
  },
  {
   "cell_type": "code",
   "execution_count": 1,
   "metadata": {},
   "outputs": [
    {
     "name": "stderr",
     "output_type": "stream",
     "text": [
      "C:\\Users\\soobt\\Anaconda3\\envs\\jupyterlab\\lib\\site-packages\\gensim\\utils.py:1212: UserWarning: detected Windows; aliasing chunkize to chunkize_serial\n",
      "  warnings.warn(\"detected Windows; aliasing chunkize to chunkize_serial\")\n"
     ]
    }
   ],
   "source": [
    "import numpy as np\n",
    "import gensim\n",
    "import os\n",
    "import re\n",
    "\n",
    "from gensim.utils import simple_preprocess\n",
    "from gensim.parsing.preprocessing import STOPWORDS\n",
    "from gensim import corpora\n",
    "\n",
    "from gensim.models.ldamulticore import LdaMulticore\n",
    "\n",
    "import pandas as pd\n",
    "\n",
    "import spacy\n",
    "nlp = spacy.load(\"en_core_web_lg\")"
   ]
  },
  {
   "cell_type": "code",
   "execution_count": 2,
   "metadata": {},
   "outputs": [],
   "source": [
    "df = pd.read_csv('./data/Datafiniti_Amazon_Consumer_Reviews_of_Amazon_Products_May19.csv')"
   ]
  },
  {
   "cell_type": "code",
   "execution_count": 3,
   "metadata": {},
   "outputs": [
    {
     "data": {
      "text/plain": [
       "0    I order 3 of them and one of the item is bad q...\n",
       "1    Bulk is always the less expensive way to go fo...\n",
       "2    Well they are not Duracell but for the price i...\n",
       "3    Seem to work as well as name brand batteries a...\n",
       "4    These batteries are very long lasting the pric...\n",
       "Name: reviews.text, dtype: object"
      ]
     },
     "execution_count": 3,
     "metadata": {},
     "output_type": "execute_result"
    }
   ],
   "source": [
    "df['reviews.text'].head()"
   ]
  },
  {
   "cell_type": "code",
   "execution_count": 4,
   "metadata": {},
   "outputs": [],
   "source": [
    "def tokenize(text):\n",
    "    return [token.lemma_ for token in nlp(text) if (token.is_stop != True) and (token.is_punct != True)]"
   ]
  },
  {
   "cell_type": "code",
   "execution_count": 106,
   "metadata": {},
   "outputs": [],
   "source": [
    "df['tokens'] = df['reviews.text'].str.lower().apply(tokenize)"
   ]
  },
  {
   "cell_type": "code",
   "execution_count": 107,
   "metadata": {},
   "outputs": [],
   "source": [
    "tokens = df['tokens'].copy()"
   ]
  },
  {
   "cell_type": "code",
   "execution_count": 6,
   "metadata": {},
   "outputs": [
    {
     "data": {
      "text/plain": [
       "0    [order, 3, item, bad, quality, miss, backup, s...\n",
       "1                [bulk, expensive, way, product, like]\n",
       "2                             [duracell, price, happy]\n",
       "3                  [work, brand, battery, well, price]\n",
       "4                  [battery, long, last, price, great]\n",
       "Name: tokens, dtype: object"
      ]
     },
     "execution_count": 6,
     "metadata": {},
     "output_type": "execute_result"
    }
   ],
   "source": [
    "df['tokens'].head()"
   ]
  },
  {
   "cell_type": "code",
   "execution_count": 189,
   "metadata": {},
   "outputs": [],
   "source": [
    "df['tokens'] = tokens"
   ]
  },
  {
   "cell_type": "code",
   "execution_count": 180,
   "metadata": {},
   "outputs": [],
   "source": [
    "stop_words = set(['amazon'\n",
    "                  ])\n",
    "# Remove custom stop words\n",
    "lis = []\n",
    "for l in df['tokens']:\n",
    "    lis.append(list(set(l) - stop_words))\n",
    "\n",
    "df['tokens'] = lis"
   ]
  },
  {
   "cell_type": "code",
   "execution_count": 181,
   "metadata": {},
   "outputs": [],
   "source": [
    "id2word = corpora.Dictionary(df['tokens'])"
   ]
  },
  {
   "cell_type": "code",
   "execution_count": 190,
   "metadata": {},
   "outputs": [
    {
     "data": {
      "text/plain": [
       "1948"
      ]
     },
     "execution_count": 190,
     "metadata": {},
     "output_type": "execute_result"
    }
   ],
   "source": [
    "len(id2word.keys())"
   ]
  },
  {
   "cell_type": "code",
   "execution_count": 191,
   "metadata": {},
   "outputs": [
    {
     "data": {
      "text/plain": [
       "160"
      ]
     },
     "execution_count": 191,
     "metadata": {},
     "output_type": "execute_result"
    }
   ],
   "source": [
    "id2word.token2id['kid']"
   ]
  },
  {
   "cell_type": "code",
   "execution_count": 192,
   "metadata": {},
   "outputs": [],
   "source": [
    "id2word.filter_extremes(no_below=10, no_above=0.98)"
   ]
  },
  {
   "cell_type": "code",
   "execution_count": 193,
   "metadata": {},
   "outputs": [
    {
     "data": {
      "text/plain": [
       "1948"
      ]
     },
     "execution_count": 193,
     "metadata": {},
     "output_type": "execute_result"
    }
   ],
   "source": [
    "len(id2word.keys())"
   ]
  },
  {
   "cell_type": "code",
   "execution_count": 194,
   "metadata": {},
   "outputs": [],
   "source": [
    "corpus = [id2word.doc2bow(text) for text in df['tokens']]"
   ]
  },
  {
   "cell_type": "code",
   "execution_count": 204,
   "metadata": {},
   "outputs": [],
   "source": [
    "lda = LdaMulticore(corpus=corpus,\n",
    "                   id2word=id2word,\n",
    "                   num_topics = 3,\n",
    "                   passes=10,\n",
    "                   workers=4\n",
    "                  )"
   ]
  },
  {
   "cell_type": "code",
   "execution_count": 196,
   "metadata": {},
   "outputs": [
    {
     "data": {
      "text/plain": [
       "-2.493168815629271"
      ]
     },
     "execution_count": 196,
     "metadata": {},
     "output_type": "execute_result"
    }
   ],
   "source": [
    "CoherenceModel(model=lda, dictionary=id2word, corpus=corpus, coherence='u_mass').get_coherence()"
   ]
  },
  {
   "cell_type": "code",
   "execution_count": 100,
   "metadata": {},
   "outputs": [
    {
     "data": {
      "text/plain": [
       "[(0,\n",
       "  '0.062*\"christmas\" + 0.047*\"purchase\" + 0.025*\"get\" + 0.019*\"mother\" + 0.018*\"present\" + 0.018*\"affordable\" + 0.018*\"slow\" + 0.016*\"wife\" + 0.016*\"mom\" + 0.015*\"grandson\"'),\n",
       " (1,\n",
       "  '0.080*\"game\" + 0.059*\"play\" + 0.048*\"book\" + 0.044*\"read\" + 0.040*\"watch\" + 0.030*\"kid\" + 0.030*\"video\" + 0.028*\"movie\" + 0.027*\"enjoy\" + 0.025*\"son\"'),\n",
       " (2,\n",
       "  '0.034*\"8\" + 0.030*\"grandson\" + 0.026*\"durable\" + 0.026*\"7\" + 0.023*\"fast\" + 0.019*\"big\" + 0.019*\"kid\" + 0.019*\"hd\" + 0.018*\"card\" + 0.017*\"purchase\"'),\n",
       " (3,\n",
       "  '0.047*\"screen\" + 0.026*\"read\" + 0.022*\"book\" + 0.018*\"size\" + 0.015*\"internet\" + 0.014*\"new\" + 0.012*\"nice\" + 0.012*\"picture\" + 0.011*\"web\" + 0.011*\"clear\"'),\n",
       " (4,\n",
       "  '0.026*\"duracell\" + 0.020*\"remote\" + 0.020*\"box\" + 0.019*\"toy\" + 0.018*\"aa\" + 0.016*\"find\" + 0.016*\"come\" + 0.016*\"pack\" + 0.014*\"energizer\" + 0.014*\"package\"'),\n",
       " (5,\n",
       "  '0.105*\"value\" + 0.055*\"item\" + 0.051*\"nice\" + 0.051*\"user\" + 0.046*\"friendly\" + 0.031*\"money\" + 0.021*\"time\" + 0.021*\"exactly\" + 0.021*\"low\" + 0.016*\"look\"'),\n",
       " (6,\n",
       "  '0.044*\"excellent\" + 0.033*\"ipad\" + 0.031*\"light\" + 0.028*\"reader\" + 0.024*\"read\" + 0.019*\"e\" + 0.016*\"book\" + 0.015*\"size\" + 0.015*\"awesome\" + 0.013*\"weight\"'),\n",
       " (7,\n",
       "  '0.064*\"deal\" + 0.046*\"cheap\" + 0.045*\"need\" + 0.028*\"black\" + 0.028*\"worth\" + 0.025*\"friday\" + 0.023*\"not\" + 0.020*\"basic\" + 0.019*\"pay\" + 0.016*\"well\"'),\n",
       " (8,\n",
       "  '0.079*\"far\" + 0.034*\"beat\" + 0.025*\"issue\" + 0.024*\"time\" + 0.021*\"complaint\" + 0.021*\"purchase\" + 0.021*\"go\" + 0.016*\"review\" + 0.015*\"think\" + 0.015*\"store\"'),\n",
       " (9,\n",
       "  '0.075*\"kid\" + 0.039*\"daughter\" + 0.031*\"child\" + 0.031*\"control\" + 0.027*\"lot\" + 0.026*\"parental\" + 0.022*\"learn\" + 0.019*\"get\" + 0.018*\"granddaughter\" + 0.017*\"purchase\"'),\n",
       " (10,\n",
       "  '0.032*\"thank\" + 0.030*\"fine\" + 0.027*\"happy\" + 0.022*\"$\" + 0.019*\"get\" + 0.018*\"purchase\" + 0.017*\"decent\" + 0.015*\"charge\" + 0.013*\"expensive\" + 0.013*\"want\"'),\n",
       " (11,\n",
       "  '0.027*\"time\" + 0.016*\"ask\" + 0.015*\"friend\" + 0.013*\"hold\" + 0.012*\"ease\" + 0.012*\"alexa\" + 0.011*\"charge\" + 0.011*\"limit\" + 0.010*\"button\" + 0.009*\"device\"'),\n",
       " (12,\n",
       "  '0.035*\"last\" + 0.027*\"life\" + 0.024*\"quality\" + 0.022*\"time\" + 0.013*\"replacement\" + 0.012*\"have\" + 0.012*\"power\" + 0.011*\"upgrade\" + 0.011*\"previous\" + 0.010*\"operate\"'),\n",
       " (13,\n",
       "  '0.045*\"store\" + 0.030*\"ok\" + 0.026*\"google\" + 0.025*\"simple\" + 0.020*\"stuff\" + 0.017*\"play\" + 0.016*\"well\" + 0.015*\"run\" + 0.013*\"android\" + 0.011*\"easily\"'),\n",
       " (14,\n",
       "  '0.018*\"2\" + 0.016*\"thing\" + 0.015*\"try\" + 0.014*\"warranty\" + 0.011*\"3\" + 0.011*\"go\" + 0.011*\"break\" + 0.010*\"charge\" + 0.010*\"get\" + 0.010*\"come\"')]"
      ]
     },
     "execution_count": 100,
     "metadata": {},
     "output_type": "execute_result"
    }
   ],
   "source": [
    "lda.print_topics()"
   ]
  },
  {
   "cell_type": "code",
   "execution_count": 101,
   "metadata": {},
   "outputs": [],
   "source": [
    "words = [re.findall(r'\"([^\"]*)\"',t[1]) for t in lda.print_topics()]"
   ]
  },
  {
   "cell_type": "code",
   "execution_count": 102,
   "metadata": {},
   "outputs": [
    {
     "data": {
      "text/plain": [
       "[['christmas',\n",
       "  'purchase',\n",
       "  'get',\n",
       "  'mother',\n",
       "  'present',\n",
       "  'affordable',\n",
       "  'slow',\n",
       "  'wife',\n",
       "  'mom',\n",
       "  'grandson'],\n",
       " ['game',\n",
       "  'play',\n",
       "  'book',\n",
       "  'read',\n",
       "  'watch',\n",
       "  'kid',\n",
       "  'video',\n",
       "  'movie',\n",
       "  'enjoy',\n",
       "  'son']]"
      ]
     },
     "execution_count": 102,
     "metadata": {},
     "output_type": "execute_result"
    }
   ],
   "source": [
    "words[0:2]"
   ]
  },
  {
   "cell_type": "code",
   "execution_count": 76,
   "metadata": {},
   "outputs": [],
   "source": [
    "import pyLDAvis.gensim\n",
    "\n",
    "pyLDAvis.enable_notebook()"
   ]
  },
  {
   "cell_type": "code",
   "execution_count": null,
   "metadata": {},
   "outputs": [],
   "source": [
    "pyLDAvis.gensim.prepare(lda, corpus, id2word)"
   ]
  },
  {
   "cell_type": "code",
   "execution_count": 19,
   "metadata": {},
   "outputs": [],
   "source": [
    "from gensim.models.coherencemodel import CoherenceModel\n",
    "\n",
    "def compute_coherence_values(dictionary, corpus, limit, start=2, step=3, passes=5):\n",
    "    \"\"\"\n",
    "    Compute c_v coherence for various number of topics\n",
    "\n",
    "    Parameters:\n",
    "    ----------\n",
    "    dictionary : Gensim dictionary\n",
    "    corpus : Gensim corpus\n",
    "    path : path to input texts\n",
    "    limit : Max num of topics\n",
    "    passes: the number of times the entire lda model & coherence values are calculated\n",
    "\n",
    "    Returns:\n",
    "    -------\n",
    "    coherence_values : Coherence values corresponding to the LDA model with respective number of topics\n",
    "    \"\"\"\n",
    "    \n",
    "    coherence_values = []\n",
    "    \n",
    "    for iter_ in range(passes):\n",
    "        for num_topics in range(start, limit, step):\n",
    "            model = LdaMulticore(corpus=corpus, num_topics=num_topics, id2word=dictionary, workers=4)\n",
    "            coherencemodel = CoherenceModel(model=model, dictionary=dictionary, corpus=corpus, coherence='u_mass')\n",
    "            coherence_values.append({'pass': iter_, \n",
    "                                     'num_topics': num_topics, \n",
    "                                     'coherence_score': coherencemodel.get_coherence()\n",
    "                                    })\n",
    "\n",
    "    return coherence_values"
   ]
  },
  {
   "cell_type": "code",
   "execution_count": 25,
   "metadata": {},
   "outputs": [],
   "source": [
    "import warnings\n",
    "warnings.filterwarnings('ignore')"
   ]
  },
  {
   "cell_type": "code",
   "execution_count": 199,
   "metadata": {},
   "outputs": [],
   "source": [
    "# Can take a long time to run.\n",
    "coherence_values = compute_coherence_values(dictionary=id2word, \n",
    "                                                        corpus=corpus, \n",
    "                                                        start=2, \n",
    "                                                        limit=6, \n",
    "                                                        step=1,\n",
    "                                                        passes=40)"
   ]
  },
  {
   "cell_type": "code",
   "execution_count": 200,
   "metadata": {},
   "outputs": [
    {
     "data": {
      "text/plain": [
       "[{'pass': 0, 'num_topics': 2, 'coherence_score': -2.3076054770616325},\n",
       " {'pass': 0, 'num_topics': 3, 'coherence_score': -2.329845425710095},\n",
       " {'pass': 0, 'num_topics': 4, 'coherence_score': -2.316670748642834},\n",
       " {'pass': 0, 'num_topics': 5, 'coherence_score': -2.3851236983162627},\n",
       " {'pass': 1, 'num_topics': 2, 'coherence_score': -2.3178397029744215},\n",
       " {'pass': 1, 'num_topics': 3, 'coherence_score': -2.3408008098901814},\n",
       " {'pass': 1, 'num_topics': 4, 'coherence_score': -2.3135546555702664},\n",
       " {'pass': 1, 'num_topics': 5, 'coherence_score': -2.3630761593825427},\n",
       " {'pass': 2, 'num_topics': 2, 'coherence_score': -2.2608760640122294},\n",
       " {'pass': 2, 'num_topics': 3, 'coherence_score': -2.2427912865294175},\n",
       " {'pass': 2, 'num_topics': 4, 'coherence_score': -2.2675194789254025},\n",
       " {'pass': 2, 'num_topics': 5, 'coherence_score': -2.3676343774489377},\n",
       " {'pass': 3, 'num_topics': 2, 'coherence_score': -2.3487473470568636},\n",
       " {'pass': 3, 'num_topics': 3, 'coherence_score': -2.2704985301586635},\n",
       " {'pass': 3, 'num_topics': 4, 'coherence_score': -2.340126131592233},\n",
       " {'pass': 3, 'num_topics': 5, 'coherence_score': -2.3350771895966544},\n",
       " {'pass': 4, 'num_topics': 2, 'coherence_score': -2.333419967053797},\n",
       " {'pass': 4, 'num_topics': 3, 'coherence_score': -2.269990906180426},\n",
       " {'pass': 4, 'num_topics': 4, 'coherence_score': -2.4002159691967897},\n",
       " {'pass': 4, 'num_topics': 5, 'coherence_score': -2.3793585752475717},\n",
       " {'pass': 5, 'num_topics': 2, 'coherence_score': -2.4456700804622145},\n",
       " {'pass': 5, 'num_topics': 3, 'coherence_score': -2.3390660994298385},\n",
       " {'pass': 5, 'num_topics': 4, 'coherence_score': -2.3753320462363137},\n",
       " {'pass': 5, 'num_topics': 5, 'coherence_score': -2.3543555378614114},\n",
       " {'pass': 6, 'num_topics': 2, 'coherence_score': -2.2858455325715514},\n",
       " {'pass': 6, 'num_topics': 3, 'coherence_score': -2.3214999106615437},\n",
       " {'pass': 6, 'num_topics': 4, 'coherence_score': -2.3387135545806075},\n",
       " {'pass': 6, 'num_topics': 5, 'coherence_score': -2.394850949371967},\n",
       " {'pass': 7, 'num_topics': 2, 'coherence_score': -2.2423314766124913},\n",
       " {'pass': 7, 'num_topics': 3, 'coherence_score': -2.285380415792817},\n",
       " {'pass': 7, 'num_topics': 4, 'coherence_score': -2.3968348865920115},\n",
       " {'pass': 7, 'num_topics': 5, 'coherence_score': -2.3989872345157353},\n",
       " {'pass': 8, 'num_topics': 2, 'coherence_score': -2.373701738516605},\n",
       " {'pass': 8, 'num_topics': 3, 'coherence_score': -2.319209531086244},\n",
       " {'pass': 8, 'num_topics': 4, 'coherence_score': -2.4243316556583325},\n",
       " {'pass': 8, 'num_topics': 5, 'coherence_score': -2.4279833779018696},\n",
       " {'pass': 9, 'num_topics': 2, 'coherence_score': -2.3094533288939787},\n",
       " {'pass': 9, 'num_topics': 3, 'coherence_score': -2.4217658656617065},\n",
       " {'pass': 9, 'num_topics': 4, 'coherence_score': -2.337910664006042},\n",
       " {'pass': 9, 'num_topics': 5, 'coherence_score': -2.3611663280243524},\n",
       " {'pass': 10, 'num_topics': 2, 'coherence_score': -2.294329122708392},\n",
       " {'pass': 10, 'num_topics': 3, 'coherence_score': -2.228063986460775},\n",
       " {'pass': 10, 'num_topics': 4, 'coherence_score': -2.38558563282136},\n",
       " {'pass': 10, 'num_topics': 5, 'coherence_score': -2.420917648998517},\n",
       " {'pass': 11, 'num_topics': 2, 'coherence_score': -2.311570121368262},\n",
       " {'pass': 11, 'num_topics': 3, 'coherence_score': -2.345684388673608},\n",
       " {'pass': 11, 'num_topics': 4, 'coherence_score': -2.4152304291871496},\n",
       " {'pass': 11, 'num_topics': 5, 'coherence_score': -2.3750186553441655},\n",
       " {'pass': 12, 'num_topics': 2, 'coherence_score': -2.2230495680737965},\n",
       " {'pass': 12, 'num_topics': 3, 'coherence_score': -2.377282223462877},\n",
       " {'pass': 12, 'num_topics': 4, 'coherence_score': -2.3874194814960097},\n",
       " {'pass': 12, 'num_topics': 5, 'coherence_score': -2.3378878560722876},\n",
       " {'pass': 13, 'num_topics': 2, 'coherence_score': -2.278164068482412},\n",
       " {'pass': 13, 'num_topics': 3, 'coherence_score': -2.3067960829820353},\n",
       " {'pass': 13, 'num_topics': 4, 'coherence_score': -2.3423606136540087},\n",
       " {'pass': 13, 'num_topics': 5, 'coherence_score': -2.3315187166343323},\n",
       " {'pass': 14, 'num_topics': 2, 'coherence_score': -2.3319742786228774},\n",
       " {'pass': 14, 'num_topics': 3, 'coherence_score': -2.321790980495065},\n",
       " {'pass': 14, 'num_topics': 4, 'coherence_score': -2.3176522395072796},\n",
       " {'pass': 14, 'num_topics': 5, 'coherence_score': -2.3642318008961816},\n",
       " {'pass': 15, 'num_topics': 2, 'coherence_score': -2.2423349528818775},\n",
       " {'pass': 15, 'num_topics': 3, 'coherence_score': -2.3550052675375297},\n",
       " {'pass': 15, 'num_topics': 4, 'coherence_score': -2.282119497257995},\n",
       " {'pass': 15, 'num_topics': 5, 'coherence_score': -2.3868368692962827},\n",
       " {'pass': 16, 'num_topics': 2, 'coherence_score': -2.3454298096802937},\n",
       " {'pass': 16, 'num_topics': 3, 'coherence_score': -2.3602753656556077},\n",
       " {'pass': 16, 'num_topics': 4, 'coherence_score': -2.3488326002343527},\n",
       " {'pass': 16, 'num_topics': 5, 'coherence_score': -2.3880286047401307},\n",
       " {'pass': 17, 'num_topics': 2, 'coherence_score': -2.345622162402384},\n",
       " {'pass': 17, 'num_topics': 3, 'coherence_score': -2.3668155372155684},\n",
       " {'pass': 17, 'num_topics': 4, 'coherence_score': -2.357273973227805},\n",
       " {'pass': 17, 'num_topics': 5, 'coherence_score': -2.4263730690889345},\n",
       " {'pass': 18, 'num_topics': 2, 'coherence_score': -2.2837478753282747},\n",
       " {'pass': 18, 'num_topics': 3, 'coherence_score': -2.3127277292160255},\n",
       " {'pass': 18, 'num_topics': 4, 'coherence_score': -2.3716510680962504},\n",
       " {'pass': 18, 'num_topics': 5, 'coherence_score': -2.3352471744197545},\n",
       " {'pass': 19, 'num_topics': 2, 'coherence_score': -2.32625930845758},\n",
       " {'pass': 19, 'num_topics': 3, 'coherence_score': -2.3352034402955755},\n",
       " {'pass': 19, 'num_topics': 4, 'coherence_score': -2.3681104750389403},\n",
       " {'pass': 19, 'num_topics': 5, 'coherence_score': -2.412959192444272},\n",
       " {'pass': 20, 'num_topics': 2, 'coherence_score': -2.298928408550202},\n",
       " {'pass': 20, 'num_topics': 3, 'coherence_score': -2.368132474830569},\n",
       " {'pass': 20, 'num_topics': 4, 'coherence_score': -2.385156829803326},\n",
       " {'pass': 20, 'num_topics': 5, 'coherence_score': -2.415277403571957},\n",
       " {'pass': 21, 'num_topics': 2, 'coherence_score': -2.2748906629493177},\n",
       " {'pass': 21, 'num_topics': 3, 'coherence_score': -2.3672857501058453},\n",
       " {'pass': 21, 'num_topics': 4, 'coherence_score': -2.414139110800047},\n",
       " {'pass': 21, 'num_topics': 5, 'coherence_score': -2.4214160089902697},\n",
       " {'pass': 22, 'num_topics': 2, 'coherence_score': -2.381038612529058},\n",
       " {'pass': 22, 'num_topics': 3, 'coherence_score': -2.3241848748361833},\n",
       " {'pass': 22, 'num_topics': 4, 'coherence_score': -2.359378457872462},\n",
       " {'pass': 22, 'num_topics': 5, 'coherence_score': -2.3705357115383894},\n",
       " {'pass': 23, 'num_topics': 2, 'coherence_score': -2.279282941391659},\n",
       " {'pass': 23, 'num_topics': 3, 'coherence_score': -2.298746590066082},\n",
       " {'pass': 23, 'num_topics': 4, 'coherence_score': -2.4186767818616914},\n",
       " {'pass': 23, 'num_topics': 5, 'coherence_score': -2.4015197873400975},\n",
       " {'pass': 24, 'num_topics': 2, 'coherence_score': -2.3716109133481957},\n",
       " {'pass': 24, 'num_topics': 3, 'coherence_score': -2.3015930185215336},\n",
       " {'pass': 24, 'num_topics': 4, 'coherence_score': -2.3066724343223637},\n",
       " {'pass': 24, 'num_topics': 5, 'coherence_score': -2.3685251740300908},\n",
       " {'pass': 25, 'num_topics': 2, 'coherence_score': -2.323909029624505},\n",
       " {'pass': 25, 'num_topics': 3, 'coherence_score': -2.339570927435933},\n",
       " {'pass': 25, 'num_topics': 4, 'coherence_score': -2.40981098432833},\n",
       " {'pass': 25, 'num_topics': 5, 'coherence_score': -2.383706767644749},\n",
       " {'pass': 26, 'num_topics': 2, 'coherence_score': -2.324536025581181},\n",
       " {'pass': 26, 'num_topics': 3, 'coherence_score': -2.3829425346370727},\n",
       " {'pass': 26, 'num_topics': 4, 'coherence_score': -2.487373276806093},\n",
       " {'pass': 26, 'num_topics': 5, 'coherence_score': -2.3578464171947973},\n",
       " {'pass': 27, 'num_topics': 2, 'coherence_score': -2.2915597297189585},\n",
       " {'pass': 27, 'num_topics': 3, 'coherence_score': -2.370260381972747},\n",
       " {'pass': 27, 'num_topics': 4, 'coherence_score': -2.4130226852998113},\n",
       " {'pass': 27, 'num_topics': 5, 'coherence_score': -2.317790506883896},\n",
       " {'pass': 28, 'num_topics': 2, 'coherence_score': -2.3057839654336627},\n",
       " {'pass': 28, 'num_topics': 3, 'coherence_score': -2.3078134403392347},\n",
       " {'pass': 28, 'num_topics': 4, 'coherence_score': -2.3973281106202737},\n",
       " {'pass': 28, 'num_topics': 5, 'coherence_score': -2.3701352172016734},\n",
       " {'pass': 29, 'num_topics': 2, 'coherence_score': -2.2964858051886283},\n",
       " {'pass': 29, 'num_topics': 3, 'coherence_score': -2.3655126586455038},\n",
       " {'pass': 29, 'num_topics': 4, 'coherence_score': -2.3545153603166713},\n",
       " {'pass': 29, 'num_topics': 5, 'coherence_score': -2.3669959745490865},\n",
       " {'pass': 30, 'num_topics': 2, 'coherence_score': -2.322796191196331},\n",
       " {'pass': 30, 'num_topics': 3, 'coherence_score': -2.3304562060078844},\n",
       " {'pass': 30, 'num_topics': 4, 'coherence_score': -2.368642636271341},\n",
       " {'pass': 30, 'num_topics': 5, 'coherence_score': -2.331088512783938},\n",
       " {'pass': 31, 'num_topics': 2, 'coherence_score': -2.3002343425519216},\n",
       " {'pass': 31, 'num_topics': 3, 'coherence_score': -2.337637018008515},\n",
       " {'pass': 31, 'num_topics': 4, 'coherence_score': -2.3473662379767593},\n",
       " {'pass': 31, 'num_topics': 5, 'coherence_score': -2.3562142599755362},\n",
       " {'pass': 32, 'num_topics': 2, 'coherence_score': -2.2624059006143513},\n",
       " {'pass': 32, 'num_topics': 3, 'coherence_score': -2.3217510704123066},\n",
       " {'pass': 32, 'num_topics': 4, 'coherence_score': -2.3549105352378814},\n",
       " {'pass': 32, 'num_topics': 5, 'coherence_score': -2.2921809288809696},\n",
       " {'pass': 33, 'num_topics': 2, 'coherence_score': -2.2984650617584252},\n",
       " {'pass': 33, 'num_topics': 3, 'coherence_score': -2.2488977788717803},\n",
       " {'pass': 33, 'num_topics': 4, 'coherence_score': -2.355507737725955},\n",
       " {'pass': 33, 'num_topics': 5, 'coherence_score': -2.387483784941525},\n",
       " {'pass': 34, 'num_topics': 2, 'coherence_score': -2.285211611416395},\n",
       " {'pass': 34, 'num_topics': 3, 'coherence_score': -2.348397456594044},\n",
       " {'pass': 34, 'num_topics': 4, 'coherence_score': -2.433511901027499},\n",
       " {'pass': 34, 'num_topics': 5, 'coherence_score': -2.3760470734080226},\n",
       " {'pass': 35, 'num_topics': 2, 'coherence_score': -2.348856750167897},\n",
       " {'pass': 35, 'num_topics': 3, 'coherence_score': -2.4093016081504905},\n",
       " {'pass': 35, 'num_topics': 4, 'coherence_score': -2.4192663688756015},\n",
       " {'pass': 35, 'num_topics': 5, 'coherence_score': -2.3744848625874484},\n",
       " {'pass': 36, 'num_topics': 2, 'coherence_score': -2.3107497766833776},\n",
       " {'pass': 36, 'num_topics': 3, 'coherence_score': -2.3946643728610217},\n",
       " {'pass': 36, 'num_topics': 4, 'coherence_score': -2.326123975631157},\n",
       " {'pass': 36, 'num_topics': 5, 'coherence_score': -2.4004170061023906},\n",
       " {'pass': 37, 'num_topics': 2, 'coherence_score': -2.297254292707118},\n",
       " {'pass': 37, 'num_topics': 3, 'coherence_score': -2.3388693641242377},\n",
       " {'pass': 37, 'num_topics': 4, 'coherence_score': -2.3790139653997793},\n",
       " {'pass': 37, 'num_topics': 5, 'coherence_score': -2.369930104861612},\n",
       " {'pass': 38, 'num_topics': 2, 'coherence_score': -2.2798800001742974},\n",
       " {'pass': 38, 'num_topics': 3, 'coherence_score': -2.332057166254703},\n",
       " {'pass': 38, 'num_topics': 4, 'coherence_score': -2.389038379404798},\n",
       " {'pass': 38, 'num_topics': 5, 'coherence_score': -2.3975084389043633},\n",
       " {'pass': 39, 'num_topics': 2, 'coherence_score': -2.3292894627974463},\n",
       " {'pass': 39, 'num_topics': 3, 'coherence_score': -2.275900931166034},\n",
       " {'pass': 39, 'num_topics': 4, 'coherence_score': -2.3299018636098032},\n",
       " {'pass': 39, 'num_topics': 5, 'coherence_score': -2.503949019429533}]"
      ]
     },
     "execution_count": 200,
     "metadata": {},
     "output_type": "execute_result"
    }
   ],
   "source": [
    "coherence_values"
   ]
  },
  {
   "cell_type": "code",
   "execution_count": 30,
   "metadata": {},
   "outputs": [
    {
     "data": {
      "text/plain": [
       "[{'pass': 0, 'num_topics': 2, 'coherence_score': -2.2324852272092555},\n",
       " {'pass': 0, 'num_topics': 8, 'coherence_score': -2.3146999609603167},\n",
       " {'pass': 0, 'num_topics': 14, 'coherence_score': -2.4930840878351566},\n",
       " {'pass': 0, 'num_topics': 20, 'coherence_score': -2.473882070860653},\n",
       " {'pass': 0, 'num_topics': 26, 'coherence_score': -2.6306911152132386},\n",
       " {'pass': 0, 'num_topics': 32, 'coherence_score': -2.637336775194375},\n",
       " {'pass': 0, 'num_topics': 38, 'coherence_score': -2.6623330713831197},\n",
       " {'pass': 1, 'num_topics': 2, 'coherence_score': -2.2461544878862574},\n",
       " {'pass': 1, 'num_topics': 8, 'coherence_score': -2.348254431373692},\n",
       " {'pass': 1, 'num_topics': 14, 'coherence_score': -2.5709279943013543},\n",
       " {'pass': 1, 'num_topics': 20, 'coherence_score': -2.5202310730137905},\n",
       " {'pass': 1, 'num_topics': 26, 'coherence_score': -2.6317282029531315},\n",
       " {'pass': 1, 'num_topics': 32, 'coherence_score': -2.644844201457623},\n",
       " {'pass': 1, 'num_topics': 38, 'coherence_score': -2.642170695798065},\n",
       " {'pass': 2, 'num_topics': 2, 'coherence_score': -2.2607638564473156},\n",
       " {'pass': 2, 'num_topics': 8, 'coherence_score': -2.3603258676223935},\n",
       " {'pass': 2, 'num_topics': 14, 'coherence_score': -2.4154066477002702},\n",
       " {'pass': 2, 'num_topics': 20, 'coherence_score': -2.5141072525257337},\n",
       " {'pass': 2, 'num_topics': 26, 'coherence_score': -2.5563131040328217},\n",
       " {'pass': 2, 'num_topics': 32, 'coherence_score': -2.611165035744},\n",
       " {'pass': 2, 'num_topics': 38, 'coherence_score': -2.6602475863628694},\n",
       " {'pass': 3, 'num_topics': 2, 'coherence_score': -2.2331039447989527},\n",
       " {'pass': 3, 'num_topics': 8, 'coherence_score': -2.466405547197019},\n",
       " {'pass': 3, 'num_topics': 14, 'coherence_score': -2.536366211615371},\n",
       " {'pass': 3, 'num_topics': 20, 'coherence_score': -2.5282101856792503},\n",
       " {'pass': 3, 'num_topics': 26, 'coherence_score': -2.5994763827719236},\n",
       " {'pass': 3, 'num_topics': 32, 'coherence_score': -2.6967119230244427},\n",
       " {'pass': 3, 'num_topics': 38, 'coherence_score': -2.6471410712029795},\n",
       " {'pass': 4, 'num_topics': 2, 'coherence_score': -2.223939661423114},\n",
       " {'pass': 4, 'num_topics': 8, 'coherence_score': -2.3966216091450603},\n",
       " {'pass': 4, 'num_topics': 14, 'coherence_score': -2.483485135881641},\n",
       " {'pass': 4, 'num_topics': 20, 'coherence_score': -2.5995633932327276},\n",
       " {'pass': 4, 'num_topics': 26, 'coherence_score': -2.5992554578133014},\n",
       " {'pass': 4, 'num_topics': 32, 'coherence_score': -2.634591232260807},\n",
       " {'pass': 4, 'num_topics': 38, 'coherence_score': -2.656937110603238},\n",
       " {'pass': 5, 'num_topics': 2, 'coherence_score': -2.2356210387230586},\n",
       " {'pass': 5, 'num_topics': 8, 'coherence_score': -2.3360261083156786},\n",
       " {'pass': 5, 'num_topics': 14, 'coherence_score': -2.502478832099006},\n",
       " {'pass': 5, 'num_topics': 20, 'coherence_score': -2.5546089030030252},\n",
       " {'pass': 5, 'num_topics': 26, 'coherence_score': -2.586293817572217},\n",
       " {'pass': 5, 'num_topics': 32, 'coherence_score': -2.6213768804989797},\n",
       " {'pass': 5, 'num_topics': 38, 'coherence_score': -2.6959367229272924},\n",
       " {'pass': 6, 'num_topics': 2, 'coherence_score': -2.2561969102026422},\n",
       " {'pass': 6, 'num_topics': 8, 'coherence_score': -2.3856590091101064},\n",
       " {'pass': 6, 'num_topics': 14, 'coherence_score': -2.5118534612784513},\n",
       " {'pass': 6, 'num_topics': 20, 'coherence_score': -2.5266931967424293},\n",
       " {'pass': 6, 'num_topics': 26, 'coherence_score': -2.6460661463975574},\n",
       " {'pass': 6, 'num_topics': 32, 'coherence_score': -2.5576820306499206},\n",
       " {'pass': 6, 'num_topics': 38, 'coherence_score': -2.614256641067161},\n",
       " {'pass': 7, 'num_topics': 2, 'coherence_score': -2.2986082742111282},\n",
       " {'pass': 7, 'num_topics': 8, 'coherence_score': -2.3306926766404183},\n",
       " {'pass': 7, 'num_topics': 14, 'coherence_score': -2.4945011253184233},\n",
       " {'pass': 7, 'num_topics': 20, 'coherence_score': -2.4946314779326695},\n",
       " {'pass': 7, 'num_topics': 26, 'coherence_score': -2.541165866822776},\n",
       " {'pass': 7, 'num_topics': 32, 'coherence_score': -2.639345829116955},\n",
       " {'pass': 7, 'num_topics': 38, 'coherence_score': -2.7263329443076216},\n",
       " {'pass': 8, 'num_topics': 2, 'coherence_score': -2.2648870126372618},\n",
       " {'pass': 8, 'num_topics': 8, 'coherence_score': -2.321480573906112},\n",
       " {'pass': 8, 'num_topics': 14, 'coherence_score': -2.455877068880573},\n",
       " {'pass': 8, 'num_topics': 20, 'coherence_score': -2.488969048367469},\n",
       " {'pass': 8, 'num_topics': 26, 'coherence_score': -2.489372665269197},\n",
       " {'pass': 8, 'num_topics': 32, 'coherence_score': -2.6715494531188733},\n",
       " {'pass': 8, 'num_topics': 38, 'coherence_score': -2.681911886176317},\n",
       " {'pass': 9, 'num_topics': 2, 'coherence_score': -2.294444483295576},\n",
       " {'pass': 9, 'num_topics': 8, 'coherence_score': -2.4175701302900388},\n",
       " {'pass': 9, 'num_topics': 14, 'coherence_score': -2.4883614436376993},\n",
       " {'pass': 9, 'num_topics': 20, 'coherence_score': -2.5566535479771},\n",
       " {'pass': 9, 'num_topics': 26, 'coherence_score': -2.540701775903094},\n",
       " {'pass': 9, 'num_topics': 32, 'coherence_score': -2.5707203312046674},\n",
       " {'pass': 9, 'num_topics': 38, 'coherence_score': -2.6226745613568525},\n",
       " {'pass': 10, 'num_topics': 2, 'coherence_score': -2.2280243217951208},\n",
       " {'pass': 10, 'num_topics': 8, 'coherence_score': -2.4094982612141727},\n",
       " {'pass': 10, 'num_topics': 14, 'coherence_score': -2.505227282181145},\n",
       " {'pass': 10, 'num_topics': 20, 'coherence_score': -2.5561639832073952},\n",
       " {'pass': 10, 'num_topics': 26, 'coherence_score': -2.610135546527449},\n",
       " {'pass': 10, 'num_topics': 32, 'coherence_score': -2.6258127873709496},\n",
       " {'pass': 10, 'num_topics': 38, 'coherence_score': -2.5938389288744013},\n",
       " {'pass': 11, 'num_topics': 2, 'coherence_score': -2.337328761732406},\n",
       " {'pass': 11, 'num_topics': 8, 'coherence_score': -2.3770598222936448},\n",
       " {'pass': 11, 'num_topics': 14, 'coherence_score': -2.53279695414189},\n",
       " {'pass': 11, 'num_topics': 20, 'coherence_score': -2.461356936817243},\n",
       " {'pass': 11, 'num_topics': 26, 'coherence_score': -2.581275183815494},\n",
       " {'pass': 11, 'num_topics': 32, 'coherence_score': -2.6180277616400653},\n",
       " {'pass': 11, 'num_topics': 38, 'coherence_score': -2.6441951403125943},\n",
       " {'pass': 12, 'num_topics': 2, 'coherence_score': -2.274198197742926},\n",
       " {'pass': 12, 'num_topics': 8, 'coherence_score': -2.3528350716863606},\n",
       " {'pass': 12, 'num_topics': 14, 'coherence_score': -2.438969385726325},\n",
       " {'pass': 12, 'num_topics': 20, 'coherence_score': -2.50154463034485},\n",
       " {'pass': 12, 'num_topics': 26, 'coherence_score': -2.558936494319288},\n",
       " {'pass': 12, 'num_topics': 32, 'coherence_score': -2.6063089863739366},\n",
       " {'pass': 12, 'num_topics': 38, 'coherence_score': -2.629435567110688},\n",
       " {'pass': 13, 'num_topics': 2, 'coherence_score': -2.269366030406856},\n",
       " {'pass': 13, 'num_topics': 8, 'coherence_score': -2.389928406600966},\n",
       " {'pass': 13, 'num_topics': 14, 'coherence_score': -2.4284682861563915},\n",
       " {'pass': 13, 'num_topics': 20, 'coherence_score': -2.586399479537179},\n",
       " {'pass': 13, 'num_topics': 26, 'coherence_score': -2.5646765517089793},\n",
       " {'pass': 13, 'num_topics': 32, 'coherence_score': -2.597724601845444},\n",
       " {'pass': 13, 'num_topics': 38, 'coherence_score': -2.67370330019977},\n",
       " {'pass': 14, 'num_topics': 2, 'coherence_score': -2.235674339529068},\n",
       " {'pass': 14, 'num_topics': 8, 'coherence_score': -2.3596347846059182},\n",
       " {'pass': 14, 'num_topics': 14, 'coherence_score': -2.5142261240336525},\n",
       " {'pass': 14, 'num_topics': 20, 'coherence_score': -2.530485399089243},\n",
       " {'pass': 14, 'num_topics': 26, 'coherence_score': -2.585381502840822},\n",
       " {'pass': 14, 'num_topics': 32, 'coherence_score': -2.658238561142105},\n",
       " {'pass': 14, 'num_topics': 38, 'coherence_score': -2.6388241963070374},\n",
       " {'pass': 15, 'num_topics': 2, 'coherence_score': -2.2319490834943885},\n",
       " {'pass': 15, 'num_topics': 8, 'coherence_score': -2.3537923315038562},\n",
       " {'pass': 15, 'num_topics': 14, 'coherence_score': -2.4338701116589587},\n",
       " {'pass': 15, 'num_topics': 20, 'coherence_score': -2.5772690892802705},\n",
       " {'pass': 15, 'num_topics': 26, 'coherence_score': -2.5699999387960455},\n",
       " {'pass': 15, 'num_topics': 32, 'coherence_score': -2.653282842648272},\n",
       " {'pass': 15, 'num_topics': 38, 'coherence_score': -2.6288692828391156},\n",
       " {'pass': 16, 'num_topics': 2, 'coherence_score': -2.261049297217113},\n",
       " {'pass': 16, 'num_topics': 8, 'coherence_score': -2.344331542091884},\n",
       " {'pass': 16, 'num_topics': 14, 'coherence_score': -2.4688241695127853},\n",
       " {'pass': 16, 'num_topics': 20, 'coherence_score': -2.5324518248014263},\n",
       " {'pass': 16, 'num_topics': 26, 'coherence_score': -2.5079239623768053},\n",
       " {'pass': 16, 'num_topics': 32, 'coherence_score': -2.610780233060627},\n",
       " {'pass': 16, 'num_topics': 38, 'coherence_score': -2.603664508789362},\n",
       " {'pass': 17, 'num_topics': 2, 'coherence_score': -2.2727775449114818},\n",
       " {'pass': 17, 'num_topics': 8, 'coherence_score': -2.404440603056851},\n",
       " {'pass': 17, 'num_topics': 14, 'coherence_score': -2.4214213884654074},\n",
       " {'pass': 17, 'num_topics': 20, 'coherence_score': -2.4631003888627943},\n",
       " {'pass': 17, 'num_topics': 26, 'coherence_score': -2.5500858487157623},\n",
       " {'pass': 17, 'num_topics': 32, 'coherence_score': -2.674114248347554},\n",
       " {'pass': 17, 'num_topics': 38, 'coherence_score': -2.613150597773906},\n",
       " {'pass': 18, 'num_topics': 2, 'coherence_score': -2.2390656415294723},\n",
       " {'pass': 18, 'num_topics': 8, 'coherence_score': -2.365102090301895},\n",
       " {'pass': 18, 'num_topics': 14, 'coherence_score': -2.4921451435664963},\n",
       " {'pass': 18, 'num_topics': 20, 'coherence_score': -2.489379370184923},\n",
       " {'pass': 18, 'num_topics': 26, 'coherence_score': -2.541235530471686},\n",
       " {'pass': 18, 'num_topics': 32, 'coherence_score': -2.6049709946216515},\n",
       " {'pass': 18, 'num_topics': 38, 'coherence_score': -2.6672826633779643},\n",
       " {'pass': 19, 'num_topics': 2, 'coherence_score': -2.245574787256987},\n",
       " {'pass': 19, 'num_topics': 8, 'coherence_score': -2.364394416627127},\n",
       " {'pass': 19, 'num_topics': 14, 'coherence_score': -2.460048315260523},\n",
       " {'pass': 19, 'num_topics': 20, 'coherence_score': -2.551464000337014},\n",
       " {'pass': 19, 'num_topics': 26, 'coherence_score': -2.539098924704907},\n",
       " {'pass': 19, 'num_topics': 32, 'coherence_score': -2.6553394487497366},\n",
       " {'pass': 19, 'num_topics': 38, 'coherence_score': -2.5912153477274917},\n",
       " {'pass': 20, 'num_topics': 2, 'coherence_score': -2.2387782458878362},\n",
       " {'pass': 20, 'num_topics': 8, 'coherence_score': -2.378594019814125},\n",
       " {'pass': 20, 'num_topics': 14, 'coherence_score': -2.518973833884572},\n",
       " {'pass': 20, 'num_topics': 20, 'coherence_score': -2.4999706977221225},\n",
       " {'pass': 20, 'num_topics': 26, 'coherence_score': -2.573498039206969},\n",
       " {'pass': 20, 'num_topics': 32, 'coherence_score': -2.6037367932914353},\n",
       " {'pass': 20, 'num_topics': 38, 'coherence_score': -2.6874934200692104},\n",
       " {'pass': 21, 'num_topics': 2, 'coherence_score': -2.2991083963184327},\n",
       " {'pass': 21, 'num_topics': 8, 'coherence_score': -2.3084623942740525},\n",
       " {'pass': 21, 'num_topics': 14, 'coherence_score': -2.4773024829612416},\n",
       " {'pass': 21, 'num_topics': 20, 'coherence_score': -2.557172062255961},\n",
       " {'pass': 21, 'num_topics': 26, 'coherence_score': -2.5381230649073854},\n",
       " {'pass': 21, 'num_topics': 32, 'coherence_score': -2.5895007978801905},\n",
       " {'pass': 21, 'num_topics': 38, 'coherence_score': -2.6759945886017227},\n",
       " {'pass': 22, 'num_topics': 2, 'coherence_score': -2.264894694351749},\n",
       " {'pass': 22, 'num_topics': 8, 'coherence_score': -2.3830728451438157},\n",
       " {'pass': 22, 'num_topics': 14, 'coherence_score': -2.4673001834348645},\n",
       " {'pass': 22, 'num_topics': 20, 'coherence_score': -2.5808017350386905},\n",
       " {'pass': 22, 'num_topics': 26, 'coherence_score': -2.5586584020103516},\n",
       " {'pass': 22, 'num_topics': 32, 'coherence_score': -2.605413787383945},\n",
       " {'pass': 22, 'num_topics': 38, 'coherence_score': -2.6444268735296417},\n",
       " {'pass': 23, 'num_topics': 2, 'coherence_score': -2.2557694832350403},\n",
       " {'pass': 23, 'num_topics': 8, 'coherence_score': -2.390469999577512},\n",
       " {'pass': 23, 'num_topics': 14, 'coherence_score': -2.442497964274008},\n",
       " {'pass': 23, 'num_topics': 20, 'coherence_score': -2.5301254744996036},\n",
       " {'pass': 23, 'num_topics': 26, 'coherence_score': -2.6195108688677675},\n",
       " {'pass': 23, 'num_topics': 32, 'coherence_score': -2.657962872892524},\n",
       " {'pass': 23, 'num_topics': 38, 'coherence_score': -2.660809684961282},\n",
       " {'pass': 24, 'num_topics': 2, 'coherence_score': -2.2472694290863027},\n",
       " {'pass': 24, 'num_topics': 8, 'coherence_score': -2.3949043244762787},\n",
       " {'pass': 24, 'num_topics': 14, 'coherence_score': -2.502884945461601},\n",
       " {'pass': 24, 'num_topics': 20, 'coherence_score': -2.527084088313057},\n",
       " {'pass': 24, 'num_topics': 26, 'coherence_score': -2.5034201406081165},\n",
       " {'pass': 24, 'num_topics': 32, 'coherence_score': -2.6603657477748004},\n",
       " {'pass': 24, 'num_topics': 38, 'coherence_score': -2.6193524244568707},\n",
       " {'pass': 25, 'num_topics': 2, 'coherence_score': -2.2716588308566132},\n",
       " {'pass': 25, 'num_topics': 8, 'coherence_score': -2.316554814531956},\n",
       " {'pass': 25, 'num_topics': 14, 'coherence_score': -2.5031332170063356},\n",
       " {'pass': 25, 'num_topics': 20, 'coherence_score': -2.5110693151796744},\n",
       " {'pass': 25, 'num_topics': 26, 'coherence_score': -2.6115239906494194},\n",
       " {'pass': 25, 'num_topics': 32, 'coherence_score': -2.7250922375738007},\n",
       " {'pass': 25, 'num_topics': 38, 'coherence_score': -2.6150580857294594},\n",
       " {'pass': 26, 'num_topics': 2, 'coherence_score': -2.2333779941402416},\n",
       " {'pass': 26, 'num_topics': 8, 'coherence_score': -2.403455752762228},\n",
       " {'pass': 26, 'num_topics': 14, 'coherence_score': -2.455012610537677},\n",
       " {'pass': 26, 'num_topics': 20, 'coherence_score': -2.6200052548171167},\n",
       " {'pass': 26, 'num_topics': 26, 'coherence_score': -2.5180674316621823},\n",
       " {'pass': 26, 'num_topics': 32, 'coherence_score': -2.739982658236356},\n",
       " {'pass': 26, 'num_topics': 38, 'coherence_score': -2.7437581312547343},\n",
       " {'pass': 27, 'num_topics': 2, 'coherence_score': -2.264591718205313},\n",
       " {'pass': 27, 'num_topics': 8, 'coherence_score': -2.4084506207220917},\n",
       " {'pass': 27, 'num_topics': 14, 'coherence_score': -2.45010093226237},\n",
       " {'pass': 27, 'num_topics': 20, 'coherence_score': -2.5135679524683927},\n",
       " {'pass': 27, 'num_topics': 26, 'coherence_score': -2.6072126874500747},\n",
       " {'pass': 27, 'num_topics': 32, 'coherence_score': -2.674469593174935},\n",
       " {'pass': 27, 'num_topics': 38, 'coherence_score': -2.709973076237524},\n",
       " {'pass': 28, 'num_topics': 2, 'coherence_score': -2.2642070592819152},\n",
       " {'pass': 28, 'num_topics': 8, 'coherence_score': -2.3822858812986807},\n",
       " {'pass': 28, 'num_topics': 14, 'coherence_score': -2.450586241155677},\n",
       " {'pass': 28, 'num_topics': 20, 'coherence_score': -2.541394797667953},\n",
       " {'pass': 28, 'num_topics': 26, 'coherence_score': -2.599758121416874},\n",
       " {'pass': 28, 'num_topics': 32, 'coherence_score': -2.6347939854388756},\n",
       " {'pass': 28, 'num_topics': 38, 'coherence_score': -2.6894041682972634},\n",
       " {'pass': 29, 'num_topics': 2, 'coherence_score': -2.2444158643404224},\n",
       " {'pass': 29, 'num_topics': 8, 'coherence_score': -2.3607773196799666},\n",
       " {'pass': 29, 'num_topics': 14, 'coherence_score': -2.568092500205674},\n",
       " {'pass': 29, 'num_topics': 20, 'coherence_score': -2.557876281389277},\n",
       " {'pass': 29, 'num_topics': 26, 'coherence_score': -2.5650922327264882},\n",
       " {'pass': 29, 'num_topics': 32, 'coherence_score': -2.587873611544018},\n",
       " {'pass': 29, 'num_topics': 38, 'coherence_score': -2.691708354820302},\n",
       " {'pass': 30, 'num_topics': 2, 'coherence_score': -2.2294762821428176},\n",
       " {'pass': 30, 'num_topics': 8, 'coherence_score': -2.3554482928425235},\n",
       " {'pass': 30, 'num_topics': 14, 'coherence_score': -2.483867587379447},\n",
       " {'pass': 30, 'num_topics': 20, 'coherence_score': -2.4731430263221177},\n",
       " {'pass': 30, 'num_topics': 26, 'coherence_score': -2.570136771357435},\n",
       " {'pass': 30, 'num_topics': 32, 'coherence_score': -2.5744655812292123},\n",
       " {'pass': 30, 'num_topics': 38, 'coherence_score': -2.737396039601885},\n",
       " {'pass': 31, 'num_topics': 2, 'coherence_score': -2.2827728535224296},\n",
       " {'pass': 31, 'num_topics': 8, 'coherence_score': -2.460708148812724},\n",
       " {'pass': 31, 'num_topics': 14, 'coherence_score': -2.4949786310633235},\n",
       " {'pass': 31, 'num_topics': 20, 'coherence_score': -2.4255852036499226},\n",
       " {'pass': 31, 'num_topics': 26, 'coherence_score': -2.6016277108700994},\n",
       " {'pass': 31, 'num_topics': 32, 'coherence_score': -2.635508830902876},\n",
       " {'pass': 31, 'num_topics': 38, 'coherence_score': -2.6495575472886035},\n",
       " {'pass': 32, 'num_topics': 2, 'coherence_score': -2.23681382101204},\n",
       " {'pass': 32, 'num_topics': 8, 'coherence_score': -2.305594633330757},\n",
       " {'pass': 32, 'num_topics': 14, 'coherence_score': -2.467936274777062},\n",
       " {'pass': 32, 'num_topics': 20, 'coherence_score': -2.524222454088851},\n",
       " {'pass': 32, 'num_topics': 26, 'coherence_score': -2.671181272886837},\n",
       " {'pass': 32, 'num_topics': 32, 'coherence_score': -2.652698409220857},\n",
       " {'pass': 32, 'num_topics': 38, 'coherence_score': -2.7303295123537112},\n",
       " {'pass': 33, 'num_topics': 2, 'coherence_score': -2.2622581634260213},\n",
       " {'pass': 33, 'num_topics': 8, 'coherence_score': -2.3781805692253872},\n",
       " {'pass': 33, 'num_topics': 14, 'coherence_score': -2.452572040896656},\n",
       " {'pass': 33, 'num_topics': 20, 'coherence_score': -2.4795628042532507},\n",
       " {'pass': 33, 'num_topics': 26, 'coherence_score': -2.5509492297081073},\n",
       " {'pass': 33, 'num_topics': 32, 'coherence_score': -2.647828632922039},\n",
       " {'pass': 33, 'num_topics': 38, 'coherence_score': -2.6102041866494474},\n",
       " {'pass': 34, 'num_topics': 2, 'coherence_score': -2.2063685181303407},\n",
       " {'pass': 34, 'num_topics': 8, 'coherence_score': -2.359451173544053},\n",
       " {'pass': 34, 'num_topics': 14, 'coherence_score': -2.4756048685493437},\n",
       " {'pass': 34, 'num_topics': 20, 'coherence_score': -2.5166197158141834},\n",
       " {'pass': 34, 'num_topics': 26, 'coherence_score': -2.6594453711895407},\n",
       " {'pass': 34, 'num_topics': 32, 'coherence_score': -2.670266730412343},\n",
       " {'pass': 34, 'num_topics': 38, 'coherence_score': -2.694046340830574},\n",
       " {'pass': 35, 'num_topics': 2, 'coherence_score': -2.305705896260884},\n",
       " {'pass': 35, 'num_topics': 8, 'coherence_score': -2.378595767794051},\n",
       " {'pass': 35, 'num_topics': 14, 'coherence_score': -2.465021512648899},\n",
       " {'pass': 35, 'num_topics': 20, 'coherence_score': -2.562999375155791},\n",
       " {'pass': 35, 'num_topics': 26, 'coherence_score': -2.59889749284212},\n",
       " {'pass': 35, 'num_topics': 32, 'coherence_score': -2.66070211735762},\n",
       " {'pass': 35, 'num_topics': 38, 'coherence_score': -2.7219148524394097},\n",
       " {'pass': 36, 'num_topics': 2, 'coherence_score': -2.2301772867179617},\n",
       " {'pass': 36, 'num_topics': 8, 'coherence_score': -2.3683557649769513},\n",
       " {'pass': 36, 'num_topics': 14, 'coherence_score': -2.4731922994569366},\n",
       " {'pass': 36, 'num_topics': 20, 'coherence_score': -2.5694411037611693},\n",
       " {'pass': 36, 'num_topics': 26, 'coherence_score': -2.5628302785889074},\n",
       " {'pass': 36, 'num_topics': 32, 'coherence_score': -2.631147028991945},\n",
       " {'pass': 36, 'num_topics': 38, 'coherence_score': -2.672246530012799},\n",
       " {'pass': 37, 'num_topics': 2, 'coherence_score': -2.2333600057326777},\n",
       " {'pass': 37, 'num_topics': 8, 'coherence_score': -2.3111026391453784},\n",
       " {'pass': 37, 'num_topics': 14, 'coherence_score': -2.498573230996463},\n",
       " {'pass': 37, 'num_topics': 20, 'coherence_score': -2.5169708937431836},\n",
       " {'pass': 37, 'num_topics': 26, 'coherence_score': -2.5071380510003887},\n",
       " {'pass': 37, 'num_topics': 32, 'coherence_score': -2.6667232297915255},\n",
       " {'pass': 37, 'num_topics': 38, 'coherence_score': -2.659350749395973},\n",
       " {'pass': 38, 'num_topics': 2, 'coherence_score': -2.145650328935331},\n",
       " {'pass': 38, 'num_topics': 8, 'coherence_score': -2.36530071624961},\n",
       " {'pass': 38, 'num_topics': 14, 'coherence_score': -2.4967880165355316},\n",
       " {'pass': 38, 'num_topics': 20, 'coherence_score': -2.557424302643389},\n",
       " {'pass': 38, 'num_topics': 26, 'coherence_score': -2.632119628272936},\n",
       " {'pass': 38, 'num_topics': 32, 'coherence_score': -2.6114295330174357},\n",
       " {'pass': 38, 'num_topics': 38, 'coherence_score': -2.690059131253134},\n",
       " {'pass': 39, 'num_topics': 2, 'coherence_score': -2.279847454535803},\n",
       " {'pass': 39, 'num_topics': 8, 'coherence_score': -2.3818992021067142},\n",
       " {'pass': 39, 'num_topics': 14, 'coherence_score': -2.4184755735580636},\n",
       " {'pass': 39, 'num_topics': 20, 'coherence_score': -2.4964712696581586},\n",
       " {'pass': 39, 'num_topics': 26, 'coherence_score': -2.5497270782445636},\n",
       " {'pass': 39, 'num_topics': 32, 'coherence_score': -2.605656201394033},\n",
       " {'pass': 39, 'num_topics': 38, 'coherence_score': -2.678500469238347}]"
      ]
     },
     "execution_count": 30,
     "metadata": {},
     "output_type": "execute_result"
    }
   ],
   "source": [
    "coherence_values"
   ]
  },
  {
   "cell_type": "code",
   "execution_count": 202,
   "metadata": {},
   "outputs": [],
   "source": [
    "topic_coherence = pd.DataFrame.from_records(coherence_values)"
   ]
  },
  {
   "cell_type": "code",
   "execution_count": 34,
   "metadata": {},
   "outputs": [
    {
     "data": {
      "image/png": "[encoded data removed]",
      "text/plain": [
       "<Figure size 432x288 with 1 Axes>"
      ]
     },
     "metadata": {
      "needs_background": "light"
     },
     "output_type": "display_data"
    }
   ],
   "source": [
    "import seaborn as sns\n",
    "\n",
    "ax = sns.lineplot(x=\"num_topics\", y=\"coherence_score\", data=topic_coherence)"
   ]
  },
  {
   "cell_type": "code",
   "execution_count": 203,
   "metadata": {},
   "outputs": [
    {
     "data": {
      "image/png": "[encoded data removed]",
      "text/plain": [
       "<Figure size 432x288 with 1 Axes>"
      ]
     },
     "metadata": {
      "needs_background": "light"
     },
     "output_type": "display_data"
    }
   ],
   "source": [
    "ax = sns.lineplot(x=\"num_topics\", y=\"coherence_score\", data=topic_coherence)"
   ]
  },
  {
   "cell_type": "markdown",
   "metadata": {},
   "source": [
    "I guess three topics?"
   ]
  },
  {
   "cell_type": "code",
   "execution_count": null,
   "metadata": {},
   "outputs": [],
   "source": [
    "pyLDAvis.gensim.prepare(lda, corpus, id2word)"
   ]
  },
  {
   "cell_type": "code",
   "execution_count": 211,
   "metadata": {},
   "outputs": [],
   "source": [
    "import re"
   ]
  },
  {
   "cell_type": "code",
   "execution_count": 210,
   "metadata": {},
   "outputs": [
    {
     "data": {
      "text/plain": [
       "[(0,\n",
       "  '0.093*\"battery\" + 0.057*\"great\" + 0.057*\"price\" + 0.053*\"good\" + 0.035*\"work\" + 0.025*\"long\" + 0.023*\"buy\" + 0.021*\"brand\" + 0.013*\"quality\" + 0.013*\"product\"'),\n",
       " (1,\n",
       "  '0.016*\"like\" + 0.015*\"kindle\" + 0.014*\"device\" + 0.013*\"product\" + 0.013*\"charge\" + 0.013*\"good\" + 0.011*\"screen\" + 0.010*\"buy\" + 0.009*\"light\" + 0.009*\"work\"'),\n",
       " (2,\n",
       "  '0.053*\"tablet\" + 0.040*\"love\" + 0.028*\"great\" + 0.025*\"use\" + 0.021*\"buy\" + 0.021*\"easy\" + 0.020*\"kid\" + 0.017*\"old\" + 0.016*\"app\" + 0.016*\"fire\"')]"
      ]
     },
     "execution_count": 210,
     "metadata": {},
     "output_type": "execute_result"
    }
   ],
   "source": [
    "lda.show_topics()"
   ]
  },
  {
   "cell_type": "code",
   "execution_count": 264,
   "metadata": {},
   "outputs": [],
   "source": [
    "def flatten(l):\n",
    "    return [item for sublist in l for item in sublist]"
   ]
  },
  {
   "cell_type": "code",
   "execution_count": 215,
   "metadata": {},
   "outputs": [],
   "source": [
    "words = [re.findall(r'\"([^\"]*)\"',t[1]) for t in lda.print_topics()]"
   ]
  },
  {
   "cell_type": "code",
   "execution_count": 254,
   "metadata": {},
   "outputs": [],
   "source": [
    "coefs = [list(map(float, re.findall(r'\\d\\.\\d\\d\\d',t[1]))) for t in lda.print_topics()]"
   ]
  },
  {
   "cell_type": "code",
   "execution_count": 259,
   "metadata": {},
   "outputs": [],
   "source": [
    "topicDf = pd.DataFrame()"
   ]
  },
  {
   "cell_type": "code",
   "execution_count": 260,
   "metadata": {},
   "outputs": [],
   "source": [
    "topicDf['topics'] = [1]*10 + [2]*10 + [3]*10"
   ]
  },
  {
   "cell_type": "code",
   "execution_count": 266,
   "metadata": {},
   "outputs": [],
   "source": [
    "topicDf['coefs'] = flatten(coefs)"
   ]
  },
  {
   "cell_type": "code",
   "execution_count": 267,
   "metadata": {},
   "outputs": [],
   "source": [
    "topicDf['words'] = flatten(words)"
   ]
  },
  {
   "cell_type": "code",
   "execution_count": 273,
   "metadata": {},
   "outputs": [],
   "source": [
    "import squarify\n",
    "import matplotlib.pyplot as plt\n",
    "import seaborn as sns"
   ]
  },
  {
   "cell_type": "code",
   "execution_count": 271,
   "metadata": {},
   "outputs": [
    {
     "data": {
      "text/plain": [
       "<matplotlib.axes._subplots.AxesSubplot at 0x231d0ddf688>"
      ]
     },
     "execution_count": 271,
     "metadata": {},
     "output_type": "execute_result"
    },
    {
     "data": {
      "image/png": "[encoded data removed]",
      "text/plain": [
       "<Figure size 432x288 with 1 Axes>"
      ]
     },
     "metadata": {
      "needs_background": "light"
     },
     "output_type": "display_data"
    }
   ],
   "source": [
    "topicDf.plot(kind='bar', )"
   ]
  },
  {
   "cell_type": "code",
   "execution_count": 275,
   "metadata": {},
   "outputs": [
    {
     "data": {
      "image/png": "[encoded data removed]",
      "text/plain": [
       "<Figure size 432x288 with 1 Axes>"
      ]
     },
     "metadata": {
      "needs_background": "light"
     },
     "output_type": "display_data"
    },
    {
     "data": {
      "image/png": "[encoded data removed]",
      "text/plain": [
       "<Figure size 432x288 with 1 Axes>"
      ]
     },
     "metadata": {
      "needs_background": "light"
     },
     "output_type": "display_data"
    },
    {
     "data": {
      "image/png": "[encoded data removed]",
      "text/plain": [
       "<Figure size 432x288 with 1 Axes>"
      ]
     },
     "metadata": {
      "needs_background": "light"
     },
     "output_type": "display_data"
    }
   ],
   "source": [
    "import matplotlib\n",
    "import matplotlib.pyplot as plt\n",
    "import numpy as np\n",
    "\n",
    "\n",
    "topic_1 = topicDf[topicDf['topics'] == 1]['coefs']\n",
    "topic_1_labels = topicDf[topicDf['topics'] == 1]['words']\n",
    "topic_2 = topicDf[topicDf['topics'] == 2]['coefs']\n",
    "topic_2_labels = topicDf[topicDf['topics'] == 2]['words']\n",
    "topic_3 = topicDf[topicDf['topics'] == 3]['coefs']\n",
    "topic_3_labels = topicDf[topicDf['topics'] == 3]['words']\n",
    "\n",
    "squarify.plot(sizes=topic_1, label=topic_1_labels, alpha=.8 )\n",
    "plt.axis('off')\n",
    "plt.title('Most important words for topic 1')\n",
    "plt.show()\n",
    "\n",
    "squarify.plot(sizes=topic_2, label=topic_2_labels, alpha=.8 )\n",
    "plt.axis('off')\n",
    "plt.title('Most important words for topic 2')\n",
    "plt.show()\n",
    "\n",
    "squarify.plot(sizes=topic_3, label=topic_3_labels, alpha=.8 )\n",
    "plt.axis('off')\n",
    "plt.title('Most important words for topic 3')\n",
    "plt.show()"
   ]
  },
  {
   "cell_type": "markdown",
   "metadata": {},
   "source": [
    "## Stretch Goals\n",
    "\n",
    "* Incorporate Named Entity Recognition in your analysis\n",
    "* Incorporate some custom pre-processing from our previous lessons (like spacy lemmatization)\n",
    "* Analyze a dataset of interest to you with topic modeling"
   ]
  },
  {
   "cell_type": "code",
   "execution_count": null,
   "metadata": {},
   "outputs": [],
   "source": []
  }
 ],
 "metadata": {
  "kernelspec": {
   "display_name": "Python 3",
   "language": "python",
   "name": "python3"
  },
  "language_info": {
   "codemirror_mode": {
    "name": "ipython",
    "version": 3
   },
   "file_extension": ".py",
   "mimetype": "text/x-python",
   "name": "python",
   "nbconvert_exporter": "python",
   "pygments_lexer": "ipython3",
   "version": "3.7.4"
  }
 },
 "nbformat": 4,
 "nbformat_minor": 4
}
