{
 "cells": [
  {
   "cell_type": "markdown",
   "metadata": {},
   "source": [
    "<img align=\"left\" src=\"https://lever-client-logos.s3.amazonaws.com/864372b1-534c-480e-acd5-9711f850815c-1524247202159.png\" width=200>\n",
    "<br></br>\n",
    "\n",
    "# Vector Representations\n",
    "## *Data Science Unit 4 Sprint 2 Assignment 2*"
   ]
  },
  {
   "cell_type": "code",
   "execution_count": 7,
   "metadata": {
    "colab": {
     "base_uri": "https://localhost:8080/",
     "height": 159
    },
    "colab_type": "code",
    "id": "hyj-f9FDcVFp",
    "outputId": "5dd045fe-6e4c-458c-e2fc-253c3da9c805"
   },
   "outputs": [],
   "source": [
    "import re\n",
    "import string\n",
    "\n",
    "from sklearn.feature_extraction.text import CountVectorizer, TfidfVectorizer\n",
    "import matplotlib.pyplot as plt\n",
    "import pandas as pd\n",
    "import numpy as np\n",
    "import spacy\n",
    "\n",
    "nlp = spacy.load(\"en_core_web_lg\")"
   ]
  },
  {
   "cell_type": "markdown",
   "metadata": {
    "colab_type": "text",
    "id": "M7bcmqfGXrFG"
   },
   "source": [
    "## 1) *Optional:* Scrape 100 Job Listings that contain the title \"Data Scientist\" from indeed.com\n",
    "\n",
    "At a minimum your final dataframe of job listings should contain\n",
    "- Job Title\n",
    "- Job Description\n",
    "\n",
    "If you choose to not to scrape the data, there is a CSV with outdated data in the directory. Remeber, if you scrape Indeed, you're helping yourself find a job. ;)"
   ]
  },
  {
   "cell_type": "code",
   "execution_count": null,
   "metadata": {
    "colab": {},
    "colab_type": "code",
    "id": "KcYlc1URXhlC"
   },
   "outputs": [],
   "source": [
    "##### Your Code Here #####\n",
    "raise Exception(\"\\nThis task is not complete. \\nReplace this line with your code for the task.\""
   ]
  },
  {
   "cell_type": "markdown",
   "metadata": {
    "colab_type": "text",
    "id": "5C4xFZNtX1m2"
   },
   "source": [
    "## 2) Use Spacy to tokenize / clean the listings "
   ]
  },
  {
   "cell_type": "code",
   "execution_count": 3,
   "metadata": {
    "colab": {},
    "colab_type": "code",
    "id": "dhUHuMr-X-II"
   },
   "outputs": [],
   "source": [
    "import pandas as pd"
   ]
  },
  {
   "cell_type": "code",
   "execution_count": 129,
   "metadata": {},
   "outputs": [],
   "source": [
    "df = pd.read_csv('./data/job_listings.csv')"
   ]
  },
  {
   "cell_type": "code",
   "execution_count": 130,
   "metadata": {},
   "outputs": [
    {
     "data": {
      "text/html": [
       "<div>\n",
       "<style scoped>\n",
       "    .dataframe tbody tr th:only-of-type {\n",
       "        vertical-align: middle;\n",
       "    }\n",
       "\n",
       "    .dataframe tbody tr th {\n",
       "        vertical-align: top;\n",
       "    }\n",
       "\n",
       "    .dataframe thead th {\n",
       "        text-align: right;\n",
       "    }\n",
       "</style>\n",
       "<table border=\"1\" class=\"dataframe\">\n",
       "  <thead>\n",
       "    <tr style=\"text-align: right;\">\n",
       "      <th></th>\n",
       "      <th>Unnamed: 0</th>\n",
       "      <th>description</th>\n",
       "      <th>title</th>\n",
       "    </tr>\n",
       "  </thead>\n",
       "  <tbody>\n",
       "    <tr>\n",
       "      <th>0</th>\n",
       "      <td>0</td>\n",
       "      <td>b\"&lt;div&gt;&lt;div&gt;Job Requirements:&lt;/div&gt;&lt;ul&gt;&lt;li&gt;&lt;p&gt;...</td>\n",
       "      <td>Data scientist</td>\n",
       "    </tr>\n",
       "    <tr>\n",
       "      <th>1</th>\n",
       "      <td>1</td>\n",
       "      <td>b'&lt;div&gt;Job Description&lt;br/&gt;\\n&lt;br/&gt;\\n&lt;p&gt;As a Da...</td>\n",
       "      <td>Data Scientist I</td>\n",
       "    </tr>\n",
       "    <tr>\n",
       "      <th>2</th>\n",
       "      <td>2</td>\n",
       "      <td>b'&lt;div&gt;&lt;p&gt;As a Data Scientist you will be work...</td>\n",
       "      <td>Data Scientist - Entry Level</td>\n",
       "    </tr>\n",
       "    <tr>\n",
       "      <th>3</th>\n",
       "      <td>3</td>\n",
       "      <td>b'&lt;div class=\"jobsearch-JobMetadataHeader icl-...</td>\n",
       "      <td>Data Scientist</td>\n",
       "    </tr>\n",
       "    <tr>\n",
       "      <th>4</th>\n",
       "      <td>4</td>\n",
       "      <td>b'&lt;ul&gt;&lt;li&gt;Location: USA \\xe2\\x80\\x93 multiple ...</td>\n",
       "      <td>Data Scientist</td>\n",
       "    </tr>\n",
       "  </tbody>\n",
       "</table>\n",
       "</div>"
      ],
      "text/plain": [
       "   Unnamed: 0                                        description  \\\n",
       "0           0  b\"<div><div>Job Requirements:</div><ul><li><p>...   \n",
       "1           1  b'<div>Job Description<br/>\\n<br/>\\n<p>As a Da...   \n",
       "2           2  b'<div><p>As a Data Scientist you will be work...   \n",
       "3           3  b'<div class=\"jobsearch-JobMetadataHeader icl-...   \n",
       "4           4  b'<ul><li>Location: USA \\xe2\\x80\\x93 multiple ...   \n",
       "\n",
       "                          title  \n",
       "0               Data scientist   \n",
       "1              Data Scientist I  \n",
       "2  Data Scientist - Entry Level  \n",
       "3                Data Scientist  \n",
       "4                Data Scientist  "
      ]
     },
     "execution_count": 130,
     "metadata": {},
     "output_type": "execute_result"
    }
   ],
   "source": [
    "df.head()"
   ]
  },
  {
   "cell_type": "code",
   "execution_count": 131,
   "metadata": {},
   "outputs": [],
   "source": [
    "# Remove brackets from descriptions\n",
    "df['description'] = df['description'].str.replace('<', ' ').str.replace('>', ' ').str.replace('/', ' ').str.replace('\\n', ' ').str.replace('\\\\n', ' ')"
   ]
  },
  {
   "cell_type": "code",
   "execution_count": 132,
   "metadata": {},
   "outputs": [
    {
     "data": {
      "text/plain": [
       "0    b\" div  div Job Requirements:  div  ul  li  p ...\n",
       "1    b' div Job Description br  \\n br  \\n p As a Da...\n",
       "2    b' div  p As a Data Scientist you will be work...\n",
       "3    b' div class=\"jobsearch-JobMetadataHeader icl-...\n",
       "4    b' ul  li Location: USA \\xe2\\x80\\x93 multiple ...\n",
       "Name: description, dtype: object"
      ]
     },
     "execution_count": 132,
     "metadata": {},
     "output_type": "execute_result"
    }
   ],
   "source": [
    "df['description'].head()"
   ]
  },
  {
   "cell_type": "code",
   "execution_count": 133,
   "metadata": {},
   "outputs": [],
   "source": [
    "df['lemmas'] = df['description'].apply(lambda text: [token.lemma_ for token in nlp(text) if (token.is_stop != True) and (token.is_punct != True)])"
   ]
  },
  {
   "cell_type": "code",
   "execution_count": 134,
   "metadata": {},
   "outputs": [
    {
     "data": {
      "text/plain": [
       "0    [b, div,  , div, job, requirement,  , div,  , ...\n",
       "1    [b, div, job, description, br,  , \\n, br,  , \\...\n",
       "2    [b, div,  , p, Data, scientist, work, consult,...\n",
       "3    [b, div, class=\"jobsearch, JobMetadataHeader, ...\n",
       "4    [b, ul,  , li, location, USA, \\xe2\\x80\\x93, mu...\n",
       "Name: lemmas, dtype: object"
      ]
     },
     "execution_count": 134,
     "metadata": {},
     "output_type": "execute_result"
    }
   ],
   "source": [
    "df['lemmas'].head()"
   ]
  },
  {
   "cell_type": "code",
   "execution_count": 70,
   "metadata": {},
   "outputs": [],
   "source": [
    "from collections import Counter\n",
    "def count(docs):\n",
    "\n",
    "        word_counts = Counter()\n",
    "        appears_in = Counter()\n",
    "        \n",
    "        total_docs = len(docs)\n",
    "\n",
    "        for doc in docs:\n",
    "            word_counts.update(doc)\n",
    "            appears_in.update(set(doc))\n",
    "\n",
    "        temp = zip(word_counts.keys(), word_counts.values())\n",
    "        \n",
    "        wc = pd.DataFrame(temp, columns = ['word', 'count'])\n",
    "\n",
    "        wc['rank'] = wc['count'].rank(method='first', ascending=False)\n",
    "        total = wc['count'].sum()\n",
    "\n",
    "        wc['pct_total'] = wc['count'].apply(lambda x: x / total)\n",
    "        \n",
    "        wc = wc.sort_values(by='rank')\n",
    "        wc['cul_pct_total'] = wc['pct_total'].cumsum()\n",
    "\n",
    "        t2 = zip(appears_in.keys(), appears_in.values())\n",
    "        ac = pd.DataFrame(t2, columns=['word', 'appears_in'])\n",
    "        wc = ac.merge(wc, on='word')\n",
    "\n",
    "        wc['appears_in_pct'] = wc['appears_in'].apply(lambda x: x / total_docs)\n",
    "        \n",
    "        return wc.sort_values(by='rank')"
   ]
  },
  {
   "cell_type": "code",
   "execution_count": 135,
   "metadata": {},
   "outputs": [
    {
     "data": {
      "text/plain": [
       "array([' ', 'li', 'div', '  ', '\\\\n', 'p', 'br', 'b', 'datum', 'ul',\n",
       "       'experience', 'work', 'team', 'business', 'Data', 'product',\n",
       "       'model', 'analysis', 'data', 'analytic'], dtype=object)"
      ]
     },
     "execution_count": 135,
     "metadata": {},
     "output_type": "execute_result"
    }
   ],
   "source": [
    "wc = count(df['lemmas'])\n",
    "wc[wc['rank'] <= 20]['word'].values"
   ]
  },
  {
   "cell_type": "code",
   "execution_count": 136,
   "metadata": {},
   "outputs": [],
   "source": [
    "stop_words = set([' ', 'li', 'div', '  ', '\\\\n', 'p', 'br', 'b', 'ul',\n",
    "                  'h1', 'h2', 'h3',\n",
    "                  'said', 'people', 'mr',\n",
    "                  '000', '10', '100', '2019', '40', '401',\n",
    "                   'x80', 'x93', 'x99', 'x99ll', 'x99re', 'x99s', 'x9d', 'xe2'\n",
    "                  ])\n",
    "# Remove custom stop words\n",
    "lis = []\n",
    "for l in df['lemmas']:\n",
    "    lis.append(list(set(l) - stop_words))\n",
    "\n",
    "df['lemmas'] = lis"
   ]
  },
  {
   "cell_type": "code",
   "execution_count": 137,
   "metadata": {},
   "outputs": [],
   "source": [
    "df['data'] = df['lemmas'].str.join(' ')"
   ]
  },
  {
   "cell_type": "code",
   "execution_count": 138,
   "metadata": {},
   "outputs": [
    {
     "data": {
      "text/plain": [
       "0    Decision ability Neural like understanding Kag...\n",
       "1    Math motivate creative information colleague \\...\n",
       "2    meaningful Math Scientist responsible analyze ...\n",
       "3    online md app federal research CalMHSA faculty...\n",
       "4    data handle 2 transformation Analytics USA pre...\n",
       "Name: data, dtype: object"
      ]
     },
     "execution_count": 138,
     "metadata": {},
     "output_type": "execute_result"
    }
   ],
   "source": [
    "df['data'].head()"
   ]
  },
  {
   "cell_type": "markdown",
   "metadata": {
    "colab_type": "text",
    "id": "-lgCZNL_YycP"
   },
   "source": [
    "## 3) Use Scikit-Learn's CountVectorizer to get word counts for each listing."
   ]
  },
  {
   "cell_type": "code",
   "execution_count": 139,
   "metadata": {
    "colab": {},
    "colab_type": "code",
    "id": "X2PZ8Pj_YxcF"
   },
   "outputs": [
    {
     "name": "stderr",
     "output_type": "stream",
     "text": [
      "C:\\Users\\soobt\\Anaconda3\\envs\\jupyterlab\\lib\\site-packages\\sklearn\\feature_extraction\\text.py:300: UserWarning: Your stop_words may be inconsistent with your preprocessing. Tokenizing the stop words generated tokens ['ll', 've'] not in stop_words.\n",
      "  'stop_words.' % sorted(inconsistent))\n"
     ]
    }
   ],
   "source": [
    "vect = CountVectorizer(stop_words=nlp.Defaults.stop_words.union(stop_words), min_df=0.05, max_df=.98)\n",
    "dtm = vect.fit_transform(df['data'].values)\n",
    "dtm = pd.DataFrame(dtm.todense(), columns=vect.get_feature_names())"
   ]
  },
  {
   "cell_type": "code",
   "execution_count": 140,
   "metadata": {},
   "outputs": [
    {
     "data": {
      "text/html": [
       "<div>\n",
       "<style scoped>\n",
       "    .dataframe tbody tr th:only-of-type {\n",
       "        vertical-align: middle;\n",
       "    }\n",
       "\n",
       "    .dataframe tbody tr th {\n",
       "        vertical-align: top;\n",
       "    }\n",
       "\n",
       "    .dataframe thead th {\n",
       "        text-align: right;\n",
       "    }\n",
       "</style>\n",
       "<table border=\"1\" class=\"dataframe\">\n",
       "  <thead>\n",
       "    <tr style=\"text-align: right;\">\n",
       "      <th></th>\n",
       "      <th>ability</th>\n",
       "      <th>able</th>\n",
       "      <th>academic</th>\n",
       "      <th>accelerate</th>\n",
       "      <th>accept</th>\n",
       "      <th>access</th>\n",
       "      <th>accommodation</th>\n",
       "      <th>accuracy</th>\n",
       "      <th>achieve</th>\n",
       "      <th>acquisition</th>\n",
       "      <th>...</th>\n",
       "      <th>workforce</th>\n",
       "      <th>workplace</th>\n",
       "      <th>world</th>\n",
       "      <th>write</th>\n",
       "      <th>writing</th>\n",
       "      <th>www</th>\n",
       "      <th>xs</th>\n",
       "      <th>year</th>\n",
       "      <th>years</th>\n",
       "      <th>york</th>\n",
       "    </tr>\n",
       "  </thead>\n",
       "  <tbody>\n",
       "    <tr>\n",
       "      <th>0</th>\n",
       "      <td>1</td>\n",
       "      <td>0</td>\n",
       "      <td>0</td>\n",
       "      <td>0</td>\n",
       "      <td>0</td>\n",
       "      <td>0</td>\n",
       "      <td>0</td>\n",
       "      <td>0</td>\n",
       "      <td>0</td>\n",
       "      <td>0</td>\n",
       "      <td>...</td>\n",
       "      <td>0</td>\n",
       "      <td>0</td>\n",
       "      <td>0</td>\n",
       "      <td>1</td>\n",
       "      <td>0</td>\n",
       "      <td>0</td>\n",
       "      <td>0</td>\n",
       "      <td>0</td>\n",
       "      <td>0</td>\n",
       "      <td>0</td>\n",
       "    </tr>\n",
       "    <tr>\n",
       "      <th>1</th>\n",
       "      <td>1</td>\n",
       "      <td>0</td>\n",
       "      <td>0</td>\n",
       "      <td>0</td>\n",
       "      <td>0</td>\n",
       "      <td>0</td>\n",
       "      <td>0</td>\n",
       "      <td>1</td>\n",
       "      <td>0</td>\n",
       "      <td>0</td>\n",
       "      <td>...</td>\n",
       "      <td>0</td>\n",
       "      <td>0</td>\n",
       "      <td>1</td>\n",
       "      <td>1</td>\n",
       "      <td>0</td>\n",
       "      <td>0</td>\n",
       "      <td>0</td>\n",
       "      <td>1</td>\n",
       "      <td>0</td>\n",
       "      <td>0</td>\n",
       "    </tr>\n",
       "    <tr>\n",
       "      <th>2</th>\n",
       "      <td>0</td>\n",
       "      <td>0</td>\n",
       "      <td>0</td>\n",
       "      <td>0</td>\n",
       "      <td>0</td>\n",
       "      <td>0</td>\n",
       "      <td>0</td>\n",
       "      <td>0</td>\n",
       "      <td>0</td>\n",
       "      <td>0</td>\n",
       "      <td>...</td>\n",
       "      <td>0</td>\n",
       "      <td>0</td>\n",
       "      <td>0</td>\n",
       "      <td>0</td>\n",
       "      <td>0</td>\n",
       "      <td>0</td>\n",
       "      <td>0</td>\n",
       "      <td>0</td>\n",
       "      <td>0</td>\n",
       "      <td>0</td>\n",
       "    </tr>\n",
       "    <tr>\n",
       "      <th>3</th>\n",
       "      <td>0</td>\n",
       "      <td>0</td>\n",
       "      <td>0</td>\n",
       "      <td>0</td>\n",
       "      <td>0</td>\n",
       "      <td>0</td>\n",
       "      <td>0</td>\n",
       "      <td>0</td>\n",
       "      <td>0</td>\n",
       "      <td>0</td>\n",
       "      <td>...</td>\n",
       "      <td>0</td>\n",
       "      <td>0</td>\n",
       "      <td>0</td>\n",
       "      <td>0</td>\n",
       "      <td>0</td>\n",
       "      <td>0</td>\n",
       "      <td>1</td>\n",
       "      <td>1</td>\n",
       "      <td>0</td>\n",
       "      <td>0</td>\n",
       "    </tr>\n",
       "    <tr>\n",
       "      <th>4</th>\n",
       "      <td>0</td>\n",
       "      <td>0</td>\n",
       "      <td>0</td>\n",
       "      <td>0</td>\n",
       "      <td>0</td>\n",
       "      <td>0</td>\n",
       "      <td>0</td>\n",
       "      <td>0</td>\n",
       "      <td>0</td>\n",
       "      <td>0</td>\n",
       "      <td>...</td>\n",
       "      <td>0</td>\n",
       "      <td>0</td>\n",
       "      <td>0</td>\n",
       "      <td>0</td>\n",
       "      <td>0</td>\n",
       "      <td>0</td>\n",
       "      <td>0</td>\n",
       "      <td>1</td>\n",
       "      <td>0</td>\n",
       "      <td>0</td>\n",
       "    </tr>\n",
       "  </tbody>\n",
       "</table>\n",
       "<p>5 rows × 924 columns</p>\n",
       "</div>"
      ],
      "text/plain": [
       "   ability  able  academic  accelerate  accept  access  accommodation  \\\n",
       "0        1     0         0           0       0       0              0   \n",
       "1        1     0         0           0       0       0              0   \n",
       "2        0     0         0           0       0       0              0   \n",
       "3        0     0         0           0       0       0              0   \n",
       "4        0     0         0           0       0       0              0   \n",
       "\n",
       "   accuracy  achieve  acquisition  ...  workforce  workplace  world  write  \\\n",
       "0         0        0            0  ...          0          0      0      1   \n",
       "1         1        0            0  ...          0          0      1      1   \n",
       "2         0        0            0  ...          0          0      0      0   \n",
       "3         0        0            0  ...          0          0      0      0   \n",
       "4         0        0            0  ...          0          0      0      0   \n",
       "\n",
       "   writing  www  xs  year  years  york  \n",
       "0        0    0   0     0      0     0  \n",
       "1        0    0   0     1      0     0  \n",
       "2        0    0   0     0      0     0  \n",
       "3        0    0   1     1      0     0  \n",
       "4        0    0   0     1      0     0  \n",
       "\n",
       "[5 rows x 924 columns]"
      ]
     },
     "execution_count": 140,
     "metadata": {},
     "output_type": "execute_result"
    }
   ],
   "source": [
    "dtm.head()"
   ]
  },
  {
   "cell_type": "markdown",
   "metadata": {
    "colab_type": "text",
    "id": "Zo1iH_UeY7_n"
   },
   "source": [
    "## 4) Visualize the most common word counts"
   ]
  },
  {
   "cell_type": "code",
   "execution_count": 104,
   "metadata": {},
   "outputs": [],
   "source": [
    "import squarify\n",
    "import matplotlib.pyplot as plt\n",
    "import seaborn as sns"
   ]
  },
  {
   "cell_type": "code",
   "execution_count": 142,
   "metadata": {
    "colab": {},
    "colab_type": "code",
    "id": "M5LB00uyZKV5"
   },
   "outputs": [],
   "source": [
    "top20 = dtm.sum().sort_values(ascending=False)[0:20]"
   ]
  },
  {
   "cell_type": "code",
   "execution_count": 143,
   "metadata": {},
   "outputs": [
    {
     "data": {
      "text/plain": [
       "Index(['data', 'science', 'experience', 'scientist', 'team', 'datum', 'work',\n",
       "       'business', 'learning', 'analysis', 'python', 'machine', 'opportunity',\n",
       "       'product', 'year', 'skill', 'engineering', 'degree', 'technology',\n",
       "       'model'],\n",
       "      dtype='object')"
      ]
     },
     "execution_count": 143,
     "metadata": {},
     "output_type": "execute_result"
    }
   ],
   "source": [
    "top20.index"
   ]
  },
  {
   "cell_type": "code",
   "execution_count": 144,
   "metadata": {},
   "outputs": [
    {
     "data": {
      "image/png": "[encoded data removed]",
      "text/plain": [
       "<Figure size 432x288 with 1 Axes>"
      ]
     },
     "metadata": {
      "needs_background": "light"
     },
     "output_type": "display_data"
    }
   ],
   "source": [
    "squarify.plot(sizes=top20, label=top20.index, alpha=.8 )\n",
    "plt.axis('off')\n",
    "plt.show()"
   ]
  },
  {
   "cell_type": "markdown",
   "metadata": {
    "colab_type": "text",
    "id": "bwFsTqrVZMYi"
   },
   "source": [
    "## 5) Use Scikit-Learn's tfidfVectorizer to get a TF-IDF feature matrix"
   ]
  },
  {
   "cell_type": "code",
   "execution_count": 149,
   "metadata": {
    "colab": {},
    "colab_type": "code",
    "id": "-gx2gZCbl5Np"
   },
   "outputs": [],
   "source": [
    "tfidf = TfidfVectorizer(stop_words=nlp.Defaults.stop_words.union(stop_words), min_df=0.05, max_df=.98)\n",
    "dtm = tfidf.fit_transform(df['data'].values)\n",
    "dtm = pd.DataFrame(dtm.todense(), columns=tfidf.get_feature_names())"
   ]
  },
  {
   "cell_type": "code",
   "execution_count": 150,
   "metadata": {},
   "outputs": [
    {
     "data": {
      "text/html": [
       "<div>\n",
       "<style scoped>\n",
       "    .dataframe tbody tr th:only-of-type {\n",
       "        vertical-align: middle;\n",
       "    }\n",
       "\n",
       "    .dataframe tbody tr th {\n",
       "        vertical-align: top;\n",
       "    }\n",
       "\n",
       "    .dataframe thead th {\n",
       "        text-align: right;\n",
       "    }\n",
       "</style>\n",
       "<table border=\"1\" class=\"dataframe\">\n",
       "  <thead>\n",
       "    <tr style=\"text-align: right;\">\n",
       "      <th></th>\n",
       "      <th>ability</th>\n",
       "      <th>able</th>\n",
       "      <th>academic</th>\n",
       "      <th>accelerate</th>\n",
       "      <th>accept</th>\n",
       "      <th>access</th>\n",
       "      <th>accommodation</th>\n",
       "      <th>accuracy</th>\n",
       "      <th>achieve</th>\n",
       "      <th>acquisition</th>\n",
       "      <th>...</th>\n",
       "      <th>workforce</th>\n",
       "      <th>workplace</th>\n",
       "      <th>world</th>\n",
       "      <th>write</th>\n",
       "      <th>writing</th>\n",
       "      <th>www</th>\n",
       "      <th>xs</th>\n",
       "      <th>year</th>\n",
       "      <th>years</th>\n",
       "      <th>york</th>\n",
       "    </tr>\n",
       "  </thead>\n",
       "  <tbody>\n",
       "    <tr>\n",
       "      <th>0</th>\n",
       "      <td>0.096864</td>\n",
       "      <td>0.0</td>\n",
       "      <td>0.0</td>\n",
       "      <td>0.0</td>\n",
       "      <td>0.0</td>\n",
       "      <td>0.0</td>\n",
       "      <td>0.0</td>\n",
       "      <td>0.000000</td>\n",
       "      <td>0.0</td>\n",
       "      <td>0.0</td>\n",
       "      <td>...</td>\n",
       "      <td>0.0</td>\n",
       "      <td>0.0</td>\n",
       "      <td>0.000000</td>\n",
       "      <td>0.116788</td>\n",
       "      <td>0.0</td>\n",
       "      <td>0.0</td>\n",
       "      <td>0.000000</td>\n",
       "      <td>0.000000</td>\n",
       "      <td>0.0</td>\n",
       "      <td>0.0</td>\n",
       "    </tr>\n",
       "    <tr>\n",
       "      <th>1</th>\n",
       "      <td>0.044673</td>\n",
       "      <td>0.0</td>\n",
       "      <td>0.0</td>\n",
       "      <td>0.0</td>\n",
       "      <td>0.0</td>\n",
       "      <td>0.0</td>\n",
       "      <td>0.0</td>\n",
       "      <td>0.090708</td>\n",
       "      <td>0.0</td>\n",
       "      <td>0.0</td>\n",
       "      <td>...</td>\n",
       "      <td>0.0</td>\n",
       "      <td>0.0</td>\n",
       "      <td>0.047189</td>\n",
       "      <td>0.053863</td>\n",
       "      <td>0.0</td>\n",
       "      <td>0.0</td>\n",
       "      <td>0.000000</td>\n",
       "      <td>0.037332</td>\n",
       "      <td>0.0</td>\n",
       "      <td>0.0</td>\n",
       "    </tr>\n",
       "    <tr>\n",
       "      <th>2</th>\n",
       "      <td>0.000000</td>\n",
       "      <td>0.0</td>\n",
       "      <td>0.0</td>\n",
       "      <td>0.0</td>\n",
       "      <td>0.0</td>\n",
       "      <td>0.0</td>\n",
       "      <td>0.0</td>\n",
       "      <td>0.000000</td>\n",
       "      <td>0.0</td>\n",
       "      <td>0.0</td>\n",
       "      <td>...</td>\n",
       "      <td>0.0</td>\n",
       "      <td>0.0</td>\n",
       "      <td>0.000000</td>\n",
       "      <td>0.000000</td>\n",
       "      <td>0.0</td>\n",
       "      <td>0.0</td>\n",
       "      <td>0.000000</td>\n",
       "      <td>0.000000</td>\n",
       "      <td>0.0</td>\n",
       "      <td>0.0</td>\n",
       "    </tr>\n",
       "    <tr>\n",
       "      <th>3</th>\n",
       "      <td>0.000000</td>\n",
       "      <td>0.0</td>\n",
       "      <td>0.0</td>\n",
       "      <td>0.0</td>\n",
       "      <td>0.0</td>\n",
       "      <td>0.0</td>\n",
       "      <td>0.0</td>\n",
       "      <td>0.000000</td>\n",
       "      <td>0.0</td>\n",
       "      <td>0.0</td>\n",
       "      <td>...</td>\n",
       "      <td>0.0</td>\n",
       "      <td>0.0</td>\n",
       "      <td>0.000000</td>\n",
       "      <td>0.000000</td>\n",
       "      <td>0.0</td>\n",
       "      <td>0.0</td>\n",
       "      <td>0.093829</td>\n",
       "      <td>0.047134</td>\n",
       "      <td>0.0</td>\n",
       "      <td>0.0</td>\n",
       "    </tr>\n",
       "    <tr>\n",
       "      <th>4</th>\n",
       "      <td>0.000000</td>\n",
       "      <td>0.0</td>\n",
       "      <td>0.0</td>\n",
       "      <td>0.0</td>\n",
       "      <td>0.0</td>\n",
       "      <td>0.0</td>\n",
       "      <td>0.0</td>\n",
       "      <td>0.000000</td>\n",
       "      <td>0.0</td>\n",
       "      <td>0.0</td>\n",
       "      <td>...</td>\n",
       "      <td>0.0</td>\n",
       "      <td>0.0</td>\n",
       "      <td>0.000000</td>\n",
       "      <td>0.000000</td>\n",
       "      <td>0.0</td>\n",
       "      <td>0.0</td>\n",
       "      <td>0.000000</td>\n",
       "      <td>0.161296</td>\n",
       "      <td>0.0</td>\n",
       "      <td>0.0</td>\n",
       "    </tr>\n",
       "  </tbody>\n",
       "</table>\n",
       "<p>5 rows × 924 columns</p>\n",
       "</div>"
      ],
      "text/plain": [
       "    ability  able  academic  accelerate  accept  access  accommodation  \\\n",
       "0  0.096864   0.0       0.0         0.0     0.0     0.0            0.0   \n",
       "1  0.044673   0.0       0.0         0.0     0.0     0.0            0.0   \n",
       "2  0.000000   0.0       0.0         0.0     0.0     0.0            0.0   \n",
       "3  0.000000   0.0       0.0         0.0     0.0     0.0            0.0   \n",
       "4  0.000000   0.0       0.0         0.0     0.0     0.0            0.0   \n",
       "\n",
       "   accuracy  achieve  acquisition  ...  workforce  workplace     world  \\\n",
       "0  0.000000      0.0          0.0  ...        0.0        0.0  0.000000   \n",
       "1  0.090708      0.0          0.0  ...        0.0        0.0  0.047189   \n",
       "2  0.000000      0.0          0.0  ...        0.0        0.0  0.000000   \n",
       "3  0.000000      0.0          0.0  ...        0.0        0.0  0.000000   \n",
       "4  0.000000      0.0          0.0  ...        0.0        0.0  0.000000   \n",
       "\n",
       "      write  writing  www        xs      year  years  york  \n",
       "0  0.116788      0.0  0.0  0.000000  0.000000    0.0   0.0  \n",
       "1  0.053863      0.0  0.0  0.000000  0.037332    0.0   0.0  \n",
       "2  0.000000      0.0  0.0  0.000000  0.000000    0.0   0.0  \n",
       "3  0.000000      0.0  0.0  0.093829  0.047134    0.0   0.0  \n",
       "4  0.000000      0.0  0.0  0.000000  0.161296    0.0   0.0  \n",
       "\n",
       "[5 rows x 924 columns]"
      ]
     },
     "execution_count": 150,
     "metadata": {},
     "output_type": "execute_result"
    }
   ],
   "source": [
    "dtm.head()"
   ]
  },
  {
   "cell_type": "markdown",
   "metadata": {},
   "source": [
    "## 6) Create a NearestNeighbor Model. Write the description of your ideal datascience job and query your job listings. "
   ]
  },
  {
   "cell_type": "code",
   "execution_count": 151,
   "metadata": {
    "collapsed": false,
    "inputHidden": false,
    "jupyter": {
     "outputs_hidden": false
    },
    "outputHidden": false
   },
   "outputs": [
    {
     "data": {
      "text/plain": [
       "NearestNeighbors(algorithm='ball_tree', leaf_size=30, metric='minkowski',\n",
       "         metric_params=None, n_jobs=None, n_neighbors=5, p=2, radius=1.0)"
      ]
     },
     "execution_count": 151,
     "metadata": {},
     "output_type": "execute_result"
    }
   ],
   "source": [
    "from sklearn.neighbors import NearestNeighbors\n",
    "nn  = NearestNeighbors(n_neighbors=5, algorithm='ball_tree')\n",
    "nn.fit(dtm)"
   ]
  },
  {
   "cell_type": "code",
   "execution_count": 152,
   "metadata": {},
   "outputs": [
    {
     "data": {
      "text/plain": [
       "(array([[0.        , 1.20821271, 1.21704118, 1.23188816, 1.2416428 ]]),\n",
       " array([[  2, 307, 407, 408, 198]], dtype=int64))"
      ]
     },
     "execution_count": 152,
     "metadata": {},
     "output_type": "execute_result"
    }
   ],
   "source": [
    "nn.kneighbors([dtm.iloc[2]])"
   ]
  },
  {
   "cell_type": "code",
   "execution_count": 157,
   "metadata": {},
   "outputs": [
    {
     "data": {
      "text/plain": [
       "(array([[0.        , 1.20821271, 1.21704118, 1.23188816, 1.2416428 ]]),\n",
       " array([[  2, 307, 407, 408, 198]], dtype=int64))"
      ]
     },
     "execution_count": 157,
     "metadata": {},
     "output_type": "execute_result"
    }
   ],
   "source": [
    "nn.kneighbors(tfidf.transform([df['data'].values[2]]).todense())"
   ]
  },
  {
   "cell_type": "code",
   "execution_count": 158,
   "metadata": {},
   "outputs": [
    {
     "data": {
      "text/plain": [
       "'meaningful Math Scientist responsible analyze aspect \\\\nprimary pattern relevant \\\\nthis Python typical actionable combine h3 skill lead research consult dataset recommendation modeling Applied presentation phd Physics testing Science algorithm Sacramento large perform datum field learning statistical Engineering Computer job option analytic math analytical model support validation scientist class=\"jobSectionHeader position home identify complex thorough Statistics location \\\\nBachelors r \\\\nexperience build advanced predictive machine available business MS work \\\\nqualification Data leverage \\\\nAbility communication prefer'"
      ]
     },
     "execution_count": 158,
     "metadata": {},
     "output_type": "execute_result"
    }
   ],
   "source": [
    "df['data'].values[2]"
   ]
  },
  {
   "cell_type": "code",
   "execution_count": 162,
   "metadata": {},
   "outputs": [
    {
     "data": {
      "text/plain": [
       "(array([[1.23822523, 1.28973117, 1.29674596, 1.29703868, 1.29930293]]),\n",
       " array([[ 17,  61,  54, 424, 382]], dtype=int64))"
      ]
     },
     "execution_count": 162,
     "metadata": {},
     "output_type": "execute_result"
    }
   ],
   "source": [
    "text = 'Looking for a data scientist capable with mathematics and machine learning methods for the purposes of developing tools for automating formalized mathematics and verified software.'\n",
    "text = ' '.join([token.lemma_ for token in nlp(text) if (token.is_stop != True) and (token.is_punct != True)])\n",
    "nn.kneighbors(tfidf.transform([text]).todense())"
   ]
  },
  {
   "cell_type": "code",
   "execution_count": 165,
   "metadata": {},
   "outputs": [
    {
     "data": {
      "text/plain": [
       "'b\\' div class=\"jobsearch-JobMetadataHeader icl-u-xs-mb--md\"  div class=\"jobsearch-JobMetadataHeader-item icl-u-xs-mt--xs\" Contract  div   div  div  div We are looking to hire for a Data Scientist (Remote). br  \\\\n br  \\\\n b Qualifications:  b   div  ul  li \\\\nThis job is for a Data Scientist who is an expert in Python.  li  li \\\\nDeveloper should also have basic experience with postgres database.  li  li \\\\nGoal is to develop a general purpose script that creates various models for user imported datasets and choose the best model for making predictions.  li  li \\\\nMust be American citizen authorized to work in US.  li   ul  div  br  \\\\n  div  div  b \\\\nOverview of work :  b   div  ul  li \\\\nDeveloper will be working on an already built product that requires new features and bug fixing .  li  li \\\\nSelf testing and bug fixing is an important part of the job. Product is a tool that automates machine learning and makes natural language search and predictions on user imported data.  li  li \\\\nDeveloper will be working on a flexible schedule. He will be part of a remotely working team collaborating through Skype and needs to take part in daily calls.  li   ul  div \\\\n  div  div \\\\nJob Type: Contract to hire  div   div \\''"
      ]
     },
     "execution_count": 165,
     "metadata": {},
     "output_type": "execute_result"
    }
   ],
   "source": [
    "df['description'].iloc[17]"
   ]
  },
  {
   "cell_type": "markdown",
   "metadata": {
    "colab_type": "text",
    "id": "FiDfTWceoRkH"
   },
   "source": [
    "## Stretch Goals\n",
    "\n",
    " - Try different visualizations for words and frequencies - what story do you want to tell with the data?\n",
    " - Scrape Job Listings for the job title \"Data Analyst\". How do these differ from Data Scientist Job Listings\n",
    " - Try and identify requirements for experience specific technologies that are asked for in the job listings. How are those distributed among the job listings?\n",
    " - Use a clustering algorithm to cluster documents by their most important terms. Do the clusters reveal any common themes?\n",
    "  - **Hint:** K-means might not be the best algorithm for this. Do a little bit of research to see what might be good for this. Also, remember that algorithms that depend on Euclidean distance break down with high dimensional data.\n",
    " - Create a labeled dataset - which jobs will you apply for? Train a model to select the jobs you are most likely to apply for. :) "
   ]
  },
  {
   "cell_type": "code",
   "execution_count": 202,
   "metadata": {},
   "outputs": [],
   "source": [
    "from sklearn.cluster import SpectralClustering"
   ]
  },
  {
   "cell_type": "code",
   "execution_count": 225,
   "metadata": {},
   "outputs": [],
   "source": [
    "vars = []\n",
    "\n",
    "for i in range(2, 23):\n",
    "    sc = SpectralClustering(n_clusters=i,\n",
    "         assign_labels=\"discretize\",\n",
    "         random_state=0)\n",
    "\n",
    "    sc.fit(dtm)\n",
    "    \n",
    "    vars.append(pd.Series(sc.labels_).value_counts().var())"
   ]
  },
  {
   "cell_type": "code",
   "execution_count": 226,
   "metadata": {},
   "outputs": [
    {
     "data": {
      "text/plain": [
       "[<matplotlib.lines.Line2D at 0x239a64ae8c8>]"
      ]
     },
     "execution_count": 226,
     "metadata": {},
     "output_type": "execute_result"
    },
    {
     "data": {
      "image/png": "[encoded data removed]",
      "text/plain": [
       "<Figure size 432x288 with 1 Axes>"
      ]
     },
     "metadata": {
      "needs_background": "light"
     },
     "output_type": "display_data"
    }
   ],
   "source": [
    "# Elbow at 5?\n",
    "plt.plot(range(2, 23), vars)"
   ]
  },
  {
   "cell_type": "code",
   "execution_count": 227,
   "metadata": {},
   "outputs": [
    {
     "data": {
      "text/plain": [
       "SpectralClustering(affinity='rbf', assign_labels='discretize', coef0=1,\n",
       "          degree=3, eigen_solver=None, eigen_tol=0.0, gamma=1.0,\n",
       "          kernel_params=None, n_clusters=5, n_init=10, n_jobs=None,\n",
       "          n_neighbors=10, random_state=0)"
      ]
     },
     "execution_count": 227,
     "metadata": {},
     "output_type": "execute_result"
    }
   ],
   "source": [
    "sc = SpectralClustering(n_clusters=5,\n",
    "         assign_labels=\"discretize\",\n",
    "         random_state=0)\n",
    "\n",
    "sc.fit(dtm)"
   ]
  },
  {
   "cell_type": "code",
   "execution_count": 228,
   "metadata": {},
   "outputs": [
    {
     "data": {
      "text/plain": [
       "array([4, 0, 4, 2, 4, 4, 0, 2, 4, 0, 4, 2, 4, 0, 0, 0, 2, 1, 2, 1, 2, 2,\n",
       "       0, 0, 4, 4, 4, 0, 4, 1, 1, 2, 2, 4, 4, 2, 4, 3, 2, 1, 2, 0, 4, 4,\n",
       "       2, 4, 4, 4, 1, 4, 2, 4, 2, 1, 0, 2, 1, 1, 1, 1, 4, 2, 4, 1, 0, 2,\n",
       "       0, 1, 2, 2, 2, 4, 4, 0, 1, 4, 0, 0, 1, 4, 1, 4, 2, 0, 1, 2, 3, 1,\n",
       "       3, 0, 2, 4, 2, 4, 1, 0, 3, 0, 0, 2, 4, 4, 2, 0, 4, 4, 4, 0, 0, 3,\n",
       "       0, 0, 0, 4, 4, 4, 1, 4, 4, 4, 2, 1, 2, 0, 2, 1, 2, 0, 0, 4, 0, 0,\n",
       "       0, 4, 1, 0, 0, 4, 4, 4, 0, 0, 2, 2, 3, 4, 3, 0, 2, 1, 4, 4, 2, 4,\n",
       "       4, 0, 0, 2, 0, 0, 0, 0, 2, 4, 3, 0, 0, 4, 2, 0, 0, 0, 0, 4, 2, 0,\n",
       "       2, 4, 4, 0, 1, 2, 0, 2, 0, 2, 3, 4, 4, 1, 4, 0, 3, 2, 0, 2, 1, 0,\n",
       "       4, 2, 2, 2, 1, 4, 1, 4, 0, 1, 4, 4, 3, 2, 2, 4, 0, 4, 2, 4, 2, 2,\n",
       "       1, 0, 0, 0, 4, 0, 4, 4, 1, 2, 0, 2, 2, 4, 4, 4, 4, 2, 2, 4, 2, 2,\n",
       "       1, 2, 0, 4, 0, 3, 2, 4, 4, 0, 3, 2, 4, 2, 2, 0, 4, 0, 4, 2, 0, 0,\n",
       "       2, 4, 0, 0, 0, 2, 0, 4, 0, 2, 4, 2, 4, 4, 2, 0, 4, 0, 2, 4, 2, 0,\n",
       "       0, 0, 2, 0, 2, 4, 2, 0, 4, 0, 3, 0, 4, 0, 0, 0, 4, 1, 4, 0, 4, 2,\n",
       "       4, 1, 0, 4, 1, 0, 0, 1, 0, 1, 4, 4, 2, 2, 0, 0, 2, 0, 4, 4, 4, 4,\n",
       "       2, 0, 2, 4, 2, 0, 4, 0, 4, 4, 2, 4, 0, 1, 0, 4, 2, 2, 2, 0, 4, 2,\n",
       "       0, 4, 2, 1, 1, 4, 0, 0, 0, 0, 0, 2, 0, 2, 2, 2, 4, 2, 2, 0, 4, 4,\n",
       "       2, 3, 2, 2, 4, 0, 2, 2, 2, 2, 4, 0, 1, 0, 2, 4, 4, 4, 0, 4, 2, 0,\n",
       "       2, 2, 3, 2, 4, 0, 2, 4, 2, 4, 2, 4, 4, 0, 2, 2, 2, 4, 0, 1, 0, 0,\n",
       "       1, 4, 0, 2, 0, 2, 2, 2], dtype=int64)"
      ]
     },
     "execution_count": 228,
     "metadata": {},
     "output_type": "execute_result"
    }
   ],
   "source": [
    "sc.labels_"
   ]
  },
  {
   "cell_type": "code",
   "execution_count": 229,
   "metadata": {},
   "outputs": [],
   "source": [
    "df['cluster'] = sc.labels_"
   ]
  },
  {
   "cell_type": "code",
   "execution_count": 230,
   "metadata": {},
   "outputs": [
    {
     "data": {
      "text/html": [
       "<div>\n",
       "<style scoped>\n",
       "    .dataframe tbody tr th:only-of-type {\n",
       "        vertical-align: middle;\n",
       "    }\n",
       "\n",
       "    .dataframe tbody tr th {\n",
       "        vertical-align: top;\n",
       "    }\n",
       "\n",
       "    .dataframe thead th {\n",
       "        text-align: right;\n",
       "    }\n",
       "</style>\n",
       "<table border=\"1\" class=\"dataframe\">\n",
       "  <thead>\n",
       "    <tr style=\"text-align: right;\">\n",
       "      <th></th>\n",
       "      <th>Unnamed: 0</th>\n",
       "      <th>description</th>\n",
       "      <th>title</th>\n",
       "      <th>lemmas</th>\n",
       "      <th>data</th>\n",
       "      <th>cluster</th>\n",
       "    </tr>\n",
       "  </thead>\n",
       "  <tbody>\n",
       "    <tr>\n",
       "      <th>0</th>\n",
       "      <td>0</td>\n",
       "      <td>b\" div  div Job Requirements:  div  ul  li  p ...</td>\n",
       "      <td>Data scientist</td>\n",
       "      <td>[Decision, ability, Neural, like, understandin...</td>\n",
       "      <td>Decision ability Neural like understanding Kag...</td>\n",
       "      <td>4</td>\n",
       "    </tr>\n",
       "    <tr>\n",
       "      <th>1</th>\n",
       "      <td>1</td>\n",
       "      <td>b' div Job Description br  \\n br  \\n p As a Da...</td>\n",
       "      <td>Data Scientist I</td>\n",
       "      <td>[Math, motivate, creative, information, collea...</td>\n",
       "      <td>Math motivate creative information colleague \\...</td>\n",
       "      <td>0</td>\n",
       "    </tr>\n",
       "    <tr>\n",
       "      <th>2</th>\n",
       "      <td>2</td>\n",
       "      <td>b' div  p As a Data Scientist you will be work...</td>\n",
       "      <td>Data Scientist - Entry Level</td>\n",
       "      <td>[meaningful, Math, Scientist, responsible, ana...</td>\n",
       "      <td>meaningful Math Scientist responsible analyze ...</td>\n",
       "      <td>4</td>\n",
       "    </tr>\n",
       "    <tr>\n",
       "      <th>3</th>\n",
       "      <td>3</td>\n",
       "      <td>b' div class=\"jobsearch-JobMetadataHeader icl-...</td>\n",
       "      <td>Data Scientist</td>\n",
       "      <td>[online, md, app, federal, research, CalMHSA, ...</td>\n",
       "      <td>online md app federal research CalMHSA faculty...</td>\n",
       "      <td>2</td>\n",
       "    </tr>\n",
       "    <tr>\n",
       "      <th>4</th>\n",
       "      <td>4</td>\n",
       "      <td>b' ul  li Location: USA \\xe2\\x80\\x93 multiple ...</td>\n",
       "      <td>Data Scientist</td>\n",
       "      <td>[data, handle, 2, transformation, Analytics, U...</td>\n",
       "      <td>data handle 2 transformation Analytics USA pre...</td>\n",
       "      <td>4</td>\n",
       "    </tr>\n",
       "  </tbody>\n",
       "</table>\n",
       "</div>"
      ],
      "text/plain": [
       "   Unnamed: 0                                        description  \\\n",
       "0           0  b\" div  div Job Requirements:  div  ul  li  p ...   \n",
       "1           1  b' div Job Description br  \\n br  \\n p As a Da...   \n",
       "2           2  b' div  p As a Data Scientist you will be work...   \n",
       "3           3  b' div class=\"jobsearch-JobMetadataHeader icl-...   \n",
       "4           4  b' ul  li Location: USA \\xe2\\x80\\x93 multiple ...   \n",
       "\n",
       "                          title  \\\n",
       "0               Data scientist    \n",
       "1              Data Scientist I   \n",
       "2  Data Scientist - Entry Level   \n",
       "3                Data Scientist   \n",
       "4                Data Scientist   \n",
       "\n",
       "                                              lemmas  \\\n",
       "0  [Decision, ability, Neural, like, understandin...   \n",
       "1  [Math, motivate, creative, information, collea...   \n",
       "2  [meaningful, Math, Scientist, responsible, ana...   \n",
       "3  [online, md, app, federal, research, CalMHSA, ...   \n",
       "4  [data, handle, 2, transformation, Analytics, U...   \n",
       "\n",
       "                                                data  cluster  \n",
       "0  Decision ability Neural like understanding Kag...        4  \n",
       "1  Math motivate creative information colleague \\...        0  \n",
       "2  meaningful Math Scientist responsible analyze ...        4  \n",
       "3  online md app federal research CalMHSA faculty...        2  \n",
       "4  data handle 2 transformation Analytics USA pre...        4  "
      ]
     },
     "execution_count": 230,
     "metadata": {},
     "output_type": "execute_result"
    }
   ],
   "source": [
    "df.head()"
   ]
  },
  {
   "cell_type": "code",
   "execution_count": 232,
   "metadata": {},
   "outputs": [],
   "source": [
    "c0 = df[df['cluster'] == 0]\n",
    "c1 = df[df['cluster'] == 1]\n",
    "c2 = df[df['cluster'] == 2]\n",
    "c3 = df[df['cluster'] == 3]\n",
    "c4 = df[df['cluster'] == 4]"
   ]
  },
  {
   "cell_type": "code",
   "execution_count": 234,
   "metadata": {},
   "outputs": [
    {
     "name": "stderr",
     "output_type": "stream",
     "text": [
      "C:\\Users\\soobt\\Anaconda3\\envs\\jupyterlab\\lib\\site-packages\\sklearn\\feature_extraction\\text.py:300: UserWarning: Your stop_words may be inconsistent with your preprocessing. Tokenizing the stop words generated tokens ['ll', 've'] not in stop_words.\n",
      "  'stop_words.' % sorted(inconsistent))\n"
     ]
    },
    {
     "data": {
      "image/png": "[encoded data removed]",
      "text/plain": [
       "<Figure size 432x288 with 1 Axes>"
      ]
     },
     "metadata": {
      "needs_background": "light"
     },
     "output_type": "display_data"
    },
    {
     "data": {
      "image/png": "[encoded data removed]",
      "text/plain": [
       "<Figure size 432x288 with 1 Axes>"
      ]
     },
     "metadata": {
      "needs_background": "light"
     },
     "output_type": "display_data"
    },
    {
     "data": {
      "image/png": "[encoded data removed]",
      "text/plain": [
       "<Figure size 432x288 with 1 Axes>"
      ]
     },
     "metadata": {
      "needs_background": "light"
     },
     "output_type": "display_data"
    },
    {
     "data": {
      "image/png": "[encoded data removed]",
      "text/plain": [
       "<Figure size 432x288 with 1 Axes>"
      ]
     },
     "metadata": {
      "needs_background": "light"
     },
     "output_type": "display_data"
    },
    {
     "data": {
      "image/png": "[encoded data removed]",
      "text/plain": [
       "<Figure size 432x288 with 1 Axes>"
      ]
     },
     "metadata": {
      "needs_background": "light"
     },
     "output_type": "display_data"
    }
   ],
   "source": [
    "vect = CountVectorizer(stop_words=nlp.Defaults.stop_words.union(stop_words), min_df=0.05, max_df=.98)\n",
    "\n",
    "for c, n in [(c0, '0'), (c1, '1'), (c2, '2'), (c3, '3'), (c4, '4')]:\n",
    "\n",
    "    dtm = vect.fit_transform(c['data'].values)\n",
    "    dtm = pd.DataFrame(dtm.todense(), columns=vect.get_feature_names())\n",
    "    top20 = dtm.sum().sort_values(ascending=False)[0:20]\n",
    "\n",
    "    squarify.plot(sizes=top20, label=top20.index, alpha=.8 )\n",
    "    plt.title('Most common words within cluster ' + n + '.')\n",
    "    plt.axis('off')\n",
    "    plt.show()\n"
   ]
  },
  {
   "cell_type": "markdown",
   "metadata": {},
   "source": [
    "Other than the economic bent of cluster 3, there doesn't apear to be an obvious difference among the clusters."
   ]
  },
  {
   "cell_type": "code",
   "execution_count": 237,
   "metadata": {},
   "outputs": [],
   "source": [
    "n0 = df[df['cluster'] != 0]\n",
    "n1 = df[df['cluster'] != 1]\n",
    "n2 = df[df['cluster'] != 2]\n",
    "n3 = df[df['cluster'] != 3]\n",
    "n4 = df[df['cluster'] != 4]"
   ]
  },
  {
   "cell_type": "code",
   "execution_count": 255,
   "metadata": {},
   "outputs": [],
   "source": [
    "vect = TfidfVectorizer(stop_words=nlp.Defaults.stop_words.union(stop_words), min_df=0.05, max_df=.98)\n",
    "\n",
    "yes_dtm = []\n",
    "\n",
    "for c in [c0, c1, c2, c3, c4]:\n",
    "    dtm = vect.fit_transform(c['data'].values)\n",
    "    dtm = pd.DataFrame(dtm.todense(), columns=vect.get_feature_names())\n",
    "    yes_dtm.append(dtm.mean())\n",
    "\n",
    "no_dtm = []\n",
    "\n",
    "for c in [n0, n1, n2, n3, n4]:\n",
    "    dtm = vect.fit_transform(c['data'].values)\n",
    "    dtm = pd.DataFrame(dtm.todense(), columns=vect.get_feature_names())\n",
    "    no_dtm.append(dtm.mean())"
   ]
  },
  {
   "cell_type": "code",
   "execution_count": 286,
   "metadata": {},
   "outputs": [
    {
     "data": {
      "text/plain": [
       "Index(['600', 'ability', 'able', 'academic', 'accelerate', 'access',\n",
       "       'accessible', 'account', 'achieve', 'action',\n",
       "       ...\n",
       "       'write', 'writing', 'www', 'x94', 'x94we', 'x99ve', 'xa6', 'year',\n",
       "       'years', 'york'],\n",
       "      dtype='object', length=882)"
      ]
     },
     "execution_count": 286,
     "metadata": {},
     "output_type": "execute_result"
    }
   ],
   "source": [
    "yes_dtm[0].index"
   ]
  },
  {
   "cell_type": "code",
   "execution_count": 287,
   "metadata": {},
   "outputs": [],
   "source": [
    "difference_dtm = []\n",
    "\n",
    "for i in range(5):\n",
    "    new_dtm = pd.Series()\n",
    "    \n",
    "    new_cols = set(yes_dtm[i].index).intersection(set(no_dtm[i].index))\n",
    "\n",
    "    for c in new_cols:\n",
    "        new_dtm[c] = yes_dtm[i][c] - no_dtm[i][c]\n",
    "    \n",
    "    difference_dtm.append(new_dtm)"
   ]
  },
  {
   "cell_type": "code",
   "execution_count": 289,
   "metadata": {},
   "outputs": [
    {
     "data": {
      "image/png": "[encoded data removed]",
      "text/plain": [
       "<Figure size 432x288 with 1 Axes>"
      ]
     },
     "metadata": {
      "needs_background": "light"
     },
     "output_type": "display_data"
    },
    {
     "data": {
      "image/png": "[encoded data removed]",
      "text/plain": [
       "<Figure size 432x288 with 1 Axes>"
      ]
     },
     "metadata": {
      "needs_background": "light"
     },
     "output_type": "display_data"
    },
    {
     "data": {
      "image/png": "[encoded data removed]",
      "text/plain": [
       "<Figure size 432x288 with 1 Axes>"
      ]
     },
     "metadata": {
      "needs_background": "light"
     },
     "output_type": "display_data"
    },
    {
     "data": {
      "image/png": "[encoded data removed]",
      "text/plain": [
       "<Figure size 432x288 with 1 Axes>"
      ]
     },
     "metadata": {
      "needs_background": "light"
     },
     "output_type": "display_data"
    },
    {
     "data": {
      "image/png": "[encoded data removed]",
      "text/plain": [
       "<Figure size 432x288 with 1 Axes>"
      ]
     },
     "metadata": {
      "needs_background": "light"
     },
     "output_type": "display_data"
    }
   ],
   "source": [
    "for i in range(5):\n",
    "    top20 = difference_dtm[i].sort_values(ascending=False)[0:20]\n",
    "    \n",
    "    squarify.plot(sizes=top20, label=top20.index, alpha=.8 )\n",
    "    plt.title('Most common words associated specifically with cluster ' + str(i) + '.')\n",
    "    plt.axis('off')\n",
    "    plt.show()"
   ]
  },
  {
   "cell_type": "markdown",
   "metadata": {},
   "source": [
    "It's hard to put my finger on the precise differences.\n",
    "\n",
    "Cluster 1 seems a lot more fluffy (\"bring\", \"forward\", \"success\", \"love\", \"growth\")\n",
    "\n",
    "Cluster 2 seems more coporate (\"office\", \"dynamic\", \"digital\")\n",
    "\n",
    "Cluster 3 seems to have many progressive buzz-words\n",
    "\n",
    "Cluster 4 seems as corporate as cluster 2, but with different buzz-words\n",
    "\n",
    "Cluster 5 seems to be more technical, mentioning specific tequniques (\"regression\", \"clustering\", \"neural\")"
   ]
  },
  {
   "cell_type": "code",
   "execution_count": null,
   "metadata": {},
   "outputs": [],
   "source": []
  }
 ],
 "metadata": {
  "colab": {
   "collapsed_sections": [],
   "name": "LS_DS_422_BOW_Assignment.ipynb",
   "provenance": [],
   "version": "0.3.2"
  },
  "kernel_info": {
   "name": "python3"
  },
  "kernelspec": {
   "display_name": "Python 3",
   "language": "python",
   "name": "python3"
  },
  "language_info": {
   "codemirror_mode": {
    "name": "ipython",
    "version": 3
   },
   "file_extension": ".py",
   "mimetype": "text/x-python",
   "name": "python",
   "nbconvert_exporter": "python",
   "pygments_lexer": "ipython3",
   "version": "3.7.4"
  },
  "nteract": {
   "version": "0.14.3"
  }
 },
 "nbformat": 4,
 "nbformat_minor": 4
}
